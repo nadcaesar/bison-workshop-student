{
  "nbformat": 4,
  "nbformat_minor": 0,
  "metadata": {
    "colab": {
      "name": "Copy of intro_to_python.my copy",
      "provenance": [],
      "collapsed_sections": [],
      "include_colab_link": true
    },
    "kernelspec": {
      "display_name": "Python 3",
      "name": "python3"
    },
    "language_info": {
      "name": "python"
    }
  },
  "cells": [
    {
      "cell_type": "markdown",
      "metadata": {
        "id": "view-in-github",
        "colab_type": "text"
      },
      "source": [
        "<a href=\"https://colab.research.google.com/github/nadcaesar/bison-workshop-student/blob/main/Copy_of_intro_to_python_my_copy.ipynb\" target=\"_parent\"><img src=\"https://colab.research.google.com/assets/colab-badge.svg\" alt=\"Open In Colab\"/></a>"
      ]
    },
    {
      "cell_type": "markdown",
      "metadata": {
        "id": "X9zBnFeSDXFc"
      },
      "source": [
        "# **Python Overview**\n",
        "---\n",
        "From the Python Software Foundation's Python Tutorial: \n",
        "https://docs.python.org/3/tutorial/index.html\n",
        "\n",
        "> *Python is an **easy to learn**, **powerful** programming language. It has efficient **high-level data structures** and a simple but effective approach to **object-oriented programming**. Python’s elegant syntax and dynamic typing, together with its interpreted nature, make it an **ideal language for scripting and rapid application development** in many areas on most platforms.*\n",
        "\n",
        "The content in this notebook is sourced from a variety of open-source documentation and tutorials. It is intended to provide a high level introduction of selected key concepts and features of the Python programming language and does not attempt to present a comprehensive or formal instruction. However, this will give you a good understanding of the basic building blocks upon which you can continue growing your Python expertise!\n",
        "\n",
        "*   **Fun Fact**: Python is named after the BBC show \"Monthy Python's Flying Circus.\"\n"
      ]
    },
    {
      "cell_type": "markdown",
      "metadata": {
        "id": "PM3P06xfaMD1"
      },
      "source": [
        "# **Intro Topics**"
      ]
    },
    {
      "cell_type": "markdown",
      "metadata": {
        "id": "4HYee-xpET3L"
      },
      "source": [
        "## Variables and Data Types [Ryan]"
      ]
    },
    {
      "cell_type": "code",
      "metadata": {
        "id": "09hdCU4o0Hkz"
      },
      "source": [
        ""
      ],
      "execution_count": null,
      "outputs": []
    },
    {
      "cell_type": "markdown",
      "metadata": {
        "id": "LolXw5IOd-Nx"
      },
      "source": [
        "### Numbers"
      ]
    },
    {
      "cell_type": "markdown",
      "metadata": {
        "id": "OntS5vemKkjC"
      },
      "source": [
        "Python supports a variety of numeric data types, with integers (`int`) and floating point numbers (`float`) most commonly used. \n",
        "\n",
        "The function `type` can be used to identify the data type.\n",
        "\n",
        "\n"
      ]
    },
    {
      "cell_type": "code",
      "metadata": {
        "colab": {
          "base_uri": "https://localhost:8080/"
        },
        "id": "3ZyvDN3VKj0I",
        "outputId": "80b0e1c2-d295-4447-f266-1b5ae9c39502"
      },
      "source": [
        "type(5)"
      ],
      "execution_count": null,
      "outputs": [
        {
          "output_type": "execute_result",
          "data": {
            "text/plain": [
              "int"
            ]
          },
          "metadata": {
            "tags": []
          },
          "execution_count": 2
        }
      ]
    },
    {
      "cell_type": "code",
      "metadata": {
        "colab": {
          "base_uri": "https://localhost:8080/"
        },
        "id": "qJ5uEnIbLKnj",
        "outputId": "e76a91c5-527a-4727-c17c-48a85c95550c"
      },
      "source": [
        "type(4.5)"
      ],
      "execution_count": null,
      "outputs": [
        {
          "output_type": "execute_result",
          "data": {
            "text/plain": [
              "float"
            ]
          },
          "metadata": {
            "tags": []
          },
          "execution_count": 3
        }
      ]
    },
    {
      "cell_type": "code",
      "metadata": {
        "colab": {
          "base_uri": "https://localhost:8080/"
        },
        "id": "LOYTKCODLKqy",
        "outputId": "5bca100d-9761-4062-db16-aafd18d63cd3"
      },
      "source": [
        "type(5.0)"
      ],
      "execution_count": null,
      "outputs": [
        {
          "output_type": "execute_result",
          "data": {
            "text/plain": [
              "float"
            ]
          },
          "metadata": {
            "tags": []
          },
          "execution_count": 4
        }
      ]
    },
    {
      "cell_type": "code",
      "metadata": {
        "colab": {
          "base_uri": "https://localhost:8080/"
        },
        "id": "9qtb_UQbLKtS",
        "outputId": "a1a5bb30-0d5c-49a4-b4dd-a6df7e8e5a65"
      },
      "source": [
        "type(1+1j)"
      ],
      "execution_count": null,
      "outputs": [
        {
          "output_type": "execute_result",
          "data": {
            "text/plain": [
              "complex"
            ]
          },
          "metadata": {
            "tags": []
          },
          "execution_count": 5
        }
      ]
    },
    {
      "cell_type": "markdown",
      "metadata": {
        "id": "GwWXRb5oc5-W"
      },
      "source": [
        "The interpreter can act as a simple calculator and evaluate numerical expressions."
      ]
    },
    {
      "cell_type": "code",
      "metadata": {
        "colab": {
          "base_uri": "https://localhost:8080/"
        },
        "id": "vm6627N7cXha",
        "outputId": "c5fc196f-0376-4998-b46b-bc53101cc54a"
      },
      "source": [
        "1+2-3"
      ],
      "execution_count": null,
      "outputs": [
        {
          "output_type": "execute_result",
          "data": {
            "text/plain": [
              "0"
            ]
          },
          "metadata": {
            "tags": []
          },
          "execution_count": 6
        }
      ]
    },
    {
      "cell_type": "code",
      "metadata": {
        "colab": {
          "base_uri": "https://localhost:8080/"
        },
        "id": "0vsNNXCvdWjq",
        "outputId": "d3671b04-040c-43f0-dc2a-761e1ab1b3b7"
      },
      "source": [
        "2*3"
      ],
      "execution_count": null,
      "outputs": [
        {
          "output_type": "execute_result",
          "data": {
            "text/plain": [
              "6"
            ]
          },
          "metadata": {
            "tags": []
          },
          "execution_count": 7
        }
      ]
    },
    {
      "cell_type": "code",
      "metadata": {
        "colab": {
          "base_uri": "https://localhost:8080/"
        },
        "id": "fAgeE1b8dZOQ",
        "outputId": "cc01a8a1-618d-49e7-e9d7-2d731b323169"
      },
      "source": [
        "10/5 # division returns a floating point number"
      ],
      "execution_count": null,
      "outputs": [
        {
          "output_type": "execute_result",
          "data": {
            "text/plain": [
              "2.0"
            ]
          },
          "metadata": {
            "tags": []
          },
          "execution_count": 8
        }
      ]
    },
    {
      "cell_type": "code",
      "metadata": {
        "colab": {
          "base_uri": "https://localhost:8080/"
        },
        "id": "m6scN-DxfWMa",
        "outputId": "3fc55f1e-988e-40bd-944b-6d99181cc691"
      },
      "source": [
        "11/5 # division returns a floating point number"
      ],
      "execution_count": null,
      "outputs": [
        {
          "output_type": "execute_result",
          "data": {
            "text/plain": [
              "2.2"
            ]
          },
          "metadata": {
            "tags": []
          },
          "execution_count": 9
        }
      ]
    },
    {
      "cell_type": "code",
      "metadata": {
        "colab": {
          "base_uri": "https://localhost:8080/"
        },
        "id": "oJrI5bHafae9",
        "outputId": "f46a4fb6-d1b0-430a-e4d3-27e08f4be1a2"
      },
      "source": [
        "11//5 # floor division discards the remainder"
      ],
      "execution_count": null,
      "outputs": [
        {
          "output_type": "execute_result",
          "data": {
            "text/plain": [
              "2"
            ]
          },
          "metadata": {
            "tags": []
          },
          "execution_count": 10
        }
      ]
    },
    {
      "cell_type": "code",
      "metadata": {
        "colab": {
          "base_uri": "https://localhost:8080/"
        },
        "id": "3MQZU0FQfiMg",
        "outputId": "1928258a-52ab-4382-d535-c7622fe95fe9"
      },
      "source": [
        "11%5 # modulo operator returns remainder\n",
        "# anything after this is comment"
      ],
      "execution_count": null,
      "outputs": [
        {
          "output_type": "execute_result",
          "data": {
            "text/plain": [
              "1"
            ]
          },
          "metadata": {
            "tags": []
          },
          "execution_count": 11
        }
      ]
    },
    {
      "cell_type": "markdown",
      "metadata": {
        "id": "unmGqBs9IzBe"
      },
      "source": [
        "The equal sign `=` is used to assign a value to a variable."
      ]
    },
    {
      "cell_type": "code",
      "metadata": {
        "colab": {
          "base_uri": "https://localhost:8080/"
        },
        "id": "q6wzPhgzIyA_",
        "outputId": "e3eacc76-7309-4f43-c926-d17146660e42"
      },
      "source": [
        "base = 10\n",
        "height = 6\n",
        "\n",
        "0.5 * base * height"
      ],
      "execution_count": null,
      "outputs": [
        {
          "output_type": "execute_result",
          "data": {
            "text/plain": [
              "30.0"
            ]
          },
          "metadata": {
            "tags": []
          },
          "execution_count": 12
        }
      ]
    },
    {
      "cell_type": "code",
      "metadata": {
        "colab": {
          "base_uri": "https://localhost:8080/"
        },
        "id": "SO4agopoJgZW",
        "outputId": "4c95d200-adb3-41ae-cd44-40a3efa4a51f"
      },
      "source": [
        "area = 0.5 * base * height\n",
        "area"
      ],
      "execution_count": null,
      "outputs": [
        {
          "output_type": "execute_result",
          "data": {
            "text/plain": [
              "30.0"
            ]
          },
          "metadata": {
            "tags": []
          },
          "execution_count": 13
        }
      ]
    },
    {
      "cell_type": "markdown",
      "metadata": {
        "id": "cMZpt_YODFDd"
      },
      "source": [
        "Note to self: Ryan is awesome"
      ]
    },
    {
      "cell_type": "code",
      "metadata": {
        "colab": {
          "base_uri": "https://localhost:8080/"
        },
        "id": "LNXpOi-ZDI2D",
        "outputId": "71669934-886f-42b2-890f-8d0202909219"
      },
      "source": [
        "area"
      ],
      "execution_count": null,
      "outputs": [
        {
          "output_type": "execute_result",
          "data": {
            "text/plain": [
              "30.0"
            ]
          },
          "metadata": {
            "tags": []
          },
          "execution_count": 14
        }
      ]
    },
    {
      "cell_type": "code",
      "metadata": {
        "colab": {
          "base_uri": "https://localhost:8080/"
        },
        "id": "DzDTWHP70JuV",
        "outputId": "5c4dcdfb-7db9-4f1c-9daa-447a1cfde6ac"
      },
      "source": [
        "pi = 3.14\n",
        "r = 6\n",
        "\n",
        "circumference = 2 * pi *r\n",
        "circumference"
      ],
      "execution_count": null,
      "outputs": [
        {
          "output_type": "execute_result",
          "data": {
            "text/plain": [
              "37.68"
            ]
          },
          "metadata": {
            "tags": []
          },
          "execution_count": 15
        }
      ]
    },
    {
      "cell_type": "markdown",
      "metadata": {
        "id": "zMKzLKhR99gk"
      },
      "source": [
        "### Strings"
      ]
    },
    {
      "cell_type": "markdown",
      "metadata": {
        "id": "gZdewlYDgM-Y"
      },
      "source": [
        "Strings are sequences of characters held together in same variable expressions, and they can be delimited by:\n",
        "\n",
        "*   single quotes: like in `s = 'my uncle' `\n",
        "*   double quotes: like in `s = \"my uncle\"`\n",
        "*   so that it is possible to write `s = \"my uncle's car\" `\n",
        "*   or that we can write `s = 'my uncle said: \"Here is my car!\"'`\n",
        "\n",
        "*   we can also use triple single quotes to delimit a string over multiple lines:\n",
        "```\n",
        "s = '''\n",
        "my uncle said:\n",
        "\"Here is my car!\"\n",
        "'''\n",
        "```\n",
        "\n",
        "*   or triple double quotes like in \n",
        "```\n",
        "s = \"\"\"\n",
        "my uncle's cars:\n",
        "Ferrari\n",
        "Lamborghini\n",
        "\"\"\"\n",
        "```\n"
      ]
    },
    {
      "cell_type": "markdown",
      "metadata": {
        "id": "BLHOAcSAPZtB"
      },
      "source": [
        "The `print` function produces a more readable output."
      ]
    },
    {
      "cell_type": "code",
      "metadata": {
        "id": "gVX7cpIePZHs"
      },
      "source": [
        "s = '''\n",
        "my uncle said:\n",
        "\"Here is my car!\"\n",
        "'''"
      ],
      "execution_count": null,
      "outputs": []
    },
    {
      "cell_type": "code",
      "metadata": {
        "colab": {
          "base_uri": "https://localhost:8080/",
          "height": 162
        },
        "id": "q7w5uJKzPTsV",
        "outputId": "e469a8aa-ecfb-4e49-d2fa-4ce04a11c725"
      },
      "source": [
        "s"
      ],
      "execution_count": null,
      "outputs": [
        {
          "output_type": "error",
          "ename": "NameError",
          "evalue": "ignored",
          "traceback": [
            "\u001b[0;31m---------------------------------------------------------------------------\u001b[0m",
            "\u001b[0;31mNameError\u001b[0m                                 Traceback (most recent call last)",
            "\u001b[0;32m<ipython-input-20-ded5ba42480f>\u001b[0m in \u001b[0;36m<module>\u001b[0;34m()\u001b[0m\n\u001b[0;32m----> 1\u001b[0;31m \u001b[0ms\u001b[0m\u001b[0;34m\u001b[0m\u001b[0;34m\u001b[0m\u001b[0m\n\u001b[0m",
            "\u001b[0;31mNameError\u001b[0m: name 's' is not defined"
          ]
        }
      ]
    },
    {
      "cell_type": "code",
      "metadata": {
        "colab": {
          "base_uri": "https://localhost:8080/",
          "height": 162
        },
        "id": "3lbWDBmt-jNP",
        "outputId": "4257e6d2-413e-4f10-924b-86d59bdf702b"
      },
      "source": [
        "print(s)"
      ],
      "execution_count": null,
      "outputs": [
        {
          "output_type": "error",
          "ename": "NameError",
          "evalue": "ignored",
          "traceback": [
            "\u001b[0;31m---------------------------------------------------------------------------\u001b[0m",
            "\u001b[0;31mNameError\u001b[0m                                 Traceback (most recent call last)",
            "\u001b[0;32m<ipython-input-21-0ff1b7208845>\u001b[0m in \u001b[0;36m<module>\u001b[0;34m()\u001b[0m\n\u001b[0;32m----> 1\u001b[0;31m \u001b[0mprint\u001b[0m\u001b[0;34m(\u001b[0m\u001b[0ms\u001b[0m\u001b[0;34m)\u001b[0m\u001b[0;34m\u001b[0m\u001b[0;34m\u001b[0m\u001b[0m\n\u001b[0m",
            "\u001b[0;31mNameError\u001b[0m: name 's' is not defined"
          ]
        }
      ]
    },
    {
      "cell_type": "markdown",
      "metadata": {
        "id": "n7-4uT9MQJkj"
      },
      "source": [
        "Strings can be concatenated (joined together) with the `+` operator and repeated with the `*` operator."
      ]
    },
    {
      "cell_type": "code",
      "metadata": {
        "colab": {
          "base_uri": "https://localhost:8080/",
          "height": 35
        },
        "id": "HmvZM3CBQ5Y4",
        "outputId": "2370192c-64b1-431f-abe0-f9ecd9e54615"
      },
      "source": [
        "'ban' + 'ana'"
      ],
      "execution_count": null,
      "outputs": [
        {
          "output_type": "execute_result",
          "data": {
            "application/vnd.google.colaboratory.intrinsic+json": {
              "type": "string"
            },
            "text/plain": [
              "'banana'"
            ]
          },
          "metadata": {
            "tags": []
          },
          "execution_count": 16
        }
      ]
    },
    {
      "cell_type": "code",
      "metadata": {
        "colab": {
          "base_uri": "https://localhost:8080/",
          "height": 35
        },
        "id": "LU_FzGfvRLBm",
        "outputId": "5f88e1d1-c0d9-4a0e-e4a7-4b7634b4b4c9"
      },
      "source": [
        "'ba' + 4 * 'na'"
      ],
      "execution_count": null,
      "outputs": [
        {
          "output_type": "execute_result",
          "data": {
            "application/vnd.google.colaboratory.intrinsic+json": {
              "type": "string"
            },
            "text/plain": [
              "'banananana'"
            ]
          },
          "metadata": {
            "tags": []
          },
          "execution_count": 17
        }
      ]
    },
    {
      "cell_type": "markdown",
      "metadata": {
        "id": "ccLm0nldQJp0"
      },
      "source": [
        "The function `len` returns the length of the string (i.e., how many characters comprise the string)."
      ]
    },
    {
      "cell_type": "code",
      "metadata": {
        "colab": {
          "base_uri": "https://localhost:8080/"
        },
        "id": "cyZl7GRtQYe-",
        "outputId": "095c58a5-5975-42a5-e7bb-c8d91313be50"
      },
      "source": [
        "len('antidisestablishmentarianism')"
      ],
      "execution_count": null,
      "outputs": [
        {
          "output_type": "execute_result",
          "data": {
            "text/plain": [
              "28"
            ]
          },
          "metadata": {
            "tags": []
          },
          "execution_count": 18
        }
      ]
    },
    {
      "cell_type": "markdown",
      "metadata": {
        "id": "SdwklbcuRzBH"
      },
      "source": [
        "The function `type` from earlier also works on strings."
      ]
    },
    {
      "cell_type": "code",
      "metadata": {
        "colab": {
          "base_uri": "https://localhost:8080/"
        },
        "id": "AsRsOjQPR7pS",
        "outputId": "f64ec13f-f9c4-481b-f5fd-79c896555e98"
      },
      "source": [
        "type('banana')"
      ],
      "execution_count": null,
      "outputs": [
        {
          "output_type": "execute_result",
          "data": {
            "text/plain": [
              "str"
            ]
          },
          "metadata": {
            "tags": []
          },
          "execution_count": 21
        }
      ]
    },
    {
      "cell_type": "code",
      "metadata": {
        "colab": {
          "base_uri": "https://localhost:8080/",
          "height": 35
        },
        "id": "4EjvdJbH2ptS",
        "outputId": "b8d2c044-4de1-4c9a-a799-39040ff8f633"
      },
      "source": [
        "\"1\"+\"1\" # outputs 11 because it is taking two strings and combining them"
      ],
      "execution_count": null,
      "outputs": [
        {
          "output_type": "execute_result",
          "data": {
            "application/vnd.google.colaboratory.intrinsic+json": {
              "type": "string"
            },
            "text/plain": [
              "'11'"
            ]
          },
          "metadata": {
            "tags": []
          },
          "execution_count": 23
        }
      ]
    },
    {
      "cell_type": "markdown",
      "metadata": {
        "id": "8O0-bY3-EdIX"
      },
      "source": [
        "We have many tools to work with strings, for example:"
      ]
    },
    {
      "cell_type": "code",
      "metadata": {
        "colab": {
          "base_uri": "https://localhost:8080/"
        },
        "id": "EnzpSMLPRlPr",
        "outputId": "b817f2dd-530c-42c2-dbef-d6774762f39f"
      },
      "source": [
        "s = \"Lumberjack Song\"\n",
        "print(s)"
      ],
      "execution_count": null,
      "outputs": [
        {
          "output_type": "stream",
          "text": [
            "Lumberjack Song\n"
          ],
          "name": "stdout"
        }
      ]
    },
    {
      "cell_type": "markdown",
      "metadata": {
        "id": "8Dcxms5wEl8r"
      },
      "source": [
        "We can format the string to be all upper case or lower case."
      ]
    },
    {
      "cell_type": "code",
      "metadata": {
        "colab": {
          "base_uri": "https://localhost:8080/"
        },
        "id": "oqRsXViEenyg",
        "outputId": "8d715037-8ea3-4eae-c7d2-5e761238aa22"
      },
      "source": [
        "print(s.upper())\n",
        "print(s.lower())"
      ],
      "execution_count": null,
      "outputs": [
        {
          "output_type": "stream",
          "text": [
            "LUMBERJACK SONG\n",
            "lumberjack song\n"
          ],
          "name": "stdout"
        }
      ]
    },
    {
      "cell_type": "markdown",
      "metadata": {
        "id": "8GAk6r56Ftnc"
      },
      "source": [
        "We can split the string on the whitespace character to obtain a list of the individual words."
      ]
    },
    {
      "cell_type": "code",
      "metadata": {
        "colab": {
          "base_uri": "https://localhost:8080/"
        },
        "id": "AA8_9ERWeaQZ",
        "outputId": "87c5fae3-20dd-4f2e-a039-ba7adba5b06b"
      },
      "source": [
        "print(s.split())"
      ],
      "execution_count": null,
      "outputs": [
        {
          "output_type": "stream",
          "text": [
            "['Lumberjack', 'Song']\n"
          ],
          "name": "stdout"
        }
      ]
    },
    {
      "cell_type": "markdown",
      "metadata": {
        "id": "nBuNmwraGMdB"
      },
      "source": [
        "We can create more complex strings using variables in braces `{}`."
      ]
    },
    {
      "cell_type": "code",
      "metadata": {
        "colab": {
          "base_uri": "https://localhost:8080/"
        },
        "id": "ba8G-MO3faJH",
        "outputId": "6e9a029c-89a4-4f04-ffaa-86d7db5eaea8"
      },
      "source": [
        "x = 3.14\n",
        "print(f\"The word is that the {s} has {len(s)} letters and is related to the number pi={x}.\")"
      ],
      "execution_count": null,
      "outputs": [
        {
          "output_type": "stream",
          "text": [
            "The word is that the Lumberjack Song has 15 letters and is related to the number pi=3.14.\n"
          ],
          "name": "stdout"
        }
      ]
    },
    {
      "cell_type": "markdown",
      "metadata": {
        "id": "4M1OZA9Ffw6C"
      },
      "source": [
        "We can use the concept of **indexing** to refer to the 4th character in the string (Python indexing starts from 0)."
      ]
    },
    {
      "cell_type": "code",
      "metadata": {
        "colab": {
          "base_uri": "https://localhost:8080/"
        },
        "id": "6qElLF_ifv1p",
        "outputId": "c047c137-e349-461f-ccba-df595a134640"
      },
      "source": [
        "print('string =', s)\n",
        "print('0 index =', s[0])\n",
        "print('1 index =', s[1])\n",
        "print('2 index =', s[2])\n",
        "print('3 index =', s[3])\n",
        "print('4 index =', s[4])\n",
        "print('5 index =', s[5])"
      ],
      "execution_count": null,
      "outputs": [
        {
          "output_type": "stream",
          "text": [
            "string = Lumberjack Song\n",
            "0 index = L\n",
            "1 index = u\n",
            "2 index = m\n",
            "3 index = b\n",
            "4 index = e\n",
            "5 index = r\n"
          ],
          "name": "stdout"
        }
      ]
    },
    {
      "cell_type": "markdown",
      "metadata": {
        "id": "xEfzHz7YIJWo"
      },
      "source": [
        "We can use the concept of **slicing** to refer to a sequence of characters within a string."
      ]
    },
    {
      "cell_type": "code",
      "metadata": {
        "colab": {
          "base_uri": "https://localhost:8080/"
        },
        "id": "TjKfGjZ3IYyP",
        "outputId": "3af58d3e-c219-4277-cc43-f967a206f092"
      },
      "source": [
        "print('string =', s)\n",
        "print('a slice =', s[0:6])\n",
        "print('another slice =', s[1:9])\n",
        "print('a third slice =', s[11:15])\n",
        "print('a third slice =', s[22:24])"
      ],
      "execution_count": null,
      "outputs": [
        {
          "output_type": "stream",
          "text": [
            "string = Lumberjack Song\n",
            "a slice = Lumber\n",
            "another slice = umberjac\n",
            "a third slice = Song\n",
            "a third slice = \n"
          ],
          "name": "stdout"
        }
      ]
    },
    {
      "cell_type": "markdown",
      "metadata": {
        "id": "abpE-bZpIBwx"
      },
      "source": [
        "**Important!** strings are immutable objects, which means that they cannot be modified in place. Say that, for some weird reason, you want to replace the letter `b` with the letter `Z` in the string. This cannot be done by assigning the value using the string index."
      ]
    },
    {
      "cell_type": "code",
      "metadata": {
        "id": "1CRGq1zHgGaC"
      },
      "source": [
        "# this is an error ... you cannot change a value in place\n",
        "s[3]='Z'"
      ],
      "execution_count": null,
      "outputs": []
    },
    {
      "cell_type": "markdown",
      "metadata": {
        "id": "emlRz0GKJAIQ"
      },
      "source": [
        "Instead, you need to create a different string variable."
      ]
    },
    {
      "cell_type": "code",
      "metadata": {
        "id": "bTU3JgnfggRf"
      },
      "source": [
        "print(s[:3])\n",
        "print('Z')\n",
        "print(s[4:])\n",
        "\n",
        "text = s[:3] + 'Z' + s[4:]\n",
        "print(text)"
      ],
      "execution_count": null,
      "outputs": []
    },
    {
      "cell_type": "markdown",
      "metadata": {
        "id": "tYT0WGR20sQt"
      },
      "source": [
        "### True and False: the Booleans type\n",
        "\n",
        "A variable of type `Bool` can only take two values, either `True` or `False`.\n",
        "\n",
        "For instance, say that we want to express the fact that `5` is larger than `4`, then you would write:"
      ]
    },
    {
      "cell_type": "code",
      "metadata": {
        "colab": {
          "base_uri": "https://localhost:8080/"
        },
        "id": "btDrTmAc04PT",
        "outputId": "de485d19-ae48-4cc6-9475-131a5289e6ba"
      },
      "source": [
        "5 > 4"
      ],
      "execution_count": null,
      "outputs": [
        {
          "output_type": "execute_result",
          "data": {
            "text/plain": [
              "True"
            ]
          },
          "metadata": {
            "tags": []
          },
          "execution_count": 1
        }
      ]
    },
    {
      "cell_type": "markdown",
      "metadata": {
        "id": "QIqjPAQz1eHa"
      },
      "source": [
        "which result you can assign to a variable, say `condition`\n"
      ]
    },
    {
      "cell_type": "code",
      "metadata": {
        "colab": {
          "base_uri": "https://localhost:8080/"
        },
        "id": "buOUSKkp1isb",
        "outputId": "0c53cab1-ab22-4562-8723-e8335727e3f6"
      },
      "source": [
        "condition = 5 > 4\n",
        "print(condition)\n",
        "print(type(condition))"
      ],
      "execution_count": null,
      "outputs": [
        {
          "output_type": "stream",
          "text": [
            "True\n",
            "<class 'bool'>\n"
          ],
          "name": "stdout"
        }
      ]
    },
    {
      "cell_type": "markdown",
      "metadata": {
        "id": "g0j2OHPk2W8N"
      },
      "source": [
        "you have many ways of comparing numerical values "
      ]
    },
    {
      "cell_type": "code",
      "metadata": {
        "colab": {
          "base_uri": "https://localhost:8080/"
        },
        "id": "ZhytAr4R2gif",
        "outputId": "e9268286-49ee-453c-87ab-563f5c1eff0b"
      },
      "source": [
        "print(\"5 >  4\", 5 >  4)\n",
        "print(\"5 <  4\", 5 < 4)\n",
        "print(\"4 >= 4\", 4 >= 4)\n",
        "print(\"4 <= 4\", 4 <= 4)\n",
        "print(\"4 <  4\", 4 < 4)\n",
        "print(\"4 == 4\", 4 == 4)\n"
      ],
      "execution_count": null,
      "outputs": [
        {
          "output_type": "stream",
          "text": [
            "5 >  4 True\n",
            "5 <  4 False\n",
            "4 >= 4 True\n",
            "4 <= 4 True\n",
            "4 <  4 False\n",
            "4 == 4 True\n"
          ],
          "name": "stdout"
        }
      ]
    },
    {
      "cell_type": "markdown",
      "metadata": {
        "id": "gPhHvQWd3J6Q"
      },
      "source": [
        "and you can use those `operators` (`<` , `>` , `==`, etc.) to compare other data types "
      ]
    },
    {
      "cell_type": "code",
      "metadata": {
        "colab": {
          "base_uri": "https://localhost:8080/"
        },
        "id": "WCW0m1H84C5_",
        "outputId": "cac99587-3146-45e5-8ee2-83f3b4c008c5"
      },
      "source": [
        "print(\"Is 'KPMG' > 'Deloitte'? \", 'KPMG' == 'KPMG', ' ... but why?')"
      ],
      "execution_count": null,
      "outputs": [
        {
          "output_type": "stream",
          "text": [
            "Is 'KPMG' > 'Deloitte'?  True  ... but why?\n"
          ],
          "name": "stdout"
        }
      ]
    },
    {
      "cell_type": "markdown",
      "metadata": {
        "id": "5L8cOuuh7jI5"
      },
      "source": [
        "but careful, you need to compare objects of the same type:"
      ]
    },
    {
      "cell_type": "code",
      "metadata": {
        "colab": {
          "base_uri": "https://localhost:8080/",
          "height": 180
        },
        "id": "L85O5ynv7plA",
        "outputId": "b79b8632-9b56-45ff-8de2-1ff260fb20bf"
      },
      "source": [
        "# this will error out\n",
        "'KPMG' > 4"
      ],
      "execution_count": null,
      "outputs": [
        {
          "output_type": "error",
          "ename": "TypeError",
          "evalue": "ignored",
          "traceback": [
            "\u001b[0;31m---------------------------------------------------------------------------\u001b[0m",
            "\u001b[0;31mTypeError\u001b[0m                                 Traceback (most recent call last)",
            "\u001b[0;32m<ipython-input-17-abefd4611bd3>\u001b[0m in \u001b[0;36m<module>\u001b[0;34m()\u001b[0m\n\u001b[1;32m      1\u001b[0m \u001b[0;31m# this will error out\u001b[0m\u001b[0;34m\u001b[0m\u001b[0;34m\u001b[0m\u001b[0;34m\u001b[0m\u001b[0m\n\u001b[0;32m----> 2\u001b[0;31m \u001b[0;34m'KPMG'\u001b[0m \u001b[0;34m>\u001b[0m \u001b[0;36m4\u001b[0m\u001b[0;34m\u001b[0m\u001b[0;34m\u001b[0m\u001b[0m\n\u001b[0m",
            "\u001b[0;31mTypeError\u001b[0m: '>' not supported between instances of 'str' and 'int'"
          ]
        }
      ]
    },
    {
      "cell_type": "markdown",
      "metadata": {
        "id": "GJST6WFQD0Uj"
      },
      "source": [
        "### Inputs and Outputs"
      ]
    },
    {
      "cell_type": "code",
      "metadata": {
        "id": "H_FZnr7qEU5V"
      },
      "source": [
        "print('KPMG rules!')"
      ],
      "execution_count": null,
      "outputs": []
    },
    {
      "cell_type": "code",
      "metadata": {
        "id": "jve2vD74EglS"
      },
      "source": [
        "# try to print your own name now\n",
        "print(...)"
      ],
      "execution_count": null,
      "outputs": []
    },
    {
      "cell_type": "code",
      "metadata": {
        "colab": {
          "base_uri": "https://localhost:8080/"
        },
        "id": "czUsN5zdEpQK",
        "outputId": "deb37a8e-6516-485d-a879-342cf03a908f"
      },
      "source": [
        "name = input('What is your name?')\n",
        "\n",
        "print(name) # note the difference ... look mom! no quotes!"
      ],
      "execution_count": null,
      "outputs": [
        {
          "output_type": "stream",
          "text": [
            "What is your name?Greg\n",
            "Greg\n"
          ],
          "name": "stdout"
        }
      ]
    },
    {
      "cell_type": "markdown",
      "metadata": {
        "id": "xkVMWpm7Y3PK"
      },
      "source": [
        "## Data Structures [Andrea]"
      ]
    },
    {
      "cell_type": "markdown",
      "metadata": {
        "id": "jek_lHaa-orp"
      },
      "source": [
        "### Lists\n",
        "\n",
        "Lists are sequences of different objects and they are delimited by square brackets `[` and `]`."
      ]
    },
    {
      "cell_type": "code",
      "metadata": {
        "colab": {
          "base_uri": "https://localhost:8080/"
        },
        "id": "-AjMAykk_dP9",
        "outputId": "1e718f82-8376-4ad1-9aa1-fa0031064a01"
      },
      "source": [
        "L = [] # the empty list\n",
        "print(L)"
      ],
      "execution_count": null,
      "outputs": [
        {
          "output_type": "stream",
          "text": [
            "[]\n"
          ],
          "name": "stdout"
        }
      ]
    },
    {
      "cell_type": "code",
      "metadata": {
        "colab": {
          "base_uri": "https://localhost:8080/"
        },
        "id": "re0bF8pR-wDL",
        "outputId": "22f60f3e-2db1-4921-e9ee-20c80193505d"
      },
      "source": [
        "L = [1, 'a']\n",
        "print(L)"
      ],
      "execution_count": null,
      "outputs": [
        {
          "output_type": "stream",
          "text": [
            "[1, 'a']\n"
          ],
          "name": "stdout"
        }
      ]
    },
    {
      "cell_type": "markdown",
      "metadata": {
        "id": "kgMPhWtVqUkN"
      },
      "source": [
        "You can find out the length of a list by using the function `len`."
      ]
    },
    {
      "cell_type": "code",
      "metadata": {
        "colab": {
          "base_uri": "https://localhost:8080/"
        },
        "id": "Ls81XPEkqT1Z",
        "outputId": "c75b3991-1038-400d-c291-3bf679ef5420"
      },
      "source": [
        "len(['length of', 'this list', 'is 2'])"
      ],
      "execution_count": null,
      "outputs": [
        {
          "output_type": "execute_result",
          "data": {
            "text/plain": [
              "3"
            ]
          },
          "metadata": {
            "tags": []
          },
          "execution_count": 26
        }
      ]
    },
    {
      "cell_type": "code",
      "metadata": {
        "colab": {
          "base_uri": "https://localhost:8080/"
        },
        "id": "FcmvIDNtrHOm",
        "outputId": "650669da-3fe7-44fa-ec81-707e193ae82f"
      },
      "source": [
        "# question: given\n",
        "# how do you find the length of L?\n",
        "\n",
        "len([]) #  insert answer here where you the triple dots\n",
        "\n",
        "# try to guess what the answer might be before running it yourself"
      ],
      "execution_count": null,
      "outputs": [
        {
          "output_type": "execute_result",
          "data": {
            "text/plain": [
              "0"
            ]
          },
          "metadata": {
            "tags": []
          },
          "execution_count": 27
        }
      ]
    },
    {
      "cell_type": "code",
      "metadata": {
        "id": "I24jxu7A5wgj"
      },
      "source": [
        "l.append()"
      ],
      "execution_count": null,
      "outputs": []
    },
    {
      "cell_type": "markdown",
      "metadata": {
        "id": "oru0NPeJ-52r"
      },
      "source": [
        "You can have lists, inside lists, inside lists ... there is no law against inside listing ;) "
      ]
    },
    {
      "cell_type": "code",
      "metadata": {
        "colab": {
          "base_uri": "https://localhost:8080/"
        },
        "id": "FEq_HGS6-9-I",
        "outputId": "061b838a-909d-4cea-83e9-904d01beea36"
      },
      "source": [
        "x = ['dollar$', L]\n",
        "print(x)"
      ],
      "execution_count": null,
      "outputs": [
        {
          "output_type": "stream",
          "text": [
            "['dollar$', [1, 'a']]\n"
          ],
          "name": "stdout"
        }
      ]
    },
    {
      "cell_type": "markdown",
      "metadata": {
        "id": "HLeqq1ZuIQZU"
      },
      "source": [
        "Individual elements of a list are also referenced by indexings (again starting from zero, NOT from one!)."
      ]
    },
    {
      "cell_type": "code",
      "metadata": {
        "id": "0hdA_FBt64yt"
      },
      "source": [
        ""
      ],
      "execution_count": null,
      "outputs": []
    },
    {
      "cell_type": "code",
      "metadata": {
        "colab": {
          "base_uri": "https://localhost:8080/",
          "height": 229
        },
        "id": "b2YrptZXIevH",
        "outputId": "8cb7f2b4-2cf1-423e-9369-e0df2bc8cacb"
      },
      "source": [
        "print(L[0])\n",
        "print(L[1])\n",
        "print(L[2])"
      ],
      "execution_count": null,
      "outputs": [
        {
          "output_type": "stream",
          "text": [
            "1\n",
            "a\n"
          ],
          "name": "stdout"
        },
        {
          "output_type": "error",
          "ename": "IndexError",
          "evalue": "ignored",
          "traceback": [
            "\u001b[0;31m---------------------------------------------------------------------------\u001b[0m",
            "\u001b[0;31mIndexError\u001b[0m                                Traceback (most recent call last)",
            "\u001b[0;32m<ipython-input-32-3218bae19c67>\u001b[0m in \u001b[0;36m<module>\u001b[0;34m()\u001b[0m\n\u001b[1;32m      1\u001b[0m \u001b[0mprint\u001b[0m\u001b[0;34m(\u001b[0m\u001b[0mL\u001b[0m\u001b[0;34m[\u001b[0m\u001b[0;36m0\u001b[0m\u001b[0;34m]\u001b[0m\u001b[0;34m)\u001b[0m\u001b[0;34m\u001b[0m\u001b[0;34m\u001b[0m\u001b[0m\n\u001b[1;32m      2\u001b[0m \u001b[0mprint\u001b[0m\u001b[0;34m(\u001b[0m\u001b[0mL\u001b[0m\u001b[0;34m[\u001b[0m\u001b[0;36m1\u001b[0m\u001b[0;34m]\u001b[0m\u001b[0;34m)\u001b[0m\u001b[0;34m\u001b[0m\u001b[0;34m\u001b[0m\u001b[0m\n\u001b[0;32m----> 3\u001b[0;31m \u001b[0mprint\u001b[0m\u001b[0;34m(\u001b[0m\u001b[0mL\u001b[0m\u001b[0;34m[\u001b[0m\u001b[0;36m2\u001b[0m\u001b[0;34m]\u001b[0m\u001b[0;34m)\u001b[0m\u001b[0;34m\u001b[0m\u001b[0;34m\u001b[0m\u001b[0m\n\u001b[0m",
            "\u001b[0;31mIndexError\u001b[0m: list index out of range"
          ]
        }
      ]
    },
    {
      "cell_type": "markdown",
      "metadata": {
        "id": "Cy1IF1HDLsKi"
      },
      "source": [
        "Referencing an index value greater than the length of the list will result in an error."
      ]
    },
    {
      "cell_type": "code",
      "metadata": {
        "id": "XwOQd7UKIxY3"
      },
      "source": [
        "# this will error  because there are only two elements in the list L\n",
        "print(L[2])"
      ],
      "execution_count": null,
      "outputs": []
    },
    {
      "cell_type": "markdown",
      "metadata": {
        "id": "e1elUcfdL9HT"
      },
      "source": [
        "Elements of a list (or string) can also be accessed with negative numbers. -1 references the last element, -2 references the second-to-last element, etc."
      ]
    },
    {
      "cell_type": "code",
      "metadata": {
        "id": "m6lXkXyVjAra"
      },
      "source": [
        "print(L[-1])"
      ],
      "execution_count": null,
      "outputs": []
    },
    {
      "cell_type": "code",
      "metadata": {
        "id": "KKWkxbeALNtK"
      },
      "source": [
        "# question: given\n",
        "L = ['1', 2, ['a',[]]]\n",
        "# what is the value of L[2][1] ? ... first guess, and then print the value to find out\n",
        "print(L)"
      ],
      "execution_count": null,
      "outputs": []
    },
    {
      "cell_type": "markdown",
      "metadata": {
        "id": "cMa7PchnMlhd"
      },
      "source": [
        "Unlike strings, lists are **mutable** objects, which means that you can change a list in place."
      ]
    },
    {
      "cell_type": "code",
      "metadata": {
        "id": "GGruLQYklaBC"
      },
      "source": [
        "print(L)\n",
        "L[2]='zero'\n",
        "print(L)"
      ],
      "execution_count": null,
      "outputs": []
    },
    {
      "cell_type": "markdown",
      "metadata": {
        "id": "CrpEJne7lFNN"
      },
      "source": [
        "### Tuples"
      ]
    },
    {
      "cell_type": "markdown",
      "metadata": {
        "id": "dIYB01KwlKtQ"
      },
      "source": [
        "Tuples resemble the list data structure but are **immutable**, which means that the individual elements (items) cannot be changed."
      ]
    },
    {
      "cell_type": "code",
      "metadata": {
        "id": "npR78sSxlEM2"
      },
      "source": [
        "t = (1,2)\n",
        "print(t, type(t))"
      ],
      "execution_count": null,
      "outputs": []
    },
    {
      "cell_type": "markdown",
      "metadata": {
        "id": "W8cij9QhNY9N"
      },
      "source": [
        "Tuples can be nested:"
      ]
    },
    {
      "cell_type": "code",
      "metadata": {
        "id": "tXVkaVPWlp0a"
      },
      "source": [
        "t = (1, (3,4))\n",
        "print(t)"
      ],
      "execution_count": null,
      "outputs": []
    },
    {
      "cell_type": "markdown",
      "metadata": {
        "id": "t4Bjo67XNcGe"
      },
      "source": [
        "and can contain mixed data types:"
      ]
    },
    {
      "cell_type": "code",
      "metadata": {
        "id": "X5rUmxlml5DT"
      },
      "source": [
        "t = ('name', 3, [0,1,2])\n",
        "print(t)\n",
        "print(t[0], type(t[0]))\n",
        "print(t[1], type(t[1]))\n",
        "print(t[2], type(t[2]))"
      ],
      "execution_count": null,
      "outputs": []
    },
    {
      "cell_type": "markdown",
      "metadata": {
        "id": "LgKdPNZcH43z"
      },
      "source": [
        "### Dictionaries"
      ]
    },
    {
      "cell_type": "markdown",
      "metadata": {
        "id": "uBhc1B-Q7bvx"
      },
      "source": [
        "A dictionary can be thought of as a set of `key:value` pairs, with the requirement that the keys are unique."
      ]
    },
    {
      "cell_type": "markdown",
      "metadata": {
        "id": "wSxELPYs9FuB"
      },
      "source": [
        "A pair of braces creates an empty dictionary: {}. "
      ]
    },
    {
      "cell_type": "code",
      "metadata": {
        "colab": {
          "base_uri": "https://localhost:8080/"
        },
        "id": "QIufSnZuH621",
        "outputId": "108be4af-e754-4385-80b0-90d63a291db4"
      },
      "source": [
        "d = {} # the empty dictionary\n",
        "d"
      ],
      "execution_count": null,
      "outputs": [
        {
          "output_type": "execute_result",
          "data": {
            "text/plain": [
              "{}"
            ]
          },
          "metadata": {
            "tags": []
          },
          "execution_count": 30
        }
      ]
    },
    {
      "cell_type": "markdown",
      "metadata": {
        "id": "gk-n6kZa9MDA"
      },
      "source": [
        "Placing a comma-separated list of `key:value` pairs within the braces adds initial `key:value` pairs to the dictionary; this is also the way dictionaries are written on output."
      ]
    },
    {
      "cell_type": "code",
      "metadata": {
        "id": "ZebfKQGk8f7e"
      },
      "source": [
        "zipcodes = {'Howard University': '20059', 'KPMG New York': '10154', 'KPMG Dallas': '75201', 'KPMG Mars': ''}\n",
        "zipcodes"
      ],
      "execution_count": null,
      "outputs": []
    },
    {
      "cell_type": "markdown",
      "metadata": {
        "id": "3KFZjJrhUCJG"
      },
      "source": [
        "The main operations on a dictionary are storing a value with some key and extracting the value given the key. "
      ]
    },
    {
      "cell_type": "code",
      "metadata": {
        "id": "gli6Sp-9VYGM"
      },
      "source": [
        "zipcodes['Boston University'] = '02215'\n",
        "zipcodes"
      ],
      "execution_count": null,
      "outputs": []
    },
    {
      "cell_type": "code",
      "metadata": {
        "id": "DmHE2nTUTx4D"
      },
      "source": [
        "zipcodes['Boston University']"
      ],
      "execution_count": null,
      "outputs": []
    },
    {
      "cell_type": "markdown",
      "metadata": {
        "id": "UX2Q53MFxtkm"
      },
      "source": [
        "Keys can be removed from a dictionary using the `del` function.\n",
        "\n"
      ]
    },
    {
      "cell_type": "code",
      "metadata": {
        "id": "HGW62Ba5xtDi"
      },
      "source": [
        "zipcodes['Fake ZIP'] = '99999'\n",
        "print(zipcodes)\n",
        "\n",
        "del zipcodes['Fake ZIP']\n",
        "print(zipcodes)"
      ],
      "execution_count": null,
      "outputs": []
    },
    {
      "cell_type": "markdown",
      "metadata": {
        "id": "8kUm6--lVOBh"
      },
      "source": [
        " To check whether a single key is in the dictionary, use the in keyword."
      ]
    },
    {
      "cell_type": "code",
      "metadata": {
        "id": "BAV22yffU1yD"
      },
      "source": [
        "'Howard University' in zipcodes"
      ],
      "execution_count": null,
      "outputs": []
    },
    {
      "cell_type": "code",
      "metadata": {
        "id": "LeaOiRrGVLVl"
      },
      "source": [
        "'New York University' in zipcodes"
      ],
      "execution_count": null,
      "outputs": []
    },
    {
      "cell_type": "markdown",
      "metadata": {
        "id": "A13y39WhH7kQ"
      },
      "source": [
        "### Sets"
      ]
    },
    {
      "cell_type": "markdown",
      "metadata": {
        "id": "Gp6gb9X6KKhN"
      },
      "source": [
        "Sets are collections of unique elements taken in no particular order. Set items are unordered (and thus cannot be indexed), unchangeable, and do not allow duplicate values."
      ]
    },
    {
      "cell_type": "code",
      "metadata": {
        "id": "EhgviWmvH8n6"
      },
      "source": [
        "s = set() # the empty set\n",
        "print(s)"
      ],
      "execution_count": null,
      "outputs": []
    },
    {
      "cell_type": "code",
      "metadata": {
        "colab": {
          "base_uri": "https://localhost:8080/"
        },
        "id": "Q6IUCNmRHcwA",
        "outputId": "a85ff7a7-131d-4b13-f9bb-161dec5a582c"
      },
      "source": [
        "set(['a','c','b','a'])"
      ],
      "execution_count": null,
      "outputs": [
        {
          "output_type": "execute_result",
          "data": {
            "text/plain": [
              "{'a', 'b', 'c'}"
            ]
          },
          "metadata": {
            "tags": []
          },
          "execution_count": 33
        }
      ]
    },
    {
      "cell_type": "markdown",
      "metadata": {
        "id": "ywIPhbYDQsuf"
      },
      "source": [
        "Sets are written with curly brackets `{` `}` and have a number of inherent set operations."
      ]
    },
    {
      "cell_type": "code",
      "metadata": {
        "id": "QMSJg1G3izlh"
      },
      "source": [
        "s1 = {'a','b','c','f'}\n",
        "s2 = {'a','e','f','g'}\n",
        "print('union                of s1 and s2', s1 | s2) \n",
        "print('intersection         of s1 and s2', s1 & s2)\n",
        "print('difference           of s1 and s2', s1 - s2)\n",
        "print('difference           of s2 and s1', s2 - s1)\n",
        "print('symmetric difference of s2 and s1', s2 ^ s1)"
      ],
      "execution_count": null,
      "outputs": []
    },
    {
      "cell_type": "code",
      "metadata": {
        "id": "G-7b7Be2JFjt"
      },
      "source": [
        "s1 = {'a', 'b','c','f'}\n",
        "s2 = {'a','e','f', 'g'}\n",
        "print(s1 | s2)"
      ],
      "execution_count": null,
      "outputs": []
    },
    {
      "cell_type": "markdown",
      "metadata": {
        "id": "qsa4H2qNRVfy"
      },
      "source": [
        "The `set` function can be applied to a list to obtain the set of unique values."
      ]
    },
    {
      "cell_type": "code",
      "metadata": {
        "colab": {
          "base_uri": "https://localhost:8080/"
        },
        "id": "5Jfdp-f4KdRN",
        "outputId": "0b0e432e-f0de-4cc7-8940-0d9e779a85ce"
      },
      "source": [
        "L = [1,2,3,4,1,3,2]\n",
        "s1 = set(L)\n",
        "print(s1)"
      ],
      "execution_count": null,
      "outputs": [
        {
          "output_type": "stream",
          "text": [
            "{1, 2, 3, 4}\n"
          ],
          "name": "stdout"
        }
      ]
    },
    {
      "cell_type": "markdown",
      "metadata": {
        "id": "t0iXx1SYZiao"
      },
      "source": [
        "## Control Flow [Greg]"
      ]
    },
    {
      "cell_type": "markdown",
      "metadata": {
        "id": "TrXkoyjKK0Z0"
      },
      "source": [
        "### Conditions"
      ]
    },
    {
      "cell_type": "markdown",
      "metadata": {
        "id": "80Vh2RdfsrPl"
      },
      "source": [
        "Conditions allow you to include actions dependent on conditions in your code."
      ]
    },
    {
      "cell_type": "code",
      "metadata": {
        "colab": {
          "base_uri": "https://localhost:8080/"
        },
        "id": "BFjK-glCsqjK",
        "outputId": "314c8c00-4b0e-4ed5-a50e-550999fad75e"
      },
      "source": [
        "condition = 6\n",
        "\n",
        "if condition == 6:\n",
        "  print(\"This condition was met!\")"
      ],
      "execution_count": null,
      "outputs": [
        {
          "output_type": "stream",
          "text": [
            "This condition was met!\n"
          ],
          "name": "stdout"
        }
      ]
    },
    {
      "cell_type": "markdown",
      "metadata": {
        "id": "V4O4o4Jhtk6P"
      },
      "source": [
        "You can have multiple checks for different conditions.\n"
      ]
    },
    {
      "cell_type": "code",
      "metadata": {
        "colab": {
          "base_uri": "https://localhost:8080/"
        },
        "id": "7abY-fSGtv6p",
        "outputId": "7f0f4af6-52d0-47f5-d74a-ac30a7b56c4c"
      },
      "source": [
        "condition = 6\n",
        "\n",
        "if condition == 6:\n",
        "  print(\"First condition was met!\")\n",
        "elif condition == 7:\n",
        "  print(\"Second condition was met!\")"
      ],
      "execution_count": null,
      "outputs": [
        {
          "output_type": "stream",
          "text": [
            "First condition was met!\n"
          ],
          "name": "stdout"
        }
      ]
    },
    {
      "cell_type": "code",
      "metadata": {
        "colab": {
          "base_uri": "https://localhost:8080/"
        },
        "id": "UQGH7NWlSX9F",
        "outputId": "82f3d2d8-ae86-46e9-9962-cc5f934fc16f"
      },
      "source": [
        "condition = 7\n",
        "\n",
        "if condition == 6:\n",
        "  print(\"First condition was met!\")\n",
        "elif condition == 7:\n",
        "  print(\"Second condition was met!\")"
      ],
      "execution_count": null,
      "outputs": [
        {
          "output_type": "stream",
          "text": [
            "Second condition was met!\n"
          ],
          "name": "stdout"
        }
      ]
    },
    {
      "cell_type": "markdown",
      "metadata": {
        "id": "XBzpr4TUt69L"
      },
      "source": [
        "You can even have a fallback option in case none of the conditions are met."
      ]
    },
    {
      "cell_type": "code",
      "metadata": {
        "colab": {
          "base_uri": "https://localhost:8080/"
        },
        "id": "MQaeHuHTt_tH",
        "outputId": "efcc5306-4678-4544-adc3-96ebd4c1bc26"
      },
      "source": [
        "sky = 'blue'\n",
        "\n",
        "if sky == 'red':\n",
        "  print(\"The sky is red.\")\n",
        "elif sky == 'blue':\n",
        "  print(\"The sky is blue.\")\n",
        "else:\n",
        "  print(\"The sky is probably blue.\")"
      ],
      "execution_count": null,
      "outputs": [
        {
          "output_type": "stream",
          "text": [
            "The sky is blue.\n"
          ],
          "name": "stdout"
        }
      ]
    },
    {
      "cell_type": "code",
      "metadata": {
        "colab": {
          "base_uri": "https://localhost:8080/"
        },
        "id": "e_DjfdUHSk1P",
        "outputId": "9576f949-4db3-48fc-b81f-fec6a7cd0e50"
      },
      "source": [
        "sky = 'green'\n",
        "\n",
        "if sky == 'red':\n",
        "  print(\"The sky is red.\")\n",
        "elif sky == 'blue':\n",
        "  print(\"The sky is blue.\")\n",
        "else:\n",
        "  print(\"The sky is neither red or blue.\")"
      ],
      "execution_count": null,
      "outputs": [
        {
          "output_type": "stream",
          "text": [
            "The sky is neither red or blue.\n"
          ],
          "name": "stdout"
        }
      ]
    },
    {
      "cell_type": "markdown",
      "metadata": {
        "id": "qGlMeIDFuSlR"
      },
      "source": [
        "Conditionals depend on the truth value of the conditional (whether a code statement is true or false)."
      ]
    },
    {
      "cell_type": "code",
      "metadata": {
        "colab": {
          "base_uri": "https://localhost:8080/"
        },
        "id": "xc7YWiGdue15",
        "outputId": "80f3c40e-52fe-4e24-ff4d-a183dbfa05f5"
      },
      "source": [
        "sky == 'red'"
      ],
      "execution_count": null,
      "outputs": [
        {
          "output_type": "execute_result",
          "data": {
            "text/plain": [
              "False"
            ]
          },
          "metadata": {
            "tags": []
          },
          "execution_count": 64
        }
      ]
    },
    {
      "cell_type": "code",
      "metadata": {
        "colab": {
          "base_uri": "https://localhost:8080/"
        },
        "id": "4Ex8JoFMvkdN",
        "outputId": "320e8aca-1232-4fb0-a5aa-d6ebd2d73734"
      },
      "source": [
        "sky == 'green'"
      ],
      "execution_count": null,
      "outputs": [
        {
          "output_type": "execute_result",
          "data": {
            "text/plain": [
              "True"
            ]
          },
          "metadata": {
            "tags": []
          },
          "execution_count": 65
        }
      ]
    },
    {
      "cell_type": "code",
      "metadata": {
        "colab": {
          "base_uri": "https://localhost:8080/"
        },
        "id": "AfMQ-kDrvqSj",
        "outputId": "e76aaeee-4635-4d6e-892a-4d667cf43306"
      },
      "source": [
        "condition < 5"
      ],
      "execution_count": null,
      "outputs": [
        {
          "output_type": "execute_result",
          "data": {
            "text/plain": [
              "False"
            ]
          },
          "metadata": {
            "tags": []
          },
          "execution_count": 68
        }
      ]
    },
    {
      "cell_type": "code",
      "metadata": {
        "colab": {
          "base_uri": "https://localhost:8080/"
        },
        "id": "3OPkOkYdwCC8",
        "outputId": "9e488bb0-b040-4a2e-b467-6a9551acbcbd"
      },
      "source": [
        "condition > 5"
      ],
      "execution_count": null,
      "outputs": [
        {
          "output_type": "execute_result",
          "data": {
            "text/plain": [
              "True"
            ]
          },
          "metadata": {
            "tags": []
          },
          "execution_count": 69
        }
      ]
    },
    {
      "cell_type": "markdown",
      "metadata": {
        "id": "aStz78FCw7FM"
      },
      "source": [
        "You can directly use a variable that resolves to a truth value in a conditional (or even use the truth values themselves!)."
      ]
    },
    {
      "cell_type": "code",
      "metadata": {
        "colab": {
          "base_uri": "https://localhost:8080/"
        },
        "id": "H44lE5xjxGcU",
        "outputId": "73a5d899-59ea-4a00-8b8c-f2f47105bc76"
      },
      "source": [
        "if True:\n",
        "  print(\"This will always print!\")\n",
        "\n",
        "if False:\n",
        "  print(\"This will never print!\")"
      ],
      "execution_count": null,
      "outputs": [
        {
          "output_type": "stream",
          "text": [
            "This will always print!\n"
          ],
          "name": "stdout"
        }
      ]
    },
    {
      "cell_type": "markdown",
      "metadata": {
        "id": "ZxPq3InZwFen"
      },
      "source": [
        "\n",
        "\n",
        "*   Exercise: Create a variable that evaluates true using the two conditions provided below\n"
      ]
    },
    {
      "cell_type": "code",
      "metadata": {
        "id": "m3cZRETqwbGV"
      },
      "source": [
        "condition_1 = 10\n",
        "condition_2 = 20\n",
        "\n",
        "condition_truth = (condition_1 < condition_2) # (this should resolve to true, and should only use the two conditions and a comparator)\n",
        "assert condition_truth is True"
      ],
      "execution_count": null,
      "outputs": []
    },
    {
      "cell_type": "markdown",
      "metadata": {
        "id": "xD-JQEa__t17"
      },
      "source": [
        "And/Or\n"
      ]
    },
    {
      "cell_type": "code",
      "metadata": {
        "id": "rITNQ94Y_xm3"
      },
      "source": [
        "is_this_true = (conditi)"
      ],
      "execution_count": null,
      "outputs": []
    },
    {
      "cell_type": "markdown",
      "metadata": {
        "id": "0lqYGo8gK2a6"
      },
      "source": [
        "### Loops"
      ]
    },
    {
      "cell_type": "markdown",
      "metadata": {
        "id": "HWGJojhvysie"
      },
      "source": [
        "Loops are a repeated process where a sequence of programming steps are specified once, but can be repeated any number of times."
      ]
    },
    {
      "cell_type": "code",
      "metadata": {
        "colab": {
          "base_uri": "https://localhost:8080/"
        },
        "id": "3AX2Sutlze3t",
        "outputId": "b6eecf63-0f77-4a4d-ff65-ed2251679460"
      },
      "source": [
        "for i in range(5):\n",
        "  print(\"Hello Howard University!\")"
      ],
      "execution_count": null,
      "outputs": [
        {
          "output_type": "stream",
          "text": [
            "Hello Howard University!\n",
            "Hello Howard University!\n",
            "Hello Howard University!\n",
            "Hello Howard University!\n",
            "Hello Howard University!\n"
          ],
          "name": "stdout"
        }
      ]
    },
    {
      "cell_type": "markdown",
      "metadata": {
        "id": "bMs0GXrWzm0r"
      },
      "source": [
        "Loops come in two flavors:\n",
        "\n",
        "```for``` loops repeat actions a specific number of times"
      ]
    },
    {
      "cell_type": "code",
      "metadata": {
        "colab": {
          "base_uri": "https://localhost:8080/"
        },
        "id": "OmcMK8GWzkpa",
        "outputId": "fe652467-a6b9-4dee-f749-0787f963117d"
      },
      "source": [
        "loop_repetition_count = 3\n",
        "\n",
        "for i in range(loop_repetition_count):\n",
        "  print(\"This is a for loop!\")"
      ],
      "execution_count": null,
      "outputs": [
        {
          "output_type": "stream",
          "text": [
            "This is a for loop!\n",
            "This is a for loop!\n",
            "This is a for loop!\n"
          ],
          "name": "stdout"
        }
      ]
    },
    {
      "cell_type": "markdown",
      "metadata": {
        "id": "vB5AteEJ1S37"
      },
      "source": [
        "```for``` loops mainly loop through elements of an iterable object (you've encountered iterable objects earlier: what objects stored multiple elements in a row and allowed you to access individual elements?)"
      ]
    },
    {
      "cell_type": "code",
      "metadata": {
        "colab": {
          "base_uri": "https://localhost:8080/"
        },
        "id": "XIPlL81x2a1A",
        "outputId": "7beb7182-f94c-4857-c1e9-ec8e5f9b7bbd"
      },
      "source": [
        "iterable_object = ['this', 'is', 'an', 'iterable', 'object']\n",
        "\n",
        "for element in iterable_object:\n",
        "  print('Going through the iterable elements!')"
      ],
      "execution_count": null,
      "outputs": [
        {
          "output_type": "stream",
          "text": [
            "Going through the iterable elements!\n",
            "Going through the iterable elements!\n",
            "Going through the iterable elements!\n",
            "Going through the iterable elements!\n",
            "Going through the iterable elements!\n"
          ],
          "name": "stdout"
        }
      ]
    },
    {
      "cell_type": "markdown",
      "metadata": {
        "id": "AlU-8CRI24Fs"
      },
      "source": [
        "When a ```for``` loop progresses through an iterable, it automatically goes through the iterable in order until it reaches the end. One nice benefit to this is having access to each element as it works through the iterable!"
      ]
    },
    {
      "cell_type": "code",
      "metadata": {
        "colab": {
          "base_uri": "https://localhost:8080/"
        },
        "id": "g6TqhPVW23TL",
        "outputId": "8be2fc93-7259-43f2-c97a-7fc1c3f13802"
      },
      "source": [
        "for element in iterable_object:\n",
        "  print(element)"
      ],
      "execution_count": null,
      "outputs": [
        {
          "output_type": "stream",
          "text": [
            "this\n",
            "is\n",
            "an\n",
            "iterable\n",
            "object\n"
          ],
          "name": "stdout"
        }
      ]
    },
    {
      "cell_type": "markdown",
      "metadata": {
        "id": "IAtigvY04oSq"
      },
      "source": [
        "If you're only interested in having a ```for``` loop run a certain number of times, you can make use of the ```range``` to create an iterable out of an integer value\n",
        "\n",
        "Exercise: Create a loop that runs 4 times!"
      ]
    },
    {
      "cell_type": "code",
      "metadata": {
        "colab": {
          "base_uri": "https://localhost:8080/"
        },
        "id": "-3vJNwcP4nWk",
        "outputId": "68f61e9e-cb3b-490b-8aa9-9acbedccbcf4"
      },
      "source": [
        "loop_count = 4 # TO DO: Specify number of times to loop!\n",
        "\n",
        "for i in range(loop_count):\n",
        "  loop_num = i\n",
        "  print(\"You are on loop number:\", i)\n",
        "\n",
        "assert loop_num == 3, \"Incorrect loop count!\"\n",
        "print(\"\")\n",
        "print(\"Correct!\")"
      ],
      "execution_count": null,
      "outputs": [
        {
          "output_type": "stream",
          "text": [
            "You are on loop number: 0\n",
            "You are on loop number: 1\n",
            "You are on loop number: 2\n",
            "You are on loop number: 3\n",
            "\n",
            "Correct!\n"
          ],
          "name": "stdout"
        }
      ]
    },
    {
      "cell_type": "markdown",
      "metadata": {
        "id": "P18Aqbg356hm"
      },
      "source": [
        "If you provide a second input to ```range```, the first value will be used as a start value for the created iterable, and the second will be used as a stopping value for the created iterable.\n",
        "\n",
        "If you provide a third input to ```range```, the third input will control how you skip through the numerical sequence.\n",
        "\n",
        "It's important to be aware that ```range``` will stop one number before the stopping value."
      ]
    },
    {
      "cell_type": "code",
      "metadata": {
        "colab": {
          "base_uri": "https://localhost:8080/"
        },
        "id": "PnsqQ9sq6FSB",
        "outputId": "45ae97b9-7aeb-4092-c5b2-134f8fab3270"
      },
      "source": [
        "for i in range(1, 6):\n",
        "  print(\"Loop:\", i)\n",
        "\n",
        "print(\"\")\n",
        "\n",
        "for j in range(1, 22, 5):\n",
        "  print(\"Loop:\", j)"
      ],
      "execution_count": null,
      "outputs": [
        {
          "output_type": "stream",
          "text": [
            "Loop: 1\n",
            "Loop: 2\n",
            "Loop: 3\n",
            "Loop: 4\n",
            "Loop: 5\n",
            "\n",
            "Loop: 1\n",
            "Loop: 6\n",
            "Loop: 11\n",
            "Loop: 16\n",
            "Loop: 21\n"
          ],
          "name": "stdout"
        }
      ]
    },
    {
      "cell_type": "markdown",
      "metadata": {
        "id": "WI-GLliD4JuO"
      },
      "source": [
        "What if you want to loop through an iterable, but you just want to know what loop you're currently on? There are two methods to achieve this.\n",
        "\n",
        "For the first one, you can make use of the length of an iterable, along with ```range```"
      ]
    },
    {
      "cell_type": "code",
      "metadata": {
        "colab": {
          "base_uri": "https://localhost:8080/"
        },
        "id": "orJmN7lp36id",
        "outputId": "b04d3a61-1263-40ec-9f2b-fb93cd38f7f6"
      },
      "source": [
        "iterable_object_len = len(iterable_object)\n",
        "\n",
        "for i in range(iterable_object_len):\n",
        "  print(\"Loop:\", i)"
      ],
      "execution_count": null,
      "outputs": [
        {
          "output_type": "stream",
          "text": [
            "Loop: 0\n",
            "Loop: 1\n",
            "Loop: 2\n",
            "Loop: 3\n",
            "Loop: 4\n"
          ],
          "name": "stdout"
        }
      ]
    },
    {
      "cell_type": "markdown",
      "metadata": {
        "id": "6JSPyAMn7Mhq"
      },
      "source": [
        "You can also make use of the ```enumerate``` function"
      ]
    },
    {
      "cell_type": "code",
      "metadata": {
        "colab": {
          "base_uri": "https://localhost:8080/"
        },
        "id": "q1B5iC2V7PGG",
        "outputId": "3392740f-fa18-4344-ac8d-0b9b8a730d3f"
      },
      "source": [
        "for count, element in enumerate(iterable_object):\n",
        "  print(\"Loop\", count, \"Element\", element)"
      ],
      "execution_count": null,
      "outputs": [
        {
          "output_type": "stream",
          "text": [
            "Loop 0 Element this\n",
            "Loop 1 Element is\n",
            "Loop 2 Element an\n",
            "Loop 3 Element iterable\n",
            "Loop 4 Element object\n"
          ],
          "name": "stdout"
        }
      ]
    },
    {
      "cell_type": "markdown",
      "metadata": {
        "id": "3KOV_veS7dvn"
      },
      "source": [
        "The second input for enumerate allows you to start the count from a specified point.\n",
        "\n",
        "EXERCISE: Enumerate through an iterable starting from 1"
      ]
    },
    {
      "cell_type": "code",
      "metadata": {
        "colab": {
          "base_uri": "https://localhost:8080/"
        },
        "id": "jVLgPoHC9TvY",
        "outputId": "855f1bac-e955-4667-9231-d6a8d6cb307c"
      },
      "source": [
        "count_check = []\n",
        "\n",
        "for count, element in enumerate(iterable_object, '''TO DO'''): # TO DO: Replace the quotes with an integer\n",
        "  count_check.append(count)\n",
        "  print(\"Loop\", count, \"Element\", element)\n",
        "\n",
        "assert count_check[0] == 1, \"Wrong loop start!\"\n",
        "print(\"Correct!\")"
      ],
      "execution_count": null,
      "outputs": [
        {
          "output_type": "stream",
          "text": [
            "Loop 1 Element this\n",
            "Loop 2 Element is\n",
            "Loop 3 Element an\n",
            "Loop 4 Element iterable\n",
            "Loop 5 Element object\n",
            "Correct!\n"
          ],
          "name": "stdout"
        }
      ]
    },
    {
      "cell_type": "markdown",
      "metadata": {
        "id": "BKc4JNOP0cEP"
      },
      "source": [
        "```while``` loops repeat the sequence as long as the conditional statement is true"
      ]
    },
    {
      "cell_type": "code",
      "metadata": {
        "colab": {
          "base_uri": "https://localhost:8080/"
        },
        "id": "dVbB_D-5K6XG",
        "outputId": "40031e8e-5334-4442-9bf5-74c7e58dd9ec"
      },
      "source": [
        "keep_going = True\n",
        "i = 0\n",
        "\n",
        "while keep_going:\n",
        "  if i > 15:\n",
        "    keep_going = False\n",
        "\n",
        "  print(\"This while loop will end eventually\")\n",
        "\n",
        "  i = i + 1\n",
        "\n",
        "print(\"The loop is over!\")"
      ],
      "execution_count": null,
      "outputs": [
        {
          "output_type": "stream",
          "text": [
            "This while loop will end eventually\n",
            "This while loop will end eventually\n",
            "This while loop will end eventually\n",
            "This while loop will end eventually\n",
            "This while loop will end eventually\n",
            "This while loop will end eventually\n",
            "This while loop will end eventually\n",
            "This while loop will end eventually\n",
            "This while loop will end eventually\n",
            "This while loop will end eventually\n",
            "This while loop will end eventually\n",
            "This while loop will end eventually\n",
            "This while loop will end eventually\n",
            "This while loop will end eventually\n",
            "This while loop will end eventually\n",
            "This while loop will end eventually\n",
            "This while loop will end eventually\n",
            "The loop is over!\n"
          ],
          "name": "stdout"
        }
      ]
    },
    {
      "cell_type": "markdown",
      "metadata": {
        "id": "Eh467qZwwpAS"
      },
      "source": [
        "While loops require care, as it is very easy to create an infinite loop without properly including a way to leave the loop."
      ]
    },
    {
      "cell_type": "code",
      "metadata": {
        "colab": {
          "base_uri": "https://localhost:8080/"
        },
        "id": "EwLvwoXcw0B9",
        "outputId": "0c46ac48-e64d-45eb-f587-c21c0961f610"
      },
      "source": [
        "import time\n",
        "\n",
        "start_time = time.time()\n",
        "n = 0\n",
        "\n",
        "while n < 10:\n",
        "  print(\"Loop is operating. Is n incrementing?\")\n",
        "  new_time = time.time()\n",
        "\n",
        "  if new_time - start_time >= 10:\n",
        "    break\n",
        "\n",
        "print(\"\")\n",
        "print(\"\")\n",
        "print(\"Halting loop! This loop would've kept going without this time safeguard\")"
      ],
      "execution_count": null,
      "outputs": [
        {
          "output_type": "stream",
          "text": [
            "\u001b[1;30;43mStreaming output truncated to the last 5000 lines.\u001b[0m\n",
            "Loop is operating. Is n incrementing?\n",
            "Loop is operating. Is n incrementing?\n",
            "Loop is operating. Is n incrementing?\n",
            "Loop is operating. Is n incrementing?\n",
            "Loop is operating. Is n incrementing?\n",
            "Loop is operating. Is n incrementing?\n",
            "Loop is operating. Is n incrementing?\n",
            "Loop is operating. Is n incrementing?\n",
            "Loop is operating. Is n incrementing?\n",
            "Loop is operating. Is n incrementing?\n",
            "Loop is operating. Is n incrementing?\n",
            "Loop is operating. Is n incrementing?\n",
            "Loop is operating. Is n incrementing?\n",
            "Loop is operating. Is n incrementing?\n",
            "Loop is operating. Is n incrementing?\n",
            "Loop is operating. Is n incrementing?\n",
            "Loop is operating. Is n incrementing?\n",
            "Loop is operating. Is n incrementing?\n",
            "Loop is operating. Is n incrementing?\n",
            "Loop is operating. Is n incrementing?\n",
            "Loop is operating. Is n incrementing?\n",
            "Loop is operating. Is n incrementing?\n",
            "Loop is operating. Is n incrementing?\n",
            "Loop is operating. Is n incrementing?\n",
            "Loop is operating. Is n incrementing?\n",
            "Loop is operating. Is n incrementing?\n",
            "Loop is operating. Is n incrementing?\n",
            "Loop is operating. Is n incrementing?\n",
            "Loop is operating. Is n incrementing?\n",
            "Loop is operating. Is n incrementing?\n",
            "Loop is operating. Is n incrementing?\n",
            "Loop is operating. Is n incrementing?\n",
            "Loop is operating. Is n incrementing?\n",
            "Loop is operating. Is n incrementing?\n",
            "Loop is operating. Is n incrementing?\n",
            "Loop is operating. Is n incrementing?\n",
            "Loop is operating. Is n incrementing?\n",
            "Loop is operating. Is n incrementing?\n",
            "Loop is operating. Is n incrementing?\n",
            "Loop is operating. Is n incrementing?\n",
            "Loop is operating. Is n incrementing?\n",
            "Loop is operating. Is n incrementing?\n",
            "Loop is operating. Is n incrementing?\n",
            "Loop is operating. Is n incrementing?\n",
            "Loop is operating. Is n incrementing?\n",
            "Loop is operating. Is n incrementing?\n",
            "Loop is operating. Is n incrementing?\n",
            "Loop is operating. Is n incrementing?\n",
            "Loop is operating. Is n incrementing?\n",
            "Loop is operating. Is n incrementing?\n",
            "Loop is operating. Is n incrementing?\n",
            "Loop is operating. Is n incrementing?\n",
            "Loop is operating. Is n incrementing?\n",
            "Loop is operating. Is n incrementing?\n",
            "Loop is operating. Is n incrementing?\n",
            "Loop is operating. Is n incrementing?\n",
            "Loop is operating. Is n incrementing?\n",
            "Loop is operating. Is n incrementing?\n",
            "Loop is operating. Is n incrementing?\n",
            "Loop is operating. Is n incrementing?\n",
            "Loop is operating. Is n incrementing?\n",
            "Loop is operating. Is n incrementing?\n",
            "Loop is operating. Is n incrementing?\n",
            "Loop is operating. Is n incrementing?\n",
            "Loop is operating. Is n incrementing?\n",
            "Loop is operating. Is n incrementing?\n",
            "Loop is operating. Is n incrementing?\n",
            "Loop is operating. Is n incrementing?\n",
            "Loop is operating. Is n incrementing?\n",
            "Loop is operating. Is n incrementing?\n",
            "Loop is operating. Is n incrementing?\n",
            "Loop is operating. Is n incrementing?\n",
            "Loop is operating. Is n incrementing?\n",
            "Loop is operating. Is n incrementing?\n",
            "Loop is operating. Is n incrementing?\n",
            "Loop is operating. Is n incrementing?\n",
            "Loop is operating. Is n incrementing?\n",
            "Loop is operating. Is n incrementing?\n",
            "Loop is operating. Is n incrementing?\n",
            "Loop is operating. Is n incrementing?\n",
            "Loop is operating. Is n incrementing?\n",
            "Loop is operating. Is n incrementing?\n",
            "Loop is operating. Is n incrementing?\n",
            "Loop is operating. Is n incrementing?\n",
            "Loop is operating. Is n incrementing?\n",
            "Loop is operating. Is n incrementing?\n",
            "Loop is operating. Is n incrementing?\n",
            "Loop is operating. Is n incrementing?\n",
            "Loop is operating. Is n incrementing?\n",
            "Loop is operating. Is n incrementing?\n",
            "Loop is operating. Is n incrementing?\n",
            "Loop is operating. Is n incrementing?\n",
            "Loop is operating. Is n incrementing?\n",
            "Loop is operating. Is n incrementing?\n",
            "Loop is operating. Is n incrementing?\n",
            "Loop is operating. Is n incrementing?\n",
            "Loop is operating. Is n incrementing?\n",
            "Loop is operating. Is n incrementing?\n",
            "Loop is operating. Is n incrementing?\n",
            "Loop is operating. Is n incrementing?\n",
            "Loop is operating. Is n incrementing?\n",
            "Loop is operating. Is n incrementing?\n",
            "Loop is operating. Is n incrementing?\n",
            "Loop is operating. Is n incrementing?\n",
            "Loop is operating. Is n incrementing?\n",
            "Loop is operating. Is n incrementing?\n",
            "Loop is operating. Is n incrementing?\n",
            "Loop is operating. Is n incrementing?\n",
            "Loop is operating. Is n incrementing?\n",
            "Loop is operating. Is n incrementing?\n",
            "Loop is operating. Is n incrementing?\n",
            "Loop is operating. Is n incrementing?\n",
            "Loop is operating. Is n incrementing?\n",
            "Loop is operating. Is n incrementing?\n",
            "Loop is operating. Is n incrementing?\n",
            "Loop is operating. Is n incrementing?\n",
            "Loop is operating. Is n incrementing?\n",
            "Loop is operating. Is n incrementing?\n",
            "Loop is operating. Is n incrementing?\n",
            "Loop is operating. Is n incrementing?\n",
            "Loop is operating. Is n incrementing?\n",
            "Loop is operating. Is n incrementing?\n",
            "Loop is operating. Is n incrementing?\n",
            "Loop is operating. Is n incrementing?\n",
            "Loop is operating. Is n incrementing?\n",
            "Loop is operating. Is n incrementing?\n",
            "Loop is operating. Is n incrementing?\n",
            "Loop is operating. Is n incrementing?\n",
            "Loop is operating. Is n incrementing?\n",
            "Loop is operating. Is n incrementing?\n",
            "Loop is operating. Is n incrementing?\n",
            "Loop is operating. Is n incrementing?\n",
            "Loop is operating. Is n incrementing?\n",
            "Loop is operating. Is n incrementing?\n",
            "Loop is operating. Is n incrementing?\n",
            "Loop is operating. Is n incrementing?\n",
            "Loop is operating. Is n incrementing?\n",
            "Loop is operating. Is n incrementing?\n",
            "Loop is operating. Is n incrementing?\n",
            "Loop is operating. Is n incrementing?\n",
            "Loop is operating. Is n incrementing?\n",
            "Loop is operating. Is n incrementing?\n",
            "Loop is operating. Is n incrementing?\n",
            "Loop is operating. Is n incrementing?\n",
            "Loop is operating. Is n incrementing?\n",
            "Loop is operating. Is n incrementing?\n",
            "Loop is operating. Is n incrementing?\n",
            "Loop is operating. Is n incrementing?\n",
            "Loop is operating. Is n incrementing?\n",
            "Loop is operating. Is n incrementing?\n",
            "Loop is operating. Is n incrementing?\n",
            "Loop is operating. Is n incrementing?\n",
            "Loop is operating. Is n incrementing?\n",
            "Loop is operating. Is n incrementing?\n",
            "Loop is operating. Is n incrementing?\n",
            "Loop is operating. Is n incrementing?\n",
            "Loop is operating. Is n incrementing?\n",
            "Loop is operating. Is n incrementing?\n",
            "Loop is operating. Is n incrementing?\n",
            "Loop is operating. Is n incrementing?\n",
            "Loop is operating. Is n incrementing?\n",
            "Loop is operating. Is n incrementing?\n",
            "Loop is operating. Is n incrementing?\n",
            "Loop is operating. Is n incrementing?\n",
            "Loop is operating. Is n incrementing?\n",
            "Loop is operating. Is n incrementing?\n",
            "Loop is operating. Is n incrementing?\n",
            "Loop is operating. Is n incrementing?\n",
            "Loop is operating. Is n incrementing?\n",
            "Loop is operating. Is n incrementing?\n",
            "Loop is operating. Is n incrementing?\n",
            "Loop is operating. Is n incrementing?\n",
            "Loop is operating. Is n incrementing?\n",
            "Loop is operating. Is n incrementing?\n",
            "Loop is operating. Is n incrementing?\n",
            "Loop is operating. Is n incrementing?\n",
            "Loop is operating. Is n incrementing?\n",
            "Loop is operating. Is n incrementing?\n",
            "Loop is operating. Is n incrementing?\n",
            "Loop is operating. Is n incrementing?\n",
            "Loop is operating. Is n incrementing?\n",
            "Loop is operating. Is n incrementing?\n",
            "Loop is operating. Is n incrementing?\n",
            "Loop is operating. Is n incrementing?\n",
            "Loop is operating. Is n incrementing?\n",
            "Loop is operating. Is n incrementing?\n",
            "Loop is operating. Is n incrementing?\n",
            "Loop is operating. Is n incrementing?\n",
            "Loop is operating. Is n incrementing?\n",
            "Loop is operating. Is n incrementing?\n",
            "Loop is operating. Is n incrementing?\n",
            "Loop is operating. Is n incrementing?\n",
            "Loop is operating. Is n incrementing?\n",
            "Loop is operating. Is n incrementing?\n",
            "Loop is operating. Is n incrementing?\n",
            "Loop is operating. Is n incrementing?\n",
            "Loop is operating. Is n incrementing?\n",
            "Loop is operating. Is n incrementing?\n",
            "Loop is operating. Is n incrementing?\n",
            "Loop is operating. Is n incrementing?\n",
            "Loop is operating. Is n incrementing?\n",
            "Loop is operating. Is n incrementing?\n",
            "Loop is operating. Is n incrementing?\n",
            "Loop is operating. Is n incrementing?\n",
            "Loop is operating. Is n incrementing?\n",
            "Loop is operating. Is n incrementing?\n",
            "Loop is operating. Is n incrementing?\n",
            "Loop is operating. Is n incrementing?\n",
            "Loop is operating. Is n incrementing?\n",
            "Loop is operating. Is n incrementing?\n",
            "Loop is operating. Is n incrementing?\n",
            "Loop is operating. Is n incrementing?\n",
            "Loop is operating. Is n incrementing?\n",
            "Loop is operating. Is n incrementing?\n",
            "Loop is operating. Is n incrementing?\n",
            "Loop is operating. Is n incrementing?\n",
            "Loop is operating. Is n incrementing?\n",
            "Loop is operating. Is n incrementing?\n",
            "Loop is operating. Is n incrementing?\n",
            "Loop is operating. Is n incrementing?\n",
            "Loop is operating. Is n incrementing?\n",
            "Loop is operating. Is n incrementing?\n",
            "Loop is operating. Is n incrementing?\n",
            "Loop is operating. Is n incrementing?\n",
            "Loop is operating. Is n incrementing?\n",
            "Loop is operating. Is n incrementing?\n",
            "Loop is operating. Is n incrementing?\n",
            "Loop is operating. Is n incrementing?\n",
            "Loop is operating. Is n incrementing?\n",
            "Loop is operating. Is n incrementing?\n",
            "Loop is operating. Is n incrementing?\n",
            "Loop is operating. Is n incrementing?\n",
            "Loop is operating. Is n incrementing?\n",
            "Loop is operating. Is n incrementing?\n",
            "Loop is operating. Is n incrementing?\n",
            "Loop is operating. Is n incrementing?\n",
            "Loop is operating. Is n incrementing?\n",
            "Loop is operating. Is n incrementing?\n",
            "Loop is operating. Is n incrementing?\n",
            "Loop is operating. Is n incrementing?\n",
            "Loop is operating. Is n incrementing?\n",
            "Loop is operating. Is n incrementing?\n",
            "Loop is operating. Is n incrementing?\n",
            "Loop is operating. Is n incrementing?\n",
            "Loop is operating. Is n incrementing?\n",
            "Loop is operating. Is n incrementing?\n",
            "Loop is operating. Is n incrementing?\n",
            "Loop is operating. Is n incrementing?\n",
            "Loop is operating. Is n incrementing?\n",
            "Loop is operating. Is n incrementing?\n",
            "Loop is operating. Is n incrementing?\n",
            "Loop is operating. Is n incrementing?\n",
            "Loop is operating. Is n incrementing?\n",
            "Loop is operating. Is n incrementing?\n",
            "Loop is operating. Is n incrementing?\n",
            "Loop is operating. Is n incrementing?\n",
            "Loop is operating. Is n incrementing?\n",
            "Loop is operating. Is n incrementing?\n",
            "Loop is operating. Is n incrementing?\n",
            "Loop is operating. Is n incrementing?\n",
            "Loop is operating. Is n incrementing?\n",
            "Loop is operating. Is n incrementing?\n",
            "Loop is operating. Is n incrementing?\n",
            "Loop is operating. Is n incrementing?\n",
            "Loop is operating. Is n incrementing?\n",
            "Loop is operating. Is n incrementing?\n",
            "Loop is operating. Is n incrementing?\n",
            "Loop is operating. Is n incrementing?\n",
            "Loop is operating. Is n incrementing?\n",
            "Loop is operating. Is n incrementing?\n",
            "Loop is operating. Is n incrementing?\n",
            "Loop is operating. Is n incrementing?\n",
            "Loop is operating. Is n incrementing?\n",
            "Loop is operating. Is n incrementing?\n",
            "Loop is operating. Is n incrementing?\n",
            "Loop is operating. Is n incrementing?\n",
            "Loop is operating. Is n incrementing?\n",
            "Loop is operating. Is n incrementing?\n",
            "Loop is operating. Is n incrementing?\n",
            "Loop is operating. Is n incrementing?\n",
            "Loop is operating. Is n incrementing?\n",
            "Loop is operating. Is n incrementing?\n",
            "Loop is operating. Is n incrementing?\n",
            "Loop is operating. Is n incrementing?\n",
            "Loop is operating. Is n incrementing?\n",
            "Loop is operating. Is n incrementing?\n",
            "Loop is operating. Is n incrementing?\n",
            "Loop is operating. Is n incrementing?\n",
            "Loop is operating. Is n incrementing?\n",
            "Loop is operating. Is n incrementing?\n",
            "Loop is operating. Is n incrementing?\n",
            "Loop is operating. Is n incrementing?\n",
            "Loop is operating. Is n incrementing?\n",
            "Loop is operating. Is n incrementing?\n",
            "Loop is operating. Is n incrementing?\n",
            "Loop is operating. Is n incrementing?\n",
            "Loop is operating. Is n incrementing?\n",
            "Loop is operating. Is n incrementing?\n",
            "Loop is operating. Is n incrementing?\n",
            "Loop is operating. Is n incrementing?\n",
            "Loop is operating. Is n incrementing?\n",
            "Loop is operating. Is n incrementing?\n",
            "Loop is operating. Is n incrementing?\n",
            "Loop is operating. Is n incrementing?\n",
            "Loop is operating. Is n incrementing?\n",
            "Loop is operating. Is n incrementing?\n",
            "Loop is operating. Is n incrementing?\n",
            "Loop is operating. Is n incrementing?\n",
            "Loop is operating. Is n incrementing?\n",
            "Loop is operating. Is n incrementing?\n",
            "Loop is operating. Is n incrementing?\n",
            "Loop is operating. Is n incrementing?\n",
            "Loop is operating. Is n incrementing?\n",
            "Loop is operating. Is n incrementing?\n",
            "Loop is operating. Is n incrementing?\n",
            "Loop is operating. Is n incrementing?\n",
            "Loop is operating. Is n incrementing?\n",
            "Loop is operating. Is n incrementing?\n",
            "Loop is operating. Is n incrementing?\n",
            "Loop is operating. Is n incrementing?\n",
            "Loop is operating. Is n incrementing?\n",
            "Loop is operating. Is n incrementing?\n",
            "Loop is operating. Is n incrementing?\n",
            "Loop is operating. Is n incrementing?\n",
            "Loop is operating. Is n incrementing?\n",
            "Loop is operating. Is n incrementing?\n",
            "Loop is operating. Is n incrementing?\n",
            "Loop is operating. Is n incrementing?\n",
            "Loop is operating. Is n incrementing?\n",
            "Loop is operating. Is n incrementing?\n",
            "Loop is operating. Is n incrementing?\n",
            "Loop is operating. Is n incrementing?\n",
            "Loop is operating. Is n incrementing?\n",
            "Loop is operating. Is n incrementing?\n",
            "Loop is operating. Is n incrementing?\n",
            "Loop is operating. Is n incrementing?\n",
            "Loop is operating. Is n incrementing?\n",
            "Loop is operating. Is n incrementing?\n",
            "Loop is operating. Is n incrementing?\n",
            "Loop is operating. Is n incrementing?\n",
            "Loop is operating. Is n incrementing?\n",
            "Loop is operating. Is n incrementing?\n",
            "Loop is operating. Is n incrementing?\n",
            "Loop is operating. Is n incrementing?\n",
            "Loop is operating. Is n incrementing?\n",
            "Loop is operating. Is n incrementing?\n",
            "Loop is operating. Is n incrementing?\n",
            "Loop is operating. Is n incrementing?\n",
            "Loop is operating. Is n incrementing?\n",
            "Loop is operating. Is n incrementing?\n",
            "Loop is operating. Is n incrementing?\n",
            "Loop is operating. Is n incrementing?\n",
            "Loop is operating. Is n incrementing?\n",
            "Loop is operating. Is n incrementing?\n",
            "Loop is operating. Is n incrementing?\n",
            "Loop is operating. Is n incrementing?\n",
            "Loop is operating. Is n incrementing?\n",
            "Loop is operating. Is n incrementing?\n",
            "Loop is operating. Is n incrementing?\n",
            "Loop is operating. Is n incrementing?\n",
            "Loop is operating. Is n incrementing?\n",
            "Loop is operating. Is n incrementing?\n",
            "Loop is operating. Is n incrementing?\n",
            "Loop is operating. Is n incrementing?\n",
            "Loop is operating. Is n incrementing?\n",
            "Loop is operating. Is n incrementing?\n",
            "Loop is operating. Is n incrementing?\n",
            "Loop is operating. Is n incrementing?\n",
            "Loop is operating. Is n incrementing?\n",
            "Loop is operating. Is n incrementing?\n",
            "Loop is operating. Is n incrementing?\n",
            "Loop is operating. Is n incrementing?\n",
            "Loop is operating. Is n incrementing?\n",
            "Loop is operating. Is n incrementing?\n",
            "Loop is operating. Is n incrementing?\n",
            "Loop is operating. Is n incrementing?\n",
            "Loop is operating. Is n incrementing?\n",
            "Loop is operating. Is n incrementing?\n",
            "Loop is operating. Is n incrementing?\n",
            "Loop is operating. Is n incrementing?\n",
            "Loop is operating. Is n incrementing?\n",
            "Loop is operating. Is n incrementing?\n",
            "Loop is operating. Is n incrementing?\n",
            "Loop is operating. Is n incrementing?\n",
            "Loop is operating. Is n incrementing?\n",
            "Loop is operating. Is n incrementing?\n",
            "Loop is operating. Is n incrementing?\n",
            "Loop is operating. Is n incrementing?\n",
            "Loop is operating. Is n incrementing?\n",
            "Loop is operating. Is n incrementing?\n",
            "Loop is operating. Is n incrementing?\n",
            "Loop is operating. Is n incrementing?\n",
            "Loop is operating. Is n incrementing?\n",
            "Loop is operating. Is n incrementing?\n",
            "Loop is operating. Is n incrementing?\n",
            "Loop is operating. Is n incrementing?\n",
            "Loop is operating. Is n incrementing?\n",
            "Loop is operating. Is n incrementing?\n",
            "Loop is operating. Is n incrementing?\n",
            "Loop is operating. Is n incrementing?\n",
            "Loop is operating. Is n incrementing?\n",
            "Loop is operating. Is n incrementing?\n",
            "Loop is operating. Is n incrementing?\n",
            "Loop is operating. Is n incrementing?\n",
            "Loop is operating. Is n incrementing?\n",
            "Loop is operating. Is n incrementing?\n",
            "Loop is operating. Is n incrementing?\n",
            "Loop is operating. Is n incrementing?\n",
            "Loop is operating. Is n incrementing?\n",
            "Loop is operating. Is n incrementing?\n",
            "Loop is operating. Is n incrementing?\n",
            "Loop is operating. Is n incrementing?\n",
            "Loop is operating. Is n incrementing?\n",
            "Loop is operating. Is n incrementing?\n",
            "Loop is operating. Is n incrementing?\n",
            "Loop is operating. Is n incrementing?\n",
            "Loop is operating. Is n incrementing?\n",
            "Loop is operating. Is n incrementing?\n",
            "Loop is operating. Is n incrementing?\n",
            "Loop is operating. Is n incrementing?\n",
            "Loop is operating. Is n incrementing?\n",
            "Loop is operating. Is n incrementing?\n",
            "Loop is operating. Is n incrementing?\n",
            "Loop is operating. Is n incrementing?\n",
            "Loop is operating. Is n incrementing?\n",
            "Loop is operating. Is n incrementing?\n",
            "Loop is operating. Is n incrementing?\n",
            "Loop is operating. Is n incrementing?\n",
            "Loop is operating. Is n incrementing?\n",
            "Loop is operating. Is n incrementing?\n",
            "Loop is operating. Is n incrementing?\n",
            "Loop is operating. Is n incrementing?\n",
            "Loop is operating. Is n incrementing?\n",
            "Loop is operating. Is n incrementing?\n",
            "Loop is operating. Is n incrementing?\n",
            "Loop is operating. Is n incrementing?\n",
            "Loop is operating. Is n incrementing?\n",
            "Loop is operating. Is n incrementing?\n",
            "Loop is operating. Is n incrementing?\n",
            "Loop is operating. Is n incrementing?\n",
            "Loop is operating. Is n incrementing?\n",
            "Loop is operating. Is n incrementing?\n",
            "Loop is operating. Is n incrementing?\n",
            "Loop is operating. Is n incrementing?\n",
            "Loop is operating. Is n incrementing?\n",
            "Loop is operating. Is n incrementing?\n",
            "Loop is operating. Is n incrementing?\n",
            "Loop is operating. Is n incrementing?\n",
            "Loop is operating. Is n incrementing?\n",
            "Loop is operating. Is n incrementing?\n",
            "Loop is operating. Is n incrementing?\n",
            "Loop is operating. Is n incrementing?\n",
            "Loop is operating. Is n incrementing?\n",
            "Loop is operating. Is n incrementing?\n",
            "Loop is operating. Is n incrementing?\n",
            "Loop is operating. Is n incrementing?\n",
            "Loop is operating. Is n incrementing?\n",
            "Loop is operating. Is n incrementing?\n",
            "Loop is operating. Is n incrementing?\n",
            "Loop is operating. Is n incrementing?\n",
            "Loop is operating. Is n incrementing?\n",
            "Loop is operating. Is n incrementing?\n",
            "Loop is operating. Is n incrementing?\n",
            "Loop is operating. Is n incrementing?\n",
            "Loop is operating. Is n incrementing?\n",
            "Loop is operating. Is n incrementing?\n",
            "Loop is operating. Is n incrementing?\n",
            "Loop is operating. Is n incrementing?\n",
            "Loop is operating. Is n incrementing?\n",
            "Loop is operating. Is n incrementing?\n",
            "Loop is operating. Is n incrementing?\n",
            "Loop is operating. Is n incrementing?\n",
            "Loop is operating. Is n incrementing?\n",
            "Loop is operating. Is n incrementing?\n",
            "Loop is operating. Is n incrementing?\n",
            "Loop is operating. Is n incrementing?\n",
            "Loop is operating. Is n incrementing?\n",
            "Loop is operating. Is n incrementing?\n",
            "Loop is operating. Is n incrementing?\n",
            "Loop is operating. Is n incrementing?\n",
            "Loop is operating. Is n incrementing?\n",
            "Loop is operating. Is n incrementing?\n",
            "Loop is operating. Is n incrementing?\n",
            "Loop is operating. Is n incrementing?\n",
            "Loop is operating. Is n incrementing?\n",
            "Loop is operating. Is n incrementing?\n",
            "Loop is operating. Is n incrementing?\n",
            "Loop is operating. Is n incrementing?\n",
            "Loop is operating. Is n incrementing?\n",
            "Loop is operating. Is n incrementing?\n",
            "Loop is operating. Is n incrementing?\n",
            "Loop is operating. Is n incrementing?\n",
            "Loop is operating. Is n incrementing?\n",
            "Loop is operating. Is n incrementing?\n",
            "Loop is operating. Is n incrementing?\n",
            "Loop is operating. Is n incrementing?\n",
            "Loop is operating. Is n incrementing?\n",
            "Loop is operating. Is n incrementing?\n",
            "Loop is operating. Is n incrementing?\n",
            "Loop is operating. Is n incrementing?\n",
            "Loop is operating. Is n incrementing?\n",
            "Loop is operating. Is n incrementing?\n",
            "Loop is operating. Is n incrementing?\n",
            "Loop is operating. Is n incrementing?\n",
            "Loop is operating. Is n incrementing?\n",
            "Loop is operating. Is n incrementing?\n",
            "Loop is operating. Is n incrementing?\n",
            "Loop is operating. Is n incrementing?\n",
            "Loop is operating. Is n incrementing?\n",
            "Loop is operating. Is n incrementing?\n",
            "Loop is operating. Is n incrementing?\n",
            "Loop is operating. Is n incrementing?\n",
            "Loop is operating. Is n incrementing?\n",
            "Loop is operating. Is n incrementing?\n",
            "Loop is operating. Is n incrementing?\n",
            "Loop is operating. Is n incrementing?\n",
            "Loop is operating. Is n incrementing?\n",
            "Loop is operating. Is n incrementing?\n",
            "Loop is operating. Is n incrementing?\n",
            "Loop is operating. Is n incrementing?\n",
            "Loop is operating. Is n incrementing?\n",
            "Loop is operating. Is n incrementing?\n",
            "Loop is operating. Is n incrementing?\n",
            "Loop is operating. Is n incrementing?\n",
            "Loop is operating. Is n incrementing?\n",
            "Loop is operating. Is n incrementing?\n",
            "Loop is operating. Is n incrementing?\n",
            "Loop is operating. Is n incrementing?\n",
            "Loop is operating. Is n incrementing?\n",
            "Loop is operating. Is n incrementing?\n",
            "Loop is operating. Is n incrementing?\n",
            "Loop is operating. Is n incrementing?\n",
            "Loop is operating. Is n incrementing?\n",
            "Loop is operating. Is n incrementing?\n",
            "Loop is operating. Is n incrementing?\n",
            "Loop is operating. Is n incrementing?\n",
            "Loop is operating. Is n incrementing?\n",
            "Loop is operating. Is n incrementing?\n",
            "Loop is operating. Is n incrementing?\n",
            "Loop is operating. Is n incrementing?\n",
            "Loop is operating. Is n incrementing?\n",
            "Loop is operating. Is n incrementing?\n",
            "Loop is operating. Is n incrementing?\n",
            "Loop is operating. Is n incrementing?\n",
            "Loop is operating. Is n incrementing?\n",
            "Loop is operating. Is n incrementing?\n",
            "Loop is operating. Is n incrementing?\n",
            "Loop is operating. Is n incrementing?\n",
            "Loop is operating. Is n incrementing?\n",
            "Loop is operating. Is n incrementing?\n",
            "Loop is operating. Is n incrementing?\n",
            "Loop is operating. Is n incrementing?\n",
            "Loop is operating. Is n incrementing?\n",
            "Loop is operating. Is n incrementing?\n",
            "Loop is operating. Is n incrementing?\n",
            "Loop is operating. Is n incrementing?\n",
            "Loop is operating. Is n incrementing?\n",
            "Loop is operating. Is n incrementing?\n",
            "Loop is operating. Is n incrementing?\n",
            "Loop is operating. Is n incrementing?\n",
            "Loop is operating. Is n incrementing?\n",
            "Loop is operating. Is n incrementing?\n",
            "Loop is operating. Is n incrementing?\n",
            "Loop is operating. Is n incrementing?\n",
            "Loop is operating. Is n incrementing?\n",
            "Loop is operating. Is n incrementing?\n",
            "Loop is operating. Is n incrementing?\n",
            "Loop is operating. Is n incrementing?\n",
            "Loop is operating. Is n incrementing?\n",
            "Loop is operating. Is n incrementing?\n",
            "Loop is operating. Is n incrementing?\n",
            "Loop is operating. Is n incrementing?\n",
            "Loop is operating. Is n incrementing?\n",
            "Loop is operating. Is n incrementing?\n",
            "Loop is operating. Is n incrementing?\n",
            "Loop is operating. Is n incrementing?\n",
            "Loop is operating. Is n incrementing?\n",
            "Loop is operating. Is n incrementing?\n",
            "Loop is operating. Is n incrementing?\n",
            "Loop is operating. Is n incrementing?\n",
            "Loop is operating. Is n incrementing?\n",
            "Loop is operating. Is n incrementing?\n",
            "Loop is operating. Is n incrementing?\n",
            "Loop is operating. Is n incrementing?\n",
            "Loop is operating. Is n incrementing?\n",
            "Loop is operating. Is n incrementing?\n",
            "Loop is operating. Is n incrementing?\n",
            "Loop is operating. Is n incrementing?\n",
            "Loop is operating. Is n incrementing?\n",
            "Loop is operating. Is n incrementing?\n",
            "Loop is operating. Is n incrementing?\n",
            "Loop is operating. Is n incrementing?\n",
            "Loop is operating. Is n incrementing?\n",
            "Loop is operating. Is n incrementing?\n",
            "Loop is operating. Is n incrementing?\n",
            "Loop is operating. Is n incrementing?\n",
            "Loop is operating. Is n incrementing?\n",
            "Loop is operating. Is n incrementing?\n",
            "Loop is operating. Is n incrementing?\n",
            "Loop is operating. Is n incrementing?\n",
            "Loop is operating. Is n incrementing?\n",
            "Loop is operating. Is n incrementing?\n",
            "Loop is operating. Is n incrementing?\n",
            "Loop is operating. Is n incrementing?\n",
            "Loop is operating. Is n incrementing?\n",
            "Loop is operating. Is n incrementing?\n",
            "Loop is operating. Is n incrementing?\n",
            "Loop is operating. Is n incrementing?\n",
            "Loop is operating. Is n incrementing?\n",
            "Loop is operating. Is n incrementing?\n",
            "Loop is operating. Is n incrementing?\n",
            "Loop is operating. Is n incrementing?\n",
            "Loop is operating. Is n incrementing?\n",
            "Loop is operating. Is n incrementing?\n",
            "Loop is operating. Is n incrementing?\n",
            "Loop is operating. Is n incrementing?\n",
            "Loop is operating. Is n incrementing?\n",
            "Loop is operating. Is n incrementing?\n",
            "Loop is operating. Is n incrementing?\n",
            "Loop is operating. Is n incrementing?\n",
            "Loop is operating. Is n incrementing?\n",
            "Loop is operating. Is n incrementing?\n",
            "Loop is operating. Is n incrementing?\n",
            "Loop is operating. Is n incrementing?\n",
            "Loop is operating. Is n incrementing?\n",
            "Loop is operating. Is n incrementing?\n",
            "Loop is operating. Is n incrementing?\n",
            "Loop is operating. Is n incrementing?\n",
            "Loop is operating. Is n incrementing?\n",
            "Loop is operating. Is n incrementing?\n",
            "Loop is operating. Is n incrementing?\n",
            "Loop is operating. Is n incrementing?\n",
            "Loop is operating. Is n incrementing?\n",
            "Loop is operating. Is n incrementing?\n",
            "Loop is operating. Is n incrementing?\n",
            "Loop is operating. Is n incrementing?\n",
            "Loop is operating. Is n incrementing?\n",
            "Loop is operating. Is n incrementing?\n",
            "Loop is operating. Is n incrementing?\n",
            "Loop is operating. Is n incrementing?\n",
            "Loop is operating. Is n incrementing?\n",
            "Loop is operating. Is n incrementing?\n",
            "Loop is operating. Is n incrementing?\n",
            "Loop is operating. Is n incrementing?\n",
            "Loop is operating. Is n incrementing?\n",
            "Loop is operating. Is n incrementing?\n",
            "Loop is operating. Is n incrementing?\n",
            "Loop is operating. Is n incrementing?\n",
            "Loop is operating. Is n incrementing?\n",
            "Loop is operating. Is n incrementing?\n",
            "Loop is operating. Is n incrementing?\n",
            "Loop is operating. Is n incrementing?\n",
            "Loop is operating. Is n incrementing?\n",
            "Loop is operating. Is n incrementing?\n",
            "Loop is operating. Is n incrementing?\n",
            "Loop is operating. Is n incrementing?\n",
            "Loop is operating. Is n incrementing?\n",
            "Loop is operating. Is n incrementing?\n",
            "Loop is operating. Is n incrementing?\n",
            "Loop is operating. Is n incrementing?\n",
            "Loop is operating. Is n incrementing?\n",
            "Loop is operating. Is n incrementing?\n",
            "Loop is operating. Is n incrementing?\n",
            "Loop is operating. Is n incrementing?\n",
            "Loop is operating. Is n incrementing?\n",
            "Loop is operating. Is n incrementing?\n",
            "Loop is operating. Is n incrementing?\n",
            "Loop is operating. Is n incrementing?\n",
            "Loop is operating. Is n incrementing?\n",
            "Loop is operating. Is n incrementing?\n",
            "Loop is operating. Is n incrementing?\n",
            "Loop is operating. Is n incrementing?\n",
            "Loop is operating. Is n incrementing?\n",
            "Loop is operating. Is n incrementing?\n",
            "Loop is operating. Is n incrementing?\n",
            "Loop is operating. Is n incrementing?\n",
            "Loop is operating. Is n incrementing?\n",
            "Loop is operating. Is n incrementing?\n",
            "Loop is operating. Is n incrementing?\n",
            "Loop is operating. Is n incrementing?\n",
            "Loop is operating. Is n incrementing?\n",
            "Loop is operating. Is n incrementing?\n",
            "Loop is operating. Is n incrementing?\n",
            "Loop is operating. Is n incrementing?\n",
            "Loop is operating. Is n incrementing?\n",
            "Loop is operating. Is n incrementing?\n",
            "Loop is operating. Is n incrementing?\n",
            "Loop is operating. Is n incrementing?\n",
            "Loop is operating. Is n incrementing?\n",
            "Loop is operating. Is n incrementing?\n",
            "Loop is operating. Is n incrementing?\n",
            "Loop is operating. Is n incrementing?\n",
            "Loop is operating. Is n incrementing?\n",
            "Loop is operating. Is n incrementing?\n",
            "Loop is operating. Is n incrementing?\n",
            "Loop is operating. Is n incrementing?\n",
            "Loop is operating. Is n incrementing?\n",
            "Loop is operating. Is n incrementing?\n",
            "Loop is operating. Is n incrementing?\n",
            "Loop is operating. Is n incrementing?\n",
            "Loop is operating. Is n incrementing?\n",
            "Loop is operating. Is n incrementing?\n",
            "Loop is operating. Is n incrementing?\n",
            "Loop is operating. Is n incrementing?\n",
            "Loop is operating. Is n incrementing?\n",
            "Loop is operating. Is n incrementing?\n",
            "Loop is operating. Is n incrementing?\n",
            "Loop is operating. Is n incrementing?\n",
            "Loop is operating. Is n incrementing?\n",
            "Loop is operating. Is n incrementing?\n",
            "Loop is operating. Is n incrementing?\n",
            "Loop is operating. Is n incrementing?\n",
            "Loop is operating. Is n incrementing?\n",
            "Loop is operating. Is n incrementing?\n",
            "Loop is operating. Is n incrementing?\n",
            "Loop is operating. Is n incrementing?\n",
            "Loop is operating. Is n incrementing?\n",
            "Loop is operating. Is n incrementing?\n",
            "Loop is operating. Is n incrementing?\n",
            "Loop is operating. Is n incrementing?\n",
            "Loop is operating. Is n incrementing?\n",
            "Loop is operating. Is n incrementing?\n",
            "Loop is operating. Is n incrementing?\n",
            "Loop is operating. Is n incrementing?\n",
            "Loop is operating. Is n incrementing?\n",
            "Loop is operating. Is n incrementing?\n",
            "Loop is operating. Is n incrementing?\n",
            "Loop is operating. Is n incrementing?\n",
            "Loop is operating. Is n incrementing?\n",
            "Loop is operating. Is n incrementing?\n",
            "Loop is operating. Is n incrementing?\n",
            "Loop is operating. Is n incrementing?\n",
            "Loop is operating. Is n incrementing?\n",
            "Loop is operating. Is n incrementing?\n",
            "Loop is operating. Is n incrementing?\n",
            "Loop is operating. Is n incrementing?\n",
            "Loop is operating. Is n incrementing?\n",
            "Loop is operating. Is n incrementing?\n",
            "Loop is operating. Is n incrementing?\n",
            "Loop is operating. Is n incrementing?\n",
            "Loop is operating. Is n incrementing?\n",
            "Loop is operating. Is n incrementing?\n",
            "Loop is operating. Is n incrementing?\n",
            "Loop is operating. Is n incrementing?\n",
            "Loop is operating. Is n incrementing?\n",
            "Loop is operating. Is n incrementing?\n",
            "Loop is operating. Is n incrementing?\n",
            "Loop is operating. Is n incrementing?\n",
            "Loop is operating. Is n incrementing?\n",
            "Loop is operating. Is n incrementing?\n",
            "Loop is operating. Is n incrementing?\n",
            "Loop is operating. Is n incrementing?\n",
            "Loop is operating. Is n incrementing?\n",
            "Loop is operating. Is n incrementing?\n",
            "Loop is operating. Is n incrementing?\n",
            "Loop is operating. Is n incrementing?\n",
            "Loop is operating. Is n incrementing?\n",
            "Loop is operating. Is n incrementing?\n",
            "Loop is operating. Is n incrementing?\n",
            "Loop is operating. Is n incrementing?\n",
            "Loop is operating. Is n incrementing?\n",
            "Loop is operating. Is n incrementing?\n",
            "Loop is operating. Is n incrementing?\n",
            "Loop is operating. Is n incrementing?\n",
            "Loop is operating. Is n incrementing?\n",
            "Loop is operating. Is n incrementing?\n",
            "Loop is operating. Is n incrementing?\n",
            "Loop is operating. Is n incrementing?\n",
            "Loop is operating. Is n incrementing?\n",
            "Loop is operating. Is n incrementing?\n",
            "Loop is operating. Is n incrementing?\n",
            "Loop is operating. Is n incrementing?\n",
            "Loop is operating. Is n incrementing?\n",
            "Loop is operating. Is n incrementing?\n",
            "Loop is operating. Is n incrementing?\n",
            "Loop is operating. Is n incrementing?\n",
            "Loop is operating. Is n incrementing?\n",
            "Loop is operating. Is n incrementing?\n",
            "Loop is operating. Is n incrementing?\n",
            "Loop is operating. Is n incrementing?\n",
            "Loop is operating. Is n incrementing?\n",
            "Loop is operating. Is n incrementing?\n",
            "Loop is operating. Is n incrementing?\n",
            "Loop is operating. Is n incrementing?\n",
            "Loop is operating. Is n incrementing?\n",
            "Loop is operating. Is n incrementing?\n",
            "Loop is operating. Is n incrementing?\n",
            "Loop is operating. Is n incrementing?\n",
            "Loop is operating. Is n incrementing?\n",
            "Loop is operating. Is n incrementing?\n",
            "Loop is operating. Is n incrementing?\n",
            "Loop is operating. Is n incrementing?\n",
            "Loop is operating. Is n incrementing?\n",
            "Loop is operating. Is n incrementing?\n",
            "Loop is operating. Is n incrementing?\n",
            "Loop is operating. Is n incrementing?\n",
            "Loop is operating. Is n incrementing?\n",
            "Loop is operating. Is n incrementing?\n",
            "Loop is operating. Is n incrementing?\n",
            "Loop is operating. Is n incrementing?\n",
            "Loop is operating. Is n incrementing?\n",
            "Loop is operating. Is n incrementing?\n",
            "Loop is operating. Is n incrementing?\n",
            "Loop is operating. Is n incrementing?\n",
            "Loop is operating. Is n incrementing?\n",
            "Loop is operating. Is n incrementing?\n",
            "Loop is operating. Is n incrementing?\n",
            "Loop is operating. Is n incrementing?\n",
            "Loop is operating. Is n incrementing?\n",
            "Loop is operating. Is n incrementing?\n",
            "Loop is operating. Is n incrementing?\n",
            "Loop is operating. Is n incrementing?\n",
            "Loop is operating. Is n incrementing?\n",
            "Loop is operating. Is n incrementing?\n",
            "Loop is operating. Is n incrementing?\n",
            "Loop is operating. Is n incrementing?\n",
            "Loop is operating. Is n incrementing?\n",
            "Loop is operating. Is n incrementing?\n",
            "Loop is operating. Is n incrementing?\n",
            "Loop is operating. Is n incrementing?\n",
            "Loop is operating. Is n incrementing?\n",
            "Loop is operating. Is n incrementing?\n",
            "Loop is operating. Is n incrementing?\n",
            "Loop is operating. Is n incrementing?\n",
            "Loop is operating. Is n incrementing?\n",
            "Loop is operating. Is n incrementing?\n",
            "Loop is operating. Is n incrementing?\n",
            "Loop is operating. Is n incrementing?\n",
            "Loop is operating. Is n incrementing?\n",
            "Loop is operating. Is n incrementing?\n",
            "Loop is operating. Is n incrementing?\n",
            "Loop is operating. Is n incrementing?\n",
            "Loop is operating. Is n incrementing?\n",
            "Loop is operating. Is n incrementing?\n",
            "Loop is operating. Is n incrementing?\n",
            "Loop is operating. Is n incrementing?\n",
            "Loop is operating. Is n incrementing?\n",
            "Loop is operating. Is n incrementing?\n",
            "Loop is operating. Is n incrementing?\n",
            "Loop is operating. Is n incrementing?\n",
            "Loop is operating. Is n incrementing?\n",
            "Loop is operating. Is n incrementing?\n",
            "Loop is operating. Is n incrementing?\n",
            "Loop is operating. Is n incrementing?\n",
            "Loop is operating. Is n incrementing?\n",
            "Loop is operating. Is n incrementing?\n",
            "Loop is operating. Is n incrementing?\n",
            "Loop is operating. Is n incrementing?\n",
            "Loop is operating. Is n incrementing?\n",
            "Loop is operating. Is n incrementing?\n",
            "Loop is operating. Is n incrementing?\n",
            "Loop is operating. Is n incrementing?\n",
            "Loop is operating. Is n incrementing?\n",
            "Loop is operating. Is n incrementing?\n",
            "Loop is operating. Is n incrementing?\n",
            "Loop is operating. Is n incrementing?\n",
            "Loop is operating. Is n incrementing?\n",
            "Loop is operating. Is n incrementing?\n",
            "Loop is operating. Is n incrementing?\n",
            "Loop is operating. Is n incrementing?\n",
            "Loop is operating. Is n incrementing?\n",
            "Loop is operating. Is n incrementing?\n",
            "Loop is operating. Is n incrementing?\n",
            "Loop is operating. Is n incrementing?\n",
            "Loop is operating. Is n incrementing?\n",
            "Loop is operating. Is n incrementing?\n",
            "Loop is operating. Is n incrementing?\n",
            "Loop is operating. Is n incrementing?\n",
            "Loop is operating. Is n incrementing?\n",
            "Loop is operating. Is n incrementing?\n",
            "Loop is operating. Is n incrementing?\n",
            "Loop is operating. Is n incrementing?\n",
            "Loop is operating. Is n incrementing?\n",
            "Loop is operating. Is n incrementing?\n",
            "Loop is operating. Is n incrementing?\n",
            "Loop is operating. Is n incrementing?\n",
            "Loop is operating. Is n incrementing?\n",
            "Loop is operating. Is n incrementing?\n",
            "Loop is operating. Is n incrementing?\n",
            "Loop is operating. Is n incrementing?\n",
            "Loop is operating. Is n incrementing?\n",
            "Loop is operating. Is n incrementing?\n",
            "Loop is operating. Is n incrementing?\n",
            "Loop is operating. Is n incrementing?\n",
            "Loop is operating. Is n incrementing?\n",
            "Loop is operating. Is n incrementing?\n",
            "Loop is operating. Is n incrementing?\n",
            "Loop is operating. Is n incrementing?\n",
            "Loop is operating. Is n incrementing?\n",
            "Loop is operating. Is n incrementing?\n",
            "Loop is operating. Is n incrementing?\n",
            "Loop is operating. Is n incrementing?\n",
            "Loop is operating. Is n incrementing?\n",
            "Loop is operating. Is n incrementing?\n",
            "Loop is operating. Is n incrementing?\n",
            "Loop is operating. Is n incrementing?\n",
            "Loop is operating. Is n incrementing?\n",
            "Loop is operating. Is n incrementing?\n",
            "Loop is operating. Is n incrementing?\n",
            "Loop is operating. Is n incrementing?\n",
            "Loop is operating. Is n incrementing?\n",
            "Loop is operating. Is n incrementing?\n",
            "Loop is operating. Is n incrementing?\n",
            "Loop is operating. Is n incrementing?\n",
            "Loop is operating. Is n incrementing?\n",
            "Loop is operating. Is n incrementing?\n",
            "Loop is operating. Is n incrementing?\n",
            "Loop is operating. Is n incrementing?\n",
            "Loop is operating. Is n incrementing?\n",
            "Loop is operating. Is n incrementing?\n",
            "Loop is operating. Is n incrementing?\n",
            "Loop is operating. Is n incrementing?\n",
            "Loop is operating. Is n incrementing?\n",
            "Loop is operating. Is n incrementing?\n",
            "Loop is operating. Is n incrementing?\n",
            "Loop is operating. Is n incrementing?\n",
            "Loop is operating. Is n incrementing?\n",
            "Loop is operating. Is n incrementing?\n",
            "Loop is operating. Is n incrementing?\n",
            "Loop is operating. Is n incrementing?\n",
            "Loop is operating. Is n incrementing?\n",
            "Loop is operating. Is n incrementing?\n",
            "Loop is operating. Is n incrementing?\n",
            "Loop is operating. Is n incrementing?\n",
            "Loop is operating. Is n incrementing?\n",
            "Loop is operating. Is n incrementing?\n",
            "Loop is operating. Is n incrementing?\n",
            "Loop is operating. Is n incrementing?\n",
            "Loop is operating. Is n incrementing?\n",
            "Loop is operating. Is n incrementing?\n",
            "Loop is operating. Is n incrementing?\n",
            "Loop is operating. Is n incrementing?\n",
            "Loop is operating. Is n incrementing?\n",
            "Loop is operating. Is n incrementing?\n",
            "Loop is operating. Is n incrementing?\n",
            "Loop is operating. Is n incrementing?\n",
            "Loop is operating. Is n incrementing?\n",
            "Loop is operating. Is n incrementing?\n",
            "Loop is operating. Is n incrementing?\n",
            "Loop is operating. Is n incrementing?\n",
            "Loop is operating. Is n incrementing?\n",
            "Loop is operating. Is n incrementing?\n",
            "Loop is operating. Is n incrementing?\n",
            "Loop is operating. Is n incrementing?\n",
            "Loop is operating. Is n incrementing?\n",
            "Loop is operating. Is n incrementing?\n",
            "Loop is operating. Is n incrementing?\n",
            "Loop is operating. Is n incrementing?\n",
            "Loop is operating. Is n incrementing?\n",
            "Loop is operating. Is n incrementing?\n",
            "Loop is operating. Is n incrementing?\n",
            "Loop is operating. Is n incrementing?\n",
            "Loop is operating. Is n incrementing?\n",
            "Loop is operating. Is n incrementing?\n",
            "Loop is operating. Is n incrementing?\n",
            "Loop is operating. Is n incrementing?\n",
            "Loop is operating. Is n incrementing?\n",
            "Loop is operating. Is n incrementing?\n",
            "Loop is operating. Is n incrementing?\n",
            "Loop is operating. Is n incrementing?\n",
            "Loop is operating. Is n incrementing?\n",
            "Loop is operating. Is n incrementing?\n",
            "Loop is operating. Is n incrementing?\n",
            "Loop is operating. Is n incrementing?\n",
            "Loop is operating. Is n incrementing?\n",
            "Loop is operating. Is n incrementing?\n",
            "Loop is operating. Is n incrementing?\n",
            "Loop is operating. Is n incrementing?\n",
            "Loop is operating. Is n incrementing?\n",
            "Loop is operating. Is n incrementing?\n",
            "Loop is operating. Is n incrementing?\n",
            "Loop is operating. Is n incrementing?\n",
            "Loop is operating. Is n incrementing?\n",
            "Loop is operating. Is n incrementing?\n",
            "Loop is operating. Is n incrementing?\n",
            "Loop is operating. Is n incrementing?\n",
            "Loop is operating. Is n incrementing?\n",
            "Loop is operating. Is n incrementing?\n",
            "Loop is operating. Is n incrementing?\n",
            "Loop is operating. Is n incrementing?\n",
            "Loop is operating. Is n incrementing?\n",
            "Loop is operating. Is n incrementing?\n",
            "Loop is operating. Is n incrementing?\n",
            "Loop is operating. Is n incrementing?\n",
            "Loop is operating. Is n incrementing?\n",
            "Loop is operating. Is n incrementing?\n",
            "Loop is operating. Is n incrementing?\n",
            "Loop is operating. Is n incrementing?\n",
            "Loop is operating. Is n incrementing?\n",
            "Loop is operating. Is n incrementing?\n",
            "Loop is operating. Is n incrementing?\n",
            "Loop is operating. Is n incrementing?\n",
            "Loop is operating. Is n incrementing?\n",
            "Loop is operating. Is n incrementing?\n",
            "Loop is operating. Is n incrementing?\n",
            "Loop is operating. Is n incrementing?\n",
            "Loop is operating. Is n incrementing?\n",
            "Loop is operating. Is n incrementing?\n",
            "Loop is operating. Is n incrementing?\n",
            "Loop is operating. Is n incrementing?\n",
            "Loop is operating. Is n incrementing?\n",
            "Loop is operating. Is n incrementing?\n",
            "Loop is operating. Is n incrementing?\n",
            "Loop is operating. Is n incrementing?\n",
            "Loop is operating. Is n incrementing?\n",
            "Loop is operating. Is n incrementing?\n",
            "Loop is operating. Is n incrementing?\n",
            "Loop is operating. Is n incrementing?\n",
            "Loop is operating. Is n incrementing?\n",
            "Loop is operating. Is n incrementing?\n",
            "Loop is operating. Is n incrementing?\n",
            "Loop is operating. Is n incrementing?\n",
            "Loop is operating. Is n incrementing?\n",
            "Loop is operating. Is n incrementing?\n",
            "Loop is operating. Is n incrementing?\n",
            "Loop is operating. Is n incrementing?\n",
            "Loop is operating. Is n incrementing?\n",
            "Loop is operating. Is n incrementing?\n",
            "Loop is operating. Is n incrementing?\n",
            "Loop is operating. Is n incrementing?\n",
            "Loop is operating. Is n incrementing?\n",
            "Loop is operating. Is n incrementing?\n",
            "Loop is operating. Is n incrementing?\n",
            "Loop is operating. Is n incrementing?\n",
            "Loop is operating. Is n incrementing?\n",
            "Loop is operating. Is n incrementing?\n",
            "Loop is operating. Is n incrementing?\n",
            "Loop is operating. Is n incrementing?\n",
            "Loop is operating. Is n incrementing?\n",
            "Loop is operating. Is n incrementing?\n",
            "Loop is operating. Is n incrementing?\n",
            "Loop is operating. Is n incrementing?\n",
            "Loop is operating. Is n incrementing?\n",
            "Loop is operating. Is n incrementing?\n",
            "Loop is operating. Is n incrementing?\n",
            "Loop is operating. Is n incrementing?\n",
            "Loop is operating. Is n incrementing?\n",
            "Loop is operating. Is n incrementing?\n",
            "Loop is operating. Is n incrementing?\n",
            "Loop is operating. Is n incrementing?\n",
            "Loop is operating. Is n incrementing?\n",
            "Loop is operating. Is n incrementing?\n",
            "Loop is operating. Is n incrementing?\n",
            "Loop is operating. Is n incrementing?\n",
            "Loop is operating. Is n incrementing?\n",
            "Loop is operating. Is n incrementing?\n",
            "Loop is operating. Is n incrementing?\n",
            "Loop is operating. Is n incrementing?\n",
            "Loop is operating. Is n incrementing?\n",
            "Loop is operating. Is n incrementing?\n",
            "Loop is operating. Is n incrementing?\n",
            "Loop is operating. Is n incrementing?\n",
            "Loop is operating. Is n incrementing?\n",
            "Loop is operating. Is n incrementing?\n",
            "Loop is operating. Is n incrementing?\n",
            "Loop is operating. Is n incrementing?\n",
            "Loop is operating. Is n incrementing?\n",
            "Loop is operating. Is n incrementing?\n",
            "Loop is operating. Is n incrementing?\n",
            "Loop is operating. Is n incrementing?\n",
            "Loop is operating. Is n incrementing?\n",
            "Loop is operating. Is n incrementing?\n",
            "Loop is operating. Is n incrementing?\n",
            "Loop is operating. Is n incrementing?\n",
            "Loop is operating. Is n incrementing?\n",
            "Loop is operating. Is n incrementing?\n",
            "Loop is operating. Is n incrementing?\n",
            "Loop is operating. Is n incrementing?\n",
            "Loop is operating. Is n incrementing?\n",
            "Loop is operating. Is n incrementing?\n",
            "Loop is operating. Is n incrementing?\n",
            "Loop is operating. Is n incrementing?\n",
            "Loop is operating. Is n incrementing?\n",
            "Loop is operating. Is n incrementing?\n",
            "Loop is operating. Is n incrementing?\n",
            "Loop is operating. Is n incrementing?\n",
            "Loop is operating. Is n incrementing?\n",
            "Loop is operating. Is n incrementing?\n",
            "Loop is operating. Is n incrementing?\n",
            "Loop is operating. Is n incrementing?\n",
            "Loop is operating. Is n incrementing?\n",
            "Loop is operating. Is n incrementing?\n",
            "Loop is operating. Is n incrementing?\n",
            "Loop is operating. Is n incrementing?\n",
            "Loop is operating. Is n incrementing?\n",
            "Loop is operating. Is n incrementing?\n",
            "Loop is operating. Is n incrementing?\n",
            "Loop is operating. Is n incrementing?\n",
            "Loop is operating. Is n incrementing?\n",
            "Loop is operating. Is n incrementing?\n",
            "Loop is operating. Is n incrementing?\n",
            "Loop is operating. Is n incrementing?\n",
            "Loop is operating. Is n incrementing?\n",
            "Loop is operating. Is n incrementing?\n",
            "Loop is operating. Is n incrementing?\n",
            "Loop is operating. Is n incrementing?\n",
            "Loop is operating. Is n incrementing?\n",
            "Loop is operating. Is n incrementing?\n",
            "Loop is operating. Is n incrementing?\n",
            "Loop is operating. Is n incrementing?\n",
            "Loop is operating. Is n incrementing?\n",
            "Loop is operating. Is n incrementing?\n",
            "Loop is operating. Is n incrementing?\n",
            "Loop is operating. Is n incrementing?\n",
            "Loop is operating. Is n incrementing?\n",
            "Loop is operating. Is n incrementing?\n",
            "Loop is operating. Is n incrementing?\n",
            "Loop is operating. Is n incrementing?\n",
            "Loop is operating. Is n incrementing?\n",
            "Loop is operating. Is n incrementing?\n",
            "Loop is operating. Is n incrementing?\n",
            "Loop is operating. Is n incrementing?\n",
            "Loop is operating. Is n incrementing?\n",
            "Loop is operating. Is n incrementing?\n",
            "Loop is operating. Is n incrementing?\n",
            "Loop is operating. Is n incrementing?\n",
            "Loop is operating. Is n incrementing?\n",
            "Loop is operating. Is n incrementing?\n",
            "Loop is operating. Is n incrementing?\n",
            "Loop is operating. Is n incrementing?\n",
            "Loop is operating. Is n incrementing?\n",
            "Loop is operating. Is n incrementing?\n",
            "Loop is operating. Is n incrementing?\n",
            "Loop is operating. Is n incrementing?\n",
            "Loop is operating. Is n incrementing?\n",
            "Loop is operating. Is n incrementing?\n",
            "Loop is operating. Is n incrementing?\n",
            "Loop is operating. Is n incrementing?\n",
            "Loop is operating. Is n incrementing?\n",
            "Loop is operating. Is n incrementing?\n",
            "Loop is operating. Is n incrementing?\n",
            "Loop is operating. Is n incrementing?\n",
            "Loop is operating. Is n incrementing?\n",
            "Loop is operating. Is n incrementing?\n",
            "Loop is operating. Is n incrementing?\n",
            "Loop is operating. Is n incrementing?\n",
            "Loop is operating. Is n incrementing?\n",
            "Loop is operating. Is n incrementing?\n",
            "Loop is operating. Is n incrementing?\n",
            "Loop is operating. Is n incrementing?\n",
            "Loop is operating. Is n incrementing?\n",
            "Loop is operating. Is n incrementing?\n",
            "Loop is operating. Is n incrementing?\n",
            "Loop is operating. Is n incrementing?\n",
            "Loop is operating. Is n incrementing?\n",
            "Loop is operating. Is n incrementing?\n",
            "Loop is operating. Is n incrementing?\n",
            "Loop is operating. Is n incrementing?\n",
            "Loop is operating. Is n incrementing?\n",
            "Loop is operating. Is n incrementing?\n",
            "Loop is operating. Is n incrementing?\n",
            "Loop is operating. Is n incrementing?\n",
            "Loop is operating. Is n incrementing?\n",
            "Loop is operating. Is n incrementing?\n",
            "Loop is operating. Is n incrementing?\n",
            "Loop is operating. Is n incrementing?\n",
            "Loop is operating. Is n incrementing?\n",
            "Loop is operating. Is n incrementing?\n",
            "Loop is operating. Is n incrementing?\n",
            "Loop is operating. Is n incrementing?\n",
            "Loop is operating. Is n incrementing?\n",
            "Loop is operating. Is n incrementing?\n",
            "Loop is operating. Is n incrementing?\n",
            "Loop is operating. Is n incrementing?\n",
            "Loop is operating. Is n incrementing?\n",
            "Loop is operating. Is n incrementing?\n",
            "Loop is operating. Is n incrementing?\n",
            "Loop is operating. Is n incrementing?\n",
            "Loop is operating. Is n incrementing?\n",
            "Loop is operating. Is n incrementing?\n",
            "Loop is operating. Is n incrementing?\n",
            "Loop is operating. Is n incrementing?\n",
            "Loop is operating. Is n incrementing?\n",
            "Loop is operating. Is n incrementing?\n",
            "Loop is operating. Is n incrementing?\n",
            "Loop is operating. Is n incrementing?\n",
            "Loop is operating. Is n incrementing?\n",
            "Loop is operating. Is n incrementing?\n",
            "Loop is operating. Is n incrementing?\n",
            "Loop is operating. Is n incrementing?\n",
            "Loop is operating. Is n incrementing?\n",
            "Loop is operating. Is n incrementing?\n",
            "Loop is operating. Is n incrementing?\n",
            "Loop is operating. Is n incrementing?\n",
            "Loop is operating. Is n incrementing?\n",
            "Loop is operating. Is n incrementing?\n",
            "Loop is operating. Is n incrementing?\n",
            "Loop is operating. Is n incrementing?\n",
            "Loop is operating. Is n incrementing?\n",
            "Loop is operating. Is n incrementing?\n",
            "Loop is operating. Is n incrementing?\n",
            "Loop is operating. Is n incrementing?\n",
            "Loop is operating. Is n incrementing?\n",
            "Loop is operating. Is n incrementing?\n",
            "Loop is operating. Is n incrementing?\n",
            "Loop is operating. Is n incrementing?\n",
            "Loop is operating. Is n incrementing?\n",
            "Loop is operating. Is n incrementing?\n",
            "Loop is operating. Is n incrementing?\n",
            "Loop is operating. Is n incrementing?\n",
            "Loop is operating. Is n incrementing?\n",
            "Loop is operating. Is n incrementing?\n",
            "Loop is operating. Is n incrementing?\n",
            "Loop is operating. Is n incrementing?\n",
            "Loop is operating. Is n incrementing?\n",
            "Loop is operating. Is n incrementing?\n",
            "Loop is operating. Is n incrementing?\n",
            "Loop is operating. Is n incrementing?\n",
            "Loop is operating. Is n incrementing?\n",
            "Loop is operating. Is n incrementing?\n",
            "Loop is operating. Is n incrementing?\n",
            "Loop is operating. Is n incrementing?\n",
            "Loop is operating. Is n incrementing?\n",
            "Loop is operating. Is n incrementing?\n",
            "Loop is operating. Is n incrementing?\n",
            "Loop is operating. Is n incrementing?\n",
            "Loop is operating. Is n incrementing?\n",
            "Loop is operating. Is n incrementing?\n",
            "Loop is operating. Is n incrementing?\n",
            "Loop is operating. Is n incrementing?\n",
            "Loop is operating. Is n incrementing?\n",
            "Loop is operating. Is n incrementing?\n",
            "Loop is operating. Is n incrementing?\n",
            "Loop is operating. Is n incrementing?\n",
            "Loop is operating. Is n incrementing?\n",
            "Loop is operating. Is n incrementing?\n",
            "Loop is operating. Is n incrementing?\n",
            "Loop is operating. Is n incrementing?\n",
            "Loop is operating. Is n incrementing?\n",
            "Loop is operating. Is n incrementing?\n",
            "Loop is operating. Is n incrementing?\n",
            "Loop is operating. Is n incrementing?\n",
            "Loop is operating. Is n incrementing?\n",
            "Loop is operating. Is n incrementing?\n",
            "Loop is operating. Is n incrementing?\n",
            "Loop is operating. Is n incrementing?\n",
            "Loop is operating. Is n incrementing?\n",
            "Loop is operating. Is n incrementing?\n",
            "Loop is operating. Is n incrementing?\n",
            "Loop is operating. Is n incrementing?\n",
            "Loop is operating. Is n incrementing?\n",
            "Loop is operating. Is n incrementing?\n",
            "Loop is operating. Is n incrementing?\n",
            "Loop is operating. Is n incrementing?\n",
            "Loop is operating. Is n incrementing?\n",
            "Loop is operating. Is n incrementing?\n",
            "Loop is operating. Is n incrementing?\n",
            "Loop is operating. Is n incrementing?\n",
            "Loop is operating. Is n incrementing?\n",
            "Loop is operating. Is n incrementing?\n",
            "Loop is operating. Is n incrementing?\n",
            "Loop is operating. Is n incrementing?\n",
            "Loop is operating. Is n incrementing?\n",
            "Loop is operating. Is n incrementing?\n",
            "Loop is operating. Is n incrementing?\n",
            "Loop is operating. Is n incrementing?\n",
            "Loop is operating. Is n incrementing?\n",
            "Loop is operating. Is n incrementing?\n",
            "Loop is operating. Is n incrementing?\n",
            "Loop is operating. Is n incrementing?\n",
            "Loop is operating. Is n incrementing?\n",
            "Loop is operating. Is n incrementing?\n",
            "Loop is operating. Is n incrementing?\n",
            "Loop is operating. Is n incrementing?\n",
            "Loop is operating. Is n incrementing?\n",
            "Loop is operating. Is n incrementing?\n",
            "Loop is operating. Is n incrementing?\n",
            "Loop is operating. Is n incrementing?\n",
            "Loop is operating. Is n incrementing?\n",
            "Loop is operating. Is n incrementing?\n",
            "Loop is operating. Is n incrementing?\n",
            "Loop is operating. Is n incrementing?\n",
            "Loop is operating. Is n incrementing?\n",
            "Loop is operating. Is n incrementing?\n",
            "Loop is operating. Is n incrementing?\n",
            "Loop is operating. Is n incrementing?\n",
            "Loop is operating. Is n incrementing?\n",
            "Loop is operating. Is n incrementing?\n",
            "Loop is operating. Is n incrementing?\n",
            "Loop is operating. Is n incrementing?\n",
            "Loop is operating. Is n incrementing?\n",
            "Loop is operating. Is n incrementing?\n",
            "Loop is operating. Is n incrementing?\n",
            "Loop is operating. Is n incrementing?\n",
            "Loop is operating. Is n incrementing?\n",
            "Loop is operating. Is n incrementing?\n",
            "Loop is operating. Is n incrementing?\n",
            "Loop is operating. Is n incrementing?\n",
            "Loop is operating. Is n incrementing?\n",
            "Loop is operating. Is n incrementing?\n",
            "Loop is operating. Is n incrementing?\n",
            "Loop is operating. Is n incrementing?\n",
            "Loop is operating. Is n incrementing?\n",
            "Loop is operating. Is n incrementing?\n",
            "Loop is operating. Is n incrementing?\n",
            "Loop is operating. Is n incrementing?\n",
            "Loop is operating. Is n incrementing?\n",
            "Loop is operating. Is n incrementing?\n",
            "Loop is operating. Is n incrementing?\n",
            "Loop is operating. Is n incrementing?\n",
            "Loop is operating. Is n incrementing?\n",
            "Loop is operating. Is n incrementing?\n",
            "Loop is operating. Is n incrementing?\n",
            "Loop is operating. Is n incrementing?\n",
            "Loop is operating. Is n incrementing?\n",
            "Loop is operating. Is n incrementing?\n",
            "Loop is operating. Is n incrementing?\n",
            "Loop is operating. Is n incrementing?\n",
            "Loop is operating. Is n incrementing?\n",
            "Loop is operating. Is n incrementing?\n",
            "Loop is operating. Is n incrementing?\n",
            "Loop is operating. Is n incrementing?\n",
            "Loop is operating. Is n incrementing?\n",
            "Loop is operating. Is n incrementing?\n",
            "Loop is operating. Is n incrementing?\n",
            "Loop is operating. Is n incrementing?\n",
            "Loop is operating. Is n incrementing?\n",
            "Loop is operating. Is n incrementing?\n",
            "Loop is operating. Is n incrementing?\n",
            "Loop is operating. Is n incrementing?\n",
            "Loop is operating. Is n incrementing?\n",
            "Loop is operating. Is n incrementing?\n",
            "Loop is operating. Is n incrementing?\n",
            "Loop is operating. Is n incrementing?\n",
            "Loop is operating. Is n incrementing?\n",
            "Loop is operating. Is n incrementing?\n",
            "Loop is operating. Is n incrementing?\n",
            "Loop is operating. Is n incrementing?\n",
            "Loop is operating. Is n incrementing?\n",
            "Loop is operating. Is n incrementing?\n",
            "Loop is operating. Is n incrementing?\n",
            "Loop is operating. Is n incrementing?\n",
            "Loop is operating. Is n incrementing?\n",
            "Loop is operating. Is n incrementing?\n",
            "Loop is operating. Is n incrementing?\n",
            "Loop is operating. Is n incrementing?\n",
            "Loop is operating. Is n incrementing?\n",
            "Loop is operating. Is n incrementing?\n",
            "Loop is operating. Is n incrementing?\n",
            "Loop is operating. Is n incrementing?\n",
            "Loop is operating. Is n incrementing?\n",
            "Loop is operating. Is n incrementing?\n",
            "Loop is operating. Is n incrementing?\n",
            "Loop is operating. Is n incrementing?\n",
            "Loop is operating. Is n incrementing?\n",
            "Loop is operating. Is n incrementing?\n",
            "Loop is operating. Is n incrementing?\n",
            "Loop is operating. Is n incrementing?\n",
            "Loop is operating. Is n incrementing?\n",
            "Loop is operating. Is n incrementing?\n",
            "Loop is operating. Is n incrementing?\n",
            "Loop is operating. Is n incrementing?\n",
            "Loop is operating. Is n incrementing?\n",
            "Loop is operating. Is n incrementing?\n",
            "Loop is operating. Is n incrementing?\n",
            "Loop is operating. Is n incrementing?\n",
            "Loop is operating. Is n incrementing?\n",
            "Loop is operating. Is n incrementing?\n",
            "Loop is operating. Is n incrementing?\n",
            "Loop is operating. Is n incrementing?\n",
            "Loop is operating. Is n incrementing?\n",
            "Loop is operating. Is n incrementing?\n",
            "Loop is operating. Is n incrementing?\n",
            "Loop is operating. Is n incrementing?\n",
            "Loop is operating. Is n incrementing?\n",
            "Loop is operating. Is n incrementing?\n",
            "Loop is operating. Is n incrementing?\n",
            "Loop is operating. Is n incrementing?\n",
            "Loop is operating. Is n incrementing?\n",
            "Loop is operating. Is n incrementing?\n",
            "Loop is operating. Is n incrementing?\n",
            "Loop is operating. Is n incrementing?\n",
            "Loop is operating. Is n incrementing?\n",
            "Loop is operating. Is n incrementing?\n",
            "Loop is operating. Is n incrementing?\n",
            "Loop is operating. Is n incrementing?\n",
            "Loop is operating. Is n incrementing?\n",
            "Loop is operating. Is n incrementing?\n",
            "Loop is operating. Is n incrementing?\n",
            "Loop is operating. Is n incrementing?\n",
            "Loop is operating. Is n incrementing?\n",
            "Loop is operating. Is n incrementing?\n",
            "Loop is operating. Is n incrementing?\n",
            "Loop is operating. Is n incrementing?\n",
            "Loop is operating. Is n incrementing?\n",
            "Loop is operating. Is n incrementing?\n",
            "Loop is operating. Is n incrementing?\n",
            "Loop is operating. Is n incrementing?\n",
            "Loop is operating. Is n incrementing?\n",
            "Loop is operating. Is n incrementing?\n",
            "Loop is operating. Is n incrementing?\n",
            "Loop is operating. Is n incrementing?\n",
            "Loop is operating. Is n incrementing?\n",
            "Loop is operating. Is n incrementing?\n",
            "Loop is operating. Is n incrementing?\n",
            "Loop is operating. Is n incrementing?\n",
            "Loop is operating. Is n incrementing?\n",
            "Loop is operating. Is n incrementing?\n",
            "Loop is operating. Is n incrementing?\n",
            "Loop is operating. Is n incrementing?\n",
            "Loop is operating. Is n incrementing?\n",
            "Loop is operating. Is n incrementing?\n",
            "Loop is operating. Is n incrementing?\n",
            "Loop is operating. Is n incrementing?\n",
            "Loop is operating. Is n incrementing?\n",
            "Loop is operating. Is n incrementing?\n",
            "Loop is operating. Is n incrementing?\n",
            "Loop is operating. Is n incrementing?\n",
            "Loop is operating. Is n incrementing?\n",
            "Loop is operating. Is n incrementing?\n",
            "Loop is operating. Is n incrementing?\n",
            "Loop is operating. Is n incrementing?\n",
            "Loop is operating. Is n incrementing?\n",
            "Loop is operating. Is n incrementing?\n",
            "Loop is operating. Is n incrementing?\n",
            "Loop is operating. Is n incrementing?\n",
            "Loop is operating. Is n incrementing?\n",
            "Loop is operating. Is n incrementing?\n",
            "Loop is operating. Is n incrementing?\n",
            "Loop is operating. Is n incrementing?\n",
            "Loop is operating. Is n incrementing?\n",
            "Loop is operating. Is n incrementing?\n",
            "Loop is operating. Is n incrementing?\n",
            "Loop is operating. Is n incrementing?\n",
            "Loop is operating. Is n incrementing?\n",
            "Loop is operating. Is n incrementing?\n",
            "Loop is operating. Is n incrementing?\n",
            "Loop is operating. Is n incrementing?\n",
            "Loop is operating. Is n incrementing?\n",
            "Loop is operating. Is n incrementing?\n",
            "Loop is operating. Is n incrementing?\n",
            "Loop is operating. Is n incrementing?\n",
            "Loop is operating. Is n incrementing?\n",
            "Loop is operating. Is n incrementing?\n",
            "Loop is operating. Is n incrementing?\n",
            "Loop is operating. Is n incrementing?\n",
            "Loop is operating. Is n incrementing?\n",
            "Loop is operating. Is n incrementing?\n",
            "Loop is operating. Is n incrementing?\n",
            "Loop is operating. Is n incrementing?\n",
            "Loop is operating. Is n incrementing?\n",
            "Loop is operating. Is n incrementing?\n",
            "Loop is operating. Is n incrementing?\n",
            "Loop is operating. Is n incrementing?\n",
            "Loop is operating. Is n incrementing?\n",
            "Loop is operating. Is n incrementing?\n",
            "Loop is operating. Is n incrementing?\n",
            "Loop is operating. Is n incrementing?\n",
            "Loop is operating. Is n incrementing?\n",
            "Loop is operating. Is n incrementing?\n",
            "Loop is operating. Is n incrementing?\n",
            "Loop is operating. Is n incrementing?\n",
            "Loop is operating. Is n incrementing?\n",
            "Loop is operating. Is n incrementing?\n",
            "Loop is operating. Is n incrementing?\n",
            "Loop is operating. Is n incrementing?\n",
            "Loop is operating. Is n incrementing?\n",
            "Loop is operating. Is n incrementing?\n",
            "Loop is operating. Is n incrementing?\n",
            "Loop is operating. Is n incrementing?\n",
            "Loop is operating. Is n incrementing?\n",
            "Loop is operating. Is n incrementing?\n",
            "Loop is operating. Is n incrementing?\n",
            "Loop is operating. Is n incrementing?\n",
            "Loop is operating. Is n incrementing?\n",
            "Loop is operating. Is n incrementing?\n",
            "Loop is operating. Is n incrementing?\n",
            "Loop is operating. Is n incrementing?\n",
            "Loop is operating. Is n incrementing?\n",
            "Loop is operating. Is n incrementing?\n",
            "Loop is operating. Is n incrementing?\n",
            "Loop is operating. Is n incrementing?\n",
            "Loop is operating. Is n incrementing?\n",
            "Loop is operating. Is n incrementing?\n",
            "Loop is operating. Is n incrementing?\n",
            "Loop is operating. Is n incrementing?\n",
            "Loop is operating. Is n incrementing?\n",
            "Loop is operating. Is n incrementing?\n",
            "Loop is operating. Is n incrementing?\n",
            "Loop is operating. Is n incrementing?\n",
            "Loop is operating. Is n incrementing?\n",
            "Loop is operating. Is n incrementing?\n",
            "Loop is operating. Is n incrementing?\n",
            "Loop is operating. Is n incrementing?\n",
            "Loop is operating. Is n incrementing?\n",
            "Loop is operating. Is n incrementing?\n",
            "Loop is operating. Is n incrementing?\n",
            "Loop is operating. Is n incrementing?\n",
            "Loop is operating. Is n incrementing?\n",
            "Loop is operating. Is n incrementing?\n",
            "Loop is operating. Is n incrementing?\n",
            "Loop is operating. Is n incrementing?\n",
            "Loop is operating. Is n incrementing?\n",
            "Loop is operating. Is n incrementing?\n",
            "Loop is operating. Is n incrementing?\n",
            "Loop is operating. Is n incrementing?\n",
            "Loop is operating. Is n incrementing?\n",
            "Loop is operating. Is n incrementing?\n",
            "Loop is operating. Is n incrementing?\n",
            "Loop is operating. Is n incrementing?\n",
            "Loop is operating. Is n incrementing?\n",
            "Loop is operating. Is n incrementing?\n",
            "Loop is operating. Is n incrementing?\n",
            "Loop is operating. Is n incrementing?\n",
            "Loop is operating. Is n incrementing?\n",
            "Loop is operating. Is n incrementing?\n",
            "Loop is operating. Is n incrementing?\n",
            "Loop is operating. Is n incrementing?\n",
            "Loop is operating. Is n incrementing?\n",
            "Loop is operating. Is n incrementing?\n",
            "Loop is operating. Is n incrementing?\n",
            "Loop is operating. Is n incrementing?\n",
            "Loop is operating. Is n incrementing?\n",
            "Loop is operating. Is n incrementing?\n",
            "Loop is operating. Is n incrementing?\n",
            "Loop is operating. Is n incrementing?\n",
            "Loop is operating. Is n incrementing?\n",
            "Loop is operating. Is n incrementing?\n",
            "Loop is operating. Is n incrementing?\n",
            "Loop is operating. Is n incrementing?\n",
            "Loop is operating. Is n incrementing?\n",
            "Loop is operating. Is n incrementing?\n",
            "Loop is operating. Is n incrementing?\n",
            "Loop is operating. Is n incrementing?\n",
            "Loop is operating. Is n incrementing?\n",
            "Loop is operating. Is n incrementing?\n",
            "Loop is operating. Is n incrementing?\n",
            "Loop is operating. Is n incrementing?\n",
            "Loop is operating. Is n incrementing?\n",
            "Loop is operating. Is n incrementing?\n",
            "Loop is operating. Is n incrementing?\n",
            "Loop is operating. Is n incrementing?\n",
            "Loop is operating. Is n incrementing?\n",
            "Loop is operating. Is n incrementing?\n",
            "Loop is operating. Is n incrementing?\n",
            "Loop is operating. Is n incrementing?\n",
            "Loop is operating. Is n incrementing?\n",
            "Loop is operating. Is n incrementing?\n",
            "Loop is operating. Is n incrementing?\n",
            "Loop is operating. Is n incrementing?\n",
            "Loop is operating. Is n incrementing?\n",
            "Loop is operating. Is n incrementing?\n",
            "Loop is operating. Is n incrementing?\n",
            "Loop is operating. Is n incrementing?\n",
            "Loop is operating. Is n incrementing?\n",
            "Loop is operating. Is n incrementing?\n",
            "Loop is operating. Is n incrementing?\n",
            "Loop is operating. Is n incrementing?\n",
            "Loop is operating. Is n incrementing?\n",
            "Loop is operating. Is n incrementing?\n",
            "Loop is operating. Is n incrementing?\n",
            "Loop is operating. Is n incrementing?\n",
            "Loop is operating. Is n incrementing?\n",
            "Loop is operating. Is n incrementing?\n",
            "Loop is operating. Is n incrementing?\n",
            "Loop is operating. Is n incrementing?\n",
            "Loop is operating. Is n incrementing?\n",
            "Loop is operating. Is n incrementing?\n",
            "Loop is operating. Is n incrementing?\n",
            "Loop is operating. Is n incrementing?\n",
            "Loop is operating. Is n incrementing?\n",
            "Loop is operating. Is n incrementing?\n",
            "Loop is operating. Is n incrementing?\n",
            "Loop is operating. Is n incrementing?\n",
            "Loop is operating. Is n incrementing?\n",
            "Loop is operating. Is n incrementing?\n",
            "Loop is operating. Is n incrementing?\n",
            "Loop is operating. Is n incrementing?\n",
            "Loop is operating. Is n incrementing?\n",
            "Loop is operating. Is n incrementing?\n",
            "Loop is operating. Is n incrementing?\n",
            "Loop is operating. Is n incrementing?\n",
            "Loop is operating. Is n incrementing?\n",
            "Loop is operating. Is n incrementing?\n",
            "Loop is operating. Is n incrementing?\n",
            "Loop is operating. Is n incrementing?\n",
            "Loop is operating. Is n incrementing?\n",
            "Loop is operating. Is n incrementing?\n",
            "Loop is operating. Is n incrementing?\n",
            "Loop is operating. Is n incrementing?\n",
            "Loop is operating. Is n incrementing?\n",
            "Loop is operating. Is n incrementing?\n",
            "Loop is operating. Is n incrementing?\n",
            "Loop is operating. Is n incrementing?\n",
            "Loop is operating. Is n incrementing?\n",
            "Loop is operating. Is n incrementing?\n",
            "Loop is operating. Is n incrementing?\n",
            "Loop is operating. Is n incrementing?\n",
            "Loop is operating. Is n incrementing?\n",
            "Loop is operating. Is n incrementing?\n",
            "Loop is operating. Is n incrementing?\n",
            "Loop is operating. Is n incrementing?\n",
            "Loop is operating. Is n incrementing?\n",
            "Loop is operating. Is n incrementing?\n",
            "Loop is operating. Is n incrementing?\n",
            "Loop is operating. Is n incrementing?\n",
            "Loop is operating. Is n incrementing?\n",
            "Loop is operating. Is n incrementing?\n",
            "Loop is operating. Is n incrementing?\n",
            "Loop is operating. Is n incrementing?\n",
            "Loop is operating. Is n incrementing?\n",
            "Loop is operating. Is n incrementing?\n",
            "Loop is operating. Is n incrementing?\n",
            "Loop is operating. Is n incrementing?\n",
            "Loop is operating. Is n incrementing?\n",
            "Loop is operating. Is n incrementing?\n",
            "Loop is operating. Is n incrementing?\n",
            "Loop is operating. Is n incrementing?\n",
            "Loop is operating. Is n incrementing?\n",
            "Loop is operating. Is n incrementing?\n",
            "Loop is operating. Is n incrementing?\n",
            "Loop is operating. Is n incrementing?\n",
            "Loop is operating. Is n incrementing?\n",
            "Loop is operating. Is n incrementing?\n",
            "Loop is operating. Is n incrementing?\n",
            "Loop is operating. Is n incrementing?\n",
            "Loop is operating. Is n incrementing?\n",
            "Loop is operating. Is n incrementing?\n",
            "Loop is operating. Is n incrementing?\n",
            "Loop is operating. Is n incrementing?\n",
            "Loop is operating. Is n incrementing?\n",
            "Loop is operating. Is n incrementing?\n",
            "Loop is operating. Is n incrementing?\n",
            "Loop is operating. Is n incrementing?\n",
            "Loop is operating. Is n incrementing?\n",
            "Loop is operating. Is n incrementing?\n",
            "Loop is operating. Is n incrementing?\n",
            "Loop is operating. Is n incrementing?\n",
            "Loop is operating. Is n incrementing?\n",
            "Loop is operating. Is n incrementing?\n",
            "Loop is operating. Is n incrementing?\n",
            "Loop is operating. Is n incrementing?\n",
            "Loop is operating. Is n incrementing?\n",
            "Loop is operating. Is n incrementing?\n",
            "Loop is operating. Is n incrementing?\n",
            "Loop is operating. Is n incrementing?\n",
            "Loop is operating. Is n incrementing?\n",
            "Loop is operating. Is n incrementing?\n",
            "Loop is operating. Is n incrementing?\n",
            "Loop is operating. Is n incrementing?\n",
            "Loop is operating. Is n incrementing?\n",
            "Loop is operating. Is n incrementing?\n",
            "Loop is operating. Is n incrementing?\n",
            "Loop is operating. Is n incrementing?\n",
            "Loop is operating. Is n incrementing?\n",
            "Loop is operating. Is n incrementing?\n",
            "Loop is operating. Is n incrementing?\n",
            "Loop is operating. Is n incrementing?\n",
            "Loop is operating. Is n incrementing?\n",
            "Loop is operating. Is n incrementing?\n",
            "Loop is operating. Is n incrementing?\n",
            "Loop is operating. Is n incrementing?\n",
            "Loop is operating. Is n incrementing?\n",
            "Loop is operating. Is n incrementing?\n",
            "Loop is operating. Is n incrementing?\n",
            "Loop is operating. Is n incrementing?\n",
            "Loop is operating. Is n incrementing?\n",
            "Loop is operating. Is n incrementing?\n",
            "Loop is operating. Is n incrementing?\n",
            "Loop is operating. Is n incrementing?\n",
            "Loop is operating. Is n incrementing?\n",
            "Loop is operating. Is n incrementing?\n",
            "Loop is operating. Is n incrementing?\n",
            "Loop is operating. Is n incrementing?\n",
            "Loop is operating. Is n incrementing?\n",
            "Loop is operating. Is n incrementing?\n",
            "Loop is operating. Is n incrementing?\n",
            "Loop is operating. Is n incrementing?\n",
            "Loop is operating. Is n incrementing?\n",
            "Loop is operating. Is n incrementing?\n",
            "Loop is operating. Is n incrementing?\n",
            "Loop is operating. Is n incrementing?\n",
            "Loop is operating. Is n incrementing?\n",
            "Loop is operating. Is n incrementing?\n",
            "Loop is operating. Is n incrementing?\n",
            "Loop is operating. Is n incrementing?\n",
            "Loop is operating. Is n incrementing?\n",
            "Loop is operating. Is n incrementing?\n",
            "Loop is operating. Is n incrementing?\n",
            "Loop is operating. Is n incrementing?\n",
            "Loop is operating. Is n incrementing?\n",
            "Loop is operating. Is n incrementing?\n",
            "Loop is operating. Is n incrementing?\n",
            "Loop is operating. Is n incrementing?\n",
            "Loop is operating. Is n incrementing?\n",
            "Loop is operating. Is n incrementing?\n",
            "Loop is operating. Is n incrementing?\n",
            "Loop is operating. Is n incrementing?\n",
            "Loop is operating. Is n incrementing?\n",
            "Loop is operating. Is n incrementing?\n",
            "Loop is operating. Is n incrementing?\n",
            "Loop is operating. Is n incrementing?\n",
            "Loop is operating. Is n incrementing?\n",
            "Loop is operating. Is n incrementing?\n",
            "Loop is operating. Is n incrementing?\n",
            "Loop is operating. Is n incrementing?\n",
            "Loop is operating. Is n incrementing?\n",
            "Loop is operating. Is n incrementing?\n",
            "Loop is operating. Is n incrementing?\n",
            "Loop is operating. Is n incrementing?\n",
            "Loop is operating. Is n incrementing?\n",
            "Loop is operating. Is n incrementing?\n",
            "Loop is operating. Is n incrementing?\n",
            "Loop is operating. Is n incrementing?\n",
            "Loop is operating. Is n incrementing?\n",
            "Loop is operating. Is n incrementing?\n",
            "Loop is operating. Is n incrementing?\n",
            "Loop is operating. Is n incrementing?\n",
            "Loop is operating. Is n incrementing?\n",
            "Loop is operating. Is n incrementing?\n",
            "Loop is operating. Is n incrementing?\n",
            "Loop is operating. Is n incrementing?\n",
            "Loop is operating. Is n incrementing?\n",
            "Loop is operating. Is n incrementing?\n",
            "Loop is operating. Is n incrementing?\n",
            "Loop is operating. Is n incrementing?\n",
            "Loop is operating. Is n incrementing?\n",
            "Loop is operating. Is n incrementing?\n",
            "Loop is operating. Is n incrementing?\n",
            "Loop is operating. Is n incrementing?\n",
            "Loop is operating. Is n incrementing?\n",
            "Loop is operating. Is n incrementing?\n",
            "Loop is operating. Is n incrementing?\n",
            "Loop is operating. Is n incrementing?\n",
            "Loop is operating. Is n incrementing?\n",
            "Loop is operating. Is n incrementing?\n",
            "Loop is operating. Is n incrementing?\n",
            "Loop is operating. Is n incrementing?\n",
            "Loop is operating. Is n incrementing?\n",
            "Loop is operating. Is n incrementing?\n",
            "Loop is operating. Is n incrementing?\n",
            "Loop is operating. Is n incrementing?\n",
            "Loop is operating. Is n incrementing?\n",
            "Loop is operating. Is n incrementing?\n",
            "Loop is operating. Is n incrementing?\n",
            "Loop is operating. Is n incrementing?\n",
            "Loop is operating. Is n incrementing?\n",
            "Loop is operating. Is n incrementing?\n",
            "Loop is operating. Is n incrementing?\n",
            "Loop is operating. Is n incrementing?\n",
            "Loop is operating. Is n incrementing?\n",
            "Loop is operating. Is n incrementing?\n",
            "Loop is operating. Is n incrementing?\n",
            "Loop is operating. Is n incrementing?\n",
            "Loop is operating. Is n incrementing?\n",
            "Loop is operating. Is n incrementing?\n",
            "Loop is operating. Is n incrementing?\n",
            "Loop is operating. Is n incrementing?\n",
            "Loop is operating. Is n incrementing?\n",
            "Loop is operating. Is n incrementing?\n",
            "Loop is operating. Is n incrementing?\n",
            "Loop is operating. Is n incrementing?\n",
            "Loop is operating. Is n incrementing?\n",
            "Loop is operating. Is n incrementing?\n",
            "Loop is operating. Is n incrementing?\n",
            "Loop is operating. Is n incrementing?\n",
            "Loop is operating. Is n incrementing?\n",
            "Loop is operating. Is n incrementing?\n",
            "Loop is operating. Is n incrementing?\n",
            "Loop is operating. Is n incrementing?\n",
            "Loop is operating. Is n incrementing?\n",
            "Loop is operating. Is n incrementing?\n",
            "Loop is operating. Is n incrementing?\n",
            "Loop is operating. Is n incrementing?\n",
            "Loop is operating. Is n incrementing?\n",
            "Loop is operating. Is n incrementing?\n",
            "Loop is operating. Is n incrementing?\n",
            "Loop is operating. Is n incrementing?\n",
            "Loop is operating. Is n incrementing?\n",
            "Loop is operating. Is n incrementing?\n",
            "Loop is operating. Is n incrementing?\n",
            "Loop is operating. Is n incrementing?\n",
            "Loop is operating. Is n incrementing?\n",
            "Loop is operating. Is n incrementing?\n",
            "Loop is operating. Is n incrementing?\n",
            "Loop is operating. Is n incrementing?\n",
            "Loop is operating. Is n incrementing?\n",
            "Loop is operating. Is n incrementing?\n",
            "Loop is operating. Is n incrementing?\n",
            "Loop is operating. Is n incrementing?\n",
            "Loop is operating. Is n incrementing?\n",
            "Loop is operating. Is n incrementing?\n",
            "Loop is operating. Is n incrementing?\n",
            "Loop is operating. Is n incrementing?\n",
            "Loop is operating. Is n incrementing?\n",
            "Loop is operating. Is n incrementing?\n",
            "Loop is operating. Is n incrementing?\n",
            "Loop is operating. Is n incrementing?\n",
            "Loop is operating. Is n incrementing?\n",
            "Loop is operating. Is n incrementing?\n",
            "Loop is operating. Is n incrementing?\n",
            "Loop is operating. Is n incrementing?\n",
            "Loop is operating. Is n incrementing?\n",
            "Loop is operating. Is n incrementing?\n",
            "Loop is operating. Is n incrementing?\n",
            "Loop is operating. Is n incrementing?\n",
            "Loop is operating. Is n incrementing?\n",
            "Loop is operating. Is n incrementing?\n",
            "Loop is operating. Is n incrementing?\n",
            "Loop is operating. Is n incrementing?\n",
            "Loop is operating. Is n incrementing?\n",
            "Loop is operating. Is n incrementing?\n",
            "Loop is operating. Is n incrementing?\n",
            "Loop is operating. Is n incrementing?\n",
            "Loop is operating. Is n incrementing?\n",
            "Loop is operating. Is n incrementing?\n",
            "Loop is operating. Is n incrementing?\n",
            "Loop is operating. Is n incrementing?\n",
            "Loop is operating. Is n incrementing?\n",
            "Loop is operating. Is n incrementing?\n",
            "Loop is operating. Is n incrementing?\n",
            "Loop is operating. Is n incrementing?\n",
            "Loop is operating. Is n incrementing?\n",
            "Loop is operating. Is n incrementing?\n",
            "Loop is operating. Is n incrementing?\n",
            "Loop is operating. Is n incrementing?\n",
            "Loop is operating. Is n incrementing?\n",
            "Loop is operating. Is n incrementing?\n",
            "Loop is operating. Is n incrementing?\n",
            "Loop is operating. Is n incrementing?\n",
            "Loop is operating. Is n incrementing?\n",
            "Loop is operating. Is n incrementing?\n",
            "Loop is operating. Is n incrementing?\n",
            "Loop is operating. Is n incrementing?\n",
            "Loop is operating. Is n incrementing?\n",
            "Loop is operating. Is n incrementing?\n",
            "Loop is operating. Is n incrementing?\n",
            "Loop is operating. Is n incrementing?\n",
            "Loop is operating. Is n incrementing?\n",
            "Loop is operating. Is n incrementing?\n",
            "Loop is operating. Is n incrementing?\n",
            "Loop is operating. Is n incrementing?\n",
            "Loop is operating. Is n incrementing?\n",
            "Loop is operating. Is n incrementing?\n",
            "Loop is operating. Is n incrementing?\n",
            "Loop is operating. Is n incrementing?\n",
            "Loop is operating. Is n incrementing?\n",
            "Loop is operating. Is n incrementing?\n",
            "Loop is operating. Is n incrementing?\n",
            "Loop is operating. Is n incrementing?\n",
            "Loop is operating. Is n incrementing?\n",
            "Loop is operating. Is n incrementing?\n",
            "Loop is operating. Is n incrementing?\n",
            "Loop is operating. Is n incrementing?\n",
            "Loop is operating. Is n incrementing?\n",
            "Loop is operating. Is n incrementing?\n",
            "Loop is operating. Is n incrementing?\n",
            "Loop is operating. Is n incrementing?\n",
            "Loop is operating. Is n incrementing?\n",
            "Loop is operating. Is n incrementing?\n",
            "Loop is operating. Is n incrementing?\n",
            "Loop is operating. Is n incrementing?\n",
            "Loop is operating. Is n incrementing?\n",
            "Loop is operating. Is n incrementing?\n",
            "Loop is operating. Is n incrementing?\n",
            "Loop is operating. Is n incrementing?\n",
            "Loop is operating. Is n incrementing?\n",
            "Loop is operating. Is n incrementing?\n",
            "Loop is operating. Is n incrementing?\n",
            "Loop is operating. Is n incrementing?\n",
            "Loop is operating. Is n incrementing?\n",
            "Loop is operating. Is n incrementing?\n",
            "Loop is operating. Is n incrementing?\n",
            "Loop is operating. Is n incrementing?\n",
            "Loop is operating. Is n incrementing?\n",
            "Loop is operating. Is n incrementing?\n",
            "Loop is operating. Is n incrementing?\n",
            "Loop is operating. Is n incrementing?\n",
            "Loop is operating. Is n incrementing?\n",
            "Loop is operating. Is n incrementing?\n",
            "Loop is operating. Is n incrementing?\n",
            "Loop is operating. Is n incrementing?\n",
            "Loop is operating. Is n incrementing?\n",
            "Loop is operating. Is n incrementing?\n",
            "Loop is operating. Is n incrementing?\n",
            "Loop is operating. Is n incrementing?\n",
            "Loop is operating. Is n incrementing?\n",
            "Loop is operating. Is n incrementing?\n",
            "Loop is operating. Is n incrementing?\n",
            "Loop is operating. Is n incrementing?\n",
            "Loop is operating. Is n incrementing?\n",
            "Loop is operating. Is n incrementing?\n",
            "Loop is operating. Is n incrementing?\n",
            "Loop is operating. Is n incrementing?\n",
            "Loop is operating. Is n incrementing?\n",
            "Loop is operating. Is n incrementing?\n",
            "Loop is operating. Is n incrementing?\n",
            "Loop is operating. Is n incrementing?\n",
            "Loop is operating. Is n incrementing?\n",
            "Loop is operating. Is n incrementing?\n",
            "Loop is operating. Is n incrementing?\n",
            "Loop is operating. Is n incrementing?\n",
            "Loop is operating. Is n incrementing?\n",
            "Loop is operating. Is n incrementing?\n",
            "Loop is operating. Is n incrementing?\n",
            "Loop is operating. Is n incrementing?\n",
            "Loop is operating. Is n incrementing?\n",
            "Loop is operating. Is n incrementing?\n",
            "Loop is operating. Is n incrementing?\n",
            "Loop is operating. Is n incrementing?\n",
            "Loop is operating. Is n incrementing?\n",
            "Loop is operating. Is n incrementing?\n",
            "Loop is operating. Is n incrementing?\n",
            "Loop is operating. Is n incrementing?\n",
            "Loop is operating. Is n incrementing?\n",
            "Loop is operating. Is n incrementing?\n",
            "Loop is operating. Is n incrementing?\n",
            "Loop is operating. Is n incrementing?\n",
            "Loop is operating. Is n incrementing?\n",
            "Loop is operating. Is n incrementing?\n",
            "Loop is operating. Is n incrementing?\n",
            "Loop is operating. Is n incrementing?\n",
            "Loop is operating. Is n incrementing?\n",
            "Loop is operating. Is n incrementing?\n",
            "Loop is operating. Is n incrementing?\n",
            "Loop is operating. Is n incrementing?\n",
            "Loop is operating. Is n incrementing?\n",
            "Loop is operating. Is n incrementing?\n",
            "Loop is operating. Is n incrementing?\n",
            "Loop is operating. Is n incrementing?\n",
            "Loop is operating. Is n incrementing?\n",
            "Loop is operating. Is n incrementing?\n",
            "Loop is operating. Is n incrementing?\n",
            "Loop is operating. Is n incrementing?\n",
            "Loop is operating. Is n incrementing?\n",
            "Loop is operating. Is n incrementing?\n",
            "Loop is operating. Is n incrementing?\n",
            "Loop is operating. Is n incrementing?\n",
            "Loop is operating. Is n incrementing?\n",
            "Loop is operating. Is n incrementing?\n",
            "Loop is operating. Is n incrementing?\n",
            "Loop is operating. Is n incrementing?\n",
            "Loop is operating. Is n incrementing?\n",
            "Loop is operating. Is n incrementing?\n",
            "Loop is operating. Is n incrementing?\n",
            "Loop is operating. Is n incrementing?\n",
            "Loop is operating. Is n incrementing?\n",
            "Loop is operating. Is n incrementing?\n",
            "Loop is operating. Is n incrementing?\n",
            "Loop is operating. Is n incrementing?\n",
            "Loop is operating. Is n incrementing?\n",
            "Loop is operating. Is n incrementing?\n",
            "Loop is operating. Is n incrementing?\n",
            "Loop is operating. Is n incrementing?\n",
            "Loop is operating. Is n incrementing?\n",
            "Loop is operating. Is n incrementing?\n",
            "Loop is operating. Is n incrementing?\n",
            "Loop is operating. Is n incrementing?\n",
            "Loop is operating. Is n incrementing?\n",
            "Loop is operating. Is n incrementing?\n",
            "Loop is operating. Is n incrementing?\n",
            "Loop is operating. Is n incrementing?\n",
            "Loop is operating. Is n incrementing?\n",
            "Loop is operating. Is n incrementing?\n",
            "Loop is operating. Is n incrementing?\n",
            "Loop is operating. Is n incrementing?\n",
            "Loop is operating. Is n incrementing?\n",
            "Loop is operating. Is n incrementing?\n",
            "Loop is operating. Is n incrementing?\n",
            "Loop is operating. Is n incrementing?\n",
            "Loop is operating. Is n incrementing?\n",
            "Loop is operating. Is n incrementing?\n",
            "Loop is operating. Is n incrementing?\n",
            "Loop is operating. Is n incrementing?\n",
            "Loop is operating. Is n incrementing?\n",
            "Loop is operating. Is n incrementing?\n",
            "Loop is operating. Is n incrementing?\n",
            "Loop is operating. Is n incrementing?\n",
            "Loop is operating. Is n incrementing?\n",
            "Loop is operating. Is n incrementing?\n",
            "Loop is operating. Is n incrementing?\n",
            "Loop is operating. Is n incrementing?\n",
            "Loop is operating. Is n incrementing?\n",
            "Loop is operating. Is n incrementing?\n",
            "Loop is operating. Is n incrementing?\n",
            "Loop is operating. Is n incrementing?\n",
            "Loop is operating. Is n incrementing?\n",
            "Loop is operating. Is n incrementing?\n",
            "Loop is operating. Is n incrementing?\n",
            "Loop is operating. Is n incrementing?\n",
            "Loop is operating. Is n incrementing?\n",
            "Loop is operating. Is n incrementing?\n",
            "Loop is operating. Is n incrementing?\n",
            "Loop is operating. Is n incrementing?\n",
            "Loop is operating. Is n incrementing?\n",
            "Loop is operating. Is n incrementing?\n",
            "Loop is operating. Is n incrementing?\n",
            "Loop is operating. Is n incrementing?\n",
            "Loop is operating. Is n incrementing?\n",
            "Loop is operating. Is n incrementing?\n",
            "Loop is operating. Is n incrementing?\n",
            "Loop is operating. Is n incrementing?\n",
            "Loop is operating. Is n incrementing?\n",
            "Loop is operating. Is n incrementing?\n",
            "Loop is operating. Is n incrementing?\n",
            "Loop is operating. Is n incrementing?\n",
            "Loop is operating. Is n incrementing?\n",
            "Loop is operating. Is n incrementing?\n",
            "Loop is operating. Is n incrementing?\n",
            "Loop is operating. Is n incrementing?\n",
            "Loop is operating. Is n incrementing?\n",
            "Loop is operating. Is n incrementing?\n",
            "Loop is operating. Is n incrementing?\n",
            "Loop is operating. Is n incrementing?\n",
            "Loop is operating. Is n incrementing?\n",
            "Loop is operating. Is n incrementing?\n",
            "Loop is operating. Is n incrementing?\n",
            "Loop is operating. Is n incrementing?\n",
            "Loop is operating. Is n incrementing?\n",
            "Loop is operating. Is n incrementing?\n",
            "Loop is operating. Is n incrementing?\n",
            "Loop is operating. Is n incrementing?\n",
            "Loop is operating. Is n incrementing?\n",
            "Loop is operating. Is n incrementing?\n",
            "Loop is operating. Is n incrementing?\n",
            "Loop is operating. Is n incrementing?\n",
            "Loop is operating. Is n incrementing?\n",
            "Loop is operating. Is n incrementing?\n",
            "Loop is operating. Is n incrementing?\n",
            "Loop is operating. Is n incrementing?\n",
            "Loop is operating. Is n incrementing?\n",
            "Loop is operating. Is n incrementing?\n",
            "Loop is operating. Is n incrementing?\n",
            "Loop is operating. Is n incrementing?\n",
            "Loop is operating. Is n incrementing?\n",
            "Loop is operating. Is n incrementing?\n",
            "Loop is operating. Is n incrementing?\n",
            "Loop is operating. Is n incrementing?\n",
            "Loop is operating. Is n incrementing?\n",
            "Loop is operating. Is n incrementing?\n",
            "Loop is operating. Is n incrementing?\n",
            "Loop is operating. Is n incrementing?\n",
            "Loop is operating. Is n incrementing?\n",
            "Loop is operating. Is n incrementing?\n",
            "Loop is operating. Is n incrementing?\n",
            "Loop is operating. Is n incrementing?\n",
            "Loop is operating. Is n incrementing?\n",
            "Loop is operating. Is n incrementing?\n",
            "Loop is operating. Is n incrementing?\n",
            "Loop is operating. Is n incrementing?\n",
            "Loop is operating. Is n incrementing?\n",
            "Loop is operating. Is n incrementing?\n",
            "Loop is operating. Is n incrementing?\n",
            "Loop is operating. Is n incrementing?\n",
            "Loop is operating. Is n incrementing?\n",
            "Loop is operating. Is n incrementing?\n",
            "Loop is operating. Is n incrementing?\n",
            "Loop is operating. Is n incrementing?\n",
            "Loop is operating. Is n incrementing?\n",
            "Loop is operating. Is n incrementing?\n",
            "Loop is operating. Is n incrementing?\n",
            "Loop is operating. Is n incrementing?\n",
            "Loop is operating. Is n incrementing?\n",
            "Loop is operating. Is n incrementing?\n",
            "Loop is operating. Is n incrementing?\n",
            "Loop is operating. Is n incrementing?\n",
            "Loop is operating. Is n incrementing?\n",
            "Loop is operating. Is n incrementing?\n",
            "Loop is operating. Is n incrementing?\n",
            "Loop is operating. Is n incrementing?\n",
            "Loop is operating. Is n incrementing?\n",
            "Loop is operating. Is n incrementing?\n",
            "Loop is operating. Is n incrementing?\n",
            "Loop is operating. Is n incrementing?\n",
            "Loop is operating. Is n incrementing?\n",
            "Loop is operating. Is n incrementing?\n",
            "Loop is operating. Is n incrementing?\n",
            "Loop is operating. Is n incrementing?\n",
            "Loop is operating. Is n incrementing?\n",
            "Loop is operating. Is n incrementing?\n",
            "Loop is operating. Is n incrementing?\n",
            "Loop is operating. Is n incrementing?\n",
            "Loop is operating. Is n incrementing?\n",
            "Loop is operating. Is n incrementing?\n",
            "Loop is operating. Is n incrementing?\n",
            "Loop is operating. Is n incrementing?\n",
            "Loop is operating. Is n incrementing?\n",
            "Loop is operating. Is n incrementing?\n",
            "Loop is operating. Is n incrementing?\n",
            "Loop is operating. Is n incrementing?\n",
            "Loop is operating. Is n incrementing?\n",
            "Loop is operating. Is n incrementing?\n",
            "Loop is operating. Is n incrementing?\n",
            "Loop is operating. Is n incrementing?\n",
            "Loop is operating. Is n incrementing?\n",
            "Loop is operating. Is n incrementing?\n",
            "Loop is operating. Is n incrementing?\n",
            "Loop is operating. Is n incrementing?\n",
            "Loop is operating. Is n incrementing?\n",
            "Loop is operating. Is n incrementing?\n",
            "Loop is operating. Is n incrementing?\n",
            "Loop is operating. Is n incrementing?\n",
            "Loop is operating. Is n incrementing?\n",
            "Loop is operating. Is n incrementing?\n",
            "Loop is operating. Is n incrementing?\n",
            "Loop is operating. Is n incrementing?\n",
            "Loop is operating. Is n incrementing?\n",
            "Loop is operating. Is n incrementing?\n",
            "Loop is operating. Is n incrementing?\n",
            "Loop is operating. Is n incrementing?\n",
            "Loop is operating. Is n incrementing?\n",
            "Loop is operating. Is n incrementing?\n",
            "Loop is operating. Is n incrementing?\n",
            "Loop is operating. Is n incrementing?\n",
            "Loop is operating. Is n incrementing?\n",
            "Loop is operating. Is n incrementing?\n",
            "Loop is operating. Is n incrementing?\n",
            "Loop is operating. Is n incrementing?\n",
            "Loop is operating. Is n incrementing?\n",
            "Loop is operating. Is n incrementing?\n",
            "Loop is operating. Is n incrementing?\n",
            "Loop is operating. Is n incrementing?\n",
            "Loop is operating. Is n incrementing?\n",
            "Loop is operating. Is n incrementing?\n",
            "Loop is operating. Is n incrementing?\n",
            "Loop is operating. Is n incrementing?\n",
            "Loop is operating. Is n incrementing?\n",
            "Loop is operating. Is n incrementing?\n",
            "Loop is operating. Is n incrementing?\n",
            "Loop is operating. Is n incrementing?\n",
            "Loop is operating. Is n incrementing?\n",
            "Loop is operating. Is n incrementing?\n",
            "Loop is operating. Is n incrementing?\n",
            "Loop is operating. Is n incrementing?\n",
            "Loop is operating. Is n incrementing?\n",
            "Loop is operating. Is n incrementing?\n",
            "Loop is operating. Is n incrementing?\n",
            "Loop is operating. Is n incrementing?\n",
            "Loop is operating. Is n incrementing?\n",
            "Loop is operating. Is n incrementing?\n",
            "Loop is operating. Is n incrementing?\n",
            "Loop is operating. Is n incrementing?\n",
            "Loop is operating. Is n incrementing?\n",
            "Loop is operating. Is n incrementing?\n",
            "Loop is operating. Is n incrementing?\n",
            "Loop is operating. Is n incrementing?\n",
            "Loop is operating. Is n incrementing?\n",
            "Loop is operating. Is n incrementing?\n",
            "Loop is operating. Is n incrementing?\n",
            "Loop is operating. Is n incrementing?\n",
            "Loop is operating. Is n incrementing?\n",
            "Loop is operating. Is n incrementing?\n",
            "Loop is operating. Is n incrementing?\n",
            "Loop is operating. Is n incrementing?\n",
            "Loop is operating. Is n incrementing?\n",
            "Loop is operating. Is n incrementing?\n",
            "Loop is operating. Is n incrementing?\n",
            "Loop is operating. Is n incrementing?\n",
            "Loop is operating. Is n incrementing?\n",
            "Loop is operating. Is n incrementing?\n",
            "Loop is operating. Is n incrementing?\n",
            "Loop is operating. Is n incrementing?\n",
            "Loop is operating. Is n incrementing?\n",
            "Loop is operating. Is n incrementing?\n",
            "Loop is operating. Is n incrementing?\n",
            "Loop is operating. Is n incrementing?\n",
            "Loop is operating. Is n incrementing?\n",
            "Loop is operating. Is n incrementing?\n",
            "Loop is operating. Is n incrementing?\n",
            "Loop is operating. Is n incrementing?\n",
            "Loop is operating. Is n incrementing?\n",
            "Loop is operating. Is n incrementing?\n",
            "Loop is operating. Is n incrementing?\n",
            "Loop is operating. Is n incrementing?\n",
            "Loop is operating. Is n incrementing?\n",
            "Loop is operating. Is n incrementing?\n",
            "Loop is operating. Is n incrementing?\n",
            "Loop is operating. Is n incrementing?\n",
            "Loop is operating. Is n incrementing?\n",
            "Loop is operating. Is n incrementing?\n",
            "Loop is operating. Is n incrementing?\n",
            "Loop is operating. Is n incrementing?\n",
            "Loop is operating. Is n incrementing?\n",
            "Loop is operating. Is n incrementing?\n",
            "Loop is operating. Is n incrementing?\n",
            "Loop is operating. Is n incrementing?\n",
            "Loop is operating. Is n incrementing?\n",
            "Loop is operating. Is n incrementing?\n",
            "Loop is operating. Is n incrementing?\n",
            "Loop is operating. Is n incrementing?\n",
            "Loop is operating. Is n incrementing?\n",
            "Loop is operating. Is n incrementing?\n",
            "Loop is operating. Is n incrementing?\n",
            "Loop is operating. Is n incrementing?\n",
            "Loop is operating. Is n incrementing?\n",
            "Loop is operating. Is n incrementing?\n",
            "Loop is operating. Is n incrementing?\n",
            "Loop is operating. Is n incrementing?\n",
            "Loop is operating. Is n incrementing?\n",
            "Loop is operating. Is n incrementing?\n",
            "Loop is operating. Is n incrementing?\n",
            "Loop is operating. Is n incrementing?\n",
            "Loop is operating. Is n incrementing?\n",
            "Loop is operating. Is n incrementing?\n",
            "Loop is operating. Is n incrementing?\n",
            "Loop is operating. Is n incrementing?\n",
            "Loop is operating. Is n incrementing?\n",
            "Loop is operating. Is n incrementing?\n",
            "Loop is operating. Is n incrementing?\n",
            "Loop is operating. Is n incrementing?\n",
            "Loop is operating. Is n incrementing?\n",
            "Loop is operating. Is n incrementing?\n",
            "Loop is operating. Is n incrementing?\n",
            "Loop is operating. Is n incrementing?\n",
            "Loop is operating. Is n incrementing?\n",
            "Loop is operating. Is n incrementing?\n",
            "Loop is operating. Is n incrementing?\n",
            "Loop is operating. Is n incrementing?\n",
            "Loop is operating. Is n incrementing?\n",
            "Loop is operating. Is n incrementing?\n",
            "Loop is operating. Is n incrementing?\n",
            "Loop is operating. Is n incrementing?\n",
            "Loop is operating. Is n incrementing?\n",
            "Loop is operating. Is n incrementing?\n",
            "Loop is operating. Is n incrementing?\n",
            "Loop is operating. Is n incrementing?\n",
            "Loop is operating. Is n incrementing?\n",
            "Loop is operating. Is n incrementing?\n",
            "Loop is operating. Is n incrementing?\n",
            "Loop is operating. Is n incrementing?\n",
            "Loop is operating. Is n incrementing?\n",
            "Loop is operating. Is n incrementing?\n",
            "Loop is operating. Is n incrementing?\n",
            "Loop is operating. Is n incrementing?\n",
            "Loop is operating. Is n incrementing?\n",
            "Loop is operating. Is n incrementing?\n",
            "Loop is operating. Is n incrementing?\n",
            "Loop is operating. Is n incrementing?\n",
            "Loop is operating. Is n incrementing?\n",
            "Loop is operating. Is n incrementing?\n",
            "Loop is operating. Is n incrementing?\n",
            "Loop is operating. Is n incrementing?\n",
            "Loop is operating. Is n incrementing?\n",
            "Loop is operating. Is n incrementing?\n",
            "Loop is operating. Is n incrementing?\n",
            "Loop is operating. Is n incrementing?\n",
            "Loop is operating. Is n incrementing?\n",
            "Loop is operating. Is n incrementing?\n",
            "Loop is operating. Is n incrementing?\n",
            "Loop is operating. Is n incrementing?\n",
            "Loop is operating. Is n incrementing?\n",
            "Loop is operating. Is n incrementing?\n",
            "Loop is operating. Is n incrementing?\n",
            "Loop is operating. Is n incrementing?\n",
            "Loop is operating. Is n incrementing?\n",
            "Loop is operating. Is n incrementing?\n",
            "Loop is operating. Is n incrementing?\n",
            "Loop is operating. Is n incrementing?\n",
            "Loop is operating. Is n incrementing?\n",
            "Loop is operating. Is n incrementing?\n",
            "Loop is operating. Is n incrementing?\n",
            "Loop is operating. Is n incrementing?\n",
            "Loop is operating. Is n incrementing?\n",
            "Loop is operating. Is n incrementing?\n",
            "Loop is operating. Is n incrementing?\n",
            "Loop is operating. Is n incrementing?\n",
            "Loop is operating. Is n incrementing?\n",
            "Loop is operating. Is n incrementing?\n",
            "Loop is operating. Is n incrementing?\n",
            "Loop is operating. Is n incrementing?\n",
            "Loop is operating. Is n incrementing?\n",
            "Loop is operating. Is n incrementing?\n",
            "Loop is operating. Is n incrementing?\n",
            "Loop is operating. Is n incrementing?\n",
            "Loop is operating. Is n incrementing?\n",
            "Loop is operating. Is n incrementing?\n",
            "Loop is operating. Is n incrementing?\n",
            "Loop is operating. Is n incrementing?\n",
            "Loop is operating. Is n incrementing?\n",
            "Loop is operating. Is n incrementing?\n",
            "Loop is operating. Is n incrementing?\n",
            "Loop is operating. Is n incrementing?\n",
            "Loop is operating. Is n incrementing?\n",
            "Loop is operating. Is n incrementing?\n",
            "Loop is operating. Is n incrementing?\n",
            "Loop is operating. Is n incrementing?\n",
            "Loop is operating. Is n incrementing?\n",
            "Loop is operating. Is n incrementing?\n",
            "Loop is operating. Is n incrementing?\n",
            "Loop is operating. Is n incrementing?\n",
            "Loop is operating. Is n incrementing?\n",
            "Loop is operating. Is n incrementing?\n",
            "Loop is operating. Is n incrementing?\n",
            "Loop is operating. Is n incrementing?\n",
            "Loop is operating. Is n incrementing?\n",
            "Loop is operating. Is n incrementing?\n",
            "Loop is operating. Is n incrementing?\n",
            "Loop is operating. Is n incrementing?\n",
            "Loop is operating. Is n incrementing?\n",
            "Loop is operating. Is n incrementing?\n",
            "Loop is operating. Is n incrementing?\n",
            "Loop is operating. Is n incrementing?\n",
            "Loop is operating. Is n incrementing?\n",
            "Loop is operating. Is n incrementing?\n",
            "Loop is operating. Is n incrementing?\n",
            "Loop is operating. Is n incrementing?\n",
            "Loop is operating. Is n incrementing?\n",
            "Loop is operating. Is n incrementing?\n",
            "Loop is operating. Is n incrementing?\n",
            "Loop is operating. Is n incrementing?\n",
            "Loop is operating. Is n incrementing?\n",
            "Loop is operating. Is n incrementing?\n",
            "Loop is operating. Is n incrementing?\n",
            "Loop is operating. Is n incrementing?\n",
            "Loop is operating. Is n incrementing?\n",
            "Loop is operating. Is n incrementing?\n",
            "Loop is operating. Is n incrementing?\n",
            "Loop is operating. Is n incrementing?\n",
            "Loop is operating. Is n incrementing?\n",
            "Loop is operating. Is n incrementing?\n",
            "Loop is operating. Is n incrementing?\n",
            "Loop is operating. Is n incrementing?\n",
            "Loop is operating. Is n incrementing?\n",
            "Loop is operating. Is n incrementing?\n",
            "Loop is operating. Is n incrementing?\n",
            "Loop is operating. Is n incrementing?\n",
            "Loop is operating. Is n incrementing?\n",
            "Loop is operating. Is n incrementing?\n",
            "Loop is operating. Is n incrementing?\n",
            "Loop is operating. Is n incrementing?\n",
            "Loop is operating. Is n incrementing?\n",
            "Loop is operating. Is n incrementing?\n",
            "Loop is operating. Is n incrementing?\n",
            "Loop is operating. Is n incrementing?\n",
            "Loop is operating. Is n incrementing?\n",
            "Loop is operating. Is n incrementing?\n",
            "Loop is operating. Is n incrementing?\n",
            "Loop is operating. Is n incrementing?\n",
            "Loop is operating. Is n incrementing?\n",
            "Loop is operating. Is n incrementing?\n",
            "Loop is operating. Is n incrementing?\n",
            "Loop is operating. Is n incrementing?\n",
            "Loop is operating. Is n incrementing?\n",
            "Loop is operating. Is n incrementing?\n",
            "Loop is operating. Is n incrementing?\n",
            "Loop is operating. Is n incrementing?\n",
            "Loop is operating. Is n incrementing?\n",
            "Loop is operating. Is n incrementing?\n",
            "Loop is operating. Is n incrementing?\n",
            "Loop is operating. Is n incrementing?\n",
            "Loop is operating. Is n incrementing?\n",
            "Loop is operating. Is n incrementing?\n",
            "Loop is operating. Is n incrementing?\n",
            "Loop is operating. Is n incrementing?\n",
            "Loop is operating. Is n incrementing?\n",
            "Loop is operating. Is n incrementing?\n",
            "Loop is operating. Is n incrementing?\n",
            "Loop is operating. Is n incrementing?\n",
            "Loop is operating. Is n incrementing?\n",
            "Loop is operating. Is n incrementing?\n",
            "Loop is operating. Is n incrementing?\n",
            "Loop is operating. Is n incrementing?\n",
            "Loop is operating. Is n incrementing?\n",
            "Loop is operating. Is n incrementing?\n",
            "Loop is operating. Is n incrementing?\n",
            "Loop is operating. Is n incrementing?\n",
            "Loop is operating. Is n incrementing?\n",
            "Loop is operating. Is n incrementing?\n",
            "Loop is operating. Is n incrementing?\n",
            "Loop is operating. Is n incrementing?\n",
            "Loop is operating. Is n incrementing?\n",
            "Loop is operating. Is n incrementing?\n",
            "Loop is operating. Is n incrementing?\n",
            "Loop is operating. Is n incrementing?\n",
            "Loop is operating. Is n incrementing?\n",
            "Loop is operating. Is n incrementing?\n",
            "Loop is operating. Is n incrementing?\n",
            "Loop is operating. Is n incrementing?\n",
            "Loop is operating. Is n incrementing?\n",
            "Loop is operating. Is n incrementing?\n",
            "Loop is operating. Is n incrementing?\n",
            "Loop is operating. Is n incrementing?\n",
            "Loop is operating. Is n incrementing?\n",
            "Loop is operating. Is n incrementing?\n",
            "Loop is operating. Is n incrementing?\n",
            "Loop is operating. Is n incrementing?\n",
            "Loop is operating. Is n incrementing?\n",
            "Loop is operating. Is n incrementing?\n",
            "Loop is operating. Is n incrementing?\n",
            "Loop is operating. Is n incrementing?\n",
            "Loop is operating. Is n incrementing?\n",
            "Loop is operating. Is n incrementing?\n",
            "Loop is operating. Is n incrementing?\n",
            "Loop is operating. Is n incrementing?\n",
            "Loop is operating. Is n incrementing?\n",
            "Loop is operating. Is n incrementing?\n",
            "Loop is operating. Is n incrementing?\n",
            "Loop is operating. Is n incrementing?\n",
            "Loop is operating. Is n incrementing?\n",
            "Loop is operating. Is n incrementing?\n",
            "Loop is operating. Is n incrementing?\n",
            "Loop is operating. Is n incrementing?\n",
            "Loop is operating. Is n incrementing?\n",
            "Loop is operating. Is n incrementing?\n",
            "Loop is operating. Is n incrementing?\n",
            "Loop is operating. Is n incrementing?\n",
            "Loop is operating. Is n incrementing?\n",
            "Loop is operating. Is n incrementing?\n",
            "Loop is operating. Is n incrementing?\n",
            "Loop is operating. Is n incrementing?\n",
            "Loop is operating. Is n incrementing?\n",
            "Loop is operating. Is n incrementing?\n",
            "Loop is operating. Is n incrementing?\n",
            "Loop is operating. Is n incrementing?\n",
            "Loop is operating. Is n incrementing?\n",
            "Loop is operating. Is n incrementing?\n",
            "Loop is operating. Is n incrementing?\n",
            "Loop is operating. Is n incrementing?\n",
            "Loop is operating. Is n incrementing?\n",
            "Loop is operating. Is n incrementing?\n",
            "Loop is operating. Is n incrementing?\n",
            "Loop is operating. Is n incrementing?\n",
            "Loop is operating. Is n incrementing?\n",
            "Loop is operating. Is n incrementing?\n",
            "Loop is operating. Is n incrementing?\n",
            "Loop is operating. Is n incrementing?\n",
            "Loop is operating. Is n incrementing?\n",
            "Loop is operating. Is n incrementing?\n",
            "Loop is operating. Is n incrementing?\n",
            "Loop is operating. Is n incrementing?\n",
            "Loop is operating. Is n incrementing?\n",
            "Loop is operating. Is n incrementing?\n",
            "Loop is operating. Is n incrementing?\n",
            "Loop is operating. Is n incrementing?\n",
            "Loop is operating. Is n incrementing?\n",
            "Loop is operating. Is n incrementing?\n",
            "Loop is operating. Is n incrementing?\n",
            "Loop is operating. Is n incrementing?\n",
            "Loop is operating. Is n incrementing?\n",
            "Loop is operating. Is n incrementing?\n",
            "Loop is operating. Is n incrementing?\n",
            "Loop is operating. Is n incrementing?\n",
            "Loop is operating. Is n incrementing?\n",
            "Loop is operating. Is n incrementing?\n",
            "Loop is operating. Is n incrementing?\n",
            "Loop is operating. Is n incrementing?\n",
            "Loop is operating. Is n incrementing?\n",
            "Loop is operating. Is n incrementing?\n",
            "Loop is operating. Is n incrementing?\n",
            "Loop is operating. Is n incrementing?\n",
            "Loop is operating. Is n incrementing?\n",
            "Loop is operating. Is n incrementing?\n",
            "Loop is operating. Is n incrementing?\n",
            "Loop is operating. Is n incrementing?\n",
            "Loop is operating. Is n incrementing?\n",
            "Loop is operating. Is n incrementing?\n",
            "Loop is operating. Is n incrementing?\n",
            "Loop is operating. Is n incrementing?\n",
            "Loop is operating. Is n incrementing?\n",
            "Loop is operating. Is n incrementing?\n",
            "Loop is operating. Is n incrementing?\n",
            "Loop is operating. Is n incrementing?\n",
            "Loop is operating. Is n incrementing?\n",
            "Loop is operating. Is n incrementing?\n",
            "Loop is operating. Is n incrementing?\n",
            "Loop is operating. Is n incrementing?\n",
            "Loop is operating. Is n incrementing?\n",
            "Loop is operating. Is n incrementing?\n",
            "Loop is operating. Is n incrementing?\n",
            "Loop is operating. Is n incrementing?\n",
            "Loop is operating. Is n incrementing?\n",
            "Loop is operating. Is n incrementing?\n",
            "Loop is operating. Is n incrementing?\n",
            "Loop is operating. Is n incrementing?\n",
            "Loop is operating. Is n incrementing?\n",
            "Loop is operating. Is n incrementing?\n",
            "Loop is operating. Is n incrementing?\n",
            "Loop is operating. Is n incrementing?\n",
            "Loop is operating. Is n incrementing?\n",
            "Loop is operating. Is n incrementing?\n",
            "Loop is operating. Is n incrementing?\n",
            "Loop is operating. Is n incrementing?\n",
            "Loop is operating. Is n incrementing?\n",
            "Loop is operating. Is n incrementing?\n",
            "Loop is operating. Is n incrementing?\n",
            "Loop is operating. Is n incrementing?\n",
            "Loop is operating. Is n incrementing?\n",
            "Loop is operating. Is n incrementing?\n",
            "Loop is operating. Is n incrementing?\n",
            "Loop is operating. Is n incrementing?\n",
            "Loop is operating. Is n incrementing?\n",
            "Loop is operating. Is n incrementing?\n",
            "Loop is operating. Is n incrementing?\n",
            "Loop is operating. Is n incrementing?\n",
            "Loop is operating. Is n incrementing?\n",
            "Loop is operating. Is n incrementing?\n",
            "Loop is operating. Is n incrementing?\n",
            "Loop is operating. Is n incrementing?\n",
            "Loop is operating. Is n incrementing?\n",
            "Loop is operating. Is n incrementing?\n",
            "Loop is operating. Is n incrementing?\n",
            "Loop is operating. Is n incrementing?\n",
            "Loop is operating. Is n incrementing?\n",
            "Loop is operating. Is n incrementing?\n",
            "Loop is operating. Is n incrementing?\n",
            "Loop is operating. Is n incrementing?\n",
            "Loop is operating. Is n incrementing?\n",
            "Loop is operating. Is n incrementing?\n",
            "Loop is operating. Is n incrementing?\n",
            "Loop is operating. Is n incrementing?\n",
            "Loop is operating. Is n incrementing?\n",
            "Loop is operating. Is n incrementing?\n",
            "Loop is operating. Is n incrementing?\n",
            "Loop is operating. Is n incrementing?\n",
            "Loop is operating. Is n incrementing?\n",
            "Loop is operating. Is n incrementing?\n",
            "Loop is operating. Is n incrementing?\n",
            "Loop is operating. Is n incrementing?\n",
            "Loop is operating. Is n incrementing?\n",
            "Loop is operating. Is n incrementing?\n",
            "Loop is operating. Is n incrementing?\n",
            "Loop is operating. Is n incrementing?\n",
            "Loop is operating. Is n incrementing?\n",
            "Loop is operating. Is n incrementing?\n",
            "Loop is operating. Is n incrementing?\n",
            "Loop is operating. Is n incrementing?\n",
            "Loop is operating. Is n incrementing?\n",
            "Loop is operating. Is n incrementing?\n",
            "Loop is operating. Is n incrementing?\n",
            "Loop is operating. Is n incrementing?\n",
            "Loop is operating. Is n incrementing?\n",
            "Loop is operating. Is n incrementing?\n",
            "Loop is operating. Is n incrementing?\n",
            "Loop is operating. Is n incrementing?\n",
            "Loop is operating. Is n incrementing?\n",
            "Loop is operating. Is n incrementing?\n",
            "Loop is operating. Is n incrementing?\n",
            "Loop is operating. Is n incrementing?\n",
            "Loop is operating. Is n incrementing?\n",
            "Loop is operating. Is n incrementing?\n",
            "Loop is operating. Is n incrementing?\n",
            "Loop is operating. Is n incrementing?\n",
            "Loop is operating. Is n incrementing?\n",
            "Loop is operating. Is n incrementing?\n",
            "Loop is operating. Is n incrementing?\n",
            "Loop is operating. Is n incrementing?\n",
            "Loop is operating. Is n incrementing?\n",
            "Loop is operating. Is n incrementing?\n",
            "Loop is operating. Is n incrementing?\n",
            "Loop is operating. Is n incrementing?\n",
            "Loop is operating. Is n incrementing?\n",
            "Loop is operating. Is n incrementing?\n",
            "Loop is operating. Is n incrementing?\n",
            "Loop is operating. Is n incrementing?\n",
            "Loop is operating. Is n incrementing?\n",
            "Loop is operating. Is n incrementing?\n",
            "Loop is operating. Is n incrementing?\n",
            "Loop is operating. Is n incrementing?\n",
            "Loop is operating. Is n incrementing?\n",
            "Loop is operating. Is n incrementing?\n",
            "Loop is operating. Is n incrementing?\n",
            "Loop is operating. Is n incrementing?\n",
            "Loop is operating. Is n incrementing?\n",
            "Loop is operating. Is n incrementing?\n",
            "Loop is operating. Is n incrementing?\n",
            "Loop is operating. Is n incrementing?\n",
            "Loop is operating. Is n incrementing?\n",
            "Loop is operating. Is n incrementing?\n",
            "Loop is operating. Is n incrementing?\n",
            "Loop is operating. Is n incrementing?\n",
            "Loop is operating. Is n incrementing?\n",
            "Loop is operating. Is n incrementing?\n",
            "Loop is operating. Is n incrementing?\n",
            "Loop is operating. Is n incrementing?\n",
            "Loop is operating. Is n incrementing?\n",
            "Loop is operating. Is n incrementing?\n",
            "Loop is operating. Is n incrementing?\n",
            "Loop is operating. Is n incrementing?\n",
            "Loop is operating. Is n incrementing?\n",
            "Loop is operating. Is n incrementing?\n",
            "Loop is operating. Is n incrementing?\n",
            "Loop is operating. Is n incrementing?\n",
            "Loop is operating. Is n incrementing?\n",
            "Loop is operating. Is n incrementing?\n",
            "Loop is operating. Is n incrementing?\n",
            "Loop is operating. Is n incrementing?\n",
            "Loop is operating. Is n incrementing?\n",
            "Loop is operating. Is n incrementing?\n",
            "Loop is operating. Is n incrementing?\n",
            "Loop is operating. Is n incrementing?\n",
            "Loop is operating. Is n incrementing?\n",
            "Loop is operating. Is n incrementing?\n",
            "Loop is operating. Is n incrementing?\n",
            "Loop is operating. Is n incrementing?\n",
            "Loop is operating. Is n incrementing?\n",
            "Loop is operating. Is n incrementing?\n",
            "Loop is operating. Is n incrementing?\n",
            "Loop is operating. Is n incrementing?\n",
            "Loop is operating. Is n incrementing?\n",
            "Loop is operating. Is n incrementing?\n",
            "Loop is operating. Is n incrementing?\n",
            "Loop is operating. Is n incrementing?\n",
            "Loop is operating. Is n incrementing?\n",
            "Loop is operating. Is n incrementing?\n",
            "Loop is operating. Is n incrementing?\n",
            "Loop is operating. Is n incrementing?\n",
            "Loop is operating. Is n incrementing?\n",
            "Loop is operating. Is n incrementing?\n",
            "Loop is operating. Is n incrementing?\n",
            "Loop is operating. Is n incrementing?\n",
            "Loop is operating. Is n incrementing?\n",
            "Loop is operating. Is n incrementing?\n",
            "Loop is operating. Is n incrementing?\n",
            "Loop is operating. Is n incrementing?\n",
            "Loop is operating. Is n incrementing?\n",
            "Loop is operating. Is n incrementing?\n",
            "Loop is operating. Is n incrementing?\n",
            "Loop is operating. Is n incrementing?\n",
            "Loop is operating. Is n incrementing?\n",
            "Loop is operating. Is n incrementing?\n",
            "Loop is operating. Is n incrementing?\n",
            "Loop is operating. Is n incrementing?\n",
            "Loop is operating. Is n incrementing?\n",
            "Loop is operating. Is n incrementing?\n",
            "Loop is operating. Is n incrementing?\n",
            "Loop is operating. Is n incrementing?\n",
            "Loop is operating. Is n incrementing?\n",
            "Loop is operating. Is n incrementing?\n",
            "Loop is operating. Is n incrementing?\n",
            "Loop is operating. Is n incrementing?\n",
            "Loop is operating. Is n incrementing?\n",
            "Loop is operating. Is n incrementing?\n",
            "Loop is operating. Is n incrementing?\n",
            "Loop is operating. Is n incrementing?\n",
            "Loop is operating. Is n incrementing?\n",
            "Loop is operating. Is n incrementing?\n",
            "Loop is operating. Is n incrementing?\n",
            "Loop is operating. Is n incrementing?\n",
            "Loop is operating. Is n incrementing?\n",
            "Loop is operating. Is n incrementing?\n",
            "Loop is operating. Is n incrementing?\n",
            "Loop is operating. Is n incrementing?\n",
            "Loop is operating. Is n incrementing?\n",
            "Loop is operating. Is n incrementing?\n",
            "Loop is operating. Is n incrementing?\n",
            "Loop is operating. Is n incrementing?\n",
            "Loop is operating. Is n incrementing?\n",
            "Loop is operating. Is n incrementing?\n",
            "Loop is operating. Is n incrementing?\n",
            "Loop is operating. Is n incrementing?\n",
            "Loop is operating. Is n incrementing?\n",
            "Loop is operating. Is n incrementing?\n",
            "Loop is operating. Is n incrementing?\n",
            "Loop is operating. Is n incrementing?\n",
            "Loop is operating. Is n incrementing?\n",
            "Loop is operating. Is n incrementing?\n",
            "Loop is operating. Is n incrementing?\n",
            "Loop is operating. Is n incrementing?\n",
            "Loop is operating. Is n incrementing?\n",
            "Loop is operating. Is n incrementing?\n",
            "Loop is operating. Is n incrementing?\n",
            "Loop is operating. Is n incrementing?\n",
            "Loop is operating. Is n incrementing?\n",
            "Loop is operating. Is n incrementing?\n",
            "Loop is operating. Is n incrementing?\n",
            "Loop is operating. Is n incrementing?\n",
            "Loop is operating. Is n incrementing?\n",
            "Loop is operating. Is n incrementing?\n",
            "Loop is operating. Is n incrementing?\n",
            "Loop is operating. Is n incrementing?\n",
            "Loop is operating. Is n incrementing?\n",
            "Loop is operating. Is n incrementing?\n",
            "Loop is operating. Is n incrementing?\n",
            "Loop is operating. Is n incrementing?\n",
            "Loop is operating. Is n incrementing?\n",
            "Loop is operating. Is n incrementing?\n",
            "Loop is operating. Is n incrementing?\n",
            "Loop is operating. Is n incrementing?\n",
            "Loop is operating. Is n incrementing?\n",
            "Loop is operating. Is n incrementing?\n",
            "Loop is operating. Is n incrementing?\n",
            "Loop is operating. Is n incrementing?\n",
            "Loop is operating. Is n incrementing?\n",
            "Loop is operating. Is n incrementing?\n",
            "Loop is operating. Is n incrementing?\n",
            "Loop is operating. Is n incrementing?\n",
            "Loop is operating. Is n incrementing?\n",
            "Loop is operating. Is n incrementing?\n",
            "Loop is operating. Is n incrementing?\n",
            "Loop is operating. Is n incrementing?\n",
            "Loop is operating. Is n incrementing?\n",
            "Loop is operating. Is n incrementing?\n",
            "Loop is operating. Is n incrementing?\n",
            "Loop is operating. Is n incrementing?\n",
            "Loop is operating. Is n incrementing?\n",
            "Loop is operating. Is n incrementing?\n",
            "Loop is operating. Is n incrementing?\n",
            "Loop is operating. Is n incrementing?\n",
            "Loop is operating. Is n incrementing?\n",
            "Loop is operating. Is n incrementing?\n",
            "Loop is operating. Is n incrementing?\n",
            "Loop is operating. Is n incrementing?\n",
            "Loop is operating. Is n incrementing?\n",
            "Loop is operating. Is n incrementing?\n",
            "Loop is operating. Is n incrementing?\n",
            "Loop is operating. Is n incrementing?\n",
            "Loop is operating. Is n incrementing?\n",
            "Loop is operating. Is n incrementing?\n",
            "Loop is operating. Is n incrementing?\n",
            "Loop is operating. Is n incrementing?\n",
            "Loop is operating. Is n incrementing?\n",
            "Loop is operating. Is n incrementing?\n",
            "Loop is operating. Is n incrementing?\n",
            "Loop is operating. Is n incrementing?\n",
            "Loop is operating. Is n incrementing?\n",
            "Loop is operating. Is n incrementing?\n",
            "Loop is operating. Is n incrementing?\n",
            "Loop is operating. Is n incrementing?\n",
            "Loop is operating. Is n incrementing?\n",
            "Loop is operating. Is n incrementing?\n",
            "Loop is operating. Is n incrementing?\n",
            "Loop is operating. Is n incrementing?\n",
            "Loop is operating. Is n incrementing?\n",
            "Loop is operating. Is n incrementing?\n",
            "Loop is operating. Is n incrementing?\n",
            "Loop is operating. Is n incrementing?\n",
            "Loop is operating. Is n incrementing?\n",
            "Loop is operating. Is n incrementing?\n",
            "Loop is operating. Is n incrementing?\n",
            "Loop is operating. Is n incrementing?\n",
            "Loop is operating. Is n incrementing?\n",
            "Loop is operating. Is n incrementing?\n",
            "Loop is operating. Is n incrementing?\n",
            "Loop is operating. Is n incrementing?\n",
            "Loop is operating. Is n incrementing?\n",
            "Loop is operating. Is n incrementing?\n",
            "Loop is operating. Is n incrementing?\n",
            "Loop is operating. Is n incrementing?\n",
            "Loop is operating. Is n incrementing?\n",
            "Loop is operating. Is n incrementing?\n",
            "Loop is operating. Is n incrementing?\n",
            "Loop is operating. Is n incrementing?\n",
            "Loop is operating. Is n incrementing?\n",
            "Loop is operating. Is n incrementing?\n",
            "Loop is operating. Is n incrementing?\n",
            "Loop is operating. Is n incrementing?\n",
            "Loop is operating. Is n incrementing?\n",
            "Loop is operating. Is n incrementing?\n",
            "Loop is operating. Is n incrementing?\n",
            "Loop is operating. Is n incrementing?\n",
            "Loop is operating. Is n incrementing?\n",
            "Loop is operating. Is n incrementing?\n",
            "Loop is operating. Is n incrementing?\n",
            "Loop is operating. Is n incrementing?\n",
            "Loop is operating. Is n incrementing?\n",
            "Loop is operating. Is n incrementing?\n",
            "Loop is operating. Is n incrementing?\n",
            "Loop is operating. Is n incrementing?\n",
            "Loop is operating. Is n incrementing?\n",
            "Loop is operating. Is n incrementing?\n",
            "Loop is operating. Is n incrementing?\n",
            "Loop is operating. Is n incrementing?\n",
            "Loop is operating. Is n incrementing?\n",
            "Loop is operating. Is n incrementing?\n",
            "Loop is operating. Is n incrementing?\n",
            "Loop is operating. Is n incrementing?\n",
            "Loop is operating. Is n incrementing?\n",
            "Loop is operating. Is n incrementing?\n",
            "Loop is operating. Is n incrementing?\n",
            "Loop is operating. Is n incrementing?\n",
            "Loop is operating. Is n incrementing?\n",
            "Loop is operating. Is n incrementing?\n",
            "Loop is operating. Is n incrementing?\n",
            "Loop is operating. Is n incrementing?\n",
            "Loop is operating. Is n incrementing?\n",
            "Loop is operating. Is n incrementing?\n",
            "Loop is operating. Is n incrementing?\n",
            "Loop is operating. Is n incrementing?\n",
            "Loop is operating. Is n incrementing?\n",
            "Loop is operating. Is n incrementing?\n",
            "Loop is operating. Is n incrementing?\n",
            "Loop is operating. Is n incrementing?\n",
            "Loop is operating. Is n incrementing?\n",
            "Loop is operating. Is n incrementing?\n",
            "Loop is operating. Is n incrementing?\n",
            "Loop is operating. Is n incrementing?\n",
            "Loop is operating. Is n incrementing?\n",
            "Loop is operating. Is n incrementing?\n",
            "Loop is operating. Is n incrementing?\n",
            "Loop is operating. Is n incrementing?\n",
            "Loop is operating. Is n incrementing?\n",
            "Loop is operating. Is n incrementing?\n",
            "Loop is operating. Is n incrementing?\n",
            "Loop is operating. Is n incrementing?\n",
            "Loop is operating. Is n incrementing?\n",
            "Loop is operating. Is n incrementing?\n",
            "Loop is operating. Is n incrementing?\n",
            "Loop is operating. Is n incrementing?\n",
            "Loop is operating. Is n incrementing?\n",
            "Loop is operating. Is n incrementing?\n",
            "Loop is operating. Is n incrementing?\n",
            "Loop is operating. Is n incrementing?\n",
            "Loop is operating. Is n incrementing?\n",
            "Loop is operating. Is n incrementing?\n",
            "Loop is operating. Is n incrementing?\n",
            "Loop is operating. Is n incrementing?\n",
            "Loop is operating. Is n incrementing?\n",
            "Loop is operating. Is n incrementing?\n",
            "Loop is operating. Is n incrementing?\n",
            "Loop is operating. Is n incrementing?\n",
            "Loop is operating. Is n incrementing?\n",
            "Loop is operating. Is n incrementing?\n",
            "Loop is operating. Is n incrementing?\n",
            "Loop is operating. Is n incrementing?\n",
            "Loop is operating. Is n incrementing?\n",
            "Loop is operating. Is n incrementing?\n",
            "Loop is operating. Is n incrementing?\n",
            "Loop is operating. Is n incrementing?\n",
            "Loop is operating. Is n incrementing?\n",
            "Loop is operating. Is n incrementing?\n",
            "Loop is operating. Is n incrementing?\n",
            "Loop is operating. Is n incrementing?\n",
            "Loop is operating. Is n incrementing?\n",
            "Loop is operating. Is n incrementing?\n",
            "Loop is operating. Is n incrementing?\n",
            "Loop is operating. Is n incrementing?\n",
            "Loop is operating. Is n incrementing?\n",
            "Loop is operating. Is n incrementing?\n",
            "Loop is operating. Is n incrementing?\n",
            "Loop is operating. Is n incrementing?\n",
            "Loop is operating. Is n incrementing?\n",
            "Loop is operating. Is n incrementing?\n",
            "Loop is operating. Is n incrementing?\n",
            "Loop is operating. Is n incrementing?\n",
            "Loop is operating. Is n incrementing?\n",
            "Loop is operating. Is n incrementing?\n",
            "Loop is operating. Is n incrementing?\n",
            "Loop is operating. Is n incrementing?\n",
            "Loop is operating. Is n incrementing?\n",
            "Loop is operating. Is n incrementing?\n",
            "Loop is operating. Is n incrementing?\n",
            "Loop is operating. Is n incrementing?\n",
            "Loop is operating. Is n incrementing?\n",
            "Loop is operating. Is n incrementing?\n",
            "Loop is operating. Is n incrementing?\n",
            "Loop is operating. Is n incrementing?\n",
            "Loop is operating. Is n incrementing?\n",
            "Loop is operating. Is n incrementing?\n",
            "Loop is operating. Is n incrementing?\n",
            "Loop is operating. Is n incrementing?\n",
            "Loop is operating. Is n incrementing?\n",
            "Loop is operating. Is n incrementing?\n",
            "Loop is operating. Is n incrementing?\n",
            "Loop is operating. Is n incrementing?\n",
            "Loop is operating. Is n incrementing?\n",
            "Loop is operating. Is n incrementing?\n",
            "Loop is operating. Is n incrementing?\n",
            "Loop is operating. Is n incrementing?\n",
            "Loop is operating. Is n incrementing?\n",
            "Loop is operating. Is n incrementing?\n",
            "Loop is operating. Is n incrementing?\n",
            "Loop is operating. Is n incrementing?\n",
            "Loop is operating. Is n incrementing?\n",
            "Loop is operating. Is n incrementing?\n",
            "Loop is operating. Is n incrementing?\n",
            "Loop is operating. Is n incrementing?\n",
            "Loop is operating. Is n incrementing?\n",
            "Loop is operating. Is n incrementing?\n",
            "Loop is operating. Is n incrementing?\n",
            "Loop is operating. Is n incrementing?\n",
            "Loop is operating. Is n incrementing?\n",
            "Loop is operating. Is n incrementing?\n",
            "Loop is operating. Is n incrementing?\n",
            "Loop is operating. Is n incrementing?\n",
            "Loop is operating. Is n incrementing?\n",
            "Loop is operating. Is n incrementing?\n",
            "Loop is operating. Is n incrementing?\n",
            "Loop is operating. Is n incrementing?\n",
            "Loop is operating. Is n incrementing?\n",
            "Loop is operating. Is n incrementing?\n",
            "Loop is operating. Is n incrementing?\n",
            "Loop is operating. Is n incrementing?\n",
            "Loop is operating. Is n incrementing?\n",
            "Loop is operating. Is n incrementing?\n",
            "Loop is operating. Is n incrementing?\n",
            "Loop is operating. Is n incrementing?\n",
            "Loop is operating. Is n incrementing?\n",
            "Loop is operating. Is n incrementing?\n",
            "Loop is operating. Is n incrementing?\n",
            "Loop is operating. Is n incrementing?\n",
            "Loop is operating. Is n incrementing?\n",
            "Loop is operating. Is n incrementing?\n",
            "Loop is operating. Is n incrementing?\n",
            "Loop is operating. Is n incrementing?\n",
            "Loop is operating. Is n incrementing?\n",
            "Loop is operating. Is n incrementing?\n",
            "Loop is operating. Is n incrementing?\n",
            "Loop is operating. Is n incrementing?\n",
            "Loop is operating. Is n incrementing?\n",
            "Loop is operating. Is n incrementing?\n",
            "Loop is operating. Is n incrementing?\n",
            "Loop is operating. Is n incrementing?\n",
            "Loop is operating. Is n incrementing?\n",
            "Loop is operating. Is n incrementing?\n",
            "Loop is operating. Is n incrementing?\n",
            "Loop is operating. Is n incrementing?\n",
            "Loop is operating. Is n incrementing?\n",
            "Loop is operating. Is n incrementing?\n",
            "Loop is operating. Is n incrementing?\n",
            "Loop is operating. Is n incrementing?\n",
            "Loop is operating. Is n incrementing?\n",
            "Loop is operating. Is n incrementing?\n",
            "Loop is operating. Is n incrementing?\n",
            "Loop is operating. Is n incrementing?\n",
            "Loop is operating. Is n incrementing?\n",
            "Loop is operating. Is n incrementing?\n",
            "Loop is operating. Is n incrementing?\n",
            "Loop is operating. Is n incrementing?\n",
            "Loop is operating. Is n incrementing?\n",
            "Loop is operating. Is n incrementing?\n",
            "Loop is operating. Is n incrementing?\n",
            "Loop is operating. Is n incrementing?\n",
            "Loop is operating. Is n incrementing?\n",
            "Loop is operating. Is n incrementing?\n",
            "Loop is operating. Is n incrementing?\n",
            "Loop is operating. Is n incrementing?\n",
            "Loop is operating. Is n incrementing?\n",
            "Loop is operating. Is n incrementing?\n",
            "Loop is operating. Is n incrementing?\n",
            "Loop is operating. Is n incrementing?\n",
            "Loop is operating. Is n incrementing?\n",
            "Loop is operating. Is n incrementing?\n",
            "Loop is operating. Is n incrementing?\n",
            "Loop is operating. Is n incrementing?\n",
            "Loop is operating. Is n incrementing?\n",
            "Loop is operating. Is n incrementing?\n",
            "Loop is operating. Is n incrementing?\n",
            "Loop is operating. Is n incrementing?\n",
            "Loop is operating. Is n incrementing?\n",
            "Loop is operating. Is n incrementing?\n",
            "Loop is operating. Is n incrementing?\n",
            "Loop is operating. Is n incrementing?\n",
            "Loop is operating. Is n incrementing?\n",
            "Loop is operating. Is n incrementing?\n",
            "Loop is operating. Is n incrementing?\n",
            "Loop is operating. Is n incrementing?\n",
            "Loop is operating. Is n incrementing?\n",
            "Loop is operating. Is n incrementing?\n",
            "Loop is operating. Is n incrementing?\n",
            "Loop is operating. Is n incrementing?\n",
            "Loop is operating. Is n incrementing?\n",
            "Loop is operating. Is n incrementing?\n",
            "Loop is operating. Is n incrementing?\n",
            "Loop is operating. Is n incrementing?\n",
            "Loop is operating. Is n incrementing?\n",
            "Loop is operating. Is n incrementing?\n",
            "Loop is operating. Is n incrementing?\n",
            "Loop is operating. Is n incrementing?\n",
            "Loop is operating. Is n incrementing?\n",
            "Loop is operating. Is n incrementing?\n",
            "Loop is operating. Is n incrementing?\n",
            "Loop is operating. Is n incrementing?\n",
            "Loop is operating. Is n incrementing?\n",
            "Loop is operating. Is n incrementing?\n",
            "Loop is operating. Is n incrementing?\n",
            "Loop is operating. Is n incrementing?\n",
            "Loop is operating. Is n incrementing?\n",
            "Loop is operating. Is n incrementing?\n",
            "Loop is operating. Is n incrementing?\n",
            "Loop is operating. Is n incrementing?\n",
            "Loop is operating. Is n incrementing?\n",
            "Loop is operating. Is n incrementing?\n",
            "Loop is operating. Is n incrementing?\n",
            "Loop is operating. Is n incrementing?\n",
            "Loop is operating. Is n incrementing?\n",
            "Loop is operating. Is n incrementing?\n",
            "Loop is operating. Is n incrementing?\n",
            "Loop is operating. Is n incrementing?\n",
            "Loop is operating. Is n incrementing?\n",
            "Loop is operating. Is n incrementing?\n",
            "Loop is operating. Is n incrementing?\n",
            "Loop is operating. Is n incrementing?\n",
            "Loop is operating. Is n incrementing?\n",
            "Loop is operating. Is n incrementing?\n",
            "Loop is operating. Is n incrementing?\n",
            "Loop is operating. Is n incrementing?\n",
            "Loop is operating. Is n incrementing?\n",
            "Loop is operating. Is n incrementing?\n",
            "Loop is operating. Is n incrementing?\n",
            "Loop is operating. Is n incrementing?\n",
            "Loop is operating. Is n incrementing?\n",
            "Loop is operating. Is n incrementing?\n",
            "Loop is operating. Is n incrementing?\n",
            "Loop is operating. Is n incrementing?\n",
            "Loop is operating. Is n incrementing?\n",
            "Loop is operating. Is n incrementing?\n",
            "Loop is operating. Is n incrementing?\n",
            "Loop is operating. Is n incrementing?\n",
            "Loop is operating. Is n incrementing?\n",
            "Loop is operating. Is n incrementing?\n",
            "Loop is operating. Is n incrementing?\n",
            "Loop is operating. Is n incrementing?\n",
            "Loop is operating. Is n incrementing?\n",
            "Loop is operating. Is n incrementing?\n",
            "Loop is operating. Is n incrementing?\n",
            "Loop is operating. Is n incrementing?\n",
            "Loop is operating. Is n incrementing?\n",
            "Loop is operating. Is n incrementing?\n",
            "Loop is operating. Is n incrementing?\n",
            "Loop is operating. Is n incrementing?\n",
            "Loop is operating. Is n incrementing?\n",
            "Loop is operating. Is n incrementing?\n",
            "Loop is operating. Is n incrementing?\n",
            "Loop is operating. Is n incrementing?\n",
            "Loop is operating. Is n incrementing?\n",
            "Loop is operating. Is n incrementing?\n",
            "Loop is operating. Is n incrementing?\n",
            "Loop is operating. Is n incrementing?\n",
            "Loop is operating. Is n incrementing?\n",
            "Loop is operating. Is n incrementing?\n",
            "Loop is operating. Is n incrementing?\n",
            "Loop is operating. Is n incrementing?\n",
            "Loop is operating. Is n incrementing?\n",
            "Loop is operating. Is n incrementing?\n",
            "Loop is operating. Is n incrementing?\n",
            "Loop is operating. Is n incrementing?\n",
            "Loop is operating. Is n incrementing?\n",
            "Loop is operating. Is n incrementing?\n",
            "Loop is operating. Is n incrementing?\n",
            "Loop is operating. Is n incrementing?\n",
            "Loop is operating. Is n incrementing?\n",
            "Loop is operating. Is n incrementing?\n",
            "Loop is operating. Is n incrementing?\n",
            "Loop is operating. Is n incrementing?\n",
            "Loop is operating. Is n incrementing?\n",
            "Loop is operating. Is n incrementing?\n",
            "Loop is operating. Is n incrementing?\n",
            "Loop is operating. Is n incrementing?\n",
            "Loop is operating. Is n incrementing?\n",
            "Loop is operating. Is n incrementing?\n",
            "Loop is operating. Is n incrementing?\n",
            "Loop is operating. Is n incrementing?\n",
            "Loop is operating. Is n incrementing?\n",
            "Loop is operating. Is n incrementing?\n",
            "Loop is operating. Is n incrementing?\n",
            "Loop is operating. Is n incrementing?\n",
            "Loop is operating. Is n incrementing?\n",
            "Loop is operating. Is n incrementing?\n",
            "Loop is operating. Is n incrementing?\n",
            "Loop is operating. Is n incrementing?\n",
            "Loop is operating. Is n incrementing?\n",
            "Loop is operating. Is n incrementing?\n",
            "Loop is operating. Is n incrementing?\n",
            "Loop is operating. Is n incrementing?\n",
            "Loop is operating. Is n incrementing?\n",
            "Loop is operating. Is n incrementing?\n",
            "Loop is operating. Is n incrementing?\n",
            "Loop is operating. Is n incrementing?\n",
            "Loop is operating. Is n incrementing?\n",
            "Loop is operating. Is n incrementing?\n",
            "Loop is operating. Is n incrementing?\n",
            "Loop is operating. Is n incrementing?\n",
            "Loop is operating. Is n incrementing?\n",
            "Loop is operating. Is n incrementing?\n",
            "Loop is operating. Is n incrementing?\n",
            "Loop is operating. Is n incrementing?\n",
            "Loop is operating. Is n incrementing?\n",
            "Loop is operating. Is n incrementing?\n",
            "Loop is operating. Is n incrementing?\n",
            "Loop is operating. Is n incrementing?\n",
            "Loop is operating. Is n incrementing?\n",
            "Loop is operating. Is n incrementing?\n",
            "Loop is operating. Is n incrementing?\n",
            "Loop is operating. Is n incrementing?\n",
            "Loop is operating. Is n incrementing?\n",
            "Loop is operating. Is n incrementing?\n",
            "Loop is operating. Is n incrementing?\n",
            "Loop is operating. Is n incrementing?\n",
            "Loop is operating. Is n incrementing?\n",
            "Loop is operating. Is n incrementing?\n",
            "Loop is operating. Is n incrementing?\n",
            "Loop is operating. Is n incrementing?\n",
            "Loop is operating. Is n incrementing?\n",
            "Loop is operating. Is n incrementing?\n",
            "Loop is operating. Is n incrementing?\n",
            "Loop is operating. Is n incrementing?\n",
            "Loop is operating. Is n incrementing?\n",
            "Loop is operating. Is n incrementing?\n",
            "Loop is operating. Is n incrementing?\n",
            "Loop is operating. Is n incrementing?\n",
            "Loop is operating. Is n incrementing?\n",
            "Loop is operating. Is n incrementing?\n",
            "Loop is operating. Is n incrementing?\n",
            "Loop is operating. Is n incrementing?\n",
            "Loop is operating. Is n incrementing?\n",
            "Loop is operating. Is n incrementing?\n",
            "Loop is operating. Is n incrementing?\n",
            "Loop is operating. Is n incrementing?\n",
            "Loop is operating. Is n incrementing?\n",
            "Loop is operating. Is n incrementing?\n",
            "Loop is operating. Is n incrementing?\n",
            "Loop is operating. Is n incrementing?\n",
            "Loop is operating. Is n incrementing?\n",
            "Loop is operating. Is n incrementing?\n",
            "Loop is operating. Is n incrementing?\n",
            "Loop is operating. Is n incrementing?\n",
            "Loop is operating. Is n incrementing?\n",
            "Loop is operating. Is n incrementing?\n",
            "Loop is operating. Is n incrementing?\n",
            "Loop is operating. Is n incrementing?\n",
            "Loop is operating. Is n incrementing?\n",
            "Loop is operating. Is n incrementing?\n",
            "Loop is operating. Is n incrementing?\n",
            "Loop is operating. Is n incrementing?\n",
            "Loop is operating. Is n incrementing?\n",
            "Loop is operating. Is n incrementing?\n",
            "Loop is operating. Is n incrementing?\n",
            "Loop is operating. Is n incrementing?\n",
            "Loop is operating. Is n incrementing?\n",
            "Loop is operating. Is n incrementing?\n",
            "Loop is operating. Is n incrementing?\n",
            "Loop is operating. Is n incrementing?\n",
            "Loop is operating. Is n incrementing?\n",
            "Loop is operating. Is n incrementing?\n",
            "Loop is operating. Is n incrementing?\n",
            "Loop is operating. Is n incrementing?\n",
            "Loop is operating. Is n incrementing?\n",
            "Loop is operating. Is n incrementing?\n",
            "Loop is operating. Is n incrementing?\n",
            "Loop is operating. Is n incrementing?\n",
            "Loop is operating. Is n incrementing?\n",
            "Loop is operating. Is n incrementing?\n",
            "Loop is operating. Is n incrementing?\n",
            "Loop is operating. Is n incrementing?\n",
            "Loop is operating. Is n incrementing?\n",
            "Loop is operating. Is n incrementing?\n",
            "Loop is operating. Is n incrementing?\n",
            "Loop is operating. Is n incrementing?\n",
            "Loop is operating. Is n incrementing?\n",
            "Loop is operating. Is n incrementing?\n",
            "Loop is operating. Is n incrementing?\n",
            "Loop is operating. Is n incrementing?\n",
            "Loop is operating. Is n incrementing?\n",
            "Loop is operating. Is n incrementing?\n",
            "Loop is operating. Is n incrementing?\n",
            "Loop is operating. Is n incrementing?\n",
            "Loop is operating. Is n incrementing?\n",
            "Loop is operating. Is n incrementing?\n",
            "Loop is operating. Is n incrementing?\n",
            "Loop is operating. Is n incrementing?\n",
            "Loop is operating. Is n incrementing?\n",
            "Loop is operating. Is n incrementing?\n",
            "Loop is operating. Is n incrementing?\n",
            "Loop is operating. Is n incrementing?\n",
            "Loop is operating. Is n incrementing?\n",
            "Loop is operating. Is n incrementing?\n",
            "Loop is operating. Is n incrementing?\n",
            "Loop is operating. Is n incrementing?\n",
            "Loop is operating. Is n incrementing?\n",
            "Loop is operating. Is n incrementing?\n",
            "Loop is operating. Is n incrementing?\n",
            "Loop is operating. Is n incrementing?\n",
            "Loop is operating. Is n incrementing?\n",
            "Loop is operating. Is n incrementing?\n",
            "Loop is operating. Is n incrementing?\n",
            "Loop is operating. Is n incrementing?\n",
            "Loop is operating. Is n incrementing?\n",
            "Loop is operating. Is n incrementing?\n",
            "Loop is operating. Is n incrementing?\n",
            "Loop is operating. Is n incrementing?\n",
            "Loop is operating. Is n incrementing?\n",
            "Loop is operating. Is n incrementing?\n",
            "Loop is operating. Is n incrementing?\n",
            "Loop is operating. Is n incrementing?\n",
            "Loop is operating. Is n incrementing?\n",
            "Loop is operating. Is n incrementing?\n",
            "Loop is operating. Is n incrementing?\n",
            "Loop is operating. Is n incrementing?\n",
            "Loop is operating. Is n incrementing?\n",
            "Loop is operating. Is n incrementing?\n",
            "Loop is operating. Is n incrementing?\n",
            "Loop is operating. Is n incrementing?\n",
            "Loop is operating. Is n incrementing?\n",
            "Loop is operating. Is n incrementing?\n",
            "Loop is operating. Is n incrementing?\n",
            "Loop is operating. Is n incrementing?\n",
            "Loop is operating. Is n incrementing?\n",
            "Loop is operating. Is n incrementing?\n",
            "Loop is operating. Is n incrementing?\n",
            "Loop is operating. Is n incrementing?\n",
            "Loop is operating. Is n incrementing?\n",
            "Loop is operating. Is n incrementing?\n",
            "Loop is operating. Is n incrementing?\n",
            "Loop is operating. Is n incrementing?\n",
            "Loop is operating. Is n incrementing?\n",
            "Loop is operating. Is n incrementing?\n",
            "Loop is operating. Is n incrementing?\n",
            "Loop is operating. Is n incrementing?\n",
            "Loop is operating. Is n incrementing?\n",
            "Loop is operating. Is n incrementing?\n",
            "Loop is operating. Is n incrementing?\n",
            "Loop is operating. Is n incrementing?\n",
            "Loop is operating. Is n incrementing?\n",
            "Loop is operating. Is n incrementing?\n",
            "Loop is operating. Is n incrementing?\n",
            "Loop is operating. Is n incrementing?\n",
            "Loop is operating. Is n incrementing?\n",
            "Loop is operating. Is n incrementing?\n",
            "Loop is operating. Is n incrementing?\n",
            "Loop is operating. Is n incrementing?\n",
            "Loop is operating. Is n incrementing?\n",
            "Loop is operating. Is n incrementing?\n",
            "Loop is operating. Is n incrementing?\n",
            "Loop is operating. Is n incrementing?\n",
            "Loop is operating. Is n incrementing?\n",
            "Loop is operating. Is n incrementing?\n",
            "Loop is operating. Is n incrementing?\n",
            "Loop is operating. Is n incrementing?\n",
            "Loop is operating. Is n incrementing?\n",
            "Loop is operating. Is n incrementing?\n",
            "Loop is operating. Is n incrementing?\n",
            "Loop is operating. Is n incrementing?\n",
            "Loop is operating. Is n incrementing?\n",
            "Loop is operating. Is n incrementing?\n",
            "Loop is operating. Is n incrementing?\n",
            "Loop is operating. Is n incrementing?\n",
            "Loop is operating. Is n incrementing?\n",
            "Loop is operating. Is n incrementing?\n",
            "Loop is operating. Is n incrementing?\n",
            "Loop is operating. Is n incrementing?\n",
            "Loop is operating. Is n incrementing?\n",
            "Loop is operating. Is n incrementing?\n",
            "Loop is operating. Is n incrementing?\n",
            "Loop is operating. Is n incrementing?\n",
            "Loop is operating. Is n incrementing?\n",
            "Loop is operating. Is n incrementing?\n",
            "Loop is operating. Is n incrementing?\n",
            "Loop is operating. Is n incrementing?\n",
            "Loop is operating. Is n incrementing?\n",
            "Loop is operating. Is n incrementing?\n",
            "Loop is operating. Is n incrementing?\n",
            "Loop is operating. Is n incrementing?\n",
            "Loop is operating. Is n incrementing?\n",
            "Loop is operating. Is n incrementing?\n",
            "Loop is operating. Is n incrementing?\n",
            "Loop is operating. Is n incrementing?\n",
            "Loop is operating. Is n incrementing?\n",
            "Loop is operating. Is n incrementing?\n",
            "Loop is operating. Is n incrementing?\n",
            "Loop is operating. Is n incrementing?\n",
            "Loop is operating. Is n incrementing?\n",
            "Loop is operating. Is n incrementing?\n",
            "Loop is operating. Is n incrementing?\n",
            "Loop is operating. Is n incrementing?\n",
            "Loop is operating. Is n incrementing?\n",
            "Loop is operating. Is n incrementing?\n",
            "Loop is operating. Is n incrementing?\n",
            "Loop is operating. Is n incrementing?\n",
            "Loop is operating. Is n incrementing?\n",
            "Loop is operating. Is n incrementing?\n",
            "Loop is operating. Is n incrementing?\n",
            "Loop is operating. Is n incrementing?\n",
            "Loop is operating. Is n incrementing?\n",
            "Loop is operating. Is n incrementing?\n",
            "Loop is operating. Is n incrementing?\n",
            "Loop is operating. Is n incrementing?\n",
            "Loop is operating. Is n incrementing?\n",
            "Loop is operating. Is n incrementing?\n",
            "Loop is operating. Is n incrementing?\n",
            "Loop is operating. Is n incrementing?\n",
            "Loop is operating. Is n incrementing?\n",
            "Loop is operating. Is n incrementing?\n",
            "Loop is operating. Is n incrementing?\n",
            "Loop is operating. Is n incrementing?\n",
            "Loop is operating. Is n incrementing?\n",
            "Loop is operating. Is n incrementing?\n",
            "Loop is operating. Is n incrementing?\n",
            "Loop is operating. Is n incrementing?\n",
            "Loop is operating. Is n incrementing?\n",
            "Loop is operating. Is n incrementing?\n",
            "Loop is operating. Is n incrementing?\n",
            "Loop is operating. Is n incrementing?\n",
            "Loop is operating. Is n incrementing?\n",
            "Loop is operating. Is n incrementing?\n",
            "Loop is operating. Is n incrementing?\n",
            "Loop is operating. Is n incrementing?\n",
            "Loop is operating. Is n incrementing?\n",
            "Loop is operating. Is n incrementing?\n",
            "Loop is operating. Is n incrementing?\n",
            "Loop is operating. Is n incrementing?\n",
            "Loop is operating. Is n incrementing?\n",
            "Loop is operating. Is n incrementing?\n",
            "Loop is operating. Is n incrementing?\n",
            "Loop is operating. Is n incrementing?\n",
            "Loop is operating. Is n incrementing?\n",
            "Loop is operating. Is n incrementing?\n",
            "Loop is operating. Is n incrementing?\n",
            "Loop is operating. Is n incrementing?\n",
            "Loop is operating. Is n incrementing?\n",
            "Loop is operating. Is n incrementing?\n",
            "Loop is operating. Is n incrementing?\n",
            "Loop is operating. Is n incrementing?\n",
            "Loop is operating. Is n incrementing?\n",
            "Loop is operating. Is n incrementing?\n",
            "Loop is operating. Is n incrementing?\n",
            "Loop is operating. Is n incrementing?\n",
            "Loop is operating. Is n incrementing?\n",
            "Loop is operating. Is n incrementing?\n",
            "Loop is operating. Is n incrementing?\n",
            "Loop is operating. Is n incrementing?\n",
            "Loop is operating. Is n incrementing?\n",
            "Loop is operating. Is n incrementing?\n",
            "Loop is operating. Is n incrementing?\n",
            "Loop is operating. Is n incrementing?\n",
            "Loop is operating. Is n incrementing?\n",
            "Loop is operating. Is n incrementing?\n",
            "Loop is operating. Is n incrementing?\n",
            "Loop is operating. Is n incrementing?\n",
            "Loop is operating. Is n incrementing?\n",
            "Loop is operating. Is n incrementing?\n",
            "Loop is operating. Is n incrementing?\n",
            "Loop is operating. Is n incrementing?\n",
            "Loop is operating. Is n incrementing?\n",
            "Loop is operating. Is n incrementing?\n",
            "Loop is operating. Is n incrementing?\n",
            "Loop is operating. Is n incrementing?\n",
            "Loop is operating. Is n incrementing?\n",
            "Loop is operating. Is n incrementing?\n",
            "Loop is operating. Is n incrementing?\n",
            "Loop is operating. Is n incrementing?\n",
            "Loop is operating. Is n incrementing?\n",
            "Loop is operating. Is n incrementing?\n",
            "Loop is operating. Is n incrementing?\n",
            "Loop is operating. Is n incrementing?\n",
            "Loop is operating. Is n incrementing?\n",
            "Loop is operating. Is n incrementing?\n",
            "Loop is operating. Is n incrementing?\n",
            "Loop is operating. Is n incrementing?\n",
            "Loop is operating. Is n incrementing?\n",
            "Loop is operating. Is n incrementing?\n",
            "Loop is operating. Is n incrementing?\n",
            "Loop is operating. Is n incrementing?\n",
            "Loop is operating. Is n incrementing?\n",
            "Loop is operating. Is n incrementing?\n",
            "Loop is operating. Is n incrementing?\n",
            "Loop is operating. Is n incrementing?\n",
            "Loop is operating. Is n incrementing?\n",
            "Loop is operating. Is n incrementing?\n",
            "Loop is operating. Is n incrementing?\n",
            "Loop is operating. Is n incrementing?\n",
            "Loop is operating. Is n incrementing?\n",
            "Loop is operating. Is n incrementing?\n",
            "Loop is operating. Is n incrementing?\n",
            "Loop is operating. Is n incrementing?\n",
            "Loop is operating. Is n incrementing?\n",
            "Loop is operating. Is n incrementing?\n",
            "Loop is operating. Is n incrementing?\n",
            "Loop is operating. Is n incrementing?\n",
            "Loop is operating. Is n incrementing?\n",
            "Loop is operating. Is n incrementing?\n",
            "Loop is operating. Is n incrementing?\n",
            "Loop is operating. Is n incrementing?\n",
            "Loop is operating. Is n incrementing?\n",
            "Loop is operating. Is n incrementing?\n",
            "Loop is operating. Is n incrementing?\n",
            "Loop is operating. Is n incrementing?\n",
            "Loop is operating. Is n incrementing?\n",
            "Loop is operating. Is n incrementing?\n",
            "Loop is operating. Is n incrementing?\n",
            "Loop is operating. Is n incrementing?\n",
            "Loop is operating. Is n incrementing?\n",
            "Loop is operating. Is n incrementing?\n",
            "Loop is operating. Is n incrementing?\n",
            "Loop is operating. Is n incrementing?\n",
            "Loop is operating. Is n incrementing?\n",
            "Loop is operating. Is n incrementing?\n",
            "Loop is operating. Is n incrementing?\n",
            "Loop is operating. Is n incrementing?\n",
            "Loop is operating. Is n incrementing?\n",
            "Loop is operating. Is n incrementing?\n",
            "Loop is operating. Is n incrementing?\n",
            "Loop is operating. Is n incrementing?\n",
            "Loop is operating. Is n incrementing?\n",
            "Loop is operating. Is n incrementing?\n",
            "Loop is operating. Is n incrementing?\n",
            "Loop is operating. Is n incrementing?\n",
            "Loop is operating. Is n incrementing?\n",
            "Loop is operating. Is n incrementing?\n",
            "Loop is operating. Is n incrementing?\n",
            "Loop is operating. Is n incrementing?\n",
            "Loop is operating. Is n incrementing?\n",
            "Loop is operating. Is n incrementing?\n",
            "Loop is operating. Is n incrementing?\n",
            "Loop is operating. Is n incrementing?\n",
            "Loop is operating. Is n incrementing?\n",
            "Loop is operating. Is n incrementing?\n",
            "Loop is operating. Is n incrementing?\n",
            "Loop is operating. Is n incrementing?\n",
            "Loop is operating. Is n incrementing?\n",
            "Loop is operating. Is n incrementing?\n",
            "Loop is operating. Is n incrementing?\n",
            "Loop is operating. Is n incrementing?\n",
            "Loop is operating. Is n incrementing?\n",
            "Loop is operating. Is n incrementing?\n",
            "Loop is operating. Is n incrementing?\n",
            "Loop is operating. Is n incrementing?\n",
            "Loop is operating. Is n incrementing?\n",
            "Loop is operating. Is n incrementing?\n",
            "Loop is operating. Is n incrementing?\n",
            "Loop is operating. Is n incrementing?\n",
            "Loop is operating. Is n incrementing?\n",
            "Loop is operating. Is n incrementing?\n",
            "Loop is operating. Is n incrementing?\n",
            "Loop is operating. Is n incrementing?\n",
            "Loop is operating. Is n incrementing?\n",
            "Loop is operating. Is n incrementing?\n",
            "Loop is operating. Is n incrementing?\n",
            "Loop is operating. Is n incrementing?\n",
            "Loop is operating. Is n incrementing?\n",
            "Loop is operating. Is n incrementing?\n",
            "Loop is operating. Is n incrementing?\n",
            "Loop is operating. Is n incrementing?\n",
            "Loop is operating. Is n incrementing?\n",
            "Loop is operating. Is n incrementing?\n",
            "Loop is operating. Is n incrementing?\n",
            "Loop is operating. Is n incrementing?\n",
            "Loop is operating. Is n incrementing?\n",
            "Loop is operating. Is n incrementing?\n",
            "Loop is operating. Is n incrementing?\n",
            "Loop is operating. Is n incrementing?\n",
            "Loop is operating. Is n incrementing?\n",
            "Loop is operating. Is n incrementing?\n",
            "Loop is operating. Is n incrementing?\n",
            "Loop is operating. Is n incrementing?\n",
            "Loop is operating. Is n incrementing?\n",
            "Loop is operating. Is n incrementing?\n",
            "Loop is operating. Is n incrementing?\n",
            "Loop is operating. Is n incrementing?\n",
            "Loop is operating. Is n incrementing?\n",
            "Loop is operating. Is n incrementing?\n",
            "Loop is operating. Is n incrementing?\n",
            "Loop is operating. Is n incrementing?\n",
            "Loop is operating. Is n incrementing?\n",
            "Loop is operating. Is n incrementing?\n",
            "Loop is operating. Is n incrementing?\n",
            "Loop is operating. Is n incrementing?\n",
            "Loop is operating. Is n incrementing?\n",
            "Loop is operating. Is n incrementing?\n",
            "Loop is operating. Is n incrementing?\n",
            "Loop is operating. Is n incrementing?\n",
            "Loop is operating. Is n incrementing?\n",
            "Loop is operating. Is n incrementing?\n",
            "Loop is operating. Is n incrementing?\n",
            "Loop is operating. Is n incrementing?\n",
            "Loop is operating. Is n incrementing?\n",
            "Loop is operating. Is n incrementing?\n",
            "Loop is operating. Is n incrementing?\n",
            "Loop is operating. Is n incrementing?\n",
            "Loop is operating. Is n incrementing?\n",
            "Loop is operating. Is n incrementing?\n",
            "Loop is operating. Is n incrementing?\n",
            "Loop is operating. Is n incrementing?\n",
            "Loop is operating. Is n incrementing?\n",
            "Loop is operating. Is n incrementing?\n",
            "Loop is operating. Is n incrementing?\n",
            "Loop is operating. Is n incrementing?\n",
            "Loop is operating. Is n incrementing?\n",
            "Loop is operating. Is n incrementing?\n",
            "Loop is operating. Is n incrementing?\n",
            "Loop is operating. Is n incrementing?\n",
            "Loop is operating. Is n incrementing?\n",
            "Loop is operating. Is n incrementing?\n",
            "Loop is operating. Is n incrementing?\n",
            "Loop is operating. Is n incrementing?\n",
            "Loop is operating. Is n incrementing?\n",
            "Loop is operating. Is n incrementing?\n",
            "Loop is operating. Is n incrementing?\n",
            "Loop is operating. Is n incrementing?\n",
            "Loop is operating. Is n incrementing?\n",
            "Loop is operating. Is n incrementing?\n",
            "Loop is operating. Is n incrementing?\n",
            "Loop is operating. Is n incrementing?\n",
            "Loop is operating. Is n incrementing?\n",
            "Loop is operating. Is n incrementing?\n",
            "Loop is operating. Is n incrementing?\n",
            "Loop is operating. Is n incrementing?\n",
            "Loop is operating. Is n incrementing?\n",
            "Loop is operating. Is n incrementing?\n",
            "Loop is operating. Is n incrementing?\n",
            "Loop is operating. Is n incrementing?\n",
            "Loop is operating. Is n incrementing?\n",
            "Loop is operating. Is n incrementing?\n",
            "Loop is operating. Is n incrementing?\n",
            "Loop is operating. Is n incrementing?\n",
            "Loop is operating. Is n incrementing?\n",
            "Loop is operating. Is n incrementing?\n",
            "Loop is operating. Is n incrementing?\n",
            "Loop is operating. Is n incrementing?\n",
            "Loop is operating. Is n incrementing?\n",
            "Loop is operating. Is n incrementing?\n",
            "Loop is operating. Is n incrementing?\n",
            "Loop is operating. Is n incrementing?\n",
            "Loop is operating. Is n incrementing?\n",
            "Loop is operating. Is n incrementing?\n",
            "Loop is operating. Is n incrementing?\n",
            "Loop is operating. Is n incrementing?\n",
            "Loop is operating. Is n incrementing?\n",
            "Loop is operating. Is n incrementing?\n",
            "Loop is operating. Is n incrementing?\n",
            "Loop is operating. Is n incrementing?\n",
            "Loop is operating. Is n incrementing?\n",
            "Loop is operating. Is n incrementing?\n",
            "Loop is operating. Is n incrementing?\n",
            "Loop is operating. Is n incrementing?\n",
            "Loop is operating. Is n incrementing?\n",
            "Loop is operating. Is n incrementing?\n",
            "Loop is operating. Is n incrementing?\n",
            "Loop is operating. Is n incrementing?\n",
            "Loop is operating. Is n incrementing?\n",
            "Loop is operating. Is n incrementing?\n",
            "Loop is operating. Is n incrementing?\n",
            "Loop is operating. Is n incrementing?\n",
            "Loop is operating. Is n incrementing?\n",
            "Loop is operating. Is n incrementing?\n",
            "Loop is operating. Is n incrementing?\n",
            "Loop is operating. Is n incrementing?\n",
            "Loop is operating. Is n incrementing?\n",
            "Loop is operating. Is n incrementing?\n",
            "Loop is operating. Is n incrementing?\n",
            "Loop is operating. Is n incrementing?\n",
            "Loop is operating. Is n incrementing?\n",
            "Loop is operating. Is n incrementing?\n",
            "Loop is operating. Is n incrementing?\n",
            "Loop is operating. Is n incrementing?\n",
            "Loop is operating. Is n incrementing?\n",
            "Loop is operating. Is n incrementing?\n",
            "Loop is operating. Is n incrementing?\n",
            "Loop is operating. Is n incrementing?\n",
            "Loop is operating. Is n incrementing?\n",
            "Loop is operating. Is n incrementing?\n",
            "Loop is operating. Is n incrementing?\n",
            "Loop is operating. Is n incrementing?\n",
            "Loop is operating. Is n incrementing?\n",
            "Loop is operating. Is n incrementing?\n",
            "Loop is operating. Is n incrementing?\n",
            "Loop is operating. Is n incrementing?\n",
            "Loop is operating. Is n incrementing?\n",
            "Loop is operating. Is n incrementing?\n",
            "Loop is operating. Is n incrementing?\n",
            "Loop is operating. Is n incrementing?\n",
            "Loop is operating. Is n incrementing?\n",
            "Loop is operating. Is n incrementing?\n",
            "Loop is operating. Is n incrementing?\n",
            "Loop is operating. Is n incrementing?\n",
            "Loop is operating. Is n incrementing?\n",
            "Loop is operating. Is n incrementing?\n",
            "Loop is operating. Is n incrementing?\n",
            "Loop is operating. Is n incrementing?\n",
            "Loop is operating. Is n incrementing?\n",
            "Loop is operating. Is n incrementing?\n",
            "Loop is operating. Is n incrementing?\n",
            "Loop is operating. Is n incrementing?\n",
            "Loop is operating. Is n incrementing?\n",
            "Loop is operating. Is n incrementing?\n",
            "Loop is operating. Is n incrementing?\n",
            "Loop is operating. Is n incrementing?\n",
            "Loop is operating. Is n incrementing?\n",
            "Loop is operating. Is n incrementing?\n",
            "Loop is operating. Is n incrementing?\n",
            "Loop is operating. Is n incrementing?\n",
            "Loop is operating. Is n incrementing?\n",
            "Loop is operating. Is n incrementing?\n",
            "Loop is operating. Is n incrementing?\n",
            "Loop is operating. Is n incrementing?\n",
            "Loop is operating. Is n incrementing?\n",
            "Loop is operating. Is n incrementing?\n",
            "Loop is operating. Is n incrementing?\n",
            "Loop is operating. Is n incrementing?\n",
            "Loop is operating. Is n incrementing?\n",
            "Loop is operating. Is n incrementing?\n",
            "Loop is operating. Is n incrementing?\n",
            "Loop is operating. Is n incrementing?\n",
            "Loop is operating. Is n incrementing?\n",
            "Loop is operating. Is n incrementing?\n",
            "Loop is operating. Is n incrementing?\n",
            "Loop is operating. Is n incrementing?\n",
            "Loop is operating. Is n incrementing?\n",
            "Loop is operating. Is n incrementing?\n",
            "Loop is operating. Is n incrementing?\n",
            "Loop is operating. Is n incrementing?\n",
            "Loop is operating. Is n incrementing?\n",
            "Loop is operating. Is n incrementing?\n",
            "Loop is operating. Is n incrementing?\n",
            "Loop is operating. Is n incrementing?\n",
            "Loop is operating. Is n incrementing?\n",
            "Loop is operating. Is n incrementing?\n",
            "Loop is operating. Is n incrementing?\n",
            "Loop is operating. Is n incrementing?\n",
            "Loop is operating. Is n incrementing?\n",
            "Loop is operating. Is n incrementing?\n",
            "Loop is operating. Is n incrementing?\n",
            "Loop is operating. Is n incrementing?\n",
            "Loop is operating. Is n incrementing?\n",
            "Loop is operating. Is n incrementing?\n",
            "Loop is operating. Is n incrementing?\n",
            "Loop is operating. Is n incrementing?\n",
            "Loop is operating. Is n incrementing?\n",
            "Loop is operating. Is n incrementing?\n",
            "Loop is operating. Is n incrementing?\n",
            "Loop is operating. Is n incrementing?\n",
            "Loop is operating. Is n incrementing?\n",
            "Loop is operating. Is n incrementing?\n",
            "Loop is operating. Is n incrementing?\n",
            "Loop is operating. Is n incrementing?\n",
            "Loop is operating. Is n incrementing?\n",
            "Loop is operating. Is n incrementing?\n",
            "Loop is operating. Is n incrementing?\n",
            "Loop is operating. Is n incrementing?\n",
            "Loop is operating. Is n incrementing?\n",
            "Loop is operating. Is n incrementing?\n",
            "Loop is operating. Is n incrementing?\n",
            "Loop is operating. Is n incrementing?\n",
            "Loop is operating. Is n incrementing?\n",
            "Loop is operating. Is n incrementing?\n",
            "Loop is operating. Is n incrementing?\n",
            "Loop is operating. Is n incrementing?\n",
            "Loop is operating. Is n incrementing?\n",
            "Loop is operating. Is n incrementing?\n",
            "Loop is operating. Is n incrementing?\n",
            "Loop is operating. Is n incrementing?\n",
            "Loop is operating. Is n incrementing?\n",
            "Loop is operating. Is n incrementing?\n",
            "Loop is operating. Is n incrementing?\n",
            "Loop is operating. Is n incrementing?\n",
            "Loop is operating. Is n incrementing?\n",
            "Loop is operating. Is n incrementing?\n",
            "Loop is operating. Is n incrementing?\n",
            "Loop is operating. Is n incrementing?\n",
            "Loop is operating. Is n incrementing?\n",
            "Loop is operating. Is n incrementing?\n",
            "Loop is operating. Is n incrementing?\n",
            "Loop is operating. Is n incrementing?\n",
            "Loop is operating. Is n incrementing?\n",
            "Loop is operating. Is n incrementing?\n",
            "Loop is operating. Is n incrementing?\n",
            "Loop is operating. Is n incrementing?\n",
            "Loop is operating. Is n incrementing?\n",
            "Loop is operating. Is n incrementing?\n",
            "Loop is operating. Is n incrementing?\n",
            "Loop is operating. Is n incrementing?\n",
            "Loop is operating. Is n incrementing?\n",
            "Loop is operating. Is n incrementing?\n",
            "Loop is operating. Is n incrementing?\n",
            "Loop is operating. Is n incrementing?\n",
            "Loop is operating. Is n incrementing?\n",
            "Loop is operating. Is n incrementing?\n",
            "Loop is operating. Is n incrementing?\n",
            "Loop is operating. Is n incrementing?\n",
            "Loop is operating. Is n incrementing?\n",
            "Loop is operating. Is n incrementing?\n",
            "Loop is operating. Is n incrementing?\n",
            "Loop is operating. Is n incrementing?\n",
            "Loop is operating. Is n incrementing?\n",
            "Loop is operating. Is n incrementing?\n",
            "Loop is operating. Is n incrementing?\n",
            "Loop is operating. Is n incrementing?\n",
            "Loop is operating. Is n incrementing?\n",
            "Loop is operating. Is n incrementing?\n",
            "Loop is operating. Is n incrementing?\n",
            "Loop is operating. Is n incrementing?\n",
            "Loop is operating. Is n incrementing?\n",
            "Loop is operating. Is n incrementing?\n",
            "Loop is operating. Is n incrementing?\n",
            "Loop is operating. Is n incrementing?\n",
            "Loop is operating. Is n incrementing?\n",
            "Loop is operating. Is n incrementing?\n",
            "Loop is operating. Is n incrementing?\n",
            "Loop is operating. Is n incrementing?\n",
            "Loop is operating. Is n incrementing?\n",
            "Loop is operating. Is n incrementing?\n",
            "Loop is operating. Is n incrementing?\n",
            "Loop is operating. Is n incrementing?\n",
            "Loop is operating. Is n incrementing?\n",
            "Loop is operating. Is n incrementing?\n",
            "Loop is operating. Is n incrementing?\n",
            "Loop is operating. Is n incrementing?\n",
            "Loop is operating. Is n incrementing?\n",
            "Loop is operating. Is n incrementing?\n",
            "Loop is operating. Is n incrementing?\n",
            "Loop is operating. Is n incrementing?\n",
            "Loop is operating. Is n incrementing?\n",
            "Loop is operating. Is n incrementing?\n",
            "Loop is operating. Is n incrementing?\n",
            "Loop is operating. Is n incrementing?\n",
            "Loop is operating. Is n incrementing?\n",
            "Loop is operating. Is n incrementing?\n",
            "Loop is operating. Is n incrementing?\n",
            "Loop is operating. Is n incrementing?\n",
            "Loop is operating. Is n incrementing?\n",
            "Loop is operating. Is n incrementing?\n",
            "Loop is operating. Is n incrementing?\n",
            "Loop is operating. Is n incrementing?\n",
            "Loop is operating. Is n incrementing?\n",
            "Loop is operating. Is n incrementing?\n",
            "Loop is operating. Is n incrementing?\n",
            "Loop is operating. Is n incrementing?\n",
            "Loop is operating. Is n incrementing?\n",
            "Loop is operating. Is n incrementing?\n",
            "Loop is operating. Is n incrementing?\n",
            "Loop is operating. Is n incrementing?\n",
            "Loop is operating. Is n incrementing?\n",
            "Loop is operating. Is n incrementing?\n",
            "Loop is operating. Is n incrementing?\n",
            "Loop is operating. Is n incrementing?\n",
            "Loop is operating. Is n incrementing?\n",
            "Loop is operating. Is n incrementing?\n",
            "Loop is operating. Is n incrementing?\n",
            "Loop is operating. Is n incrementing?\n",
            "Loop is operating. Is n incrementing?\n",
            "Loop is operating. Is n incrementing?\n",
            "Loop is operating. Is n incrementing?\n",
            "Loop is operating. Is n incrementing?\n",
            "Loop is operating. Is n incrementing?\n",
            "Loop is operating. Is n incrementing?\n",
            "Loop is operating. Is n incrementing?\n",
            "Loop is operating. Is n incrementing?\n",
            "Loop is operating. Is n incrementing?\n",
            "Loop is operating. Is n incrementing?\n",
            "Loop is operating. Is n incrementing?\n",
            "Loop is operating. Is n incrementing?\n",
            "Loop is operating. Is n incrementing?\n",
            "Loop is operating. Is n incrementing?\n",
            "Loop is operating. Is n incrementing?\n",
            "Loop is operating. Is n incrementing?\n",
            "Loop is operating. Is n incrementing?\n",
            "Loop is operating. Is n incrementing?\n",
            "Loop is operating. Is n incrementing?\n",
            "Loop is operating. Is n incrementing?\n",
            "Loop is operating. Is n incrementing?\n",
            "Loop is operating. Is n incrementing?\n",
            "Loop is operating. Is n incrementing?\n",
            "Loop is operating. Is n incrementing?\n",
            "Loop is operating. Is n incrementing?\n",
            "Loop is operating. Is n incrementing?\n",
            "Loop is operating. Is n incrementing?\n",
            "Loop is operating. Is n incrementing?\n",
            "Loop is operating. Is n incrementing?\n",
            "Loop is operating. Is n incrementing?\n",
            "Loop is operating. Is n incrementing?\n",
            "Loop is operating. Is n incrementing?\n",
            "Loop is operating. Is n incrementing?\n",
            "Loop is operating. Is n incrementing?\n",
            "Loop is operating. Is n incrementing?\n",
            "Loop is operating. Is n incrementing?\n",
            "Loop is operating. Is n incrementing?\n",
            "Loop is operating. Is n incrementing?\n",
            "Loop is operating. Is n incrementing?\n",
            "Loop is operating. Is n incrementing?\n",
            "Loop is operating. Is n incrementing?\n",
            "Loop is operating. Is n incrementing?\n",
            "Loop is operating. Is n incrementing?\n",
            "Loop is operating. Is n incrementing?\n",
            "Loop is operating. Is n incrementing?\n",
            "Loop is operating. Is n incrementing?\n",
            "Loop is operating. Is n incrementing?\n",
            "Loop is operating. Is n incrementing?\n",
            "Loop is operating. Is n incrementing?\n",
            "Loop is operating. Is n incrementing?\n",
            "Loop is operating. Is n incrementing?\n",
            "Loop is operating. Is n incrementing?\n",
            "Loop is operating. Is n incrementing?\n",
            "Loop is operating. Is n incrementing?\n",
            "Loop is operating. Is n incrementing?\n",
            "Loop is operating. Is n incrementing?\n",
            "Loop is operating. Is n incrementing?\n",
            "Loop is operating. Is n incrementing?\n",
            "Loop is operating. Is n incrementing?\n",
            "Loop is operating. Is n incrementing?\n",
            "Loop is operating. Is n incrementing?\n",
            "Loop is operating. Is n incrementing?\n",
            "Loop is operating. Is n incrementing?\n",
            "Loop is operating. Is n incrementing?\n",
            "Loop is operating. Is n incrementing?\n",
            "Loop is operating. Is n incrementing?\n",
            "Loop is operating. Is n incrementing?\n",
            "Loop is operating. Is n incrementing?\n",
            "Loop is operating. Is n incrementing?\n",
            "Loop is operating. Is n incrementing?\n",
            "Loop is operating. Is n incrementing?\n",
            "Loop is operating. Is n incrementing?\n",
            "Loop is operating. Is n incrementing?\n",
            "Loop is operating. Is n incrementing?\n",
            "Loop is operating. Is n incrementing?\n",
            "Loop is operating. Is n incrementing?\n",
            "Loop is operating. Is n incrementing?\n",
            "Loop is operating. Is n incrementing?\n",
            "Loop is operating. Is n incrementing?\n",
            "Loop is operating. Is n incrementing?\n",
            "Loop is operating. Is n incrementing?\n",
            "Loop is operating. Is n incrementing?\n",
            "Loop is operating. Is n incrementing?\n",
            "Loop is operating. Is n incrementing?\n",
            "Loop is operating. Is n incrementing?\n",
            "Loop is operating. Is n incrementing?\n",
            "Loop is operating. Is n incrementing?\n",
            "Loop is operating. Is n incrementing?\n",
            "Loop is operating. Is n incrementing?\n",
            "Loop is operating. Is n incrementing?\n",
            "Loop is operating. Is n incrementing?\n",
            "Loop is operating. Is n incrementing?\n",
            "Loop is operating. Is n incrementing?\n",
            "Loop is operating. Is n incrementing?\n",
            "Loop is operating. Is n incrementing?\n",
            "Loop is operating. Is n incrementing?\n",
            "Loop is operating. Is n incrementing?\n",
            "Loop is operating. Is n incrementing?\n",
            "Loop is operating. Is n incrementing?\n",
            "Loop is operating. Is n incrementing?\n",
            "Loop is operating. Is n incrementing?\n",
            "Loop is operating. Is n incrementing?\n",
            "Loop is operating. Is n incrementing?\n",
            "Loop is operating. Is n incrementing?\n",
            "Loop is operating. Is n incrementing?\n",
            "Loop is operating. Is n incrementing?\n",
            "Loop is operating. Is n incrementing?\n",
            "Loop is operating. Is n incrementing?\n",
            "Loop is operating. Is n incrementing?\n",
            "Loop is operating. Is n incrementing?\n",
            "Loop is operating. Is n incrementing?\n",
            "Loop is operating. Is n incrementing?\n",
            "Loop is operating. Is n incrementing?\n",
            "Loop is operating. Is n incrementing?\n",
            "Loop is operating. Is n incrementing?\n",
            "Loop is operating. Is n incrementing?\n",
            "Loop is operating. Is n incrementing?\n",
            "Loop is operating. Is n incrementing?\n",
            "Loop is operating. Is n incrementing?\n",
            "Loop is operating. Is n incrementing?\n",
            "Loop is operating. Is n incrementing?\n",
            "Loop is operating. Is n incrementing?\n",
            "Loop is operating. Is n incrementing?\n",
            "Loop is operating. Is n incrementing?\n",
            "Loop is operating. Is n incrementing?\n",
            "Loop is operating. Is n incrementing?\n",
            "Loop is operating. Is n incrementing?\n",
            "Loop is operating. Is n incrementing?\n",
            "Loop is operating. Is n incrementing?\n",
            "Loop is operating. Is n incrementing?\n",
            "Loop is operating. Is n incrementing?\n",
            "Loop is operating. Is n incrementing?\n",
            "Loop is operating. Is n incrementing?\n",
            "Loop is operating. Is n incrementing?\n",
            "Loop is operating. Is n incrementing?\n",
            "Loop is operating. Is n incrementing?\n",
            "Loop is operating. Is n incrementing?\n",
            "Loop is operating. Is n incrementing?\n",
            "Loop is operating. Is n incrementing?\n",
            "Loop is operating. Is n incrementing?\n",
            "Loop is operating. Is n incrementing?\n",
            "Loop is operating. Is n incrementing?\n",
            "Loop is operating. Is n incrementing?\n",
            "Loop is operating. Is n incrementing?\n",
            "Loop is operating. Is n incrementing?\n",
            "Loop is operating. Is n incrementing?\n",
            "Loop is operating. Is n incrementing?\n",
            "Loop is operating. Is n incrementing?\n",
            "Loop is operating. Is n incrementing?\n",
            "Loop is operating. Is n incrementing?\n",
            "Loop is operating. Is n incrementing?\n",
            "Loop is operating. Is n incrementing?\n",
            "Loop is operating. Is n incrementing?\n",
            "Loop is operating. Is n incrementing?\n",
            "Loop is operating. Is n incrementing?\n",
            "Loop is operating. Is n incrementing?\n",
            "Loop is operating. Is n incrementing?\n",
            "Loop is operating. Is n incrementing?\n",
            "Loop is operating. Is n incrementing?\n",
            "Loop is operating. Is n incrementing?\n",
            "Loop is operating. Is n incrementing?\n",
            "Loop is operating. Is n incrementing?\n",
            "Loop is operating. Is n incrementing?\n",
            "Loop is operating. Is n incrementing?\n",
            "Loop is operating. Is n incrementing?\n",
            "Loop is operating. Is n incrementing?\n",
            "Loop is operating. Is n incrementing?\n",
            "Loop is operating. Is n incrementing?\n",
            "Loop is operating. Is n incrementing?\n",
            "Loop is operating. Is n incrementing?\n",
            "Loop is operating. Is n incrementing?\n",
            "Loop is operating. Is n incrementing?\n",
            "Loop is operating. Is n incrementing?\n",
            "Loop is operating. Is n incrementing?\n",
            "Loop is operating. Is n incrementing?\n",
            "Loop is operating. Is n incrementing?\n",
            "Loop is operating. Is n incrementing?\n",
            "Loop is operating. Is n incrementing?\n",
            "Loop is operating. Is n incrementing?\n",
            "Loop is operating. Is n incrementing?\n",
            "Loop is operating. Is n incrementing?\n",
            "Loop is operating. Is n incrementing?\n",
            "Loop is operating. Is n incrementing?\n",
            "Loop is operating. Is n incrementing?\n",
            "Loop is operating. Is n incrementing?\n",
            "Loop is operating. Is n incrementing?\n",
            "Loop is operating. Is n incrementing?\n",
            "Loop is operating. Is n incrementing?\n",
            "Loop is operating. Is n incrementing?\n",
            "Loop is operating. Is n incrementing?\n",
            "Loop is operating. Is n incrementing?\n",
            "Loop is operating. Is n incrementing?\n",
            "Loop is operating. Is n incrementing?\n",
            "Loop is operating. Is n incrementing?\n",
            "Loop is operating. Is n incrementing?\n",
            "Loop is operating. Is n incrementing?\n",
            "Loop is operating. Is n incrementing?\n",
            "Loop is operating. Is n incrementing?\n",
            "Loop is operating. Is n incrementing?\n",
            "Loop is operating. Is n incrementing?\n",
            "Loop is operating. Is n incrementing?\n",
            "Loop is operating. Is n incrementing?\n",
            "Loop is operating. Is n incrementing?\n",
            "Loop is operating. Is n incrementing?\n",
            "Loop is operating. Is n incrementing?\n",
            "Loop is operating. Is n incrementing?\n",
            "Loop is operating. Is n incrementing?\n",
            "Loop is operating. Is n incrementing?\n",
            "Loop is operating. Is n incrementing?\n",
            "Loop is operating. Is n incrementing?\n",
            "Loop is operating. Is n incrementing?\n",
            "Loop is operating. Is n incrementing?\n",
            "Loop is operating. Is n incrementing?\n",
            "Loop is operating. Is n incrementing?\n",
            "Loop is operating. Is n incrementing?\n",
            "Loop is operating. Is n incrementing?\n",
            "Loop is operating. Is n incrementing?\n",
            "Loop is operating. Is n incrementing?\n",
            "Loop is operating. Is n incrementing?\n",
            "Loop is operating. Is n incrementing?\n",
            "Loop is operating. Is n incrementing?\n",
            "Loop is operating. Is n incrementing?\n",
            "Loop is operating. Is n incrementing?\n",
            "Loop is operating. Is n incrementing?\n",
            "Loop is operating. Is n incrementing?\n",
            "Loop is operating. Is n incrementing?\n",
            "Loop is operating. Is n incrementing?\n",
            "Loop is operating. Is n incrementing?\n",
            "Loop is operating. Is n incrementing?\n",
            "Loop is operating. Is n incrementing?\n",
            "Loop is operating. Is n incrementing?\n",
            "Loop is operating. Is n incrementing?\n",
            "Loop is operating. Is n incrementing?\n",
            "Loop is operating. Is n incrementing?\n",
            "Loop is operating. Is n incrementing?\n",
            "Loop is operating. Is n incrementing?\n",
            "Loop is operating. Is n incrementing?\n",
            "Loop is operating. Is n incrementing?\n",
            "Loop is operating. Is n incrementing?\n",
            "Loop is operating. Is n incrementing?\n",
            "Loop is operating. Is n incrementing?\n",
            "Loop is operating. Is n incrementing?\n",
            "Loop is operating. Is n incrementing?\n",
            "Loop is operating. Is n incrementing?\n",
            "Loop is operating. Is n incrementing?\n",
            "Loop is operating. Is n incrementing?\n",
            "Loop is operating. Is n incrementing?\n",
            "Loop is operating. Is n incrementing?\n",
            "Loop is operating. Is n incrementing?\n",
            "Loop is operating. Is n incrementing?\n",
            "Loop is operating. Is n incrementing?\n",
            "Loop is operating. Is n incrementing?\n",
            "Loop is operating. Is n incrementing?\n",
            "Loop is operating. Is n incrementing?\n",
            "Loop is operating. Is n incrementing?\n",
            "Loop is operating. Is n incrementing?\n",
            "Loop is operating. Is n incrementing?\n",
            "Loop is operating. Is n incrementing?\n",
            "Loop is operating. Is n incrementing?\n",
            "Loop is operating. Is n incrementing?\n",
            "Loop is operating. Is n incrementing?\n",
            "Loop is operating. Is n incrementing?\n",
            "Loop is operating. Is n incrementing?\n",
            "Loop is operating. Is n incrementing?\n",
            "Loop is operating. Is n incrementing?\n",
            "Loop is operating. Is n incrementing?\n",
            "Loop is operating. Is n incrementing?\n",
            "Loop is operating. Is n incrementing?\n",
            "Loop is operating. Is n incrementing?\n",
            "Loop is operating. Is n incrementing?\n",
            "Loop is operating. Is n incrementing?\n",
            "Loop is operating. Is n incrementing?\n",
            "Loop is operating. Is n incrementing?\n",
            "Loop is operating. Is n incrementing?\n",
            "Loop is operating. Is n incrementing?\n",
            "Loop is operating. Is n incrementing?\n",
            "Loop is operating. Is n incrementing?\n",
            "Loop is operating. Is n incrementing?\n",
            "Loop is operating. Is n incrementing?\n",
            "Loop is operating. Is n incrementing?\n",
            "Loop is operating. Is n incrementing?\n",
            "Loop is operating. Is n incrementing?\n",
            "Loop is operating. Is n incrementing?\n",
            "Loop is operating. Is n incrementing?\n",
            "Loop is operating. Is n incrementing?\n",
            "Loop is operating. Is n incrementing?\n",
            "Loop is operating. Is n incrementing?\n",
            "Loop is operating. Is n incrementing?\n",
            "Loop is operating. Is n incrementing?\n",
            "Loop is operating. Is n incrementing?\n",
            "Loop is operating. Is n incrementing?\n",
            "Loop is operating. Is n incrementing?\n",
            "Loop is operating. Is n incrementing?\n",
            "Loop is operating. Is n incrementing?\n",
            "Loop is operating. Is n incrementing?\n",
            "Loop is operating. Is n incrementing?\n",
            "Loop is operating. Is n incrementing?\n",
            "Loop is operating. Is n incrementing?\n",
            "Loop is operating. Is n incrementing?\n",
            "Loop is operating. Is n incrementing?\n",
            "Loop is operating. Is n incrementing?\n",
            "Loop is operating. Is n incrementing?\n",
            "Loop is operating. Is n incrementing?\n",
            "Loop is operating. Is n incrementing?\n",
            "Loop is operating. Is n incrementing?\n",
            "Loop is operating. Is n incrementing?\n",
            "Loop is operating. Is n incrementing?\n",
            "Loop is operating. Is n incrementing?\n",
            "Loop is operating. Is n incrementing?\n",
            "Loop is operating. Is n incrementing?\n",
            "Loop is operating. Is n incrementing?\n",
            "Loop is operating. Is n incrementing?\n",
            "Loop is operating. Is n incrementing?\n",
            "Loop is operating. Is n incrementing?\n",
            "Loop is operating. Is n incrementing?\n",
            "Loop is operating. Is n incrementing?\n",
            "Loop is operating. Is n incrementing?\n",
            "Loop is operating. Is n incrementing?\n",
            "Loop is operating. Is n incrementing?\n",
            "Loop is operating. Is n incrementing?\n",
            "Loop is operating. Is n incrementing?\n",
            "Loop is operating. Is n incrementing?\n",
            "Loop is operating. Is n incrementing?\n",
            "Loop is operating. Is n incrementing?\n",
            "Loop is operating. Is n incrementing?\n",
            "Loop is operating. Is n incrementing?\n",
            "Loop is operating. Is n incrementing?\n",
            "Loop is operating. Is n incrementing?\n",
            "Loop is operating. Is n incrementing?\n",
            "Loop is operating. Is n incrementing?\n",
            "Loop is operating. Is n incrementing?\n",
            "Loop is operating. Is n incrementing?\n",
            "Loop is operating. Is n incrementing?\n",
            "Loop is operating. Is n incrementing?\n",
            "Loop is operating. Is n incrementing?\n",
            "Loop is operating. Is n incrementing?\n",
            "Loop is operating. Is n incrementing?\n",
            "Loop is operating. Is n incrementing?\n",
            "Loop is operating. Is n incrementing?\n",
            "Loop is operating. Is n incrementing?\n",
            "Loop is operating. Is n incrementing?\n",
            "Loop is operating. Is n incrementing?\n",
            "Loop is operating. Is n incrementing?\n",
            "Loop is operating. Is n incrementing?\n",
            "Loop is operating. Is n incrementing?\n",
            "Loop is operating. Is n incrementing?\n",
            "Loop is operating. Is n incrementing?\n",
            "Loop is operating. Is n incrementing?\n",
            "Loop is operating. Is n incrementing?\n",
            "Loop is operating. Is n incrementing?\n",
            "Loop is operating. Is n incrementing?\n",
            "Loop is operating. Is n incrementing?\n",
            "Loop is operating. Is n incrementing?\n",
            "Loop is operating. Is n incrementing?\n",
            "Loop is operating. Is n incrementing?\n",
            "Loop is operating. Is n incrementing?\n",
            "Loop is operating. Is n incrementing?\n",
            "Loop is operating. Is n incrementing?\n",
            "Loop is operating. Is n incrementing?\n",
            "Loop is operating. Is n incrementing?\n",
            "Loop is operating. Is n incrementing?\n",
            "Loop is operating. Is n incrementing?\n",
            "Loop is operating. Is n incrementing?\n",
            "Loop is operating. Is n incrementing?\n",
            "Loop is operating. Is n incrementing?\n",
            "Loop is operating. Is n incrementing?\n",
            "Loop is operating. Is n incrementing?\n",
            "Loop is operating. Is n incrementing?\n",
            "Loop is operating. Is n incrementing?\n",
            "Loop is operating. Is n incrementing?\n",
            "Loop is operating. Is n incrementing?\n",
            "Loop is operating. Is n incrementing?\n",
            "Loop is operating. Is n incrementing?\n",
            "Loop is operating. Is n incrementing?\n",
            "Loop is operating. Is n incrementing?\n",
            "Loop is operating. Is n incrementing?\n",
            "Loop is operating. Is n incrementing?\n",
            "Loop is operating. Is n incrementing?\n",
            "Loop is operating. Is n incrementing?\n",
            "Loop is operating. Is n incrementing?\n",
            "Loop is operating. Is n incrementing?\n",
            "Loop is operating. Is n incrementing?\n",
            "Loop is operating. Is n incrementing?\n",
            "Loop is operating. Is n incrementing?\n",
            "Loop is operating. Is n incrementing?\n",
            "Loop is operating. Is n incrementing?\n",
            "Loop is operating. Is n incrementing?\n",
            "Loop is operating. Is n incrementing?\n",
            "Loop is operating. Is n incrementing?\n",
            "Loop is operating. Is n incrementing?\n",
            "Loop is operating. Is n incrementing?\n",
            "Loop is operating. Is n incrementing?\n",
            "Loop is operating. Is n incrementing?\n",
            "Loop is operating. Is n incrementing?\n",
            "Loop is operating. Is n incrementing?\n",
            "Loop is operating. Is n incrementing?\n",
            "Loop is operating. Is n incrementing?\n",
            "Loop is operating. Is n incrementing?\n",
            "Loop is operating. Is n incrementing?\n",
            "Loop is operating. Is n incrementing?\n",
            "Loop is operating. Is n incrementing?\n",
            "Loop is operating. Is n incrementing?\n",
            "Loop is operating. Is n incrementing?\n",
            "Loop is operating. Is n incrementing?\n",
            "Loop is operating. Is n incrementing?\n",
            "Loop is operating. Is n incrementing?\n",
            "Loop is operating. Is n incrementing?\n",
            "Loop is operating. Is n incrementing?\n",
            "Loop is operating. Is n incrementing?\n",
            "Loop is operating. Is n incrementing?\n",
            "Loop is operating. Is n incrementing?\n",
            "Loop is operating. Is n incrementing?\n",
            "Loop is operating. Is n incrementing?\n",
            "Loop is operating. Is n incrementing?\n",
            "Loop is operating. Is n incrementing?\n",
            "Loop is operating. Is n incrementing?\n",
            "Loop is operating. Is n incrementing?\n",
            "Loop is operating. Is n incrementing?\n",
            "Loop is operating. Is n incrementing?\n",
            "Loop is operating. Is n incrementing?\n",
            "Loop is operating. Is n incrementing?\n",
            "Loop is operating. Is n incrementing?\n",
            "Loop is operating. Is n incrementing?\n",
            "Loop is operating. Is n incrementing?\n",
            "Loop is operating. Is n incrementing?\n",
            "Loop is operating. Is n incrementing?\n",
            "Loop is operating. Is n incrementing?\n",
            "Loop is operating. Is n incrementing?\n",
            "Loop is operating. Is n incrementing?\n",
            "Loop is operating. Is n incrementing?\n",
            "Loop is operating. Is n incrementing?\n",
            "Loop is operating. Is n incrementing?\n",
            "Loop is operating. Is n incrementing?\n",
            "Loop is operating. Is n incrementing?\n",
            "Loop is operating. Is n incrementing?\n",
            "Loop is operating. Is n incrementing?\n",
            "Loop is operating. Is n incrementing?\n",
            "Loop is operating. Is n incrementing?\n",
            "Loop is operating. Is n incrementing?\n",
            "Loop is operating. Is n incrementing?\n",
            "Loop is operating. Is n incrementing?\n",
            "Loop is operating. Is n incrementing?\n",
            "Loop is operating. Is n incrementing?\n",
            "Loop is operating. Is n incrementing?\n",
            "Loop is operating. Is n incrementing?\n",
            "Loop is operating. Is n incrementing?\n",
            "Loop is operating. Is n incrementing?\n",
            "Loop is operating. Is n incrementing?\n",
            "Loop is operating. Is n incrementing?\n",
            "Loop is operating. Is n incrementing?\n",
            "Loop is operating. Is n incrementing?\n",
            "Loop is operating. Is n incrementing?\n",
            "Loop is operating. Is n incrementing?\n",
            "Loop is operating. Is n incrementing?\n",
            "Loop is operating. Is n incrementing?\n",
            "Loop is operating. Is n incrementing?\n",
            "Loop is operating. Is n incrementing?\n",
            "Loop is operating. Is n incrementing?\n",
            "Loop is operating. Is n incrementing?\n",
            "Loop is operating. Is n incrementing?\n",
            "Loop is operating. Is n incrementing?\n",
            "Loop is operating. Is n incrementing?\n",
            "Loop is operating. Is n incrementing?\n",
            "Loop is operating. Is n incrementing?\n",
            "Loop is operating. Is n incrementing?\n",
            "Loop is operating. Is n incrementing?\n",
            "Loop is operating. Is n incrementing?\n",
            "Loop is operating. Is n incrementing?\n",
            "Loop is operating. Is n incrementing?\n",
            "Loop is operating. Is n incrementing?\n",
            "Loop is operating. Is n incrementing?\n",
            "Loop is operating. Is n incrementing?\n",
            "Loop is operating. Is n incrementing?\n",
            "Loop is operating. Is n incrementing?\n",
            "Loop is operating. Is n incrementing?\n",
            "Loop is operating. Is n incrementing?\n",
            "Loop is operating. Is n incrementing?\n",
            "Loop is operating. Is n incrementing?\n",
            "Loop is operating. Is n incrementing?\n",
            "Loop is operating. Is n incrementing?\n",
            "Loop is operating. Is n incrementing?\n",
            "Loop is operating. Is n incrementing?\n",
            "Loop is operating. Is n incrementing?\n",
            "Loop is operating. Is n incrementing?\n",
            "Loop is operating. Is n incrementing?\n",
            "Loop is operating. Is n incrementing?\n",
            "Loop is operating. Is n incrementing?\n",
            "Loop is operating. Is n incrementing?\n",
            "Loop is operating. Is n incrementing?\n",
            "Loop is operating. Is n incrementing?\n",
            "Loop is operating. Is n incrementing?\n",
            "Loop is operating. Is n incrementing?\n",
            "Loop is operating. Is n incrementing?\n",
            "Loop is operating. Is n incrementing?\n",
            "Loop is operating. Is n incrementing?\n",
            "Loop is operating. Is n incrementing?\n",
            "Loop is operating. Is n incrementing?\n",
            "Loop is operating. Is n incrementing?\n",
            "Loop is operating. Is n incrementing?\n",
            "Loop is operating. Is n incrementing?\n",
            "Loop is operating. Is n incrementing?\n",
            "Loop is operating. Is n incrementing?\n",
            "Loop is operating. Is n incrementing?\n",
            "Loop is operating. Is n incrementing?\n",
            "Loop is operating. Is n incrementing?\n",
            "Loop is operating. Is n incrementing?\n",
            "Loop is operating. Is n incrementing?\n",
            "Loop is operating. Is n incrementing?\n",
            "Loop is operating. Is n incrementing?\n",
            "Loop is operating. Is n incrementing?\n",
            "Loop is operating. Is n incrementing?\n",
            "Loop is operating. Is n incrementing?\n",
            "Loop is operating. Is n incrementing?\n",
            "Loop is operating. Is n incrementing?\n",
            "Loop is operating. Is n incrementing?\n",
            "Loop is operating. Is n incrementing?\n",
            "Loop is operating. Is n incrementing?\n",
            "Loop is operating. Is n incrementing?\n",
            "Loop is operating. Is n incrementing?\n",
            "Loop is operating. Is n incrementing?\n",
            "Loop is operating. Is n incrementing?\n",
            "Loop is operating. Is n incrementing?\n",
            "Loop is operating. Is n incrementing?\n",
            "Loop is operating. Is n incrementing?\n",
            "Loop is operating. Is n incrementing?\n",
            "Loop is operating. Is n incrementing?\n",
            "Loop is operating. Is n incrementing?\n",
            "Loop is operating. Is n incrementing?\n",
            "Loop is operating. Is n incrementing?\n",
            "Loop is operating. Is n incrementing?\n",
            "Loop is operating. Is n incrementing?\n",
            "Loop is operating. Is n incrementing?\n",
            "Loop is operating. Is n incrementing?\n",
            "Loop is operating. Is n incrementing?\n",
            "Loop is operating. Is n incrementing?\n",
            "Loop is operating. Is n incrementing?\n",
            "Loop is operating. Is n incrementing?\n",
            "Loop is operating. Is n incrementing?\n",
            "Loop is operating. Is n incrementing?\n",
            "Loop is operating. Is n incrementing?\n",
            "Loop is operating. Is n incrementing?\n",
            "Loop is operating. Is n incrementing?\n",
            "Loop is operating. Is n incrementing?\n",
            "Loop is operating. Is n incrementing?\n",
            "Loop is operating. Is n incrementing?\n",
            "Loop is operating. Is n incrementing?\n",
            "Loop is operating. Is n incrementing?\n",
            "Loop is operating. Is n incrementing?\n",
            "Loop is operating. Is n incrementing?\n",
            "Loop is operating. Is n incrementing?\n",
            "Loop is operating. Is n incrementing?\n",
            "Loop is operating. Is n incrementing?\n",
            "Loop is operating. Is n incrementing?\n",
            "Loop is operating. Is n incrementing?\n",
            "Loop is operating. Is n incrementing?\n",
            "Loop is operating. Is n incrementing?\n",
            "Loop is operating. Is n incrementing?\n",
            "Loop is operating. Is n incrementing?\n",
            "Loop is operating. Is n incrementing?\n",
            "Loop is operating. Is n incrementing?\n",
            "Loop is operating. Is n incrementing?\n",
            "Loop is operating. Is n incrementing?\n",
            "Loop is operating. Is n incrementing?\n",
            "Loop is operating. Is n incrementing?\n",
            "Loop is operating. Is n incrementing?\n",
            "Loop is operating. Is n incrementing?\n",
            "Loop is operating. Is n incrementing?\n",
            "Loop is operating. Is n incrementing?\n",
            "Loop is operating. Is n incrementing?\n",
            "Loop is operating. Is n incrementing?\n",
            "Loop is operating. Is n incrementing?\n",
            "Loop is operating. Is n incrementing?\n",
            "Loop is operating. Is n incrementing?\n",
            "Loop is operating. Is n incrementing?\n",
            "Loop is operating. Is n incrementing?\n",
            "Loop is operating. Is n incrementing?\n",
            "Loop is operating. Is n incrementing?\n",
            "Loop is operating. Is n incrementing?\n",
            "Loop is operating. Is n incrementing?\n",
            "Loop is operating. Is n incrementing?\n",
            "Loop is operating. Is n incrementing?\n",
            "Loop is operating. Is n incrementing?\n",
            "Loop is operating. Is n incrementing?\n",
            "Loop is operating. Is n incrementing?\n",
            "Loop is operating. Is n incrementing?\n",
            "Loop is operating. Is n incrementing?\n",
            "Loop is operating. Is n incrementing?\n",
            "Loop is operating. Is n incrementing?\n",
            "Loop is operating. Is n incrementing?\n",
            "Loop is operating. Is n incrementing?\n",
            "Loop is operating. Is n incrementing?\n",
            "Loop is operating. Is n incrementing?\n",
            "Loop is operating. Is n incrementing?\n",
            "Loop is operating. Is n incrementing?\n",
            "Loop is operating. Is n incrementing?\n",
            "Loop is operating. Is n incrementing?\n",
            "Loop is operating. Is n incrementing?\n",
            "Loop is operating. Is n incrementing?\n",
            "Loop is operating. Is n incrementing?\n",
            "Loop is operating. Is n incrementing?\n",
            "Loop is operating. Is n incrementing?\n",
            "Loop is operating. Is n incrementing?\n",
            "Loop is operating. Is n incrementing?\n",
            "Loop is operating. Is n incrementing?\n",
            "Loop is operating. Is n incrementing?\n",
            "Loop is operating. Is n incrementing?\n",
            "Loop is operating. Is n incrementing?\n",
            "Loop is operating. Is n incrementing?\n",
            "Loop is operating. Is n incrementing?\n",
            "Loop is operating. Is n incrementing?\n",
            "Loop is operating. Is n incrementing?\n",
            "Loop is operating. Is n incrementing?\n",
            "Loop is operating. Is n incrementing?\n",
            "Loop is operating. Is n incrementing?\n",
            "Loop is operating. Is n incrementing?\n",
            "Loop is operating. Is n incrementing?\n",
            "Loop is operating. Is n incrementing?\n",
            "Loop is operating. Is n incrementing?\n",
            "Loop is operating. Is n incrementing?\n",
            "Loop is operating. Is n incrementing?\n",
            "Loop is operating. Is n incrementing?\n",
            "Loop is operating. Is n incrementing?\n",
            "Loop is operating. Is n incrementing?\n",
            "Loop is operating. Is n incrementing?\n",
            "Loop is operating. Is n incrementing?\n",
            "Loop is operating. Is n incrementing?\n",
            "Loop is operating. Is n incrementing?\n",
            "Loop is operating. Is n incrementing?\n",
            "Loop is operating. Is n incrementing?\n",
            "Loop is operating. Is n incrementing?\n",
            "Loop is operating. Is n incrementing?\n",
            "Loop is operating. Is n incrementing?\n",
            "Loop is operating. Is n incrementing?\n",
            "Loop is operating. Is n incrementing?\n",
            "Loop is operating. Is n incrementing?\n",
            "Loop is operating. Is n incrementing?\n",
            "Loop is operating. Is n incrementing?\n",
            "Loop is operating. Is n incrementing?\n",
            "Loop is operating. Is n incrementing?\n",
            "Loop is operating. Is n incrementing?\n",
            "Loop is operating. Is n incrementing?\n",
            "Loop is operating. Is n incrementing?\n",
            "Loop is operating. Is n incrementing?\n",
            "Loop is operating. Is n incrementing?\n",
            "Loop is operating. Is n incrementing?\n",
            "Loop is operating. Is n incrementing?\n",
            "Loop is operating. Is n incrementing?\n",
            "Loop is operating. Is n incrementing?\n",
            "Loop is operating. Is n incrementing?\n",
            "Loop is operating. Is n incrementing?\n",
            "Loop is operating. Is n incrementing?\n",
            "Loop is operating. Is n incrementing?\n",
            "Loop is operating. Is n incrementing?\n",
            "Loop is operating. Is n incrementing?\n",
            "Loop is operating. Is n incrementing?\n",
            "Loop is operating. Is n incrementing?\n",
            "Loop is operating. Is n incrementing?\n",
            "Loop is operating. Is n incrementing?\n",
            "Loop is operating. Is n incrementing?\n",
            "Loop is operating. Is n incrementing?\n",
            "Loop is operating. Is n incrementing?\n",
            "Loop is operating. Is n incrementing?\n",
            "Loop is operating. Is n incrementing?\n",
            "Loop is operating. Is n incrementing?\n",
            "Loop is operating. Is n incrementing?\n",
            "Loop is operating. Is n incrementing?\n",
            "Loop is operating. Is n incrementing?\n",
            "Loop is operating. Is n incrementing?\n",
            "Loop is operating. Is n incrementing?\n",
            "Loop is operating. Is n incrementing?\n",
            "Loop is operating. Is n incrementing?\n",
            "Loop is operating. Is n incrementing?\n",
            "Loop is operating. Is n incrementing?\n",
            "Loop is operating. Is n incrementing?\n",
            "Loop is operating. Is n incrementing?\n",
            "Loop is operating. Is n incrementing?\n",
            "Loop is operating. Is n incrementing?\n",
            "Loop is operating. Is n incrementing?\n",
            "Loop is operating. Is n incrementing?\n",
            "Loop is operating. Is n incrementing?\n",
            "Loop is operating. Is n incrementing?\n",
            "Loop is operating. Is n incrementing?\n",
            "Loop is operating. Is n incrementing?\n",
            "Loop is operating. Is n incrementing?\n",
            "Loop is operating. Is n incrementing?\n",
            "Loop is operating. Is n incrementing?\n",
            "Loop is operating. Is n incrementing?\n",
            "Loop is operating. Is n incrementing?\n",
            "Loop is operating. Is n incrementing?\n",
            "Loop is operating. Is n incrementing?\n",
            "Loop is operating. Is n incrementing?\n",
            "Loop is operating. Is n incrementing?\n",
            "Loop is operating. Is n incrementing?\n",
            "Loop is operating. Is n incrementing?\n",
            "Loop is operating. Is n incrementing?\n",
            "Loop is operating. Is n incrementing?\n",
            "Loop is operating. Is n incrementing?\n",
            "Loop is operating. Is n incrementing?\n",
            "Loop is operating. Is n incrementing?\n",
            "Loop is operating. Is n incrementing?\n",
            "Loop is operating. Is n incrementing?\n",
            "Loop is operating. Is n incrementing?\n",
            "Loop is operating. Is n incrementing?\n",
            "Loop is operating. Is n incrementing?\n",
            "Loop is operating. Is n incrementing?\n",
            "Loop is operating. Is n incrementing?\n",
            "Loop is operating. Is n incrementing?\n",
            "Loop is operating. Is n incrementing?\n",
            "Loop is operating. Is n incrementing?\n",
            "Loop is operating. Is n incrementing?\n",
            "Loop is operating. Is n incrementing?\n",
            "Loop is operating. Is n incrementing?\n",
            "Loop is operating. Is n incrementing?\n",
            "Loop is operating. Is n incrementing?\n",
            "Loop is operating. Is n incrementing?\n",
            "Loop is operating. Is n incrementing?\n",
            "Loop is operating. Is n incrementing?\n",
            "Loop is operating. Is n incrementing?\n",
            "Loop is operating. Is n incrementing?\n",
            "Loop is operating. Is n incrementing?\n",
            "Loop is operating. Is n incrementing?\n",
            "Loop is operating. Is n incrementing?\n",
            "Loop is operating. Is n incrementing?\n",
            "Loop is operating. Is n incrementing?\n",
            "Loop is operating. Is n incrementing?\n",
            "Loop is operating. Is n incrementing?\n",
            "Loop is operating. Is n incrementing?\n",
            "Loop is operating. Is n incrementing?\n",
            "Loop is operating. Is n incrementing?\n",
            "Loop is operating. Is n incrementing?\n",
            "Loop is operating. Is n incrementing?\n",
            "Loop is operating. Is n incrementing?\n",
            "Loop is operating. Is n incrementing?\n",
            "Loop is operating. Is n incrementing?\n",
            "Loop is operating. Is n incrementing?\n",
            "Loop is operating. Is n incrementing?\n",
            "Loop is operating. Is n incrementing?\n",
            "Loop is operating. Is n incrementing?\n",
            "Loop is operating. Is n incrementing?\n",
            "Loop is operating. Is n incrementing?\n",
            "Loop is operating. Is n incrementing?\n",
            "Loop is operating. Is n incrementing?\n",
            "Loop is operating. Is n incrementing?\n",
            "Loop is operating. Is n incrementing?\n",
            "Loop is operating. Is n incrementing?\n",
            "Loop is operating. Is n incrementing?\n",
            "Loop is operating. Is n incrementing?\n",
            "Loop is operating. Is n incrementing?\n",
            "Loop is operating. Is n incrementing?\n",
            "Loop is operating. Is n incrementing?\n",
            "Loop is operating. Is n incrementing?\n",
            "Loop is operating. Is n incrementing?\n",
            "Loop is operating. Is n incrementing?\n",
            "Loop is operating. Is n incrementing?\n",
            "Loop is operating. Is n incrementing?\n",
            "Loop is operating. Is n incrementing?\n",
            "Loop is operating. Is n incrementing?\n",
            "Loop is operating. Is n incrementing?\n",
            "Loop is operating. Is n incrementing?\n",
            "Loop is operating. Is n incrementing?\n",
            "Loop is operating. Is n incrementing?\n",
            "Loop is operating. Is n incrementing?\n",
            "Loop is operating. Is n incrementing?\n",
            "Loop is operating. Is n incrementing?\n",
            "Loop is operating. Is n incrementing?\n",
            "Loop is operating. Is n incrementing?\n",
            "Loop is operating. Is n incrementing?\n",
            "Loop is operating. Is n incrementing?\n",
            "Loop is operating. Is n incrementing?\n",
            "Loop is operating. Is n incrementing?\n",
            "Loop is operating. Is n incrementing?\n",
            "Loop is operating. Is n incrementing?\n",
            "Loop is operating. Is n incrementing?\n",
            "Loop is operating. Is n incrementing?\n",
            "Loop is operating. Is n incrementing?\n",
            "Loop is operating. Is n incrementing?\n",
            "Loop is operating. Is n incrementing?\n",
            "Loop is operating. Is n incrementing?\n",
            "Loop is operating. Is n incrementing?\n",
            "Loop is operating. Is n incrementing?\n",
            "Loop is operating. Is n incrementing?\n",
            "Loop is operating. Is n incrementing?\n",
            "Loop is operating. Is n incrementing?\n",
            "Loop is operating. Is n incrementing?\n",
            "Loop is operating. Is n incrementing?\n",
            "Loop is operating. Is n incrementing?\n",
            "Loop is operating. Is n incrementing?\n",
            "Loop is operating. Is n incrementing?\n",
            "Loop is operating. Is n incrementing?\n",
            "Loop is operating. Is n incrementing?\n",
            "Loop is operating. Is n incrementing?\n",
            "Loop is operating. Is n incrementing?\n",
            "Loop is operating. Is n incrementing?\n",
            "Loop is operating. Is n incrementing?\n",
            "Loop is operating. Is n incrementing?\n",
            "Loop is operating. Is n incrementing?\n",
            "Loop is operating. Is n incrementing?\n",
            "Loop is operating. Is n incrementing?\n",
            "Loop is operating. Is n incrementing?\n",
            "Loop is operating. Is n incrementing?\n",
            "Loop is operating. Is n incrementing?\n",
            "Loop is operating. Is n incrementing?\n",
            "Loop is operating. Is n incrementing?\n",
            "Loop is operating. Is n incrementing?\n",
            "Loop is operating. Is n incrementing?\n",
            "Loop is operating. Is n incrementing?\n",
            "Loop is operating. Is n incrementing?\n",
            "Loop is operating. Is n incrementing?\n",
            "Loop is operating. Is n incrementing?\n",
            "Loop is operating. Is n incrementing?\n",
            "Loop is operating. Is n incrementing?\n",
            "Loop is operating. Is n incrementing?\n",
            "Loop is operating. Is n incrementing?\n",
            "Loop is operating. Is n incrementing?\n",
            "Loop is operating. Is n incrementing?\n",
            "Loop is operating. Is n incrementing?\n",
            "Loop is operating. Is n incrementing?\n",
            "Loop is operating. Is n incrementing?\n",
            "Loop is operating. Is n incrementing?\n",
            "Loop is operating. Is n incrementing?\n",
            "Loop is operating. Is n incrementing?\n",
            "Loop is operating. Is n incrementing?\n",
            "Loop is operating. Is n incrementing?\n",
            "Loop is operating. Is n incrementing?\n",
            "Loop is operating. Is n incrementing?\n",
            "Loop is operating. Is n incrementing?\n",
            "Loop is operating. Is n incrementing?\n",
            "Loop is operating. Is n incrementing?\n",
            "Loop is operating. Is n incrementing?\n",
            "Loop is operating. Is n incrementing?\n",
            "Loop is operating. Is n incrementing?\n",
            "Loop is operating. Is n incrementing?\n",
            "Loop is operating. Is n incrementing?\n",
            "Loop is operating. Is n incrementing?\n",
            "Loop is operating. Is n incrementing?\n",
            "Loop is operating. Is n incrementing?\n",
            "Loop is operating. Is n incrementing?\n",
            "Loop is operating. Is n incrementing?\n",
            "Loop is operating. Is n incrementing?\n",
            "Loop is operating. Is n incrementing?\n",
            "Loop is operating. Is n incrementing?\n",
            "Loop is operating. Is n incrementing?\n",
            "Loop is operating. Is n incrementing?\n",
            "Loop is operating. Is n incrementing?\n",
            "Loop is operating. Is n incrementing?\n",
            "Loop is operating. Is n incrementing?\n",
            "Loop is operating. Is n incrementing?\n",
            "Loop is operating. Is n incrementing?\n",
            "Loop is operating. Is n incrementing?\n",
            "Loop is operating. Is n incrementing?\n",
            "Loop is operating. Is n incrementing?\n",
            "Loop is operating. Is n incrementing?\n",
            "Loop is operating. Is n incrementing?\n",
            "Loop is operating. Is n incrementing?\n",
            "Loop is operating. Is n incrementing?\n",
            "Loop is operating. Is n incrementing?\n",
            "Loop is operating. Is n incrementing?\n",
            "Loop is operating. Is n incrementing?\n",
            "Loop is operating. Is n incrementing?\n",
            "Loop is operating. Is n incrementing?\n",
            "Loop is operating. Is n incrementing?\n",
            "Loop is operating. Is n incrementing?\n",
            "Loop is operating. Is n incrementing?\n",
            "Loop is operating. Is n incrementing?\n",
            "Loop is operating. Is n incrementing?\n",
            "Loop is operating. Is n incrementing?\n",
            "Loop is operating. Is n incrementing?\n",
            "Loop is operating. Is n incrementing?\n",
            "Loop is operating. Is n incrementing?\n",
            "Loop is operating. Is n incrementing?\n",
            "Loop is operating. Is n incrementing?\n",
            "Loop is operating. Is n incrementing?\n",
            "Loop is operating. Is n incrementing?\n",
            "Loop is operating. Is n incrementing?\n",
            "Loop is operating. Is n incrementing?\n",
            "Loop is operating. Is n incrementing?\n",
            "Loop is operating. Is n incrementing?\n",
            "Loop is operating. Is n incrementing?\n",
            "Loop is operating. Is n incrementing?\n",
            "Loop is operating. Is n incrementing?\n",
            "Loop is operating. Is n incrementing?\n",
            "Loop is operating. Is n incrementing?\n",
            "Loop is operating. Is n incrementing?\n",
            "Loop is operating. Is n incrementing?\n",
            "Loop is operating. Is n incrementing?\n",
            "Loop is operating. Is n incrementing?\n",
            "Loop is operating. Is n incrementing?\n",
            "Loop is operating. Is n incrementing?\n",
            "Loop is operating. Is n incrementing?\n",
            "Loop is operating. Is n incrementing?\n",
            "Loop is operating. Is n incrementing?\n",
            "Loop is operating. Is n incrementing?\n",
            "Loop is operating. Is n incrementing?\n",
            "Loop is operating. Is n incrementing?\n",
            "Loop is operating. Is n incrementing?\n",
            "Loop is operating. Is n incrementing?\n",
            "Loop is operating. Is n incrementing?\n",
            "Loop is operating. Is n incrementing?\n",
            "Loop is operating. Is n incrementing?\n",
            "Loop is operating. Is n incrementing?\n",
            "Loop is operating. Is n incrementing?\n",
            "Loop is operating. Is n incrementing?\n",
            "Loop is operating. Is n incrementing?\n",
            "Loop is operating. Is n incrementing?\n",
            "Loop is operating. Is n incrementing?\n",
            "Loop is operating. Is n incrementing?\n",
            "Loop is operating. Is n incrementing?\n",
            "Loop is operating. Is n incrementing?\n",
            "Loop is operating. Is n incrementing?\n",
            "Loop is operating. Is n incrementing?\n",
            "Loop is operating. Is n incrementing?\n",
            "Loop is operating. Is n incrementing?\n",
            "Loop is operating. Is n incrementing?\n",
            "Loop is operating. Is n incrementing?\n",
            "Loop is operating. Is n incrementing?\n",
            "Loop is operating. Is n incrementing?\n",
            "Loop is operating. Is n incrementing?\n",
            "Loop is operating. Is n incrementing?\n",
            "Loop is operating. Is n incrementing?\n",
            "Loop is operating. Is n incrementing?\n",
            "Loop is operating. Is n incrementing?\n",
            "Loop is operating. Is n incrementing?\n",
            "Loop is operating. Is n incrementing?\n",
            "Loop is operating. Is n incrementing?\n",
            "Loop is operating. Is n incrementing?\n",
            "Loop is operating. Is n incrementing?\n",
            "Loop is operating. Is n incrementing?\n",
            "Loop is operating. Is n incrementing?\n",
            "Loop is operating. Is n incrementing?\n",
            "Loop is operating. Is n incrementing?\n",
            "Loop is operating. Is n incrementing?\n",
            "Loop is operating. Is n incrementing?\n",
            "Loop is operating. Is n incrementing?\n",
            "Loop is operating. Is n incrementing?\n",
            "Loop is operating. Is n incrementing?\n",
            "Loop is operating. Is n incrementing?\n",
            "Loop is operating. Is n incrementing?\n",
            "Loop is operating. Is n incrementing?\n",
            "Loop is operating. Is n incrementing?\n",
            "Loop is operating. Is n incrementing?\n",
            "Loop is operating. Is n incrementing?\n",
            "Loop is operating. Is n incrementing?\n",
            "Loop is operating. Is n incrementing?\n",
            "Loop is operating. Is n incrementing?\n",
            "Loop is operating. Is n incrementing?\n",
            "Loop is operating. Is n incrementing?\n",
            "Loop is operating. Is n incrementing?\n",
            "Loop is operating. Is n incrementing?\n",
            "Loop is operating. Is n incrementing?\n",
            "Loop is operating. Is n incrementing?\n",
            "Loop is operating. Is n incrementing?\n",
            "Loop is operating. Is n incrementing?\n",
            "Loop is operating. Is n incrementing?\n",
            "Loop is operating. Is n incrementing?\n",
            "Loop is operating. Is n incrementing?\n",
            "Loop is operating. Is n incrementing?\n",
            "Loop is operating. Is n incrementing?\n",
            "Loop is operating. Is n incrementing?\n",
            "Loop is operating. Is n incrementing?\n",
            "Loop is operating. Is n incrementing?\n",
            "Loop is operating. Is n incrementing?\n",
            "Loop is operating. Is n incrementing?\n",
            "Loop is operating. Is n incrementing?\n",
            "Loop is operating. Is n incrementing?\n",
            "Loop is operating. Is n incrementing?\n",
            "Loop is operating. Is n incrementing?\n",
            "Loop is operating. Is n incrementing?\n",
            "Loop is operating. Is n incrementing?\n",
            "Loop is operating. Is n incrementing?\n",
            "Loop is operating. Is n incrementing?\n",
            "Loop is operating. Is n incrementing?\n",
            "Loop is operating. Is n incrementing?\n",
            "Loop is operating. Is n incrementing?\n",
            "Loop is operating. Is n incrementing?\n",
            "Loop is operating. Is n incrementing?\n",
            "Loop is operating. Is n incrementing?\n",
            "Loop is operating. Is n incrementing?\n",
            "Loop is operating. Is n incrementing?\n",
            "Loop is operating. Is n incrementing?\n",
            "Loop is operating. Is n incrementing?\n",
            "Loop is operating. Is n incrementing?\n",
            "Loop is operating. Is n incrementing?\n",
            "Loop is operating. Is n incrementing?\n",
            "Loop is operating. Is n incrementing?\n",
            "Loop is operating. Is n incrementing?\n",
            "Loop is operating. Is n incrementing?\n",
            "Loop is operating. Is n incrementing?\n",
            "Loop is operating. Is n incrementing?\n",
            "Loop is operating. Is n incrementing?\n",
            "Loop is operating. Is n incrementing?\n",
            "Loop is operating. Is n incrementing?\n",
            "Loop is operating. Is n incrementing?\n",
            "Loop is operating. Is n incrementing?\n",
            "Loop is operating. Is n incrementing?\n",
            "Loop is operating. Is n incrementing?\n",
            "Loop is operating. Is n incrementing?\n",
            "Loop is operating. Is n incrementing?\n",
            "Loop is operating. Is n incrementing?\n",
            "Loop is operating. Is n incrementing?\n",
            "Loop is operating. Is n incrementing?\n",
            "Loop is operating. Is n incrementing?\n",
            "Loop is operating. Is n incrementing?\n",
            "Loop is operating. Is n incrementing?\n",
            "Loop is operating. Is n incrementing?\n",
            "Loop is operating. Is n incrementing?\n",
            "Loop is operating. Is n incrementing?\n",
            "Loop is operating. Is n incrementing?\n",
            "Loop is operating. Is n incrementing?\n",
            "Loop is operating. Is n incrementing?\n",
            "Loop is operating. Is n incrementing?\n",
            "Loop is operating. Is n incrementing?\n",
            "Loop is operating. Is n incrementing?\n",
            "Loop is operating. Is n incrementing?\n",
            "Loop is operating. Is n incrementing?\n",
            "Loop is operating. Is n incrementing?\n",
            "Loop is operating. Is n incrementing?\n",
            "Loop is operating. Is n incrementing?\n",
            "Loop is operating. Is n incrementing?\n",
            "Loop is operating. Is n incrementing?\n",
            "Loop is operating. Is n incrementing?\n",
            "Loop is operating. Is n incrementing?\n",
            "Loop is operating. Is n incrementing?\n",
            "Loop is operating. Is n incrementing?\n",
            "Loop is operating. Is n incrementing?\n",
            "Loop is operating. Is n incrementing?\n",
            "Loop is operating. Is n incrementing?\n",
            "Loop is operating. Is n incrementing?\n",
            "Loop is operating. Is n incrementing?\n",
            "Loop is operating. Is n incrementing?\n",
            "Loop is operating. Is n incrementing?\n",
            "Loop is operating. Is n incrementing?\n",
            "Loop is operating. Is n incrementing?\n",
            "Loop is operating. Is n incrementing?\n",
            "Loop is operating. Is n incrementing?\n",
            "Loop is operating. Is n incrementing?\n",
            "Loop is operating. Is n incrementing?\n",
            "Loop is operating. Is n incrementing?\n",
            "Loop is operating. Is n incrementing?\n",
            "Loop is operating. Is n incrementing?\n",
            "Loop is operating. Is n incrementing?\n",
            "Loop is operating. Is n incrementing?\n",
            "Loop is operating. Is n incrementing?\n",
            "Loop is operating. Is n incrementing?\n",
            "Loop is operating. Is n incrementing?\n",
            "Loop is operating. Is n incrementing?\n",
            "Loop is operating. Is n incrementing?\n",
            "Loop is operating. Is n incrementing?\n",
            "Loop is operating. Is n incrementing?\n",
            "Loop is operating. Is n incrementing?\n",
            "Loop is operating. Is n incrementing?\n",
            "Loop is operating. Is n incrementing?\n",
            "Loop is operating. Is n incrementing?\n",
            "Loop is operating. Is n incrementing?\n",
            "Loop is operating. Is n incrementing?\n",
            "Loop is operating. Is n incrementing?\n",
            "Loop is operating. Is n incrementing?\n",
            "Loop is operating. Is n incrementing?\n",
            "Loop is operating. Is n incrementing?\n",
            "Loop is operating. Is n incrementing?\n",
            "Loop is operating. Is n incrementing?\n",
            "Loop is operating. Is n incrementing?\n",
            "Loop is operating. Is n incrementing?\n",
            "Loop is operating. Is n incrementing?\n",
            "Loop is operating. Is n incrementing?\n",
            "Loop is operating. Is n incrementing?\n",
            "Loop is operating. Is n incrementing?\n",
            "Loop is operating. Is n incrementing?\n",
            "Loop is operating. Is n incrementing?\n",
            "Loop is operating. Is n incrementing?\n",
            "Loop is operating. Is n incrementing?\n",
            "Loop is operating. Is n incrementing?\n",
            "Loop is operating. Is n incrementing?\n",
            "Loop is operating. Is n incrementing?\n",
            "Loop is operating. Is n incrementing?\n",
            "Loop is operating. Is n incrementing?\n",
            "Loop is operating. Is n incrementing?\n",
            "Loop is operating. Is n incrementing?\n",
            "Loop is operating. Is n incrementing?\n",
            "Loop is operating. Is n incrementing?\n",
            "Loop is operating. Is n incrementing?\n",
            "Loop is operating. Is n incrementing?\n",
            "Loop is operating. Is n incrementing?\n",
            "Loop is operating. Is n incrementing?\n",
            "Loop is operating. Is n incrementing?\n",
            "Loop is operating. Is n incrementing?\n",
            "Loop is operating. Is n incrementing?\n",
            "Loop is operating. Is n incrementing?\n",
            "Loop is operating. Is n incrementing?\n",
            "Loop is operating. Is n incrementing?\n",
            "Loop is operating. Is n incrementing?\n",
            "Loop is operating. Is n incrementing?\n",
            "Loop is operating. Is n incrementing?\n",
            "Loop is operating. Is n incrementing?\n",
            "Loop is operating. Is n incrementing?\n",
            "Loop is operating. Is n incrementing?\n",
            "Loop is operating. Is n incrementing?\n",
            "Loop is operating. Is n incrementing?\n",
            "Loop is operating. Is n incrementing?\n",
            "Loop is operating. Is n incrementing?\n",
            "Loop is operating. Is n incrementing?\n",
            "Loop is operating. Is n incrementing?\n",
            "Loop is operating. Is n incrementing?\n",
            "Loop is operating. Is n incrementing?\n",
            "Loop is operating. Is n incrementing?\n",
            "Loop is operating. Is n incrementing?\n",
            "Loop is operating. Is n incrementing?\n",
            "Loop is operating. Is n incrementing?\n",
            "Loop is operating. Is n incrementing?\n",
            "Loop is operating. Is n incrementing?\n",
            "Loop is operating. Is n incrementing?\n",
            "Loop is operating. Is n incrementing?\n",
            "Loop is operating. Is n incrementing?\n",
            "Loop is operating. Is n incrementing?\n",
            "Loop is operating. Is n incrementing?\n",
            "Loop is operating. Is n incrementing?\n",
            "Loop is operating. Is n incrementing?\n",
            "Loop is operating. Is n incrementing?\n",
            "Loop is operating. Is n incrementing?\n",
            "Loop is operating. Is n incrementing?\n",
            "Loop is operating. Is n incrementing?\n",
            "Loop is operating. Is n incrementing?\n",
            "Loop is operating. Is n incrementing?\n",
            "Loop is operating. Is n incrementing?\n",
            "Loop is operating. Is n incrementing?\n",
            "Loop is operating. Is n incrementing?\n",
            "Loop is operating. Is n incrementing?\n",
            "Loop is operating. Is n incrementing?\n",
            "Loop is operating. Is n incrementing?\n",
            "Loop is operating. Is n incrementing?\n",
            "Loop is operating. Is n incrementing?\n",
            "Loop is operating. Is n incrementing?\n",
            "Loop is operating. Is n incrementing?\n",
            "Loop is operating. Is n incrementing?\n",
            "Loop is operating. Is n incrementing?\n",
            "Loop is operating. Is n incrementing?\n",
            "Loop is operating. Is n incrementing?\n",
            "Loop is operating. Is n incrementing?\n",
            "Loop is operating. Is n incrementing?\n",
            "Loop is operating. Is n incrementing?\n",
            "Loop is operating. Is n incrementing?\n",
            "Loop is operating. Is n incrementing?\n",
            "Loop is operating. Is n incrementing?\n",
            "Loop is operating. Is n incrementing?\n",
            "Loop is operating. Is n incrementing?\n",
            "Loop is operating. Is n incrementing?\n",
            "Loop is operating. Is n incrementing?\n",
            "Loop is operating. Is n incrementing?\n",
            "Loop is operating. Is n incrementing?\n",
            "Loop is operating. Is n incrementing?\n",
            "Loop is operating. Is n incrementing?\n",
            "Loop is operating. Is n incrementing?\n",
            "Loop is operating. Is n incrementing?\n",
            "Loop is operating. Is n incrementing?\n",
            "Loop is operating. Is n incrementing?\n",
            "Loop is operating. Is n incrementing?\n",
            "Loop is operating. Is n incrementing?\n",
            "Loop is operating. Is n incrementing?\n",
            "Loop is operating. Is n incrementing?\n",
            "Loop is operating. Is n incrementing?\n",
            "Loop is operating. Is n incrementing?\n",
            "Loop is operating. Is n incrementing?\n",
            "Loop is operating. Is n incrementing?\n",
            "Loop is operating. Is n incrementing?\n",
            "Loop is operating. Is n incrementing?\n",
            "Loop is operating. Is n incrementing?\n",
            "Loop is operating. Is n incrementing?\n",
            "Loop is operating. Is n incrementing?\n",
            "Loop is operating. Is n incrementing?\n",
            "Loop is operating. Is n incrementing?\n",
            "Loop is operating. Is n incrementing?\n",
            "Loop is operating. Is n incrementing?\n",
            "Loop is operating. Is n incrementing?\n",
            "Loop is operating. Is n incrementing?\n",
            "Loop is operating. Is n incrementing?\n",
            "Loop is operating. Is n incrementing?\n",
            "Loop is operating. Is n incrementing?\n",
            "Loop is operating. Is n incrementing?\n",
            "Loop is operating. Is n incrementing?\n",
            "Loop is operating. Is n incrementing?\n",
            "Loop is operating. Is n incrementing?\n",
            "Loop is operating. Is n incrementing?\n",
            "Loop is operating. Is n incrementing?\n",
            "Loop is operating. Is n incrementing?\n",
            "Loop is operating. Is n incrementing?\n",
            "Loop is operating. Is n incrementing?\n",
            "Loop is operating. Is n incrementing?\n",
            "Loop is operating. Is n incrementing?\n",
            "Loop is operating. Is n incrementing?\n",
            "Loop is operating. Is n incrementing?\n",
            "Loop is operating. Is n incrementing?\n",
            "Loop is operating. Is n incrementing?\n",
            "Loop is operating. Is n incrementing?\n",
            "Loop is operating. Is n incrementing?\n",
            "Loop is operating. Is n incrementing?\n",
            "Loop is operating. Is n incrementing?\n",
            "Loop is operating. Is n incrementing?\n",
            "Loop is operating. Is n incrementing?\n",
            "Loop is operating. Is n incrementing?\n",
            "Loop is operating. Is n incrementing?\n",
            "Loop is operating. Is n incrementing?\n",
            "Loop is operating. Is n incrementing?\n",
            "Loop is operating. Is n incrementing?\n",
            "Loop is operating. Is n incrementing?\n",
            "Loop is operating. Is n incrementing?\n",
            "Loop is operating. Is n incrementing?\n",
            "Loop is operating. Is n incrementing?\n",
            "Loop is operating. Is n incrementing?\n",
            "Loop is operating. Is n incrementing?\n",
            "Loop is operating. Is n incrementing?\n",
            "Loop is operating. Is n incrementing?\n",
            "Loop is operating. Is n incrementing?\n",
            "Loop is operating. Is n incrementing?\n",
            "Loop is operating. Is n incrementing?\n",
            "Loop is operating. Is n incrementing?\n",
            "Loop is operating. Is n incrementing?\n",
            "Loop is operating. Is n incrementing?\n",
            "Loop is operating. Is n incrementing?\n",
            "Loop is operating. Is n incrementing?\n",
            "Loop is operating. Is n incrementing?\n",
            "Loop is operating. Is n incrementing?\n",
            "Loop is operating. Is n incrementing?\n",
            "Loop is operating. Is n incrementing?\n",
            "Loop is operating. Is n incrementing?\n",
            "Loop is operating. Is n incrementing?\n",
            "Loop is operating. Is n incrementing?\n",
            "Loop is operating. Is n incrementing?\n",
            "Loop is operating. Is n incrementing?\n",
            "Loop is operating. Is n incrementing?\n",
            "Loop is operating. Is n incrementing?\n",
            "Loop is operating. Is n incrementing?\n",
            "Loop is operating. Is n incrementing?\n",
            "Loop is operating. Is n incrementing?\n",
            "Loop is operating. Is n incrementing?\n",
            "Loop is operating. Is n incrementing?\n",
            "Loop is operating. Is n incrementing?\n",
            "Loop is operating. Is n incrementing?\n",
            "Loop is operating. Is n incrementing?\n",
            "Loop is operating. Is n incrementing?\n",
            "Loop is operating. Is n incrementing?\n",
            "Loop is operating. Is n incrementing?\n",
            "Loop is operating. Is n incrementing?\n",
            "Loop is operating. Is n incrementing?\n",
            "Loop is operating. Is n incrementing?\n",
            "Loop is operating. Is n incrementing?\n",
            "Loop is operating. Is n incrementing?\n",
            "Loop is operating. Is n incrementing?\n",
            "Loop is operating. Is n incrementing?\n",
            "Loop is operating. Is n incrementing?\n",
            "Loop is operating. Is n incrementing?\n",
            "Loop is operating. Is n incrementing?\n",
            "Loop is operating. Is n incrementing?\n",
            "Loop is operating. Is n incrementing?\n",
            "Loop is operating. Is n incrementing?\n",
            "Loop is operating. Is n incrementing?\n",
            "Loop is operating. Is n incrementing?\n",
            "Loop is operating. Is n incrementing?\n",
            "Loop is operating. Is n incrementing?\n",
            "Loop is operating. Is n incrementing?\n",
            "Loop is operating. Is n incrementing?\n",
            "Loop is operating. Is n incrementing?\n",
            "Loop is operating. Is n incrementing?\n",
            "Loop is operating. Is n incrementing?\n",
            "Loop is operating. Is n incrementing?\n",
            "Loop is operating. Is n incrementing?\n",
            "Loop is operating. Is n incrementing?\n",
            "Loop is operating. Is n incrementing?\n",
            "Loop is operating. Is n incrementing?\n",
            "Loop is operating. Is n incrementing?\n",
            "Loop is operating. Is n incrementing?\n",
            "Loop is operating. Is n incrementing?\n",
            "Loop is operating. Is n incrementing?\n",
            "Loop is operating. Is n incrementing?\n",
            "Loop is operating. Is n incrementing?\n",
            "Loop is operating. Is n incrementing?\n",
            "Loop is operating. Is n incrementing?\n",
            "Loop is operating. Is n incrementing?\n",
            "Loop is operating. Is n incrementing?\n",
            "Loop is operating. Is n incrementing?\n",
            "Loop is operating. Is n incrementing?\n",
            "Loop is operating. Is n incrementing?\n",
            "Loop is operating. Is n incrementing?\n",
            "Loop is operating. Is n incrementing?\n",
            "Loop is operating. Is n incrementing?\n",
            "Loop is operating. Is n incrementing?\n",
            "Loop is operating. Is n incrementing?\n",
            "Loop is operating. Is n incrementing?\n",
            "Loop is operating. Is n incrementing?\n",
            "Loop is operating. Is n incrementing?\n",
            "Loop is operating. Is n incrementing?\n",
            "\n",
            "\n",
            "Halting loop! This loop would've kept going without this time safeguard\n"
          ],
          "name": "stdout"
        }
      ]
    },
    {
      "cell_type": "markdown",
      "metadata": {
        "id": "A4Msr4AUDqRe"
      },
      "source": [
        "The ```break``` statement can be used to exit a while loop, like in the last example (note: it must be used inside a conditional within the loop)"
      ]
    },
    {
      "cell_type": "code",
      "metadata": {
        "colab": {
          "base_uri": "https://localhost:8080/"
        },
        "id": "nvFkU-HjvpKU",
        "outputId": "997f6c38-fb96-4ccc-b11b-5378ba98a12e"
      },
      "source": [
        "i = 0\n",
        "\n",
        "while(True):\n",
        "  print(\"This while loop will never end...\")\n",
        "  \n",
        "  i = i + 1\n",
        "\n",
        "  if i > 20:\n",
        "    break\n",
        "\n",
        "print(\"We broke the loop!\")"
      ],
      "execution_count": null,
      "outputs": [
        {
          "output_type": "stream",
          "text": [
            "This while loop will never end...\n",
            "This while loop will never end...\n",
            "This while loop will never end...\n",
            "This while loop will never end...\n",
            "This while loop will never end...\n",
            "This while loop will never end...\n",
            "This while loop will never end...\n",
            "This while loop will never end...\n",
            "This while loop will never end...\n",
            "This while loop will never end...\n",
            "This while loop will never end...\n",
            "This while loop will never end...\n",
            "This while loop will never end...\n",
            "This while loop will never end...\n",
            "This while loop will never end...\n",
            "This while loop will never end...\n",
            "This while loop will never end...\n",
            "This while loop will never end...\n",
            "This while loop will never end...\n",
            "This while loop will never end...\n",
            "This while loop will never end...\n",
            "We broke the loop!\n"
          ],
          "name": "stdout"
        }
      ]
    },
    {
      "cell_type": "markdown",
      "metadata": {
        "id": "x2Y0A86Nssm3"
      },
      "source": [
        "The ```continue``` statement allows skipping over individual loops, immediately terminating the current one and beginning the next loop (must also take place in a conditional)"
      ]
    },
    {
      "cell_type": "code",
      "metadata": {
        "colab": {
          "base_uri": "https://localhost:8080/"
        },
        "id": "IKFuL5Njs-32",
        "outputId": "77d0f1f1-7f32-4de4-f4dc-72050ec5eea1"
      },
      "source": [
        "i = 0\n",
        "\n",
        "while i < 20:\n",
        "  i = i + 1\n",
        "  if i % 3 == 0:\n",
        "    continue\n",
        "\n",
        "  print(\"Loop:\", i)"
      ],
      "execution_count": null,
      "outputs": [
        {
          "output_type": "stream",
          "text": [
            "Loop: 1\n",
            "Loop: 2\n",
            "Loop: 4\n",
            "Loop: 5\n",
            "Loop: 7\n",
            "Loop: 8\n",
            "Loop: 10\n",
            "Loop: 11\n",
            "Loop: 13\n",
            "Loop: 14\n",
            "Loop: 16\n",
            "Loop: 17\n",
            "Loop: 19\n",
            "Loop: 20\n"
          ],
          "name": "stdout"
        }
      ]
    },
    {
      "cell_type": "markdown",
      "metadata": {
        "id": "J94yS9n5tQIx"
      },
      "source": [
        "```break``` and ```continue``` can also get used in a ```for``` loop"
      ]
    },
    {
      "cell_type": "code",
      "metadata": {
        "colab": {
          "base_uri": "https://localhost:8080/"
        },
        "id": "UJFrkHratPWJ",
        "outputId": "f150396a-08ed-46ac-9df8-ec420d26118a"
      },
      "source": [
        "print(\"Breaks in for loops:\")\n",
        "for element in iterable_object:\n",
        "  if element == 'iterable':\n",
        "    break\n",
        "  print(element)\n",
        "\n",
        "print(\"\")\n",
        "\n",
        "print(\"Continues in for loops:\")\n",
        "for count, element in enumerate(iterable_object):\n",
        "  if count % 2 == 1:\n",
        "    continue\n",
        "  print(element)"
      ],
      "execution_count": null,
      "outputs": [
        {
          "output_type": "stream",
          "text": [
            "Breaks in for loops:\n",
            "this\n",
            "is\n",
            "an\n",
            "\n",
            "Continues in for loops:\n",
            "this\n",
            "an\n",
            "object\n"
          ],
          "name": "stdout"
        }
      ]
    },
    {
      "cell_type": "markdown",
      "metadata": {
        "id": "N8wK8JqbvEDD"
      },
      "source": [
        "Loops can also be nested inside other loops!"
      ]
    },
    {
      "cell_type": "code",
      "metadata": {
        "colab": {
          "base_uri": "https://localhost:8080/"
        },
        "id": "dbxlej67vXLZ",
        "outputId": "41654e85-6fb4-4f73-a314-102a9dac253b"
      },
      "source": [
        "print(\"For loop in For loop\")\n",
        "for i in range(1, 4):\n",
        "  for j in range(1, 3):\n",
        "    print(\"Primary For Loop\", i, \"Inner For Loop\", j)\n",
        "\n",
        "print(\"\")\n",
        "\n",
        "print(\"While loop in While loop\")\n",
        "m = 1\n",
        "n = 1\n",
        "\n",
        "while m < 3:\n",
        "  while n < 4:\n",
        "    print(\"Primary While Loop\", m, \"Inner While Loop\", n)\n",
        "    n = n + 1\n",
        "  m = m + 1\n",
        "  n = 1\n",
        "\n",
        "print(\"\")\n",
        "\n",
        "print(\"For loop in While loop\")\n",
        "p = 0\n",
        "while p < 3:\n",
        "  for q in range(4):\n",
        "    print(\"Primary While Loop\", p, \"Inner For Loop\", q)\n",
        "  p = p + 1"
      ],
      "execution_count": null,
      "outputs": [
        {
          "output_type": "stream",
          "text": [
            "For loop in For loop\n",
            "Primary For Loop 1 Inner For Loop 1\n",
            "Primary For Loop 1 Inner For Loop 2\n",
            "Primary For Loop 2 Inner For Loop 1\n",
            "Primary For Loop 2 Inner For Loop 2\n",
            "Primary For Loop 3 Inner For Loop 1\n",
            "Primary For Loop 3 Inner For Loop 2\n",
            "\n",
            "While loop in While loop\n",
            "Primary While Loop 1 Inner While Loop 1\n",
            "Primary While Loop 1 Inner While Loop 2\n",
            "Primary While Loop 1 Inner While Loop 3\n",
            "Primary While Loop 2 Inner While Loop 1\n",
            "Primary While Loop 2 Inner While Loop 2\n",
            "Primary While Loop 2 Inner While Loop 3\n",
            "\n",
            "For loop in While loop\n",
            "Primary While Loop 0 Inner For Loop 0\n",
            "Primary While Loop 0 Inner For Loop 1\n",
            "Primary While Loop 0 Inner For Loop 2\n",
            "Primary While Loop 0 Inner For Loop 3\n",
            "Primary While Loop 1 Inner For Loop 0\n",
            "Primary While Loop 1 Inner For Loop 1\n",
            "Primary While Loop 1 Inner For Loop 2\n",
            "Primary While Loop 1 Inner For Loop 3\n",
            "Primary While Loop 2 Inner For Loop 0\n",
            "Primary While Loop 2 Inner For Loop 1\n",
            "Primary While Loop 2 Inner For Loop 2\n",
            "Primary While Loop 2 Inner For Loop 3\n"
          ],
          "name": "stdout"
        }
      ]
    },
    {
      "cell_type": "markdown",
      "metadata": {
        "id": "H_2I6sMVt7RH"
      },
      "source": [
        "Exercise: Get the sum of elements in a list with loops!\n",
        "\n",
        "Use loops to calculate the sum of every element in a list"
      ]
    },
    {
      "cell_type": "code",
      "metadata": {
        "id": "lWq9DXwmuEwW"
      },
      "source": [
        "list_object = [5, 18, 2, 12, 9, 4]\n",
        "\n",
        "loop_sum = 0\n",
        "\n",
        "''' TO DO''' # insert loop block here, make sure the list sum gets saved in loop_sum\n",
        "\n",
        "assert loop_sum == sum(list_object), \"Did not properly track the sum over the loop!\"\n",
        "print(\"Correct!\")"
      ],
      "execution_count": null,
      "outputs": []
    },
    {
      "cell_type": "markdown",
      "metadata": {
        "id": "1iiOwKF7K5Kv"
      },
      "source": [
        "## Functions [Ryan]"
      ]
    },
    {
      "cell_type": "markdown",
      "metadata": {
        "id": "XTUixTiqconz"
      },
      "source": [
        "We have been using many of Python's built-in functions, but we can also create our own. Functions are used to bundle a set of instructions that are intended to be run repeatedly or called only when needed. They are defined using the block keyword `def`, followed by the function's name. For example:"
      ]
    },
    {
      "cell_type": "code",
      "metadata": {
        "id": "ZjAvTELvco8r"
      },
      "source": [
        "def new_function():\n",
        "  print(\"This is being printed from within a function!\")"
      ],
      "execution_count": null,
      "outputs": []
    },
    {
      "cell_type": "code",
      "metadata": {
        "id": "G_3RIrB6QSVZ"
      },
      "source": [
        "new_function()"
      ],
      "execution_count": null,
      "outputs": []
    },
    {
      "cell_type": "markdown",
      "metadata": {
        "id": "-amTQm_TQ5LA"
      },
      "source": [
        "Functions can receive arguments, which are variables passed into and (usually) used by the function."
      ]
    },
    {
      "cell_type": "code",
      "metadata": {
        "id": "QQMpQPpARL9n"
      },
      "source": [
        "def new_function_with_args(name):\n",
        "  print(\"Hello %s, this is also being printed from within a function!\" %name)"
      ],
      "execution_count": null,
      "outputs": []
    },
    {
      "cell_type": "code",
      "metadata": {
        "id": "xNNHLqh3R9Gs"
      },
      "source": [
        "new_function_with_args()"
      ],
      "execution_count": null,
      "outputs": []
    },
    {
      "cell_type": "code",
      "metadata": {
        "id": "OiugVN5kTCrE"
      },
      "source": [
        "def other_new_function_with_args(count):\n",
        "  for i in range(count):\n",
        "    print(\"This is row number\", i )"
      ],
      "execution_count": null,
      "outputs": []
    },
    {
      "cell_type": "code",
      "metadata": {
        "id": "zedVRkniT7B-"
      },
      "source": [
        "other_new_function_with_args(4)"
      ],
      "execution_count": null,
      "outputs": []
    },
    {
      "cell_type": "markdown",
      "metadata": {
        "id": "SmJemjZpVXGD"
      },
      "source": [
        "Multiple arguments can be passed to a function using a tuple (e.g., `my_function(x,y))`. \n",
        "\n",
        "EXERCISE: Create a single function that can output any of the following:\n",
        "\n",
        "```\n",
        "Hello Ryan, this will be printed 3 times.\n",
        "Hello Ryan, this will be printed 3 times.\n",
        "Hello Ryan, this will be printed 3 times.\n",
        "```\n",
        "\n",
        "```\n",
        "Hello Greg, this will be printed 2 times.\n",
        "Hello Greg, this will be printed 2 times.\n",
        "```\n",
        "\n",
        "```\n",
        "Hello noname, this will be printed 5 times.\n",
        "Hello noname, this will be printed 5 times.\n",
        "Hello noname, this will be printed 5 times.\n",
        "Hello noname, this will be printed 5 times.\n",
        "Hello noname, this will be printed 5 times.\n",
        "```"
      ]
    },
    {
      "cell_type": "code",
      "metadata": {
        "id": "8cRm-tOwbs_c"
      },
      "source": [
        ""
      ],
      "execution_count": null,
      "outputs": []
    },
    {
      "cell_type": "markdown",
      "metadata": {
        "id": "Ler6NBZbVICD"
      },
      "source": [
        "Functions can return values using the keyword `return`."
      ]
    },
    {
      "cell_type": "code",
      "metadata": {
        "id": "NMUJSNNCUwus"
      },
      "source": [
        "def add_two_numbers(a, b):\n",
        "  return a + b"
      ],
      "execution_count": null,
      "outputs": []
    },
    {
      "cell_type": "code",
      "metadata": {
        "id": "gp_XHS41W-1l"
      },
      "source": [
        "add_two_numbers()"
      ],
      "execution_count": null,
      "outputs": []
    },
    {
      "cell_type": "markdown",
      "metadata": {
        "id": "fI5JNT7zbHlz"
      },
      "source": [
        "Note that the above function requires two arguments. We can assign default values to arguments in case no value is passed during the function call."
      ]
    },
    {
      "cell_type": "code",
      "metadata": {
        "id": "pcgmO68wbI-a"
      },
      "source": [
        "def add_two_numbers_with_default(a = 1, b = 2):\n",
        "  return a + b"
      ],
      "execution_count": null,
      "outputs": []
    },
    {
      "cell_type": "code",
      "metadata": {
        "id": "gnQ-jet8czi0"
      },
      "source": [
        "add_two_numbers_with_default(10,10)"
      ],
      "execution_count": null,
      "outputs": []
    },
    {
      "cell_type": "code",
      "metadata": {
        "id": "_ijRGSsJbJQ5"
      },
      "source": [
        "add_two_numbers_with_default()"
      ],
      "execution_count": null,
      "outputs": []
    },
    {
      "cell_type": "code",
      "metadata": {
        "id": "zbu9jrVLctUI"
      },
      "source": [
        "add_two_numbers_with_default(10)"
      ],
      "execution_count": null,
      "outputs": []
    },
    {
      "cell_type": "markdown",
      "metadata": {
        "id": "K8Jno51cYMWq"
      },
      "source": [
        "If we do not know how many arguments will be passed to the function, we can use the unpacking operator `*`. This is referred to as using arbitrary arguments, or *args."
      ]
    },
    {
      "cell_type": "code",
      "metadata": {
        "id": "jgXBVWaYYLi_"
      },
      "source": [
        "def add_some_numbers(*a):\n",
        "  return sum(a)"
      ],
      "execution_count": null,
      "outputs": []
    },
    {
      "cell_type": "code",
      "metadata": {
        "id": "ZuNf7YagYLy5"
      },
      "source": [
        "add_some_numbers()"
      ],
      "execution_count": null,
      "outputs": []
    },
    {
      "cell_type": "markdown",
      "metadata": {
        "id": "FA5RvrHnac8Y"
      },
      "source": [
        "# **Additional Topics**"
      ]
    },
    {
      "cell_type": "markdown",
      "metadata": {
        "id": "Sp3ZTI_ooK3K"
      },
      "source": [
        "### Dataframes and Data Profiling [Greg]\n",
        "\n"
      ]
    },
    {
      "cell_type": "code",
      "metadata": {
        "colab": {
          "base_uri": "https://localhost:8080/",
          "height": 1000
        },
        "id": "cfZ-4AIGZ0km",
        "outputId": "b9607eae-23fd-46b2-a7ec-774bfd11ebb0"
      },
      "source": [
        "! pip install https://github.com/pandas-profiling/pandas-profiling/archive/master.zip "
      ],
      "execution_count": null,
      "outputs": [
        {
          "output_type": "stream",
          "text": [
            "Collecting https://github.com/pandas-profiling/pandas-profiling/archive/master.zip\n",
            "  Downloading https://github.com/pandas-profiling/pandas-profiling/archive/master.zip\n",
            "\u001b[K     \\ 34.6 MB 103.7 MB/s\n",
            "\u001b[?25hRequirement already satisfied: joblib in /usr/local/lib/python3.7/dist-packages (from pandas-profiling==3.0.0) (1.0.1)\n",
            "Requirement already satisfied: scipy>=1.4.1 in /usr/local/lib/python3.7/dist-packages (from pandas-profiling==3.0.0) (1.4.1)\n",
            "Requirement already satisfied: pandas!=1.0.0,!=1.0.1,!=1.0.2,!=1.1.0,>=0.25.3 in /usr/local/lib/python3.7/dist-packages (from pandas-profiling==3.0.0) (1.1.5)\n",
            "Requirement already satisfied: matplotlib>=3.2.0 in /usr/local/lib/python3.7/dist-packages (from pandas-profiling==3.0.0) (3.2.2)\n",
            "Collecting pydantic>=1.8.1\n",
            "  Downloading pydantic-1.8.2-cp37-cp37m-manylinux2014_x86_64.whl (10.1 MB)\n",
            "\u001b[K     |████████████████████████████████| 10.1 MB 69 kB/s \n",
            "\u001b[?25hCollecting PyYAML>=5.0.0\n",
            "  Downloading PyYAML-5.4.1-cp37-cp37m-manylinux1_x86_64.whl (636 kB)\n",
            "\u001b[K     |████████████████████████████████| 636 kB 42.4 MB/s \n",
            "\u001b[?25hRequirement already satisfied: jinja2>=2.11.1 in /usr/local/lib/python3.7/dist-packages (from pandas-profiling==3.0.0) (2.11.3)\n",
            "Collecting visions[type_image_path]==0.7.1\n",
            "  Downloading visions-0.7.1-py3-none-any.whl (102 kB)\n",
            "\u001b[K     |████████████████████████████████| 102 kB 58.1 MB/s \n",
            "\u001b[?25hRequirement already satisfied: numpy>=1.16.0 in /usr/local/lib/python3.7/dist-packages (from pandas-profiling==3.0.0) (1.19.5)\n",
            "Collecting htmlmin>=0.1.12\n",
            "  Downloading htmlmin-0.1.12.tar.gz (19 kB)\n",
            "Requirement already satisfied: missingno>=0.4.2 in /usr/local/lib/python3.7/dist-packages (from pandas-profiling==3.0.0) (0.5.0)\n",
            "Collecting phik>=0.11.1\n",
            "  Downloading phik-0.12.0-cp37-cp37m-manylinux2010_x86_64.whl (675 kB)\n",
            "\u001b[K     |████████████████████████████████| 675 kB 31.5 MB/s \n",
            "\u001b[?25hCollecting tangled-up-in-unicode==0.1.0\n",
            "  Downloading tangled_up_in_unicode-0.1.0-py3-none-any.whl (3.1 MB)\n",
            "\u001b[K     |████████████████████████████████| 3.1 MB 41.5 MB/s \n",
            "\u001b[?25hCollecting requests>=2.24.0\n",
            "  Downloading requests-2.26.0-py2.py3-none-any.whl (62 kB)\n",
            "\u001b[K     |████████████████████████████████| 62 kB 729 kB/s \n",
            "\u001b[?25hCollecting tqdm>=4.48.2\n",
            "  Downloading tqdm-4.62.0-py2.py3-none-any.whl (76 kB)\n",
            "\u001b[K     |████████████████████████████████| 76 kB 4.4 MB/s \n",
            "\u001b[?25hRequirement already satisfied: seaborn>=0.10.1 in /usr/local/lib/python3.7/dist-packages (from pandas-profiling==3.0.0) (0.11.1)\n",
            "Collecting multimethod==1.4\n",
            "  Downloading multimethod-1.4-py2.py3-none-any.whl (7.3 kB)\n",
            "Requirement already satisfied: bottleneck in /usr/local/lib/python3.7/dist-packages (from visions[type_image_path]==0.7.1->pandas-profiling==3.0.0) (1.3.2)\n",
            "Requirement already satisfied: attrs>=19.3.0 in /usr/local/lib/python3.7/dist-packages (from visions[type_image_path]==0.7.1->pandas-profiling==3.0.0) (21.2.0)\n",
            "Requirement already satisfied: networkx>=2.4 in /usr/local/lib/python3.7/dist-packages (from visions[type_image_path]==0.7.1->pandas-profiling==3.0.0) (2.5.1)\n",
            "Collecting imagehash\n",
            "  Downloading ImageHash-4.2.1.tar.gz (812 kB)\n",
            "\u001b[K     |████████████████████████████████| 812 kB 52.1 MB/s \n",
            "\u001b[?25hRequirement already satisfied: Pillow in /usr/local/lib/python3.7/dist-packages (from visions[type_image_path]==0.7.1->pandas-profiling==3.0.0) (7.1.2)\n",
            "Requirement already satisfied: MarkupSafe>=0.23 in /usr/local/lib/python3.7/dist-packages (from jinja2>=2.11.1->pandas-profiling==3.0.0) (2.0.1)\n",
            "Requirement already satisfied: python-dateutil>=2.1 in /usr/local/lib/python3.7/dist-packages (from matplotlib>=3.2.0->pandas-profiling==3.0.0) (2.8.1)\n",
            "Requirement already satisfied: kiwisolver>=1.0.1 in /usr/local/lib/python3.7/dist-packages (from matplotlib>=3.2.0->pandas-profiling==3.0.0) (1.3.1)\n",
            "Requirement already satisfied: pyparsing!=2.0.4,!=2.1.2,!=2.1.6,>=2.0.1 in /usr/local/lib/python3.7/dist-packages (from matplotlib>=3.2.0->pandas-profiling==3.0.0) (2.4.7)\n",
            "Requirement already satisfied: cycler>=0.10 in /usr/local/lib/python3.7/dist-packages (from matplotlib>=3.2.0->pandas-profiling==3.0.0) (0.10.0)\n",
            "Requirement already satisfied: six in /usr/local/lib/python3.7/dist-packages (from cycler>=0.10->matplotlib>=3.2.0->pandas-profiling==3.0.0) (1.15.0)\n",
            "Requirement already satisfied: decorator<5,>=4.3 in /usr/local/lib/python3.7/dist-packages (from networkx>=2.4->visions[type_image_path]==0.7.1->pandas-profiling==3.0.0) (4.4.2)\n",
            "Requirement already satisfied: pytz>=2017.2 in /usr/local/lib/python3.7/dist-packages (from pandas!=1.0.0,!=1.0.1,!=1.0.2,!=1.1.0,>=0.25.3->pandas-profiling==3.0.0) (2018.9)\n",
            "Collecting scipy>=1.4.1\n",
            "  Downloading scipy-1.7.1-cp37-cp37m-manylinux_2_5_x86_64.manylinux1_x86_64.whl (28.5 MB)\n",
            "\u001b[K     |████████████████████████████████| 28.5 MB 47 kB/s \n",
            "\u001b[?25hRequirement already satisfied: typing-extensions>=3.7.4.3 in /usr/local/lib/python3.7/dist-packages (from pydantic>=1.8.1->pandas-profiling==3.0.0) (3.7.4.3)\n",
            "Requirement already satisfied: idna<4,>=2.5 in /usr/local/lib/python3.7/dist-packages (from requests>=2.24.0->pandas-profiling==3.0.0) (2.10)\n",
            "Requirement already satisfied: certifi>=2017.4.17 in /usr/local/lib/python3.7/dist-packages (from requests>=2.24.0->pandas-profiling==3.0.0) (2021.5.30)\n",
            "Requirement already satisfied: urllib3<1.27,>=1.21.1 in /usr/local/lib/python3.7/dist-packages (from requests>=2.24.0->pandas-profiling==3.0.0) (1.24.3)\n",
            "Requirement already satisfied: charset-normalizer~=2.0.0 in /usr/local/lib/python3.7/dist-packages (from requests>=2.24.0->pandas-profiling==3.0.0) (2.0.2)\n",
            "Requirement already satisfied: PyWavelets in /usr/local/lib/python3.7/dist-packages (from imagehash->visions[type_image_path]==0.7.1->pandas-profiling==3.0.0) (1.1.1)\n",
            "Building wheels for collected packages: pandas-profiling, htmlmin, imagehash\n",
            "  Building wheel for pandas-profiling (setup.py) ... \u001b[?25l\u001b[?25hdone\n",
            "  Created wheel for pandas-profiling: filename=pandas_profiling-3.0.0-py2.py3-none-any.whl size=248525 sha256=0ebd50cac03c785434963d353695c58ea7f2c834fe67de050c206d86bf5204ae\n",
            "  Stored in directory: /tmp/pip-ephem-wheel-cache-rlr1ndhf/wheels/cc/d5/09/083fb07c9363a2f45854b0e3a7de7d7c560f07da74b9e9769d\n",
            "  Building wheel for htmlmin (setup.py) ... \u001b[?25l\u001b[?25hdone\n",
            "  Created wheel for htmlmin: filename=htmlmin-0.1.12-py3-none-any.whl size=27098 sha256=244c2641eb429a7210250206908cbab241824b89945d1cda071682f76bfc814d\n",
            "  Stored in directory: /root/.cache/pip/wheels/70/e1/52/5b14d250ba868768823940c3229e9950d201a26d0bd3ee8655\n",
            "  Building wheel for imagehash (setup.py) ... \u001b[?25l\u001b[?25hdone\n",
            "  Created wheel for imagehash: filename=ImageHash-4.2.1-py2.py3-none-any.whl size=295206 sha256=ab1d10759effffd9a9edfb7036895f12a22598370c14b22974a813b7112928f8\n",
            "  Stored in directory: /root/.cache/pip/wheels/4c/d5/59/5e3e297533ddb09407769762985d134135064c6831e29a914e\n",
            "Successfully built pandas-profiling htmlmin imagehash\n",
            "Installing collected packages: tangled-up-in-unicode, scipy, multimethod, visions, imagehash, tqdm, requests, PyYAML, pydantic, phik, htmlmin, pandas-profiling\n",
            "  Attempting uninstall: scipy\n",
            "    Found existing installation: scipy 1.4.1\n",
            "    Uninstalling scipy-1.4.1:\n",
            "      Successfully uninstalled scipy-1.4.1\n",
            "  Attempting uninstall: tqdm\n",
            "    Found existing installation: tqdm 4.41.1\n",
            "    Uninstalling tqdm-4.41.1:\n",
            "      Successfully uninstalled tqdm-4.41.1\n",
            "  Attempting uninstall: requests\n",
            "    Found existing installation: requests 2.23.0\n",
            "    Uninstalling requests-2.23.0:\n",
            "      Successfully uninstalled requests-2.23.0\n",
            "  Attempting uninstall: PyYAML\n",
            "    Found existing installation: PyYAML 3.13\n",
            "    Uninstalling PyYAML-3.13:\n",
            "      Successfully uninstalled PyYAML-3.13\n",
            "  Attempting uninstall: pandas-profiling\n",
            "    Found existing installation: pandas-profiling 1.4.1\n",
            "    Uninstalling pandas-profiling-1.4.1:\n",
            "      Successfully uninstalled pandas-profiling-1.4.1\n",
            "\u001b[31mERROR: pip's dependency resolver does not currently take into account all the packages that are installed. This behaviour is the source of the following dependency conflicts.\n",
            "google-colab 1.0.0 requires requests~=2.23.0, but you have requests 2.26.0 which is incompatible.\n",
            "datascience 0.10.6 requires folium==0.2.1, but you have folium 0.8.3 which is incompatible.\n",
            "albumentations 0.1.12 requires imgaug<0.2.7,>=0.2.5, but you have imgaug 0.2.9 which is incompatible.\u001b[0m\n",
            "Successfully installed PyYAML-5.4.1 htmlmin-0.1.12 imagehash-4.2.1 multimethod-1.4 pandas-profiling-3.0.0 phik-0.12.0 pydantic-1.8.2 requests-2.26.0 scipy-1.7.1 tangled-up-in-unicode-0.1.0 tqdm-4.62.0 visions-0.7.1\n"
          ],
          "name": "stdout"
        },
        {
          "output_type": "display_data",
          "data": {
            "application/vnd.colab-display-data+json": {
              "pip_warning": {
                "packages": [
                  "pandas_profiling"
                ]
              }
            }
          },
          "metadata": {
            "tags": []
          }
        }
      ]
    },
    {
      "cell_type": "markdown",
      "metadata": {
        "id": "0fyWDIqCeAmz"
      },
      "source": [
        "DataFrames are two-dimensional objects that store tabular data of varying data types. They can be thought of like a spreadsheet or a SQL table."
      ]
    },
    {
      "cell_type": "code",
      "metadata": {
        "colab": {
          "base_uri": "https://localhost:8080/",
          "height": 419
        },
        "id": "-XdXKo4-WQjX",
        "outputId": "eaffe6af-3c6d-41b8-918a-c02b314b4e51"
      },
      "source": [
        "import pandas as pd\n",
        "df = pd.read_csv('sample_data/california_housing_train.csv')\n",
        "df"
      ],
      "execution_count": null,
      "outputs": [
        {
          "output_type": "execute_result",
          "data": {
            "text/html": [
              "<div>\n",
              "<style scoped>\n",
              "    .dataframe tbody tr th:only-of-type {\n",
              "        vertical-align: middle;\n",
              "    }\n",
              "\n",
              "    .dataframe tbody tr th {\n",
              "        vertical-align: top;\n",
              "    }\n",
              "\n",
              "    .dataframe thead th {\n",
              "        text-align: right;\n",
              "    }\n",
              "</style>\n",
              "<table border=\"1\" class=\"dataframe\">\n",
              "  <thead>\n",
              "    <tr style=\"text-align: right;\">\n",
              "      <th></th>\n",
              "      <th>longitude</th>\n",
              "      <th>latitude</th>\n",
              "      <th>housing_median_age</th>\n",
              "      <th>total_rooms</th>\n",
              "      <th>total_bedrooms</th>\n",
              "      <th>population</th>\n",
              "      <th>households</th>\n",
              "      <th>median_income</th>\n",
              "      <th>median_house_value</th>\n",
              "    </tr>\n",
              "  </thead>\n",
              "  <tbody>\n",
              "    <tr>\n",
              "      <th>0</th>\n",
              "      <td>-114.31</td>\n",
              "      <td>34.19</td>\n",
              "      <td>15.0</td>\n",
              "      <td>5612.0</td>\n",
              "      <td>1283.0</td>\n",
              "      <td>1015.0</td>\n",
              "      <td>472.0</td>\n",
              "      <td>1.4936</td>\n",
              "      <td>66900.0</td>\n",
              "    </tr>\n",
              "    <tr>\n",
              "      <th>1</th>\n",
              "      <td>-114.47</td>\n",
              "      <td>34.40</td>\n",
              "      <td>19.0</td>\n",
              "      <td>7650.0</td>\n",
              "      <td>1901.0</td>\n",
              "      <td>1129.0</td>\n",
              "      <td>463.0</td>\n",
              "      <td>1.8200</td>\n",
              "      <td>80100.0</td>\n",
              "    </tr>\n",
              "    <tr>\n",
              "      <th>2</th>\n",
              "      <td>-114.56</td>\n",
              "      <td>33.69</td>\n",
              "      <td>17.0</td>\n",
              "      <td>720.0</td>\n",
              "      <td>174.0</td>\n",
              "      <td>333.0</td>\n",
              "      <td>117.0</td>\n",
              "      <td>1.6509</td>\n",
              "      <td>85700.0</td>\n",
              "    </tr>\n",
              "    <tr>\n",
              "      <th>3</th>\n",
              "      <td>-114.57</td>\n",
              "      <td>33.64</td>\n",
              "      <td>14.0</td>\n",
              "      <td>1501.0</td>\n",
              "      <td>337.0</td>\n",
              "      <td>515.0</td>\n",
              "      <td>226.0</td>\n",
              "      <td>3.1917</td>\n",
              "      <td>73400.0</td>\n",
              "    </tr>\n",
              "    <tr>\n",
              "      <th>4</th>\n",
              "      <td>-114.57</td>\n",
              "      <td>33.57</td>\n",
              "      <td>20.0</td>\n",
              "      <td>1454.0</td>\n",
              "      <td>326.0</td>\n",
              "      <td>624.0</td>\n",
              "      <td>262.0</td>\n",
              "      <td>1.9250</td>\n",
              "      <td>65500.0</td>\n",
              "    </tr>\n",
              "    <tr>\n",
              "      <th>...</th>\n",
              "      <td>...</td>\n",
              "      <td>...</td>\n",
              "      <td>...</td>\n",
              "      <td>...</td>\n",
              "      <td>...</td>\n",
              "      <td>...</td>\n",
              "      <td>...</td>\n",
              "      <td>...</td>\n",
              "      <td>...</td>\n",
              "    </tr>\n",
              "    <tr>\n",
              "      <th>16995</th>\n",
              "      <td>-124.26</td>\n",
              "      <td>40.58</td>\n",
              "      <td>52.0</td>\n",
              "      <td>2217.0</td>\n",
              "      <td>394.0</td>\n",
              "      <td>907.0</td>\n",
              "      <td>369.0</td>\n",
              "      <td>2.3571</td>\n",
              "      <td>111400.0</td>\n",
              "    </tr>\n",
              "    <tr>\n",
              "      <th>16996</th>\n",
              "      <td>-124.27</td>\n",
              "      <td>40.69</td>\n",
              "      <td>36.0</td>\n",
              "      <td>2349.0</td>\n",
              "      <td>528.0</td>\n",
              "      <td>1194.0</td>\n",
              "      <td>465.0</td>\n",
              "      <td>2.5179</td>\n",
              "      <td>79000.0</td>\n",
              "    </tr>\n",
              "    <tr>\n",
              "      <th>16997</th>\n",
              "      <td>-124.30</td>\n",
              "      <td>41.84</td>\n",
              "      <td>17.0</td>\n",
              "      <td>2677.0</td>\n",
              "      <td>531.0</td>\n",
              "      <td>1244.0</td>\n",
              "      <td>456.0</td>\n",
              "      <td>3.0313</td>\n",
              "      <td>103600.0</td>\n",
              "    </tr>\n",
              "    <tr>\n",
              "      <th>16998</th>\n",
              "      <td>-124.30</td>\n",
              "      <td>41.80</td>\n",
              "      <td>19.0</td>\n",
              "      <td>2672.0</td>\n",
              "      <td>552.0</td>\n",
              "      <td>1298.0</td>\n",
              "      <td>478.0</td>\n",
              "      <td>1.9797</td>\n",
              "      <td>85800.0</td>\n",
              "    </tr>\n",
              "    <tr>\n",
              "      <th>16999</th>\n",
              "      <td>-124.35</td>\n",
              "      <td>40.54</td>\n",
              "      <td>52.0</td>\n",
              "      <td>1820.0</td>\n",
              "      <td>300.0</td>\n",
              "      <td>806.0</td>\n",
              "      <td>270.0</td>\n",
              "      <td>3.0147</td>\n",
              "      <td>94600.0</td>\n",
              "    </tr>\n",
              "  </tbody>\n",
              "</table>\n",
              "<p>17000 rows × 9 columns</p>\n",
              "</div>"
            ],
            "text/plain": [
              "       longitude  latitude  ...  median_income  median_house_value\n",
              "0        -114.31     34.19  ...         1.4936             66900.0\n",
              "1        -114.47     34.40  ...         1.8200             80100.0\n",
              "2        -114.56     33.69  ...         1.6509             85700.0\n",
              "3        -114.57     33.64  ...         3.1917             73400.0\n",
              "4        -114.57     33.57  ...         1.9250             65500.0\n",
              "...          ...       ...  ...            ...                 ...\n",
              "16995    -124.26     40.58  ...         2.3571            111400.0\n",
              "16996    -124.27     40.69  ...         2.5179             79000.0\n",
              "16997    -124.30     41.84  ...         3.0313            103600.0\n",
              "16998    -124.30     41.80  ...         1.9797             85800.0\n",
              "16999    -124.35     40.54  ...         3.0147             94600.0\n",
              "\n",
              "[17000 rows x 9 columns]"
            ]
          },
          "metadata": {
            "tags": []
          },
          "execution_count": 40
        }
      ]
    },
    {
      "cell_type": "markdown",
      "metadata": {
        "id": "b_tUJZsPiJJP"
      },
      "source": [
        "You can use the ```describe``` method to see summary statistics about the DataFrame"
      ]
    },
    {
      "cell_type": "code",
      "metadata": {
        "colab": {
          "base_uri": "https://localhost:8080/",
          "height": 320
        },
        "id": "MGl-ReWFiQTQ",
        "outputId": "27cfc972-b251-4fb0-81e9-836150b12a22"
      },
      "source": [
        "df.describe()"
      ],
      "execution_count": null,
      "outputs": [
        {
          "output_type": "execute_result",
          "data": {
            "text/html": [
              "<div>\n",
              "<style scoped>\n",
              "    .dataframe tbody tr th:only-of-type {\n",
              "        vertical-align: middle;\n",
              "    }\n",
              "\n",
              "    .dataframe tbody tr th {\n",
              "        vertical-align: top;\n",
              "    }\n",
              "\n",
              "    .dataframe thead th {\n",
              "        text-align: right;\n",
              "    }\n",
              "</style>\n",
              "<table border=\"1\" class=\"dataframe\">\n",
              "  <thead>\n",
              "    <tr style=\"text-align: right;\">\n",
              "      <th></th>\n",
              "      <th>longitude</th>\n",
              "      <th>latitude</th>\n",
              "      <th>housing_median_age</th>\n",
              "      <th>total_rooms</th>\n",
              "      <th>total_bedrooms</th>\n",
              "      <th>population</th>\n",
              "      <th>households</th>\n",
              "      <th>median_income</th>\n",
              "      <th>median_house_value</th>\n",
              "    </tr>\n",
              "  </thead>\n",
              "  <tbody>\n",
              "    <tr>\n",
              "      <th>count</th>\n",
              "      <td>17000.000000</td>\n",
              "      <td>17000.000000</td>\n",
              "      <td>17000.000000</td>\n",
              "      <td>17000.000000</td>\n",
              "      <td>17000.000000</td>\n",
              "      <td>17000.000000</td>\n",
              "      <td>17000.000000</td>\n",
              "      <td>17000.000000</td>\n",
              "      <td>17000.000000</td>\n",
              "    </tr>\n",
              "    <tr>\n",
              "      <th>mean</th>\n",
              "      <td>-119.562108</td>\n",
              "      <td>35.625225</td>\n",
              "      <td>28.589353</td>\n",
              "      <td>2643.664412</td>\n",
              "      <td>539.410824</td>\n",
              "      <td>1429.573941</td>\n",
              "      <td>501.221941</td>\n",
              "      <td>3.883578</td>\n",
              "      <td>207300.912353</td>\n",
              "    </tr>\n",
              "    <tr>\n",
              "      <th>std</th>\n",
              "      <td>2.005166</td>\n",
              "      <td>2.137340</td>\n",
              "      <td>12.586937</td>\n",
              "      <td>2179.947071</td>\n",
              "      <td>421.499452</td>\n",
              "      <td>1147.852959</td>\n",
              "      <td>384.520841</td>\n",
              "      <td>1.908157</td>\n",
              "      <td>115983.764387</td>\n",
              "    </tr>\n",
              "    <tr>\n",
              "      <th>min</th>\n",
              "      <td>-124.350000</td>\n",
              "      <td>32.540000</td>\n",
              "      <td>1.000000</td>\n",
              "      <td>2.000000</td>\n",
              "      <td>1.000000</td>\n",
              "      <td>3.000000</td>\n",
              "      <td>1.000000</td>\n",
              "      <td>0.499900</td>\n",
              "      <td>14999.000000</td>\n",
              "    </tr>\n",
              "    <tr>\n",
              "      <th>25%</th>\n",
              "      <td>-121.790000</td>\n",
              "      <td>33.930000</td>\n",
              "      <td>18.000000</td>\n",
              "      <td>1462.000000</td>\n",
              "      <td>297.000000</td>\n",
              "      <td>790.000000</td>\n",
              "      <td>282.000000</td>\n",
              "      <td>2.566375</td>\n",
              "      <td>119400.000000</td>\n",
              "    </tr>\n",
              "    <tr>\n",
              "      <th>50%</th>\n",
              "      <td>-118.490000</td>\n",
              "      <td>34.250000</td>\n",
              "      <td>29.000000</td>\n",
              "      <td>2127.000000</td>\n",
              "      <td>434.000000</td>\n",
              "      <td>1167.000000</td>\n",
              "      <td>409.000000</td>\n",
              "      <td>3.544600</td>\n",
              "      <td>180400.000000</td>\n",
              "    </tr>\n",
              "    <tr>\n",
              "      <th>75%</th>\n",
              "      <td>-118.000000</td>\n",
              "      <td>37.720000</td>\n",
              "      <td>37.000000</td>\n",
              "      <td>3151.250000</td>\n",
              "      <td>648.250000</td>\n",
              "      <td>1721.000000</td>\n",
              "      <td>605.250000</td>\n",
              "      <td>4.767000</td>\n",
              "      <td>265000.000000</td>\n",
              "    </tr>\n",
              "    <tr>\n",
              "      <th>max</th>\n",
              "      <td>-114.310000</td>\n",
              "      <td>41.950000</td>\n",
              "      <td>52.000000</td>\n",
              "      <td>37937.000000</td>\n",
              "      <td>6445.000000</td>\n",
              "      <td>35682.000000</td>\n",
              "      <td>6082.000000</td>\n",
              "      <td>15.000100</td>\n",
              "      <td>500001.000000</td>\n",
              "    </tr>\n",
              "  </tbody>\n",
              "</table>\n",
              "</div>"
            ],
            "text/plain": [
              "          longitude      latitude  ...  median_income  median_house_value\n",
              "count  17000.000000  17000.000000  ...   17000.000000        17000.000000\n",
              "mean    -119.562108     35.625225  ...       3.883578       207300.912353\n",
              "std        2.005166      2.137340  ...       1.908157       115983.764387\n",
              "min     -124.350000     32.540000  ...       0.499900        14999.000000\n",
              "25%     -121.790000     33.930000  ...       2.566375       119400.000000\n",
              "50%     -118.490000     34.250000  ...       3.544600       180400.000000\n",
              "75%     -118.000000     37.720000  ...       4.767000       265000.000000\n",
              "max     -114.310000     41.950000  ...      15.000100       500001.000000\n",
              "\n",
              "[8 rows x 9 columns]"
            ]
          },
          "metadata": {
            "tags": []
          },
          "execution_count": 13
        }
      ]
    },
    {
      "cell_type": "markdown",
      "metadata": {
        "id": "aDUtHejsiR24"
      },
      "source": [
        "These are very basic, but there is a simple way to generate a more detailed, easy-to-read report"
      ]
    },
    {
      "cell_type": "code",
      "metadata": {
        "id": "xlAFL04pXh4p"
      },
      "source": [
        "from pandas_profiling import ProfileReport\n",
        "profile = ProfileReport(df, title=\"California Housing\", html={'stile':{'full_width':True}})\n",
        "profile.to_notebook_iframe()"
      ],
      "execution_count": null,
      "outputs": []
    },
    {
      "cell_type": "markdown",
      "metadata": {
        "id": "32IbsKwQpL1w"
      },
      "source": [
        "The `get_description()` method can be used to generate a (very long) dictionary which contains all the information necessary for the report. you can inspect, and use the information contained in it for further analysis"
      ]
    },
    {
      "cell_type": "code",
      "metadata": {
        "id": "E_5q2pP2XLCg"
      },
      "source": [
        "profile.get_description(); "
      ],
      "execution_count": null,
      "outputs": []
    },
    {
      "cell_type": "markdown",
      "metadata": {
        "id": "aUp_Rj0ofkbB"
      },
      "source": [
        "You can access DataFrame columns similar to how you would access dictionary values"
      ]
    },
    {
      "cell_type": "code",
      "metadata": {
        "colab": {
          "base_uri": "https://localhost:8080/"
        },
        "id": "BUmZGTCSg0Zh",
        "outputId": "17ff40e2-66cd-4453-ffd3-04fe8274f257"
      },
      "source": [
        "df['longitude']"
      ],
      "execution_count": null,
      "outputs": [
        {
          "output_type": "execute_result",
          "data": {
            "text/plain": [
              "0       -114.31\n",
              "1       -114.47\n",
              "2       -114.56\n",
              "3       -114.57\n",
              "4       -114.57\n",
              "          ...  \n",
              "16995   -124.26\n",
              "16996   -124.27\n",
              "16997   -124.30\n",
              "16998   -124.30\n",
              "16999   -124.35\n",
              "Name: longitude, Length: 17000, dtype: float64"
            ]
          },
          "metadata": {
            "tags": []
          },
          "execution_count": 8
        }
      ]
    },
    {
      "cell_type": "markdown",
      "metadata": {
        "id": "uo5fGSwOg5WX"
      },
      "source": [
        "You can also access columns by their column number"
      ]
    },
    {
      "cell_type": "code",
      "metadata": {
        "colab": {
          "base_uri": "https://localhost:8080/"
        },
        "id": "XbCcOrYVg_L-",
        "outputId": "e7ef4562-6a46-459c-9986-2daa8b7b7405"
      },
      "source": [
        "df.iloc[:, 5]"
      ],
      "execution_count": null,
      "outputs": [
        {
          "output_type": "execute_result",
          "data": {
            "text/plain": [
              "0        1015.0\n",
              "1        1129.0\n",
              "2         333.0\n",
              "3         515.0\n",
              "4         624.0\n",
              "          ...  \n",
              "16995     907.0\n",
              "16996    1194.0\n",
              "16997    1244.0\n",
              "16998    1298.0\n",
              "16999     806.0\n",
              "Name: population, Length: 17000, dtype: float64"
            ]
          },
          "metadata": {
            "tags": []
          },
          "execution_count": 9
        }
      ]
    },
    {
      "cell_type": "markdown",
      "metadata": {
        "id": "U710VfxyhB2p"
      },
      "source": [
        "You can even access individual rows in this manner"
      ]
    },
    {
      "cell_type": "code",
      "metadata": {
        "colab": {
          "base_uri": "https://localhost:8080/"
        },
        "id": "bpgyxoXlhEM1",
        "outputId": "985ee0a9-b1f1-4c89-af47-be111e8ee14e"
      },
      "source": [
        "df.iloc[8]"
      ],
      "execution_count": null,
      "outputs": [
        {
          "output_type": "execute_result",
          "data": {
            "text/plain": [
              "longitude              -114.5900\n",
              "latitude                 33.6100\n",
              "housing_median_age       34.0000\n",
              "total_rooms            4789.0000\n",
              "total_bedrooms         1175.0000\n",
              "population             3134.0000\n",
              "households             1056.0000\n",
              "median_income             2.1782\n",
              "median_house_value    58400.0000\n",
              "Name: 8, dtype: float64"
            ]
          },
          "metadata": {
            "tags": []
          },
          "execution_count": 10
        }
      ]
    },
    {
      "cell_type": "markdown",
      "metadata": {
        "id": "UnK_I5wehH9v"
      },
      "source": [
        "You can access multiple columns or rows by slicing columns or providing multiple column names (note the double brackets)"
      ]
    },
    {
      "cell_type": "code",
      "metadata": {
        "colab": {
          "base_uri": "https://localhost:8080/",
          "height": 173
        },
        "id": "Wc8Uy7Uqhy9d",
        "outputId": "d679302e-95b5-4850-c9e2-a32280de41de"
      },
      "source": [
        "df.iloc[8:12, 3:6]"
      ],
      "execution_count": null,
      "outputs": [
        {
          "output_type": "execute_result",
          "data": {
            "text/html": [
              "<div>\n",
              "<style scoped>\n",
              "    .dataframe tbody tr th:only-of-type {\n",
              "        vertical-align: middle;\n",
              "    }\n",
              "\n",
              "    .dataframe tbody tr th {\n",
              "        vertical-align: top;\n",
              "    }\n",
              "\n",
              "    .dataframe thead th {\n",
              "        text-align: right;\n",
              "    }\n",
              "</style>\n",
              "<table border=\"1\" class=\"dataframe\">\n",
              "  <thead>\n",
              "    <tr style=\"text-align: right;\">\n",
              "      <th></th>\n",
              "      <th>total_rooms</th>\n",
              "      <th>total_bedrooms</th>\n",
              "      <th>population</th>\n",
              "    </tr>\n",
              "  </thead>\n",
              "  <tbody>\n",
              "    <tr>\n",
              "      <th>8</th>\n",
              "      <td>4789.0</td>\n",
              "      <td>1175.0</td>\n",
              "      <td>3134.0</td>\n",
              "    </tr>\n",
              "    <tr>\n",
              "      <th>9</th>\n",
              "      <td>1497.0</td>\n",
              "      <td>309.0</td>\n",
              "      <td>787.0</td>\n",
              "    </tr>\n",
              "    <tr>\n",
              "      <th>10</th>\n",
              "      <td>3741.0</td>\n",
              "      <td>801.0</td>\n",
              "      <td>2434.0</td>\n",
              "    </tr>\n",
              "    <tr>\n",
              "      <th>11</th>\n",
              "      <td>1988.0</td>\n",
              "      <td>483.0</td>\n",
              "      <td>1182.0</td>\n",
              "    </tr>\n",
              "  </tbody>\n",
              "</table>\n",
              "</div>"
            ],
            "text/plain": [
              "    total_rooms  total_bedrooms  population\n",
              "8        4789.0          1175.0      3134.0\n",
              "9        1497.0           309.0       787.0\n",
              "10       3741.0           801.0      2434.0\n",
              "11       1988.0           483.0      1182.0"
            ]
          },
          "metadata": {
            "tags": []
          },
          "execution_count": 11
        }
      ]
    },
    {
      "cell_type": "code",
      "metadata": {
        "colab": {
          "base_uri": "https://localhost:8080/",
          "height": 419
        },
        "id": "YcXUDzc1h7Mq",
        "outputId": "54b67855-3e3d-4ed5-a283-b7a798c8aae7"
      },
      "source": [
        "df[['population', 'households', 'median_income']]"
      ],
      "execution_count": null,
      "outputs": [
        {
          "output_type": "execute_result",
          "data": {
            "text/html": [
              "<div>\n",
              "<style scoped>\n",
              "    .dataframe tbody tr th:only-of-type {\n",
              "        vertical-align: middle;\n",
              "    }\n",
              "\n",
              "    .dataframe tbody tr th {\n",
              "        vertical-align: top;\n",
              "    }\n",
              "\n",
              "    .dataframe thead th {\n",
              "        text-align: right;\n",
              "    }\n",
              "</style>\n",
              "<table border=\"1\" class=\"dataframe\">\n",
              "  <thead>\n",
              "    <tr style=\"text-align: right;\">\n",
              "      <th></th>\n",
              "      <th>population</th>\n",
              "      <th>households</th>\n",
              "      <th>median_income</th>\n",
              "    </tr>\n",
              "  </thead>\n",
              "  <tbody>\n",
              "    <tr>\n",
              "      <th>0</th>\n",
              "      <td>1015.0</td>\n",
              "      <td>472.0</td>\n",
              "      <td>1.4936</td>\n",
              "    </tr>\n",
              "    <tr>\n",
              "      <th>1</th>\n",
              "      <td>1129.0</td>\n",
              "      <td>463.0</td>\n",
              "      <td>1.8200</td>\n",
              "    </tr>\n",
              "    <tr>\n",
              "      <th>2</th>\n",
              "      <td>333.0</td>\n",
              "      <td>117.0</td>\n",
              "      <td>1.6509</td>\n",
              "    </tr>\n",
              "    <tr>\n",
              "      <th>3</th>\n",
              "      <td>515.0</td>\n",
              "      <td>226.0</td>\n",
              "      <td>3.1917</td>\n",
              "    </tr>\n",
              "    <tr>\n",
              "      <th>4</th>\n",
              "      <td>624.0</td>\n",
              "      <td>262.0</td>\n",
              "      <td>1.9250</td>\n",
              "    </tr>\n",
              "    <tr>\n",
              "      <th>...</th>\n",
              "      <td>...</td>\n",
              "      <td>...</td>\n",
              "      <td>...</td>\n",
              "    </tr>\n",
              "    <tr>\n",
              "      <th>16995</th>\n",
              "      <td>907.0</td>\n",
              "      <td>369.0</td>\n",
              "      <td>2.3571</td>\n",
              "    </tr>\n",
              "    <tr>\n",
              "      <th>16996</th>\n",
              "      <td>1194.0</td>\n",
              "      <td>465.0</td>\n",
              "      <td>2.5179</td>\n",
              "    </tr>\n",
              "    <tr>\n",
              "      <th>16997</th>\n",
              "      <td>1244.0</td>\n",
              "      <td>456.0</td>\n",
              "      <td>3.0313</td>\n",
              "    </tr>\n",
              "    <tr>\n",
              "      <th>16998</th>\n",
              "      <td>1298.0</td>\n",
              "      <td>478.0</td>\n",
              "      <td>1.9797</td>\n",
              "    </tr>\n",
              "    <tr>\n",
              "      <th>16999</th>\n",
              "      <td>806.0</td>\n",
              "      <td>270.0</td>\n",
              "      <td>3.0147</td>\n",
              "    </tr>\n",
              "  </tbody>\n",
              "</table>\n",
              "<p>17000 rows × 3 columns</p>\n",
              "</div>"
            ],
            "text/plain": [
              "       population  households  median_income\n",
              "0          1015.0       472.0         1.4936\n",
              "1          1129.0       463.0         1.8200\n",
              "2           333.0       117.0         1.6509\n",
              "3           515.0       226.0         3.1917\n",
              "4           624.0       262.0         1.9250\n",
              "...           ...         ...            ...\n",
              "16995       907.0       369.0         2.3571\n",
              "16996      1194.0       465.0         2.5179\n",
              "16997      1244.0       456.0         3.0313\n",
              "16998      1298.0       478.0         1.9797\n",
              "16999       806.0       270.0         3.0147\n",
              "\n",
              "[17000 rows x 3 columns]"
            ]
          },
          "metadata": {
            "tags": []
          },
          "execution_count": 12
        }
      ]
    },
    {
      "cell_type": "markdown",
      "metadata": {
        "id": "5Lt7Vwxrjcd6"
      },
      "source": [
        "You can also provide lists of True/False values as a 'mask' to indicate which rows or columns to display (these should be the same length as the row- or column-count)"
      ]
    },
    {
      "cell_type": "code",
      "metadata": {
        "colab": {
          "base_uri": "https://localhost:8080/",
          "height": 419
        },
        "id": "0hitQ-sAjoLX",
        "outputId": "2370827b-f563-4ad6-f484-03e0afd19ac3"
      },
      "source": [
        "col_mask = [False, False, False, True, False, True, False, False, True]\n",
        "df.loc[:, col_mask]"
      ],
      "execution_count": null,
      "outputs": [
        {
          "output_type": "execute_result",
          "data": {
            "text/html": [
              "<div>\n",
              "<style scoped>\n",
              "    .dataframe tbody tr th:only-of-type {\n",
              "        vertical-align: middle;\n",
              "    }\n",
              "\n",
              "    .dataframe tbody tr th {\n",
              "        vertical-align: top;\n",
              "    }\n",
              "\n",
              "    .dataframe thead th {\n",
              "        text-align: right;\n",
              "    }\n",
              "</style>\n",
              "<table border=\"1\" class=\"dataframe\">\n",
              "  <thead>\n",
              "    <tr style=\"text-align: right;\">\n",
              "      <th></th>\n",
              "      <th>total_rooms</th>\n",
              "      <th>population</th>\n",
              "      <th>median_house_value</th>\n",
              "    </tr>\n",
              "  </thead>\n",
              "  <tbody>\n",
              "    <tr>\n",
              "      <th>0</th>\n",
              "      <td>5612.0</td>\n",
              "      <td>1015.0</td>\n",
              "      <td>66900.0</td>\n",
              "    </tr>\n",
              "    <tr>\n",
              "      <th>1</th>\n",
              "      <td>7650.0</td>\n",
              "      <td>1129.0</td>\n",
              "      <td>80100.0</td>\n",
              "    </tr>\n",
              "    <tr>\n",
              "      <th>2</th>\n",
              "      <td>720.0</td>\n",
              "      <td>333.0</td>\n",
              "      <td>85700.0</td>\n",
              "    </tr>\n",
              "    <tr>\n",
              "      <th>3</th>\n",
              "      <td>1501.0</td>\n",
              "      <td>515.0</td>\n",
              "      <td>73400.0</td>\n",
              "    </tr>\n",
              "    <tr>\n",
              "      <th>4</th>\n",
              "      <td>1454.0</td>\n",
              "      <td>624.0</td>\n",
              "      <td>65500.0</td>\n",
              "    </tr>\n",
              "    <tr>\n",
              "      <th>...</th>\n",
              "      <td>...</td>\n",
              "      <td>...</td>\n",
              "      <td>...</td>\n",
              "    </tr>\n",
              "    <tr>\n",
              "      <th>16995</th>\n",
              "      <td>2217.0</td>\n",
              "      <td>907.0</td>\n",
              "      <td>111400.0</td>\n",
              "    </tr>\n",
              "    <tr>\n",
              "      <th>16996</th>\n",
              "      <td>2349.0</td>\n",
              "      <td>1194.0</td>\n",
              "      <td>79000.0</td>\n",
              "    </tr>\n",
              "    <tr>\n",
              "      <th>16997</th>\n",
              "      <td>2677.0</td>\n",
              "      <td>1244.0</td>\n",
              "      <td>103600.0</td>\n",
              "    </tr>\n",
              "    <tr>\n",
              "      <th>16998</th>\n",
              "      <td>2672.0</td>\n",
              "      <td>1298.0</td>\n",
              "      <td>85800.0</td>\n",
              "    </tr>\n",
              "    <tr>\n",
              "      <th>16999</th>\n",
              "      <td>1820.0</td>\n",
              "      <td>806.0</td>\n",
              "      <td>94600.0</td>\n",
              "    </tr>\n",
              "  </tbody>\n",
              "</table>\n",
              "<p>17000 rows × 3 columns</p>\n",
              "</div>"
            ],
            "text/plain": [
              "       total_rooms  population  median_house_value\n",
              "0           5612.0      1015.0             66900.0\n",
              "1           7650.0      1129.0             80100.0\n",
              "2            720.0       333.0             85700.0\n",
              "3           1501.0       515.0             73400.0\n",
              "4           1454.0       624.0             65500.0\n",
              "...            ...         ...                 ...\n",
              "16995       2217.0       907.0            111400.0\n",
              "16996       2349.0      1194.0             79000.0\n",
              "16997       2677.0      1244.0            103600.0\n",
              "16998       2672.0      1298.0             85800.0\n",
              "16999       1820.0       806.0             94600.0\n",
              "\n",
              "[17000 rows x 3 columns]"
            ]
          },
          "metadata": {
            "tags": []
          },
          "execution_count": 20
        }
      ]
    },
    {
      "cell_type": "markdown",
      "metadata": {
        "id": "CS6Xm-oEkjL3"
      },
      "source": [
        "Masks become important when you want to filter the dataset to look for certain values (notice how the index changes)"
      ]
    },
    {
      "cell_type": "code",
      "metadata": {
        "id": "g0Jt5jBSky9J"
      },
      "source": [
        "population_filter = df['population'] > 1000"
      ],
      "execution_count": null,
      "outputs": []
    },
    {
      "cell_type": "code",
      "metadata": {
        "colab": {
          "base_uri": "https://localhost:8080/"
        },
        "id": "PNLWT5h5k-Iw",
        "outputId": "d4c809aa-36f4-46d3-b33a-ad930054ba6e"
      },
      "source": [
        "population_filter"
      ],
      "execution_count": null,
      "outputs": [
        {
          "output_type": "execute_result",
          "data": {
            "text/plain": [
              "0         True\n",
              "1         True\n",
              "2        False\n",
              "3        False\n",
              "4        False\n",
              "         ...  \n",
              "16995    False\n",
              "16996     True\n",
              "16997     True\n",
              "16998     True\n",
              "16999    False\n",
              "Name: population, Length: 17000, dtype: bool"
            ]
          },
          "metadata": {
            "tags": []
          },
          "execution_count": 23
        }
      ]
    },
    {
      "cell_type": "code",
      "metadata": {
        "colab": {
          "base_uri": "https://localhost:8080/",
          "height": 419
        },
        "id": "cN_TGIV0k_yk",
        "outputId": "40996c60-10cf-49f6-9f7d-66975376062f"
      },
      "source": [
        "df[population_filter]"
      ],
      "execution_count": null,
      "outputs": [
        {
          "output_type": "execute_result",
          "data": {
            "text/html": [
              "<div>\n",
              "<style scoped>\n",
              "    .dataframe tbody tr th:only-of-type {\n",
              "        vertical-align: middle;\n",
              "    }\n",
              "\n",
              "    .dataframe tbody tr th {\n",
              "        vertical-align: top;\n",
              "    }\n",
              "\n",
              "    .dataframe thead th {\n",
              "        text-align: right;\n",
              "    }\n",
              "</style>\n",
              "<table border=\"1\" class=\"dataframe\">\n",
              "  <thead>\n",
              "    <tr style=\"text-align: right;\">\n",
              "      <th></th>\n",
              "      <th>longitude</th>\n",
              "      <th>latitude</th>\n",
              "      <th>housing_median_age</th>\n",
              "      <th>total_rooms</th>\n",
              "      <th>total_bedrooms</th>\n",
              "      <th>population</th>\n",
              "      <th>households</th>\n",
              "      <th>median_income</th>\n",
              "      <th>median_house_value</th>\n",
              "    </tr>\n",
              "  </thead>\n",
              "  <tbody>\n",
              "    <tr>\n",
              "      <th>0</th>\n",
              "      <td>-114.31</td>\n",
              "      <td>34.19</td>\n",
              "      <td>15.0</td>\n",
              "      <td>5612.0</td>\n",
              "      <td>1283.0</td>\n",
              "      <td>1015.0</td>\n",
              "      <td>472.0</td>\n",
              "      <td>1.4936</td>\n",
              "      <td>66900.0</td>\n",
              "    </tr>\n",
              "    <tr>\n",
              "      <th>1</th>\n",
              "      <td>-114.47</td>\n",
              "      <td>34.40</td>\n",
              "      <td>19.0</td>\n",
              "      <td>7650.0</td>\n",
              "      <td>1901.0</td>\n",
              "      <td>1129.0</td>\n",
              "      <td>463.0</td>\n",
              "      <td>1.8200</td>\n",
              "      <td>80100.0</td>\n",
              "    </tr>\n",
              "    <tr>\n",
              "      <th>6</th>\n",
              "      <td>-114.58</td>\n",
              "      <td>33.61</td>\n",
              "      <td>25.0</td>\n",
              "      <td>2907.0</td>\n",
              "      <td>680.0</td>\n",
              "      <td>1841.0</td>\n",
              "      <td>633.0</td>\n",
              "      <td>2.6768</td>\n",
              "      <td>82400.0</td>\n",
              "    </tr>\n",
              "    <tr>\n",
              "      <th>8</th>\n",
              "      <td>-114.59</td>\n",
              "      <td>33.61</td>\n",
              "      <td>34.0</td>\n",
              "      <td>4789.0</td>\n",
              "      <td>1175.0</td>\n",
              "      <td>3134.0</td>\n",
              "      <td>1056.0</td>\n",
              "      <td>2.1782</td>\n",
              "      <td>58400.0</td>\n",
              "    </tr>\n",
              "    <tr>\n",
              "      <th>10</th>\n",
              "      <td>-114.60</td>\n",
              "      <td>33.62</td>\n",
              "      <td>16.0</td>\n",
              "      <td>3741.0</td>\n",
              "      <td>801.0</td>\n",
              "      <td>2434.0</td>\n",
              "      <td>824.0</td>\n",
              "      <td>2.6797</td>\n",
              "      <td>86500.0</td>\n",
              "    </tr>\n",
              "    <tr>\n",
              "      <th>...</th>\n",
              "      <td>...</td>\n",
              "      <td>...</td>\n",
              "      <td>...</td>\n",
              "      <td>...</td>\n",
              "      <td>...</td>\n",
              "      <td>...</td>\n",
              "      <td>...</td>\n",
              "      <td>...</td>\n",
              "      <td>...</td>\n",
              "    </tr>\n",
              "    <tr>\n",
              "      <th>16991</th>\n",
              "      <td>-124.23</td>\n",
              "      <td>41.75</td>\n",
              "      <td>11.0</td>\n",
              "      <td>3159.0</td>\n",
              "      <td>616.0</td>\n",
              "      <td>1343.0</td>\n",
              "      <td>479.0</td>\n",
              "      <td>2.4805</td>\n",
              "      <td>73200.0</td>\n",
              "    </tr>\n",
              "    <tr>\n",
              "      <th>16993</th>\n",
              "      <td>-124.23</td>\n",
              "      <td>40.54</td>\n",
              "      <td>52.0</td>\n",
              "      <td>2694.0</td>\n",
              "      <td>453.0</td>\n",
              "      <td>1152.0</td>\n",
              "      <td>435.0</td>\n",
              "      <td>3.0806</td>\n",
              "      <td>106700.0</td>\n",
              "    </tr>\n",
              "    <tr>\n",
              "      <th>16996</th>\n",
              "      <td>-124.27</td>\n",
              "      <td>40.69</td>\n",
              "      <td>36.0</td>\n",
              "      <td>2349.0</td>\n",
              "      <td>528.0</td>\n",
              "      <td>1194.0</td>\n",
              "      <td>465.0</td>\n",
              "      <td>2.5179</td>\n",
              "      <td>79000.0</td>\n",
              "    </tr>\n",
              "    <tr>\n",
              "      <th>16997</th>\n",
              "      <td>-124.30</td>\n",
              "      <td>41.84</td>\n",
              "      <td>17.0</td>\n",
              "      <td>2677.0</td>\n",
              "      <td>531.0</td>\n",
              "      <td>1244.0</td>\n",
              "      <td>456.0</td>\n",
              "      <td>3.0313</td>\n",
              "      <td>103600.0</td>\n",
              "    </tr>\n",
              "    <tr>\n",
              "      <th>16998</th>\n",
              "      <td>-124.30</td>\n",
              "      <td>41.80</td>\n",
              "      <td>19.0</td>\n",
              "      <td>2672.0</td>\n",
              "      <td>552.0</td>\n",
              "      <td>1298.0</td>\n",
              "      <td>478.0</td>\n",
              "      <td>1.9797</td>\n",
              "      <td>85800.0</td>\n",
              "    </tr>\n",
              "  </tbody>\n",
              "</table>\n",
              "<p>10299 rows × 9 columns</p>\n",
              "</div>"
            ],
            "text/plain": [
              "       longitude  latitude  ...  median_income  median_house_value\n",
              "0        -114.31     34.19  ...         1.4936             66900.0\n",
              "1        -114.47     34.40  ...         1.8200             80100.0\n",
              "6        -114.58     33.61  ...         2.6768             82400.0\n",
              "8        -114.59     33.61  ...         2.1782             58400.0\n",
              "10       -114.60     33.62  ...         2.6797             86500.0\n",
              "...          ...       ...  ...            ...                 ...\n",
              "16991    -124.23     41.75  ...         2.4805             73200.0\n",
              "16993    -124.23     40.54  ...         3.0806            106700.0\n",
              "16996    -124.27     40.69  ...         2.5179             79000.0\n",
              "16997    -124.30     41.84  ...         3.0313            103600.0\n",
              "16998    -124.30     41.80  ...         1.9797             85800.0\n",
              "\n",
              "[10299 rows x 9 columns]"
            ]
          },
          "metadata": {
            "tags": []
          },
          "execution_count": 24
        }
      ]
    },
    {
      "cell_type": "markdown",
      "metadata": {
        "id": "jiPEkr28lJG-"
      },
      "source": [
        "This can be strung together in one line, and can be done with any number of columns, as long as the result in the interior provides a True/False array the same length as the DataFrame row-count"
      ]
    },
    {
      "cell_type": "code",
      "metadata": {
        "colab": {
          "base_uri": "https://localhost:8080/",
          "height": 419
        },
        "id": "eC-kv-KGlL9R",
        "outputId": "0bc6729f-6b2c-407a-840e-3c1828dc58c5"
      },
      "source": [
        "df[(df['population'] > 1000) & (df['median_income'] < 2)]"
      ],
      "execution_count": null,
      "outputs": [
        {
          "output_type": "execute_result",
          "data": {
            "text/html": [
              "<div>\n",
              "<style scoped>\n",
              "    .dataframe tbody tr th:only-of-type {\n",
              "        vertical-align: middle;\n",
              "    }\n",
              "\n",
              "    .dataframe tbody tr th {\n",
              "        vertical-align: top;\n",
              "    }\n",
              "\n",
              "    .dataframe thead th {\n",
              "        text-align: right;\n",
              "    }\n",
              "</style>\n",
              "<table border=\"1\" class=\"dataframe\">\n",
              "  <thead>\n",
              "    <tr style=\"text-align: right;\">\n",
              "      <th></th>\n",
              "      <th>longitude</th>\n",
              "      <th>latitude</th>\n",
              "      <th>housing_median_age</th>\n",
              "      <th>total_rooms</th>\n",
              "      <th>total_bedrooms</th>\n",
              "      <th>population</th>\n",
              "      <th>households</th>\n",
              "      <th>median_income</th>\n",
              "      <th>median_house_value</th>\n",
              "    </tr>\n",
              "  </thead>\n",
              "  <tbody>\n",
              "    <tr>\n",
              "      <th>0</th>\n",
              "      <td>-114.31</td>\n",
              "      <td>34.19</td>\n",
              "      <td>15.0</td>\n",
              "      <td>5612.0</td>\n",
              "      <td>1283.0</td>\n",
              "      <td>1015.0</td>\n",
              "      <td>472.0</td>\n",
              "      <td>1.4936</td>\n",
              "      <td>66900.0</td>\n",
              "    </tr>\n",
              "    <tr>\n",
              "      <th>1</th>\n",
              "      <td>-114.47</td>\n",
              "      <td>34.40</td>\n",
              "      <td>19.0</td>\n",
              "      <td>7650.0</td>\n",
              "      <td>1901.0</td>\n",
              "      <td>1129.0</td>\n",
              "      <td>463.0</td>\n",
              "      <td>1.8200</td>\n",
              "      <td>80100.0</td>\n",
              "    </tr>\n",
              "    <tr>\n",
              "      <th>11</th>\n",
              "      <td>-114.60</td>\n",
              "      <td>33.60</td>\n",
              "      <td>21.0</td>\n",
              "      <td>1988.0</td>\n",
              "      <td>483.0</td>\n",
              "      <td>1182.0</td>\n",
              "      <td>437.0</td>\n",
              "      <td>1.6250</td>\n",
              "      <td>62000.0</td>\n",
              "    </tr>\n",
              "    <tr>\n",
              "      <th>15</th>\n",
              "      <td>-114.65</td>\n",
              "      <td>34.89</td>\n",
              "      <td>17.0</td>\n",
              "      <td>2556.0</td>\n",
              "      <td>587.0</td>\n",
              "      <td>1005.0</td>\n",
              "      <td>401.0</td>\n",
              "      <td>1.6991</td>\n",
              "      <td>69100.0</td>\n",
              "    </tr>\n",
              "    <tr>\n",
              "      <th>20</th>\n",
              "      <td>-114.68</td>\n",
              "      <td>33.49</td>\n",
              "      <td>20.0</td>\n",
              "      <td>1491.0</td>\n",
              "      <td>360.0</td>\n",
              "      <td>1135.0</td>\n",
              "      <td>303.0</td>\n",
              "      <td>1.6395</td>\n",
              "      <td>44400.0</td>\n",
              "    </tr>\n",
              "    <tr>\n",
              "      <th>...</th>\n",
              "      <td>...</td>\n",
              "      <td>...</td>\n",
              "      <td>...</td>\n",
              "      <td>...</td>\n",
              "      <td>...</td>\n",
              "      <td>...</td>\n",
              "      <td>...</td>\n",
              "      <td>...</td>\n",
              "      <td>...</td>\n",
              "    </tr>\n",
              "    <tr>\n",
              "      <th>16960</th>\n",
              "      <td>-124.16</td>\n",
              "      <td>40.80</td>\n",
              "      <td>52.0</td>\n",
              "      <td>2416.0</td>\n",
              "      <td>618.0</td>\n",
              "      <td>1150.0</td>\n",
              "      <td>571.0</td>\n",
              "      <td>1.7308</td>\n",
              "      <td>80500.0</td>\n",
              "    </tr>\n",
              "    <tr>\n",
              "      <th>16972</th>\n",
              "      <td>-124.17</td>\n",
              "      <td>40.79</td>\n",
              "      <td>43.0</td>\n",
              "      <td>2285.0</td>\n",
              "      <td>479.0</td>\n",
              "      <td>1169.0</td>\n",
              "      <td>482.0</td>\n",
              "      <td>1.9688</td>\n",
              "      <td>70500.0</td>\n",
              "    </tr>\n",
              "    <tr>\n",
              "      <th>16983</th>\n",
              "      <td>-124.19</td>\n",
              "      <td>41.78</td>\n",
              "      <td>15.0</td>\n",
              "      <td>3140.0</td>\n",
              "      <td>714.0</td>\n",
              "      <td>1645.0</td>\n",
              "      <td>640.0</td>\n",
              "      <td>1.6654</td>\n",
              "      <td>74600.0</td>\n",
              "    </tr>\n",
              "    <tr>\n",
              "      <th>16990</th>\n",
              "      <td>-124.22</td>\n",
              "      <td>41.73</td>\n",
              "      <td>28.0</td>\n",
              "      <td>3003.0</td>\n",
              "      <td>699.0</td>\n",
              "      <td>1530.0</td>\n",
              "      <td>653.0</td>\n",
              "      <td>1.7038</td>\n",
              "      <td>78300.0</td>\n",
              "    </tr>\n",
              "    <tr>\n",
              "      <th>16998</th>\n",
              "      <td>-124.30</td>\n",
              "      <td>41.80</td>\n",
              "      <td>19.0</td>\n",
              "      <td>2672.0</td>\n",
              "      <td>552.0</td>\n",
              "      <td>1298.0</td>\n",
              "      <td>478.0</td>\n",
              "      <td>1.9797</td>\n",
              "      <td>85800.0</td>\n",
              "    </tr>\n",
              "  </tbody>\n",
              "</table>\n",
              "<p>1124 rows × 9 columns</p>\n",
              "</div>"
            ],
            "text/plain": [
              "       longitude  latitude  ...  median_income  median_house_value\n",
              "0        -114.31     34.19  ...         1.4936             66900.0\n",
              "1        -114.47     34.40  ...         1.8200             80100.0\n",
              "11       -114.60     33.60  ...         1.6250             62000.0\n",
              "15       -114.65     34.89  ...         1.6991             69100.0\n",
              "20       -114.68     33.49  ...         1.6395             44400.0\n",
              "...          ...       ...  ...            ...                 ...\n",
              "16960    -124.16     40.80  ...         1.7308             80500.0\n",
              "16972    -124.17     40.79  ...         1.9688             70500.0\n",
              "16983    -124.19     41.78  ...         1.6654             74600.0\n",
              "16990    -124.22     41.73  ...         1.7038             78300.0\n",
              "16998    -124.30     41.80  ...         1.9797             85800.0\n",
              "\n",
              "[1124 rows x 9 columns]"
            ]
          },
          "metadata": {
            "tags": []
          },
          "execution_count": 26
        }
      ]
    },
    {
      "cell_type": "markdown",
      "metadata": {
        "id": "d1-w52nfliqv"
      },
      "source": [
        "New columns can be added in a similar way to adding a new key/value to a dictionary"
      ]
    },
    {
      "cell_type": "code",
      "metadata": {
        "id": "zgTowtV4l1d1"
      },
      "source": [
        "new_col = df['housing_median_age'] + 20\n",
        "\n",
        "df['new_col'] = new_col"
      ],
      "execution_count": null,
      "outputs": []
    },
    {
      "cell_type": "code",
      "metadata": {
        "colab": {
          "base_uri": "https://localhost:8080/",
          "height": 419
        },
        "id": "0K5W6zCimATf",
        "outputId": "172dc66f-5dcc-4ee7-ce19-3de6523ede80"
      },
      "source": [
        "df"
      ],
      "execution_count": null,
      "outputs": [
        {
          "output_type": "execute_result",
          "data": {
            "text/html": [
              "<div>\n",
              "<style scoped>\n",
              "    .dataframe tbody tr th:only-of-type {\n",
              "        vertical-align: middle;\n",
              "    }\n",
              "\n",
              "    .dataframe tbody tr th {\n",
              "        vertical-align: top;\n",
              "    }\n",
              "\n",
              "    .dataframe thead th {\n",
              "        text-align: right;\n",
              "    }\n",
              "</style>\n",
              "<table border=\"1\" class=\"dataframe\">\n",
              "  <thead>\n",
              "    <tr style=\"text-align: right;\">\n",
              "      <th></th>\n",
              "      <th>longitude</th>\n",
              "      <th>latitude</th>\n",
              "      <th>housing_median_age</th>\n",
              "      <th>total_rooms</th>\n",
              "      <th>total_bedrooms</th>\n",
              "      <th>population</th>\n",
              "      <th>households</th>\n",
              "      <th>median_income</th>\n",
              "      <th>median_house_value</th>\n",
              "      <th>new_col</th>\n",
              "    </tr>\n",
              "  </thead>\n",
              "  <tbody>\n",
              "    <tr>\n",
              "      <th>0</th>\n",
              "      <td>-114.31</td>\n",
              "      <td>34.19</td>\n",
              "      <td>15.0</td>\n",
              "      <td>5612.0</td>\n",
              "      <td>1283.0</td>\n",
              "      <td>1015.0</td>\n",
              "      <td>472.0</td>\n",
              "      <td>1.4936</td>\n",
              "      <td>66900.0</td>\n",
              "      <td>35.0</td>\n",
              "    </tr>\n",
              "    <tr>\n",
              "      <th>1</th>\n",
              "      <td>-114.47</td>\n",
              "      <td>34.40</td>\n",
              "      <td>19.0</td>\n",
              "      <td>7650.0</td>\n",
              "      <td>1901.0</td>\n",
              "      <td>1129.0</td>\n",
              "      <td>463.0</td>\n",
              "      <td>1.8200</td>\n",
              "      <td>80100.0</td>\n",
              "      <td>39.0</td>\n",
              "    </tr>\n",
              "    <tr>\n",
              "      <th>2</th>\n",
              "      <td>-114.56</td>\n",
              "      <td>33.69</td>\n",
              "      <td>17.0</td>\n",
              "      <td>720.0</td>\n",
              "      <td>174.0</td>\n",
              "      <td>333.0</td>\n",
              "      <td>117.0</td>\n",
              "      <td>1.6509</td>\n",
              "      <td>85700.0</td>\n",
              "      <td>37.0</td>\n",
              "    </tr>\n",
              "    <tr>\n",
              "      <th>3</th>\n",
              "      <td>-114.57</td>\n",
              "      <td>33.64</td>\n",
              "      <td>14.0</td>\n",
              "      <td>1501.0</td>\n",
              "      <td>337.0</td>\n",
              "      <td>515.0</td>\n",
              "      <td>226.0</td>\n",
              "      <td>3.1917</td>\n",
              "      <td>73400.0</td>\n",
              "      <td>34.0</td>\n",
              "    </tr>\n",
              "    <tr>\n",
              "      <th>4</th>\n",
              "      <td>-114.57</td>\n",
              "      <td>33.57</td>\n",
              "      <td>20.0</td>\n",
              "      <td>1454.0</td>\n",
              "      <td>326.0</td>\n",
              "      <td>624.0</td>\n",
              "      <td>262.0</td>\n",
              "      <td>1.9250</td>\n",
              "      <td>65500.0</td>\n",
              "      <td>40.0</td>\n",
              "    </tr>\n",
              "    <tr>\n",
              "      <th>...</th>\n",
              "      <td>...</td>\n",
              "      <td>...</td>\n",
              "      <td>...</td>\n",
              "      <td>...</td>\n",
              "      <td>...</td>\n",
              "      <td>...</td>\n",
              "      <td>...</td>\n",
              "      <td>...</td>\n",
              "      <td>...</td>\n",
              "      <td>...</td>\n",
              "    </tr>\n",
              "    <tr>\n",
              "      <th>16995</th>\n",
              "      <td>-124.26</td>\n",
              "      <td>40.58</td>\n",
              "      <td>52.0</td>\n",
              "      <td>2217.0</td>\n",
              "      <td>394.0</td>\n",
              "      <td>907.0</td>\n",
              "      <td>369.0</td>\n",
              "      <td>2.3571</td>\n",
              "      <td>111400.0</td>\n",
              "      <td>72.0</td>\n",
              "    </tr>\n",
              "    <tr>\n",
              "      <th>16996</th>\n",
              "      <td>-124.27</td>\n",
              "      <td>40.69</td>\n",
              "      <td>36.0</td>\n",
              "      <td>2349.0</td>\n",
              "      <td>528.0</td>\n",
              "      <td>1194.0</td>\n",
              "      <td>465.0</td>\n",
              "      <td>2.5179</td>\n",
              "      <td>79000.0</td>\n",
              "      <td>56.0</td>\n",
              "    </tr>\n",
              "    <tr>\n",
              "      <th>16997</th>\n",
              "      <td>-124.30</td>\n",
              "      <td>41.84</td>\n",
              "      <td>17.0</td>\n",
              "      <td>2677.0</td>\n",
              "      <td>531.0</td>\n",
              "      <td>1244.0</td>\n",
              "      <td>456.0</td>\n",
              "      <td>3.0313</td>\n",
              "      <td>103600.0</td>\n",
              "      <td>37.0</td>\n",
              "    </tr>\n",
              "    <tr>\n",
              "      <th>16998</th>\n",
              "      <td>-124.30</td>\n",
              "      <td>41.80</td>\n",
              "      <td>19.0</td>\n",
              "      <td>2672.0</td>\n",
              "      <td>552.0</td>\n",
              "      <td>1298.0</td>\n",
              "      <td>478.0</td>\n",
              "      <td>1.9797</td>\n",
              "      <td>85800.0</td>\n",
              "      <td>39.0</td>\n",
              "    </tr>\n",
              "    <tr>\n",
              "      <th>16999</th>\n",
              "      <td>-124.35</td>\n",
              "      <td>40.54</td>\n",
              "      <td>52.0</td>\n",
              "      <td>1820.0</td>\n",
              "      <td>300.0</td>\n",
              "      <td>806.0</td>\n",
              "      <td>270.0</td>\n",
              "      <td>3.0147</td>\n",
              "      <td>94600.0</td>\n",
              "      <td>72.0</td>\n",
              "    </tr>\n",
              "  </tbody>\n",
              "</table>\n",
              "<p>17000 rows × 10 columns</p>\n",
              "</div>"
            ],
            "text/plain": [
              "       longitude  latitude  ...  median_house_value  new_col\n",
              "0        -114.31     34.19  ...             66900.0     35.0\n",
              "1        -114.47     34.40  ...             80100.0     39.0\n",
              "2        -114.56     33.69  ...             85700.0     37.0\n",
              "3        -114.57     33.64  ...             73400.0     34.0\n",
              "4        -114.57     33.57  ...             65500.0     40.0\n",
              "...          ...       ...  ...                 ...      ...\n",
              "16995    -124.26     40.58  ...            111400.0     72.0\n",
              "16996    -124.27     40.69  ...             79000.0     56.0\n",
              "16997    -124.30     41.84  ...            103600.0     37.0\n",
              "16998    -124.30     41.80  ...             85800.0     39.0\n",
              "16999    -124.35     40.54  ...             94600.0     72.0\n",
              "\n",
              "[17000 rows x 10 columns]"
            ]
          },
          "metadata": {
            "tags": []
          },
          "execution_count": 28
        }
      ]
    },
    {
      "cell_type": "markdown",
      "metadata": {
        "id": "b9JRU7GDl_7w"
      },
      "source": [
        "You can change values of a column in a similar way"
      ]
    },
    {
      "cell_type": "code",
      "metadata": {
        "id": "12QL5Rf7mKqG"
      },
      "source": [
        "changed_col = df['housing_median_age'] - 10\n",
        "\n",
        "df['new_col'] = changed_col"
      ],
      "execution_count": null,
      "outputs": []
    },
    {
      "cell_type": "code",
      "metadata": {
        "colab": {
          "base_uri": "https://localhost:8080/",
          "height": 419
        },
        "id": "Lc2GtjKsmQUZ",
        "outputId": "f9261c9b-2853-4e5b-e965-19e665c06476"
      },
      "source": [
        "df"
      ],
      "execution_count": null,
      "outputs": [
        {
          "output_type": "execute_result",
          "data": {
            "text/html": [
              "<div>\n",
              "<style scoped>\n",
              "    .dataframe tbody tr th:only-of-type {\n",
              "        vertical-align: middle;\n",
              "    }\n",
              "\n",
              "    .dataframe tbody tr th {\n",
              "        vertical-align: top;\n",
              "    }\n",
              "\n",
              "    .dataframe thead th {\n",
              "        text-align: right;\n",
              "    }\n",
              "</style>\n",
              "<table border=\"1\" class=\"dataframe\">\n",
              "  <thead>\n",
              "    <tr style=\"text-align: right;\">\n",
              "      <th></th>\n",
              "      <th>longitude</th>\n",
              "      <th>latitude</th>\n",
              "      <th>housing_median_age</th>\n",
              "      <th>total_rooms</th>\n",
              "      <th>total_bedrooms</th>\n",
              "      <th>population</th>\n",
              "      <th>households</th>\n",
              "      <th>median_income</th>\n",
              "      <th>median_house_value</th>\n",
              "      <th>new_col</th>\n",
              "    </tr>\n",
              "  </thead>\n",
              "  <tbody>\n",
              "    <tr>\n",
              "      <th>0</th>\n",
              "      <td>-114.31</td>\n",
              "      <td>34.19</td>\n",
              "      <td>15.0</td>\n",
              "      <td>5612.0</td>\n",
              "      <td>1283.0</td>\n",
              "      <td>1015.0</td>\n",
              "      <td>472.0</td>\n",
              "      <td>1.4936</td>\n",
              "      <td>66900.0</td>\n",
              "      <td>5.0</td>\n",
              "    </tr>\n",
              "    <tr>\n",
              "      <th>1</th>\n",
              "      <td>-114.47</td>\n",
              "      <td>34.40</td>\n",
              "      <td>19.0</td>\n",
              "      <td>7650.0</td>\n",
              "      <td>1901.0</td>\n",
              "      <td>1129.0</td>\n",
              "      <td>463.0</td>\n",
              "      <td>1.8200</td>\n",
              "      <td>80100.0</td>\n",
              "      <td>9.0</td>\n",
              "    </tr>\n",
              "    <tr>\n",
              "      <th>2</th>\n",
              "      <td>-114.56</td>\n",
              "      <td>33.69</td>\n",
              "      <td>17.0</td>\n",
              "      <td>720.0</td>\n",
              "      <td>174.0</td>\n",
              "      <td>333.0</td>\n",
              "      <td>117.0</td>\n",
              "      <td>1.6509</td>\n",
              "      <td>85700.0</td>\n",
              "      <td>7.0</td>\n",
              "    </tr>\n",
              "    <tr>\n",
              "      <th>3</th>\n",
              "      <td>-114.57</td>\n",
              "      <td>33.64</td>\n",
              "      <td>14.0</td>\n",
              "      <td>1501.0</td>\n",
              "      <td>337.0</td>\n",
              "      <td>515.0</td>\n",
              "      <td>226.0</td>\n",
              "      <td>3.1917</td>\n",
              "      <td>73400.0</td>\n",
              "      <td>4.0</td>\n",
              "    </tr>\n",
              "    <tr>\n",
              "      <th>4</th>\n",
              "      <td>-114.57</td>\n",
              "      <td>33.57</td>\n",
              "      <td>20.0</td>\n",
              "      <td>1454.0</td>\n",
              "      <td>326.0</td>\n",
              "      <td>624.0</td>\n",
              "      <td>262.0</td>\n",
              "      <td>1.9250</td>\n",
              "      <td>65500.0</td>\n",
              "      <td>10.0</td>\n",
              "    </tr>\n",
              "    <tr>\n",
              "      <th>...</th>\n",
              "      <td>...</td>\n",
              "      <td>...</td>\n",
              "      <td>...</td>\n",
              "      <td>...</td>\n",
              "      <td>...</td>\n",
              "      <td>...</td>\n",
              "      <td>...</td>\n",
              "      <td>...</td>\n",
              "      <td>...</td>\n",
              "      <td>...</td>\n",
              "    </tr>\n",
              "    <tr>\n",
              "      <th>16995</th>\n",
              "      <td>-124.26</td>\n",
              "      <td>40.58</td>\n",
              "      <td>52.0</td>\n",
              "      <td>2217.0</td>\n",
              "      <td>394.0</td>\n",
              "      <td>907.0</td>\n",
              "      <td>369.0</td>\n",
              "      <td>2.3571</td>\n",
              "      <td>111400.0</td>\n",
              "      <td>42.0</td>\n",
              "    </tr>\n",
              "    <tr>\n",
              "      <th>16996</th>\n",
              "      <td>-124.27</td>\n",
              "      <td>40.69</td>\n",
              "      <td>36.0</td>\n",
              "      <td>2349.0</td>\n",
              "      <td>528.0</td>\n",
              "      <td>1194.0</td>\n",
              "      <td>465.0</td>\n",
              "      <td>2.5179</td>\n",
              "      <td>79000.0</td>\n",
              "      <td>26.0</td>\n",
              "    </tr>\n",
              "    <tr>\n",
              "      <th>16997</th>\n",
              "      <td>-124.30</td>\n",
              "      <td>41.84</td>\n",
              "      <td>17.0</td>\n",
              "      <td>2677.0</td>\n",
              "      <td>531.0</td>\n",
              "      <td>1244.0</td>\n",
              "      <td>456.0</td>\n",
              "      <td>3.0313</td>\n",
              "      <td>103600.0</td>\n",
              "      <td>7.0</td>\n",
              "    </tr>\n",
              "    <tr>\n",
              "      <th>16998</th>\n",
              "      <td>-124.30</td>\n",
              "      <td>41.80</td>\n",
              "      <td>19.0</td>\n",
              "      <td>2672.0</td>\n",
              "      <td>552.0</td>\n",
              "      <td>1298.0</td>\n",
              "      <td>478.0</td>\n",
              "      <td>1.9797</td>\n",
              "      <td>85800.0</td>\n",
              "      <td>9.0</td>\n",
              "    </tr>\n",
              "    <tr>\n",
              "      <th>16999</th>\n",
              "      <td>-124.35</td>\n",
              "      <td>40.54</td>\n",
              "      <td>52.0</td>\n",
              "      <td>1820.0</td>\n",
              "      <td>300.0</td>\n",
              "      <td>806.0</td>\n",
              "      <td>270.0</td>\n",
              "      <td>3.0147</td>\n",
              "      <td>94600.0</td>\n",
              "      <td>42.0</td>\n",
              "    </tr>\n",
              "  </tbody>\n",
              "</table>\n",
              "<p>17000 rows × 10 columns</p>\n",
              "</div>"
            ],
            "text/plain": [
              "       longitude  latitude  ...  median_house_value  new_col\n",
              "0        -114.31     34.19  ...             66900.0      5.0\n",
              "1        -114.47     34.40  ...             80100.0      9.0\n",
              "2        -114.56     33.69  ...             85700.0      7.0\n",
              "3        -114.57     33.64  ...             73400.0      4.0\n",
              "4        -114.57     33.57  ...             65500.0     10.0\n",
              "...          ...       ...  ...                 ...      ...\n",
              "16995    -124.26     40.58  ...            111400.0     42.0\n",
              "16996    -124.27     40.69  ...             79000.0     26.0\n",
              "16997    -124.30     41.84  ...            103600.0      7.0\n",
              "16998    -124.30     41.80  ...             85800.0      9.0\n",
              "16999    -124.35     40.54  ...             94600.0     42.0\n",
              "\n",
              "[17000 rows x 10 columns]"
            ]
          },
          "metadata": {
            "tags": []
          },
          "execution_count": 30
        }
      ]
    },
    {
      "cell_type": "markdown",
      "metadata": {
        "id": "PGLagqo2mTPJ"
      },
      "source": [
        "You can also add new rows (make sure you provide a dict, Series or Pandas object with the same column names!)"
      ]
    },
    {
      "cell_type": "code",
      "metadata": {
        "id": "CMEWycQLmVBh"
      },
      "source": [
        "append_row = {\n",
        "    'longitude': 30, 'latitude': 22, 'housing_median_age': 19, 'total_rooms': 3, 'total_bedrooms': 1, 'population': 12, 'households': 5, \n",
        "    'median_income': 2.8, 'median_house_value': 240000, 'new_col': 20\n",
        "}\n",
        "df = df.append(append_row, ignore_index=True)"
      ],
      "execution_count": null,
      "outputs": []
    },
    {
      "cell_type": "code",
      "metadata": {
        "colab": {
          "base_uri": "https://localhost:8080/",
          "height": 419
        },
        "id": "VEixWZ1zm9nK",
        "outputId": "94bdd98d-02f7-422b-b899-2697f757866f"
      },
      "source": [
        "df"
      ],
      "execution_count": null,
      "outputs": [
        {
          "output_type": "execute_result",
          "data": {
            "text/html": [
              "<div>\n",
              "<style scoped>\n",
              "    .dataframe tbody tr th:only-of-type {\n",
              "        vertical-align: middle;\n",
              "    }\n",
              "\n",
              "    .dataframe tbody tr th {\n",
              "        vertical-align: top;\n",
              "    }\n",
              "\n",
              "    .dataframe thead th {\n",
              "        text-align: right;\n",
              "    }\n",
              "</style>\n",
              "<table border=\"1\" class=\"dataframe\">\n",
              "  <thead>\n",
              "    <tr style=\"text-align: right;\">\n",
              "      <th></th>\n",
              "      <th>longitude</th>\n",
              "      <th>latitude</th>\n",
              "      <th>housing_median_age</th>\n",
              "      <th>total_rooms</th>\n",
              "      <th>total_bedrooms</th>\n",
              "      <th>population</th>\n",
              "      <th>households</th>\n",
              "      <th>median_income</th>\n",
              "      <th>median_house_value</th>\n",
              "      <th>new_col</th>\n",
              "    </tr>\n",
              "  </thead>\n",
              "  <tbody>\n",
              "    <tr>\n",
              "      <th>0</th>\n",
              "      <td>-114.31</td>\n",
              "      <td>34.19</td>\n",
              "      <td>15.0</td>\n",
              "      <td>5612.0</td>\n",
              "      <td>1283.0</td>\n",
              "      <td>1015.0</td>\n",
              "      <td>472.0</td>\n",
              "      <td>1.4936</td>\n",
              "      <td>66900.0</td>\n",
              "      <td>5.0</td>\n",
              "    </tr>\n",
              "    <tr>\n",
              "      <th>1</th>\n",
              "      <td>-114.47</td>\n",
              "      <td>34.40</td>\n",
              "      <td>19.0</td>\n",
              "      <td>7650.0</td>\n",
              "      <td>1901.0</td>\n",
              "      <td>1129.0</td>\n",
              "      <td>463.0</td>\n",
              "      <td>1.8200</td>\n",
              "      <td>80100.0</td>\n",
              "      <td>9.0</td>\n",
              "    </tr>\n",
              "    <tr>\n",
              "      <th>2</th>\n",
              "      <td>-114.56</td>\n",
              "      <td>33.69</td>\n",
              "      <td>17.0</td>\n",
              "      <td>720.0</td>\n",
              "      <td>174.0</td>\n",
              "      <td>333.0</td>\n",
              "      <td>117.0</td>\n",
              "      <td>1.6509</td>\n",
              "      <td>85700.0</td>\n",
              "      <td>7.0</td>\n",
              "    </tr>\n",
              "    <tr>\n",
              "      <th>3</th>\n",
              "      <td>-114.57</td>\n",
              "      <td>33.64</td>\n",
              "      <td>14.0</td>\n",
              "      <td>1501.0</td>\n",
              "      <td>337.0</td>\n",
              "      <td>515.0</td>\n",
              "      <td>226.0</td>\n",
              "      <td>3.1917</td>\n",
              "      <td>73400.0</td>\n",
              "      <td>4.0</td>\n",
              "    </tr>\n",
              "    <tr>\n",
              "      <th>4</th>\n",
              "      <td>-114.57</td>\n",
              "      <td>33.57</td>\n",
              "      <td>20.0</td>\n",
              "      <td>1454.0</td>\n",
              "      <td>326.0</td>\n",
              "      <td>624.0</td>\n",
              "      <td>262.0</td>\n",
              "      <td>1.9250</td>\n",
              "      <td>65500.0</td>\n",
              "      <td>10.0</td>\n",
              "    </tr>\n",
              "    <tr>\n",
              "      <th>...</th>\n",
              "      <td>...</td>\n",
              "      <td>...</td>\n",
              "      <td>...</td>\n",
              "      <td>...</td>\n",
              "      <td>...</td>\n",
              "      <td>...</td>\n",
              "      <td>...</td>\n",
              "      <td>...</td>\n",
              "      <td>...</td>\n",
              "      <td>...</td>\n",
              "    </tr>\n",
              "    <tr>\n",
              "      <th>16996</th>\n",
              "      <td>-124.27</td>\n",
              "      <td>40.69</td>\n",
              "      <td>36.0</td>\n",
              "      <td>2349.0</td>\n",
              "      <td>528.0</td>\n",
              "      <td>1194.0</td>\n",
              "      <td>465.0</td>\n",
              "      <td>2.5179</td>\n",
              "      <td>79000.0</td>\n",
              "      <td>26.0</td>\n",
              "    </tr>\n",
              "    <tr>\n",
              "      <th>16997</th>\n",
              "      <td>-124.30</td>\n",
              "      <td>41.84</td>\n",
              "      <td>17.0</td>\n",
              "      <td>2677.0</td>\n",
              "      <td>531.0</td>\n",
              "      <td>1244.0</td>\n",
              "      <td>456.0</td>\n",
              "      <td>3.0313</td>\n",
              "      <td>103600.0</td>\n",
              "      <td>7.0</td>\n",
              "    </tr>\n",
              "    <tr>\n",
              "      <th>16998</th>\n",
              "      <td>-124.30</td>\n",
              "      <td>41.80</td>\n",
              "      <td>19.0</td>\n",
              "      <td>2672.0</td>\n",
              "      <td>552.0</td>\n",
              "      <td>1298.0</td>\n",
              "      <td>478.0</td>\n",
              "      <td>1.9797</td>\n",
              "      <td>85800.0</td>\n",
              "      <td>9.0</td>\n",
              "    </tr>\n",
              "    <tr>\n",
              "      <th>16999</th>\n",
              "      <td>-124.35</td>\n",
              "      <td>40.54</td>\n",
              "      <td>52.0</td>\n",
              "      <td>1820.0</td>\n",
              "      <td>300.0</td>\n",
              "      <td>806.0</td>\n",
              "      <td>270.0</td>\n",
              "      <td>3.0147</td>\n",
              "      <td>94600.0</td>\n",
              "      <td>42.0</td>\n",
              "    </tr>\n",
              "    <tr>\n",
              "      <th>17000</th>\n",
              "      <td>30.00</td>\n",
              "      <td>22.00</td>\n",
              "      <td>19.0</td>\n",
              "      <td>3.0</td>\n",
              "      <td>1.0</td>\n",
              "      <td>12.0</td>\n",
              "      <td>5.0</td>\n",
              "      <td>2.8000</td>\n",
              "      <td>240000.0</td>\n",
              "      <td>20.0</td>\n",
              "    </tr>\n",
              "  </tbody>\n",
              "</table>\n",
              "<p>17001 rows × 10 columns</p>\n",
              "</div>"
            ],
            "text/plain": [
              "       longitude  latitude  ...  median_house_value  new_col\n",
              "0        -114.31     34.19  ...             66900.0      5.0\n",
              "1        -114.47     34.40  ...             80100.0      9.0\n",
              "2        -114.56     33.69  ...             85700.0      7.0\n",
              "3        -114.57     33.64  ...             73400.0      4.0\n",
              "4        -114.57     33.57  ...             65500.0     10.0\n",
              "...          ...       ...  ...                 ...      ...\n",
              "16996    -124.27     40.69  ...             79000.0     26.0\n",
              "16997    -124.30     41.84  ...            103600.0      7.0\n",
              "16998    -124.30     41.80  ...             85800.0      9.0\n",
              "16999    -124.35     40.54  ...             94600.0     42.0\n",
              "17000      30.00     22.00  ...            240000.0     20.0\n",
              "\n",
              "[17001 rows x 10 columns]"
            ]
          },
          "metadata": {
            "tags": []
          },
          "execution_count": 46
        }
      ]
    },
    {
      "cell_type": "markdown",
      "metadata": {
        "id": "f-tflQA3oOrn"
      },
      "source": [
        "You can remove columns or rows by dropping them or even just excluding them"
      ]
    },
    {
      "cell_type": "code",
      "metadata": {
        "id": "yOJE4vXcoTLK"
      },
      "source": [
        "df = df.iloc[:17000]\n",
        "df = df.drop(columns=['new_col'])"
      ],
      "execution_count": null,
      "outputs": []
    },
    {
      "cell_type": "markdown",
      "metadata": {
        "id": "vvG5BArhofE3"
      },
      "source": [
        "You can perform arithmetic operations between columns"
      ]
    },
    {
      "cell_type": "code",
      "metadata": {
        "colab": {
          "base_uri": "https://localhost:8080/"
        },
        "id": "KhqgHeeooh6n",
        "outputId": "dabcc328-84c6-4165-f1aa-70878ecb9563"
      },
      "source": [
        "df['total_rooms'] - df['total_bedrooms']"
      ],
      "execution_count": null,
      "outputs": [
        {
          "output_type": "execute_result",
          "data": {
            "text/plain": [
              "0        4329.0\n",
              "1        5749.0\n",
              "2         546.0\n",
              "3        1164.0\n",
              "4        1128.0\n",
              "          ...  \n",
              "16995    1823.0\n",
              "16996    1821.0\n",
              "16997    2146.0\n",
              "16998    2120.0\n",
              "16999    1520.0\n",
              "Length: 17000, dtype: float64"
            ]
          },
          "metadata": {
            "tags": []
          },
          "execution_count": 48
        }
      ]
    },
    {
      "cell_type": "code",
      "metadata": {
        "colab": {
          "base_uri": "https://localhost:8080/"
        },
        "id": "QiFq64vFomgf",
        "outputId": "43a73c49-9e2a-4a3c-d797-9779aeaba7b9"
      },
      "source": [
        "df['median_house_value'] / df['median_income']"
      ],
      "execution_count": null,
      "outputs": [
        {
          "output_type": "execute_result",
          "data": {
            "text/plain": [
              "0        44791.108731\n",
              "1        44010.989011\n",
              "2        51911.078806\n",
              "3        22997.148855\n",
              "4        34025.974026\n",
              "             ...     \n",
              "16995    47261.465360\n",
              "16996    31375.352476\n",
              "16997    34176.755847\n",
              "16998    43339.899985\n",
              "16999    31379.573424\n",
              "Length: 17000, dtype: float64"
            ]
          },
          "metadata": {
            "tags": []
          },
          "execution_count": 49
        }
      ]
    },
    {
      "cell_type": "markdown",
      "metadata": {
        "id": "VlkwqoCVowTW"
      },
      "source": [
        "You can also perform simple operations on all of the columns at once"
      ]
    },
    {
      "cell_type": "code",
      "metadata": {
        "colab": {
          "base_uri": "https://localhost:8080/"
        },
        "id": "neyNUhyNoveC",
        "outputId": "d5d4cf99-ed98-4288-86ad-048f792d38ce"
      },
      "source": [
        "df.max()"
      ],
      "execution_count": null,
      "outputs": [
        {
          "output_type": "execute_result",
          "data": {
            "text/plain": [
              "longitude               -114.3100\n",
              "latitude                  41.9500\n",
              "housing_median_age        52.0000\n",
              "total_rooms            37937.0000\n",
              "total_bedrooms          6445.0000\n",
              "population             35682.0000\n",
              "households              6082.0000\n",
              "median_income             15.0001\n",
              "median_house_value    500001.0000\n",
              "dtype: float64"
            ]
          },
          "metadata": {
            "tags": []
          },
          "execution_count": 50
        }
      ]
    },
    {
      "cell_type": "code",
      "metadata": {
        "colab": {
          "base_uri": "https://localhost:8080/"
        },
        "id": "ZchX0g3Qo1Bs",
        "outputId": "19e8751c-da02-4a1f-c3f6-49022b1dd850"
      },
      "source": [
        "df.mean()"
      ],
      "execution_count": null,
      "outputs": [
        {
          "output_type": "execute_result",
          "data": {
            "text/plain": [
              "longitude               -119.562108\n",
              "latitude                  35.625225\n",
              "housing_median_age        28.589353\n",
              "total_rooms             2643.664412\n",
              "total_bedrooms           539.410824\n",
              "population              1429.573941\n",
              "households               501.221941\n",
              "median_income              3.883578\n",
              "median_house_value    207300.912353\n",
              "dtype: float64"
            ]
          },
          "metadata": {
            "tags": []
          },
          "execution_count": 51
        }
      ]
    },
    {
      "cell_type": "markdown",
      "metadata": {
        "id": "rQb2OTPZpKmf"
      },
      "source": [
        "You can also perform operations within certain groups of data using the ```groupby``` operation. What if we wanted to find the mean income for each age value?"
      ]
    },
    {
      "cell_type": "code",
      "metadata": {
        "colab": {
          "base_uri": "https://localhost:8080/"
        },
        "id": "9s7cQkaCo2iM",
        "outputId": "09ab7a2f-7381-4545-c9e0-5b7d32ffa3c6"
      },
      "source": [
        "df.groupby('housing_median_age')['median_income'].mean()"
      ],
      "execution_count": null,
      "outputs": [
        {
          "output_type": "execute_result",
          "data": {
            "text/plain": [
              "housing_median_age\n",
              "1.0     4.756800\n",
              "2.0     5.074237\n",
              "3.0     5.572013\n",
              "4.0     5.196055\n",
              "5.0     4.732460\n",
              "6.0     4.463901\n",
              "7.0     4.368441\n",
              "8.0     4.412988\n",
              "9.0     4.357513\n",
              "10.0    4.126004\n",
              "11.0    4.029663\n",
              "12.0    4.003208\n",
              "13.0    4.145092\n",
              "14.0    4.148454\n",
              "15.0    4.003953\n",
              "16.0    4.288458\n",
              "17.0    3.929201\n",
              "18.0    3.954591\n",
              "19.0    3.833244\n",
              "20.0    3.749984\n",
              "21.0    3.870417\n",
              "22.0    3.941335\n",
              "23.0    3.963371\n",
              "24.0    3.921026\n",
              "25.0    4.135890\n",
              "26.0    4.071895\n",
              "27.0    3.859375\n",
              "28.0    3.813176\n",
              "29.0    3.633556\n",
              "30.0    3.580732\n",
              "31.0    3.619995\n",
              "32.0    3.800399\n",
              "33.0    3.862161\n",
              "34.0    3.959488\n",
              "35.0    3.909391\n",
              "36.0    3.973530\n",
              "37.0    3.684131\n",
              "38.0    3.463225\n",
              "39.0    3.395865\n",
              "40.0    3.432734\n",
              "41.0    3.149125\n",
              "42.0    3.447088\n",
              "43.0    3.238897\n",
              "44.0    3.507043\n",
              "45.0    3.739467\n",
              "46.0    3.357832\n",
              "47.0    3.278638\n",
              "48.0    3.526261\n",
              "49.0    3.547657\n",
              "50.0    3.472372\n",
              "51.0    3.670503\n",
              "52.0    3.943037\n",
              "Name: median_income, dtype: float64"
            ]
          },
          "metadata": {
            "tags": []
          },
          "execution_count": 54
        }
      ]
    },
    {
      "cell_type": "markdown",
      "metadata": {
        "id": "wnznu4ptpkho"
      },
      "source": [
        "You can also ```merge``` or ```join``` dataframes together\n",
        "\n",
        "```merge```: combine DataFrames using one or more columns to indicate shared rows between the two dataframes\n",
        "\n",
        "```join```: combine DataFrames using indeces instead"
      ]
    },
    {
      "cell_type": "code",
      "metadata": {
        "id": "QqDGOxTcpxb4"
      },
      "source": [
        "df_A = df.iloc[:, :5].reset_index()\n",
        "df_B = df.iloc[:, 5:].reset_index()"
      ],
      "execution_count": null,
      "outputs": []
    },
    {
      "cell_type": "code",
      "metadata": {
        "colab": {
          "base_uri": "https://localhost:8080/",
          "height": 419
        },
        "id": "J8xB0tr6qA8L",
        "outputId": "d1ba2506-c33e-4e44-f5f9-7e0db4db735e"
      },
      "source": [
        "df_A"
      ],
      "execution_count": null,
      "outputs": [
        {
          "output_type": "execute_result",
          "data": {
            "text/html": [
              "<div>\n",
              "<style scoped>\n",
              "    .dataframe tbody tr th:only-of-type {\n",
              "        vertical-align: middle;\n",
              "    }\n",
              "\n",
              "    .dataframe tbody tr th {\n",
              "        vertical-align: top;\n",
              "    }\n",
              "\n",
              "    .dataframe thead th {\n",
              "        text-align: right;\n",
              "    }\n",
              "</style>\n",
              "<table border=\"1\" class=\"dataframe\">\n",
              "  <thead>\n",
              "    <tr style=\"text-align: right;\">\n",
              "      <th></th>\n",
              "      <th>index</th>\n",
              "      <th>longitude</th>\n",
              "      <th>latitude</th>\n",
              "      <th>housing_median_age</th>\n",
              "      <th>total_rooms</th>\n",
              "      <th>total_bedrooms</th>\n",
              "    </tr>\n",
              "  </thead>\n",
              "  <tbody>\n",
              "    <tr>\n",
              "      <th>0</th>\n",
              "      <td>0</td>\n",
              "      <td>-114.31</td>\n",
              "      <td>34.19</td>\n",
              "      <td>15.0</td>\n",
              "      <td>5612.0</td>\n",
              "      <td>1283.0</td>\n",
              "    </tr>\n",
              "    <tr>\n",
              "      <th>1</th>\n",
              "      <td>1</td>\n",
              "      <td>-114.47</td>\n",
              "      <td>34.40</td>\n",
              "      <td>19.0</td>\n",
              "      <td>7650.0</td>\n",
              "      <td>1901.0</td>\n",
              "    </tr>\n",
              "    <tr>\n",
              "      <th>2</th>\n",
              "      <td>2</td>\n",
              "      <td>-114.56</td>\n",
              "      <td>33.69</td>\n",
              "      <td>17.0</td>\n",
              "      <td>720.0</td>\n",
              "      <td>174.0</td>\n",
              "    </tr>\n",
              "    <tr>\n",
              "      <th>3</th>\n",
              "      <td>3</td>\n",
              "      <td>-114.57</td>\n",
              "      <td>33.64</td>\n",
              "      <td>14.0</td>\n",
              "      <td>1501.0</td>\n",
              "      <td>337.0</td>\n",
              "    </tr>\n",
              "    <tr>\n",
              "      <th>4</th>\n",
              "      <td>4</td>\n",
              "      <td>-114.57</td>\n",
              "      <td>33.57</td>\n",
              "      <td>20.0</td>\n",
              "      <td>1454.0</td>\n",
              "      <td>326.0</td>\n",
              "    </tr>\n",
              "    <tr>\n",
              "      <th>...</th>\n",
              "      <td>...</td>\n",
              "      <td>...</td>\n",
              "      <td>...</td>\n",
              "      <td>...</td>\n",
              "      <td>...</td>\n",
              "      <td>...</td>\n",
              "    </tr>\n",
              "    <tr>\n",
              "      <th>16995</th>\n",
              "      <td>16995</td>\n",
              "      <td>-124.26</td>\n",
              "      <td>40.58</td>\n",
              "      <td>52.0</td>\n",
              "      <td>2217.0</td>\n",
              "      <td>394.0</td>\n",
              "    </tr>\n",
              "    <tr>\n",
              "      <th>16996</th>\n",
              "      <td>16996</td>\n",
              "      <td>-124.27</td>\n",
              "      <td>40.69</td>\n",
              "      <td>36.0</td>\n",
              "      <td>2349.0</td>\n",
              "      <td>528.0</td>\n",
              "    </tr>\n",
              "    <tr>\n",
              "      <th>16997</th>\n",
              "      <td>16997</td>\n",
              "      <td>-124.30</td>\n",
              "      <td>41.84</td>\n",
              "      <td>17.0</td>\n",
              "      <td>2677.0</td>\n",
              "      <td>531.0</td>\n",
              "    </tr>\n",
              "    <tr>\n",
              "      <th>16998</th>\n",
              "      <td>16998</td>\n",
              "      <td>-124.30</td>\n",
              "      <td>41.80</td>\n",
              "      <td>19.0</td>\n",
              "      <td>2672.0</td>\n",
              "      <td>552.0</td>\n",
              "    </tr>\n",
              "    <tr>\n",
              "      <th>16999</th>\n",
              "      <td>16999</td>\n",
              "      <td>-124.35</td>\n",
              "      <td>40.54</td>\n",
              "      <td>52.0</td>\n",
              "      <td>1820.0</td>\n",
              "      <td>300.0</td>\n",
              "    </tr>\n",
              "  </tbody>\n",
              "</table>\n",
              "<p>17000 rows × 6 columns</p>\n",
              "</div>"
            ],
            "text/plain": [
              "       index  longitude  ...  total_rooms  total_bedrooms\n",
              "0          0    -114.31  ...       5612.0          1283.0\n",
              "1          1    -114.47  ...       7650.0          1901.0\n",
              "2          2    -114.56  ...        720.0           174.0\n",
              "3          3    -114.57  ...       1501.0           337.0\n",
              "4          4    -114.57  ...       1454.0           326.0\n",
              "...      ...        ...  ...          ...             ...\n",
              "16995  16995    -124.26  ...       2217.0           394.0\n",
              "16996  16996    -124.27  ...       2349.0           528.0\n",
              "16997  16997    -124.30  ...       2677.0           531.0\n",
              "16998  16998    -124.30  ...       2672.0           552.0\n",
              "16999  16999    -124.35  ...       1820.0           300.0\n",
              "\n",
              "[17000 rows x 6 columns]"
            ]
          },
          "metadata": {
            "tags": []
          },
          "execution_count": 56
        }
      ]
    },
    {
      "cell_type": "code",
      "metadata": {
        "colab": {
          "base_uri": "https://localhost:8080/",
          "height": 419
        },
        "id": "zuW6o4LyqB85",
        "outputId": "2e2f2842-9dee-4a61-9851-dbfe9ded2bf4"
      },
      "source": [
        "df_B"
      ],
      "execution_count": null,
      "outputs": [
        {
          "output_type": "execute_result",
          "data": {
            "text/html": [
              "<div>\n",
              "<style scoped>\n",
              "    .dataframe tbody tr th:only-of-type {\n",
              "        vertical-align: middle;\n",
              "    }\n",
              "\n",
              "    .dataframe tbody tr th {\n",
              "        vertical-align: top;\n",
              "    }\n",
              "\n",
              "    .dataframe thead th {\n",
              "        text-align: right;\n",
              "    }\n",
              "</style>\n",
              "<table border=\"1\" class=\"dataframe\">\n",
              "  <thead>\n",
              "    <tr style=\"text-align: right;\">\n",
              "      <th></th>\n",
              "      <th>index</th>\n",
              "      <th>population</th>\n",
              "      <th>households</th>\n",
              "      <th>median_income</th>\n",
              "      <th>median_house_value</th>\n",
              "    </tr>\n",
              "  </thead>\n",
              "  <tbody>\n",
              "    <tr>\n",
              "      <th>0</th>\n",
              "      <td>0</td>\n",
              "      <td>1015.0</td>\n",
              "      <td>472.0</td>\n",
              "      <td>1.4936</td>\n",
              "      <td>66900.0</td>\n",
              "    </tr>\n",
              "    <tr>\n",
              "      <th>1</th>\n",
              "      <td>1</td>\n",
              "      <td>1129.0</td>\n",
              "      <td>463.0</td>\n",
              "      <td>1.8200</td>\n",
              "      <td>80100.0</td>\n",
              "    </tr>\n",
              "    <tr>\n",
              "      <th>2</th>\n",
              "      <td>2</td>\n",
              "      <td>333.0</td>\n",
              "      <td>117.0</td>\n",
              "      <td>1.6509</td>\n",
              "      <td>85700.0</td>\n",
              "    </tr>\n",
              "    <tr>\n",
              "      <th>3</th>\n",
              "      <td>3</td>\n",
              "      <td>515.0</td>\n",
              "      <td>226.0</td>\n",
              "      <td>3.1917</td>\n",
              "      <td>73400.0</td>\n",
              "    </tr>\n",
              "    <tr>\n",
              "      <th>4</th>\n",
              "      <td>4</td>\n",
              "      <td>624.0</td>\n",
              "      <td>262.0</td>\n",
              "      <td>1.9250</td>\n",
              "      <td>65500.0</td>\n",
              "    </tr>\n",
              "    <tr>\n",
              "      <th>...</th>\n",
              "      <td>...</td>\n",
              "      <td>...</td>\n",
              "      <td>...</td>\n",
              "      <td>...</td>\n",
              "      <td>...</td>\n",
              "    </tr>\n",
              "    <tr>\n",
              "      <th>16995</th>\n",
              "      <td>16995</td>\n",
              "      <td>907.0</td>\n",
              "      <td>369.0</td>\n",
              "      <td>2.3571</td>\n",
              "      <td>111400.0</td>\n",
              "    </tr>\n",
              "    <tr>\n",
              "      <th>16996</th>\n",
              "      <td>16996</td>\n",
              "      <td>1194.0</td>\n",
              "      <td>465.0</td>\n",
              "      <td>2.5179</td>\n",
              "      <td>79000.0</td>\n",
              "    </tr>\n",
              "    <tr>\n",
              "      <th>16997</th>\n",
              "      <td>16997</td>\n",
              "      <td>1244.0</td>\n",
              "      <td>456.0</td>\n",
              "      <td>3.0313</td>\n",
              "      <td>103600.0</td>\n",
              "    </tr>\n",
              "    <tr>\n",
              "      <th>16998</th>\n",
              "      <td>16998</td>\n",
              "      <td>1298.0</td>\n",
              "      <td>478.0</td>\n",
              "      <td>1.9797</td>\n",
              "      <td>85800.0</td>\n",
              "    </tr>\n",
              "    <tr>\n",
              "      <th>16999</th>\n",
              "      <td>16999</td>\n",
              "      <td>806.0</td>\n",
              "      <td>270.0</td>\n",
              "      <td>3.0147</td>\n",
              "      <td>94600.0</td>\n",
              "    </tr>\n",
              "  </tbody>\n",
              "</table>\n",
              "<p>17000 rows × 5 columns</p>\n",
              "</div>"
            ],
            "text/plain": [
              "       index  population  households  median_income  median_house_value\n",
              "0          0      1015.0       472.0         1.4936             66900.0\n",
              "1          1      1129.0       463.0         1.8200             80100.0\n",
              "2          2       333.0       117.0         1.6509             85700.0\n",
              "3          3       515.0       226.0         3.1917             73400.0\n",
              "4          4       624.0       262.0         1.9250             65500.0\n",
              "...      ...         ...         ...            ...                 ...\n",
              "16995  16995       907.0       369.0         2.3571            111400.0\n",
              "16996  16996      1194.0       465.0         2.5179             79000.0\n",
              "16997  16997      1244.0       456.0         3.0313            103600.0\n",
              "16998  16998      1298.0       478.0         1.9797             85800.0\n",
              "16999  16999       806.0       270.0         3.0147             94600.0\n",
              "\n",
              "[17000 rows x 5 columns]"
            ]
          },
          "metadata": {
            "tags": []
          },
          "execution_count": 57
        }
      ]
    },
    {
      "cell_type": "code",
      "metadata": {
        "colab": {
          "base_uri": "https://localhost:8080/",
          "height": 419
        },
        "id": "5atb2Bt6qPj_",
        "outputId": "d41fe19f-e8ed-442f-c972-057def6ba5db"
      },
      "source": [
        "df_A.merge(df_B, on='index')"
      ],
      "execution_count": null,
      "outputs": [
        {
          "output_type": "execute_result",
          "data": {
            "text/html": [
              "<div>\n",
              "<style scoped>\n",
              "    .dataframe tbody tr th:only-of-type {\n",
              "        vertical-align: middle;\n",
              "    }\n",
              "\n",
              "    .dataframe tbody tr th {\n",
              "        vertical-align: top;\n",
              "    }\n",
              "\n",
              "    .dataframe thead th {\n",
              "        text-align: right;\n",
              "    }\n",
              "</style>\n",
              "<table border=\"1\" class=\"dataframe\">\n",
              "  <thead>\n",
              "    <tr style=\"text-align: right;\">\n",
              "      <th></th>\n",
              "      <th>index</th>\n",
              "      <th>longitude</th>\n",
              "      <th>latitude</th>\n",
              "      <th>housing_median_age</th>\n",
              "      <th>total_rooms</th>\n",
              "      <th>total_bedrooms</th>\n",
              "      <th>population</th>\n",
              "      <th>households</th>\n",
              "      <th>median_income</th>\n",
              "      <th>median_house_value</th>\n",
              "    </tr>\n",
              "  </thead>\n",
              "  <tbody>\n",
              "    <tr>\n",
              "      <th>0</th>\n",
              "      <td>0</td>\n",
              "      <td>-114.31</td>\n",
              "      <td>34.19</td>\n",
              "      <td>15.0</td>\n",
              "      <td>5612.0</td>\n",
              "      <td>1283.0</td>\n",
              "      <td>1015.0</td>\n",
              "      <td>472.0</td>\n",
              "      <td>1.4936</td>\n",
              "      <td>66900.0</td>\n",
              "    </tr>\n",
              "    <tr>\n",
              "      <th>1</th>\n",
              "      <td>1</td>\n",
              "      <td>-114.47</td>\n",
              "      <td>34.40</td>\n",
              "      <td>19.0</td>\n",
              "      <td>7650.0</td>\n",
              "      <td>1901.0</td>\n",
              "      <td>1129.0</td>\n",
              "      <td>463.0</td>\n",
              "      <td>1.8200</td>\n",
              "      <td>80100.0</td>\n",
              "    </tr>\n",
              "    <tr>\n",
              "      <th>2</th>\n",
              "      <td>2</td>\n",
              "      <td>-114.56</td>\n",
              "      <td>33.69</td>\n",
              "      <td>17.0</td>\n",
              "      <td>720.0</td>\n",
              "      <td>174.0</td>\n",
              "      <td>333.0</td>\n",
              "      <td>117.0</td>\n",
              "      <td>1.6509</td>\n",
              "      <td>85700.0</td>\n",
              "    </tr>\n",
              "    <tr>\n",
              "      <th>3</th>\n",
              "      <td>3</td>\n",
              "      <td>-114.57</td>\n",
              "      <td>33.64</td>\n",
              "      <td>14.0</td>\n",
              "      <td>1501.0</td>\n",
              "      <td>337.0</td>\n",
              "      <td>515.0</td>\n",
              "      <td>226.0</td>\n",
              "      <td>3.1917</td>\n",
              "      <td>73400.0</td>\n",
              "    </tr>\n",
              "    <tr>\n",
              "      <th>4</th>\n",
              "      <td>4</td>\n",
              "      <td>-114.57</td>\n",
              "      <td>33.57</td>\n",
              "      <td>20.0</td>\n",
              "      <td>1454.0</td>\n",
              "      <td>326.0</td>\n",
              "      <td>624.0</td>\n",
              "      <td>262.0</td>\n",
              "      <td>1.9250</td>\n",
              "      <td>65500.0</td>\n",
              "    </tr>\n",
              "    <tr>\n",
              "      <th>...</th>\n",
              "      <td>...</td>\n",
              "      <td>...</td>\n",
              "      <td>...</td>\n",
              "      <td>...</td>\n",
              "      <td>...</td>\n",
              "      <td>...</td>\n",
              "      <td>...</td>\n",
              "      <td>...</td>\n",
              "      <td>...</td>\n",
              "      <td>...</td>\n",
              "    </tr>\n",
              "    <tr>\n",
              "      <th>16995</th>\n",
              "      <td>16995</td>\n",
              "      <td>-124.26</td>\n",
              "      <td>40.58</td>\n",
              "      <td>52.0</td>\n",
              "      <td>2217.0</td>\n",
              "      <td>394.0</td>\n",
              "      <td>907.0</td>\n",
              "      <td>369.0</td>\n",
              "      <td>2.3571</td>\n",
              "      <td>111400.0</td>\n",
              "    </tr>\n",
              "    <tr>\n",
              "      <th>16996</th>\n",
              "      <td>16996</td>\n",
              "      <td>-124.27</td>\n",
              "      <td>40.69</td>\n",
              "      <td>36.0</td>\n",
              "      <td>2349.0</td>\n",
              "      <td>528.0</td>\n",
              "      <td>1194.0</td>\n",
              "      <td>465.0</td>\n",
              "      <td>2.5179</td>\n",
              "      <td>79000.0</td>\n",
              "    </tr>\n",
              "    <tr>\n",
              "      <th>16997</th>\n",
              "      <td>16997</td>\n",
              "      <td>-124.30</td>\n",
              "      <td>41.84</td>\n",
              "      <td>17.0</td>\n",
              "      <td>2677.0</td>\n",
              "      <td>531.0</td>\n",
              "      <td>1244.0</td>\n",
              "      <td>456.0</td>\n",
              "      <td>3.0313</td>\n",
              "      <td>103600.0</td>\n",
              "    </tr>\n",
              "    <tr>\n",
              "      <th>16998</th>\n",
              "      <td>16998</td>\n",
              "      <td>-124.30</td>\n",
              "      <td>41.80</td>\n",
              "      <td>19.0</td>\n",
              "      <td>2672.0</td>\n",
              "      <td>552.0</td>\n",
              "      <td>1298.0</td>\n",
              "      <td>478.0</td>\n",
              "      <td>1.9797</td>\n",
              "      <td>85800.0</td>\n",
              "    </tr>\n",
              "    <tr>\n",
              "      <th>16999</th>\n",
              "      <td>16999</td>\n",
              "      <td>-124.35</td>\n",
              "      <td>40.54</td>\n",
              "      <td>52.0</td>\n",
              "      <td>1820.0</td>\n",
              "      <td>300.0</td>\n",
              "      <td>806.0</td>\n",
              "      <td>270.0</td>\n",
              "      <td>3.0147</td>\n",
              "      <td>94600.0</td>\n",
              "    </tr>\n",
              "  </tbody>\n",
              "</table>\n",
              "<p>17000 rows × 10 columns</p>\n",
              "</div>"
            ],
            "text/plain": [
              "       index  longitude  ...  median_income  median_house_value\n",
              "0          0    -114.31  ...         1.4936             66900.0\n",
              "1          1    -114.47  ...         1.8200             80100.0\n",
              "2          2    -114.56  ...         1.6509             85700.0\n",
              "3          3    -114.57  ...         3.1917             73400.0\n",
              "4          4    -114.57  ...         1.9250             65500.0\n",
              "...      ...        ...  ...            ...                 ...\n",
              "16995  16995    -124.26  ...         2.3571            111400.0\n",
              "16996  16996    -124.27  ...         2.5179             79000.0\n",
              "16997  16997    -124.30  ...         3.0313            103600.0\n",
              "16998  16998    -124.30  ...         1.9797             85800.0\n",
              "16999  16999    -124.35  ...         3.0147             94600.0\n",
              "\n",
              "[17000 rows x 10 columns]"
            ]
          },
          "metadata": {
            "tags": []
          },
          "execution_count": 58
        }
      ]
    },
    {
      "cell_type": "markdown",
      "metadata": {
        "id": "SDiYm0-BquF1"
      },
      "source": [
        "EXERCISE: Using the housing dataset as a basis, create a new dataset that has a new column created from an arithmetic operation between two existing ones, perform one filter operation, and generate a Profile Report\n",
        "\n",
        "BONUS: Perform a groupby operation"
      ]
    },
    {
      "cell_type": "markdown",
      "metadata": {
        "id": "SUsvII0wa63t"
      },
      "source": [
        "## Web Application [Andrea]"
      ]
    },
    {
      "cell_type": "code",
      "metadata": {
        "colab": {
          "base_uri": "https://localhost:8080/"
        },
        "id": "cWHuoAeNCwF7",
        "outputId": "ee960e9d-8813-4e64-d428-dac773df21cf"
      },
      "source": [
        "!pip install flask_ngrok \n",
        "!pip install pywebio "
      ],
      "execution_count": null,
      "outputs": [
        {
          "output_type": "stream",
          "text": [
            "Collecting flask_ngrok\n",
            "  Downloading flask_ngrok-0.0.25-py3-none-any.whl (3.1 kB)\n",
            "Requirement already satisfied: requests in /usr/local/lib/python3.7/dist-packages (from flask_ngrok) (2.23.0)\n",
            "Requirement already satisfied: Flask>=0.8 in /usr/local/lib/python3.7/dist-packages (from flask_ngrok) (1.1.4)\n",
            "Requirement already satisfied: itsdangerous<2.0,>=0.24 in /usr/local/lib/python3.7/dist-packages (from Flask>=0.8->flask_ngrok) (1.1.0)\n",
            "Requirement already satisfied: Werkzeug<2.0,>=0.15 in /usr/local/lib/python3.7/dist-packages (from Flask>=0.8->flask_ngrok) (1.0.1)\n",
            "Requirement already satisfied: click<8.0,>=5.1 in /usr/local/lib/python3.7/dist-packages (from Flask>=0.8->flask_ngrok) (7.1.2)\n",
            "Requirement already satisfied: Jinja2<3.0,>=2.10.1 in /usr/local/lib/python3.7/dist-packages (from Flask>=0.8->flask_ngrok) (2.11.3)\n",
            "Requirement already satisfied: MarkupSafe>=0.23 in /usr/local/lib/python3.7/dist-packages (from Jinja2<3.0,>=2.10.1->Flask>=0.8->flask_ngrok) (2.0.1)\n",
            "Requirement already satisfied: chardet<4,>=3.0.2 in /usr/local/lib/python3.7/dist-packages (from requests->flask_ngrok) (3.0.4)\n",
            "Requirement already satisfied: certifi>=2017.4.17 in /usr/local/lib/python3.7/dist-packages (from requests->flask_ngrok) (2021.5.30)\n",
            "Requirement already satisfied: urllib3!=1.25.0,!=1.25.1,<1.26,>=1.21.1 in /usr/local/lib/python3.7/dist-packages (from requests->flask_ngrok) (1.24.3)\n",
            "Requirement already satisfied: idna<3,>=2.5 in /usr/local/lib/python3.7/dist-packages (from requests->flask_ngrok) (2.10)\n",
            "Installing collected packages: flask-ngrok\n",
            "Successfully installed flask-ngrok-0.0.25\n",
            "Collecting pywebio\n",
            "  Downloading pywebio-1.3.3.tar.gz (326 kB)\n",
            "\u001b[K     |████████████████████████████████| 326 kB 4.1 MB/s \n",
            "\u001b[?25hRequirement already satisfied: tornado>=5.0 in /usr/local/lib/python3.7/dist-packages (from pywebio) (5.1.1)\n",
            "Collecting user-agents\n",
            "  Downloading user_agents-2.2.0-py3-none-any.whl (9.6 kB)\n",
            "Collecting ua-parser>=0.10.0\n",
            "  Downloading ua_parser-0.10.0-py2.py3-none-any.whl (35 kB)\n",
            "Building wheels for collected packages: pywebio\n",
            "  Building wheel for pywebio (setup.py) ... \u001b[?25l\u001b[?25hdone\n",
            "  Created wheel for pywebio: filename=pywebio-1.3.3-py3-none-any.whl size=335375 sha256=b98323a86cb9467b6bbffa416837fac7540f4c18753b9f7312dfa7acdd049d2a\n",
            "  Stored in directory: /root/.cache/pip/wheels/94/6c/b5/22698a014f0ada50b15310c8657c283bf93cdbd06eaeaae643\n",
            "Successfully built pywebio\n",
            "Installing collected packages: ua-parser, user-agents, pywebio\n",
            "Successfully installed pywebio-1.3.3 ua-parser-0.10.0 user-agents-2.2.0\n"
          ],
          "name": "stdout"
        }
      ]
    },
    {
      "cell_type": "code",
      "metadata": {
        "id": "18UGEJZgYqao"
      },
      "source": [
        "def mpg(miles_traveled, gallons_consumed):\n",
        "    \n",
        "    \"\"\"\n",
        "    -\tmpg_actual = miles_traveled / gallons_consumed\n",
        "      \t> 36 Excellent\n",
        "      \t30 Great\n",
        "      \t24 Good\n",
        "      \t20 Fair\n",
        "      \t< 15 Poor\n",
        "    \"\"\"\n",
        "    mpg_actual = miles_traveled/gallons_consumed\n",
        "\n",
        "    performance_table = [\n",
        "          (15, 'Poor'),\n",
        "          (20, 'Fair'),\n",
        "          (24, 'Good'),\n",
        "          (30, 'Great'),\n",
        "          (36, 'Excellent')]\n",
        "    \n",
        "    for top, performance in performance_table:\n",
        "        if mpg_actual <= top:\n",
        "            break\n",
        "    return mpg_actual, performance"
      ],
      "execution_count": null,
      "outputs": []
    },
    {
      "cell_type": "code",
      "metadata": {
        "colab": {
          "base_uri": "https://localhost:8080/",
          "height": 195
        },
        "id": "wqxJtvcNalre",
        "outputId": "5ecd3318-061b-4e0b-e542-bd20438112f2"
      },
      "source": [
        "mpg_actual, performance = mpg(234, 8)\n",
        "print(f\"mpg_actual  = {mpg_actual}\")\n",
        "print(f\"performance = {performance}\")"
      ],
      "execution_count": null,
      "outputs": [
        {
          "output_type": "error",
          "ename": "NameError",
          "evalue": "ignored",
          "traceback": [
            "\u001b[0;31m---------------------------------------------------------------------------\u001b[0m",
            "\u001b[0;31mNameError\u001b[0m                                 Traceback (most recent call last)",
            "\u001b[0;32m<ipython-input-46-36f88b3077cb>\u001b[0m in \u001b[0;36m<module>\u001b[0;34m()\u001b[0m\n\u001b[0;32m----> 1\u001b[0;31m \u001b[0mmpg_actual\u001b[0m\u001b[0;34m,\u001b[0m \u001b[0mperformance\u001b[0m \u001b[0;34m=\u001b[0m \u001b[0mmpg\u001b[0m\u001b[0;34m(\u001b[0m\u001b[0;36m234\u001b[0m\u001b[0;34m,\u001b[0m \u001b[0;36m8\u001b[0m\u001b[0;34m)\u001b[0m\u001b[0;34m\u001b[0m\u001b[0;34m\u001b[0m\u001b[0m\n\u001b[0m\u001b[1;32m      2\u001b[0m \u001b[0mprint\u001b[0m\u001b[0;34m(\u001b[0m\u001b[0;34mf\"mpg_actual  = {mpg_actual}\"\u001b[0m\u001b[0;34m)\u001b[0m\u001b[0;34m\u001b[0m\u001b[0;34m\u001b[0m\u001b[0m\n\u001b[1;32m      3\u001b[0m \u001b[0mprint\u001b[0m\u001b[0;34m(\u001b[0m\u001b[0;34mf\"performance = {performance}\"\u001b[0m\u001b[0;34m)\u001b[0m\u001b[0;34m\u001b[0m\u001b[0;34m\u001b[0m\u001b[0m\n",
            "\u001b[0;31mNameError\u001b[0m: name 'mpg' is not defined"
          ]
        }
      ]
    },
    {
      "cell_type": "code",
      "metadata": {
        "colab": {
          "base_uri": "https://localhost:8080/",
          "height": 363
        },
        "id": "66MvXn5AduQn",
        "outputId": "6ae20d99-aa11-4105-d757-08ea96e1049a"
      },
      "source": [
        "from pywebio.platform.flask import webio_view\n",
        "from pywebio.input import input, FLOAT\n",
        "from pywebio.output import put_text\n",
        "from flask_ngrok import run_with_ngrok\n",
        "from flask import Flask \n",
        "\n",
        "app = Flask(__name__)\n",
        "run_with_ngrok(app)\n",
        "\n",
        "def mpg_page():\n",
        "    miles_traveled = input(\"Input the distance traveled (miles)  ：\", type=FLOAT)\n",
        "    gallons_consumed = input(\"Input the fuel consumed     (gallons)：\", type=FLOAT)\n",
        "    mpg_actual, performance = mpg(miles_traveled, gallons_consumed)\n",
        "    put_text('Your mpg: %.1f. Category: %s' % (mpg_actual, performance))\n",
        "\n",
        "app.add_url_rule('/', 'webio_view', webio_view(mpg_page), methods=['GET', 'POST', 'OPTIONS'])\n",
        "\n",
        "if __name__ == '__main__':\n",
        "    app.run()"
      ],
      "execution_count": null,
      "outputs": [
        {
          "output_type": "error",
          "ename": "ModuleNotFoundError",
          "evalue": "ignored",
          "traceback": [
            "\u001b[0;31m---------------------------------------------------------------------------\u001b[0m",
            "\u001b[0;31mModuleNotFoundError\u001b[0m                       Traceback (most recent call last)",
            "\u001b[0;32m<ipython-input-45-7f8ec057fda4>\u001b[0m in \u001b[0;36m<module>\u001b[0;34m()\u001b[0m\n\u001b[0;32m----> 1\u001b[0;31m \u001b[0;32mfrom\u001b[0m \u001b[0mpywebio\u001b[0m\u001b[0;34m.\u001b[0m\u001b[0mplatform\u001b[0m\u001b[0;34m.\u001b[0m\u001b[0mflask\u001b[0m \u001b[0;32mimport\u001b[0m \u001b[0mwebio_view\u001b[0m\u001b[0;34m\u001b[0m\u001b[0;34m\u001b[0m\u001b[0m\n\u001b[0m\u001b[1;32m      2\u001b[0m \u001b[0;32mfrom\u001b[0m \u001b[0mpywebio\u001b[0m\u001b[0;34m.\u001b[0m\u001b[0minput\u001b[0m \u001b[0;32mimport\u001b[0m \u001b[0minput\u001b[0m\u001b[0;34m,\u001b[0m \u001b[0mFLOAT\u001b[0m\u001b[0;34m\u001b[0m\u001b[0;34m\u001b[0m\u001b[0m\n\u001b[1;32m      3\u001b[0m \u001b[0;32mfrom\u001b[0m \u001b[0mpywebio\u001b[0m\u001b[0;34m.\u001b[0m\u001b[0moutput\u001b[0m \u001b[0;32mimport\u001b[0m \u001b[0mput_text\u001b[0m\u001b[0;34m\u001b[0m\u001b[0;34m\u001b[0m\u001b[0m\n\u001b[1;32m      4\u001b[0m \u001b[0;32mfrom\u001b[0m \u001b[0mflask_ngrok\u001b[0m \u001b[0;32mimport\u001b[0m \u001b[0mrun_with_ngrok\u001b[0m\u001b[0;34m\u001b[0m\u001b[0;34m\u001b[0m\u001b[0m\n\u001b[1;32m      5\u001b[0m \u001b[0;32mfrom\u001b[0m \u001b[0mflask\u001b[0m \u001b[0;32mimport\u001b[0m \u001b[0mFlask\u001b[0m\u001b[0;34m\u001b[0m\u001b[0;34m\u001b[0m\u001b[0m\n",
            "\u001b[0;31mModuleNotFoundError\u001b[0m: No module named 'pywebio'",
            "",
            "\u001b[0;31m---------------------------------------------------------------------------\u001b[0;32m\nNOTE: If your import is failing due to a missing package, you can\nmanually install dependencies using either !pip or !apt.\n\nTo view examples of installing some common dependencies, click the\n\"Open Examples\" button below.\n\u001b[0;31m---------------------------------------------------------------------------\u001b[0m\n"
          ]
        }
      ]
    },
    {
      "cell_type": "code",
      "metadata": {
        "id": "elR1sLUkag2I"
      },
      "source": [
        ""
      ],
      "execution_count": null,
      "outputs": []
    },
    {
      "cell_type": "markdown",
      "metadata": {
        "id": "cjhJhq9rbunP"
      },
      "source": [
        "!pip install flask_ngrok \n",
        "!pip install pywebio ## Exercise\n",
        "\n",
        "Create a web app for batting average\n",
        "\n",
        "-\tBatting average = Total number of hits / Total number of at bats\n",
        "  *\t\\> .300 Excellent\n",
        "  *\t.275 Great\n",
        "  *\t.250 Good\n",
        "  *\t.230 Fair\n",
        "  *\t< .230 Poor\n"
      ]
    },
    {
      "cell_type": "code",
      "metadata": {
        "colab": {
          "background_save": true,
          "base_uri": "https://localhost:8080/"
        },
        "id": "SQ6dq_xbb05w",
        "outputId": "89d1d90d-94e5-4d62-c4b2-71b2862f0aa1"
      },
      "source": [
        "\n",
        "\n",
        "def mpg(total_number_of_hits, total_number_of_at_bats):\n",
        "    \n",
        "    \"\"\"\n",
        "    -\tmpg_actual = total_number_of_hits / total_number_of_at_bats\n",
        "      \t> .300 Excellent\n",
        "          .275 Great\n",
        "          .250 Good\n",
        "          .230 Fair\n",
        "        < .230 Poor\n",
        "    \"\"\"\n",
        "    mpg_actual = total_number_of_hits/total_number_of_at_bats\n",
        "\n",
        "    performance_table = [\n",
        "          (15, 'Poor'),\n",
        "          (20, 'Fair'),\n",
        "          (24, 'Good'),\n",
        "          (30, 'Great'),\n",
        "          (36, 'Excellent')]\n",
        "    \n",
        "    for top, performance in performance_table:\n",
        "        if mpg_actual <= top:\n",
        "            break\n",
        "    return mpg_actual, performance\n",
        "\n",
        "\n",
        "!pip install flask_ngrok \n",
        "!pip install pywebio \n",
        "\n",
        "from pywebio.platform.flask import webio_view\n",
        "from pywebio.input import input, FLOAT\n",
        "from pywebio.output import put_text\n",
        "from flask_ngrok import run_with_ngrok\n",
        "from flask import Flask \n",
        "\n",
        "app = Flask(__name__)\n",
        "run_with_ngrok(app)\n",
        "\n",
        "def mpg_page():\n",
        "    miles_traveled = input(\"Input the distance traveled (miles)  ：\", type=FLOAT)\n",
        "    gallons_consumed = input(\"Input the fuel consumed     (gallons)：\", type=FLOAT)\n",
        "    mpg_actual, performance = mpg(miles_traveled, gallons_consumed)\n",
        "    put_text('Your mpg: %.1f. Category: %s' % (mpg_actual, performance))\n",
        "\n",
        "app.add_url_rule('/', 'webio_view', webio_view(mpg_page), methods=['GET', 'POST', 'OPTIONS'])\n",
        "\n",
        "if __name__ == '__main__':\n",
        "    app.run()"
      ],
      "execution_count": null,
      "outputs": [
        {
          "output_type": "stream",
          "text": [
            "Collecting flask_ngrok\n",
            "  Downloading flask_ngrok-0.0.25-py3-none-any.whl (3.1 kB)\n",
            "Requirement already satisfied: Flask>=0.8 in /usr/local/lib/python3.7/dist-packages (from flask_ngrok) (1.1.4)\n",
            "Requirement already satisfied: requests in /usr/local/lib/python3.7/dist-packages (from flask_ngrok) (2.23.0)\n",
            "Requirement already satisfied: Jinja2<3.0,>=2.10.1 in /usr/local/lib/python3.7/dist-packages (from Flask>=0.8->flask_ngrok) (2.11.3)\n",
            "Requirement already satisfied: Werkzeug<2.0,>=0.15 in /usr/local/lib/python3.7/dist-packages (from Flask>=0.8->flask_ngrok) (1.0.1)\n",
            "Requirement already satisfied: itsdangerous<2.0,>=0.24 in /usr/local/lib/python3.7/dist-packages (from Flask>=0.8->flask_ngrok) (1.1.0)\n",
            "Requirement already satisfied: click<8.0,>=5.1 in /usr/local/lib/python3.7/dist-packages (from Flask>=0.8->flask_ngrok) (7.1.2)\n",
            "Requirement already satisfied: MarkupSafe>=0.23 in /usr/local/lib/python3.7/dist-packages (from Jinja2<3.0,>=2.10.1->Flask>=0.8->flask_ngrok) (2.0.1)\n",
            "Requirement already satisfied: idna<3,>=2.5 in /usr/local/lib/python3.7/dist-packages (from requests->flask_ngrok) (2.10)\n",
            "Requirement already satisfied: urllib3!=1.25.0,!=1.25.1,<1.26,>=1.21.1 in /usr/local/lib/python3.7/dist-packages (from requests->flask_ngrok) (1.24.3)\n",
            "Requirement already satisfied: certifi>=2017.4.17 in /usr/local/lib/python3.7/dist-packages (from requests->flask_ngrok) (2021.5.30)\n",
            "Requirement already satisfied: chardet<4,>=3.0.2 in /usr/local/lib/python3.7/dist-packages (from requests->flask_ngrok) (3.0.4)\n",
            "Installing collected packages: flask-ngrok\n",
            "Successfully installed flask-ngrok-0.0.25\n",
            "Collecting pywebio\n",
            "  Downloading pywebio-1.3.3.tar.gz (326 kB)\n",
            "\u001b[K     |████████████████████████████████| 326 kB 4.2 MB/s \n",
            "\u001b[?25hRequirement already satisfied: tornado>=5.0 in /usr/local/lib/python3.7/dist-packages (from pywebio) (5.1.1)\n",
            "Collecting user-agents\n",
            "  Downloading user_agents-2.2.0-py3-none-any.whl (9.6 kB)\n",
            "Collecting ua-parser>=0.10.0\n",
            "  Downloading ua_parser-0.10.0-py2.py3-none-any.whl (35 kB)\n",
            "Building wheels for collected packages: pywebio\n",
            "  Building wheel for pywebio (setup.py) ... \u001b[?25l\u001b[?25hdone\n",
            "  Created wheel for pywebio: filename=pywebio-1.3.3-py3-none-any.whl size=335375 sha256=b9ca2cb05bb03abb883f46ae41b090da3954a24a003e685df9c931ebc82e2f0f\n",
            "  Stored in directory: /root/.cache/pip/wheels/94/6c/b5/22698a014f0ada50b15310c8657c283bf93cdbd06eaeaae643\n",
            "Successfully built pywebio\n",
            "Installing collected packages: ua-parser, user-agents, pywebio\n",
            "Successfully installed pywebio-1.3.3 ua-parser-0.10.0 user-agents-2.2.0\n",
            " * Serving Flask app \"__main__\" (lazy loading)\n",
            " * Environment: production\n",
            "\u001b[31m   WARNING: This is a development server. Do not use it in a production deployment.\u001b[0m\n",
            "\u001b[2m   Use a production WSGI server instead.\u001b[0m\n",
            " * Debug mode: off\n"
          ],
          "name": "stdout"
        },
        {
          "output_type": "stream",
          "text": [
            " * Running on http://127.0.0.1:5000/ (Press CTRL+C to quit)\n"
          ],
          "name": "stderr"
        },
        {
          "output_type": "stream",
          "text": [
            " * Running on http://93b75039417e.ngrok.io\n",
            " * Traffic stats available on http://127.0.0.1:4040\n"
          ],
          "name": "stdout"
        },
        {
          "output_type": "stream",
          "text": [
            "127.0.0.1 - - [12/Aug/2021 16:01:43] \"\u001b[37mGET / HTTP/1.1\u001b[0m\" 200 -\n",
            "127.0.0.1 - - [12/Aug/2021 16:01:44] \"\u001b[37mGET /?app=index HTTP/1.1\u001b[0m\" 200 -\n",
            "127.0.0.1 - - [12/Aug/2021 16:01:45] \"\u001b[37mGET /?app=index HTTP/1.1\u001b[0m\" 200 -\n",
            "127.0.0.1 - - [12/Aug/2021 16:01:46] \"\u001b[37mGET /?app=index HTTP/1.1\u001b[0m\" 200 -\n",
            "127.0.0.1 - - [12/Aug/2021 16:01:47] \"\u001b[37mGET /?app=index HTTP/1.1\u001b[0m\" 200 -\n",
            "127.0.0.1 - - [12/Aug/2021 16:01:48] \"\u001b[37mGET /?app=index HTTP/1.1\u001b[0m\" 200 -\n",
            "127.0.0.1 - - [12/Aug/2021 16:01:48] \"\u001b[37mPOST /?app=index HTTP/1.1\u001b[0m\" 200 -\n",
            "127.0.0.1 - - [12/Aug/2021 16:01:49] \"\u001b[37mGET /?app=index HTTP/1.1\u001b[0m\" 200 -\n",
            "127.0.0.1 - - [12/Aug/2021 16:01:50] \"\u001b[37mGET /?app=index HTTP/1.1\u001b[0m\" 200 -\n",
            "127.0.0.1 - - [12/Aug/2021 16:01:51] \"\u001b[37mGET /?app=index HTTP/1.1\u001b[0m\" 200 -\n",
            "127.0.0.1 - - [12/Aug/2021 16:01:52] \"\u001b[37mGET /?app=index HTTP/1.1\u001b[0m\" 200 -\n",
            "127.0.0.1 - - [12/Aug/2021 16:01:53] \"\u001b[37mGET /?app=index HTTP/1.1\u001b[0m\" 200 -\n",
            "127.0.0.1 - - [12/Aug/2021 16:01:53] \"\u001b[37mPOST /?app=index HTTP/1.1\u001b[0m\" 200 -\n",
            "127.0.0.1 - - [12/Aug/2021 16:02:30] \"\u001b[37mGET / HTTP/1.1\u001b[0m\" 200 -\n",
            "127.0.0.1 - - [12/Aug/2021 16:02:31] \"\u001b[37mGET /?app=index HTTP/1.1\u001b[0m\" 200 -\n",
            "127.0.0.1 - - [12/Aug/2021 16:02:32] \"\u001b[37mGET /?app=index HTTP/1.1\u001b[0m\" 200 -\n",
            "127.0.0.1 - - [12/Aug/2021 16:02:33] \"\u001b[37mGET /?app=index HTTP/1.1\u001b[0m\" 200 -\n",
            "127.0.0.1 - - [12/Aug/2021 16:02:34] \"\u001b[37mGET /?app=index HTTP/1.1\u001b[0m\" 200 -\n",
            "127.0.0.1 - - [12/Aug/2021 16:02:35] \"\u001b[37mGET /?app=index HTTP/1.1\u001b[0m\" 200 -\n",
            "127.0.0.1 - - [12/Aug/2021 16:02:36] \"\u001b[37mGET /?app=index HTTP/1.1\u001b[0m\" 200 -\n",
            "127.0.0.1 - - [12/Aug/2021 16:02:37] \"\u001b[37mGET /?app=index HTTP/1.1\u001b[0m\" 200 -\n",
            "127.0.0.1 - - [12/Aug/2021 16:02:38] \"\u001b[37mGET /?app=index HTTP/1.1\u001b[0m\" 200 -\n",
            "127.0.0.1 - - [12/Aug/2021 16:02:39] \"\u001b[37mGET /?app=index HTTP/1.1\u001b[0m\" 200 -\n",
            "127.0.0.1 - - [12/Aug/2021 16:02:40] \"\u001b[37mPOST /?app=index HTTP/1.1\u001b[0m\" 200 -\n",
            "127.0.0.1 - - [12/Aug/2021 16:02:40] \"\u001b[37mGET /?app=index HTTP/1.1\u001b[0m\" 200 -\n",
            "127.0.0.1 - - [12/Aug/2021 16:02:41] \"\u001b[37mGET /?app=index HTTP/1.1\u001b[0m\" 200 -\n",
            "127.0.0.1 - - [12/Aug/2021 16:02:42] \"\u001b[37mGET /?app=index HTTP/1.1\u001b[0m\" 200 -\n",
            "127.0.0.1 - - [12/Aug/2021 16:02:43] \"\u001b[37mPOST /?app=index HTTP/1.1\u001b[0m\" 200 -\n",
            "127.0.0.1 - - [12/Aug/2021 16:02:43] \"\u001b[37mGET /?app=index HTTP/1.1\u001b[0m\" 200 -\n",
            "127.0.0.1 - - [12/Aug/2021 16:03:19] \"\u001b[37mGET / HTTP/1.1\u001b[0m\" 200 -\n",
            "127.0.0.1 - - [12/Aug/2021 16:03:20] \"\u001b[37mGET / HTTP/1.1\u001b[0m\" 200 -\n",
            "127.0.0.1 - - [12/Aug/2021 16:03:22] \"\u001b[33mGET /favicon.ico HTTP/1.1\u001b[0m\" 404 -\n",
            "127.0.0.1 - - [12/Aug/2021 16:03:22] \"\u001b[33mGET /favicon.ico HTTP/1.1\u001b[0m\" 404 -\n",
            "127.0.0.1 - - [12/Aug/2021 16:03:36] \"\u001b[37mGET / HTTP/1.1\u001b[0m\" 200 -\n",
            "127.0.0.1 - - [12/Aug/2021 16:03:37] \"\u001b[37mGET / HTTP/1.1\u001b[0m\" 200 -\n",
            "127.0.0.1 - - [12/Aug/2021 16:03:37] \"\u001b[37mGET /?app=index HTTP/1.1\u001b[0m\" 200 -\n",
            "127.0.0.1 - - [12/Aug/2021 16:03:38] \"\u001b[33mGET /favicon.ico HTTP/1.1\u001b[0m\" 404 -\n",
            "127.0.0.1 - - [12/Aug/2021 16:03:38] \"\u001b[37mGET /?app=index HTTP/1.1\u001b[0m\" 200 -\n",
            "127.0.0.1 - - [12/Aug/2021 16:03:39] \"\u001b[37mGET /?app=index HTTP/1.1\u001b[0m\" 200 -\n",
            "127.0.0.1 - - [12/Aug/2021 16:03:40] \"\u001b[37mGET /?app=index HTTP/1.1\u001b[0m\" 200 -\n",
            "127.0.0.1 - - [12/Aug/2021 16:03:41] \"\u001b[37mGET /?app=index HTTP/1.1\u001b[0m\" 200 -\n",
            "127.0.0.1 - - [12/Aug/2021 16:03:42] \"\u001b[37mGET /?app=index HTTP/1.1\u001b[0m\" 200 -\n",
            "127.0.0.1 - - [12/Aug/2021 16:03:43] \"\u001b[37mGET /?app=index HTTP/1.1\u001b[0m\" 200 -\n",
            "127.0.0.1 - - [12/Aug/2021 16:03:44] \"\u001b[37mGET /?app=index HTTP/1.1\u001b[0m\" 200 -\n",
            "127.0.0.1 - - [12/Aug/2021 16:03:45] \"\u001b[37mGET /?app=index HTTP/1.1\u001b[0m\" 200 -\n",
            "127.0.0.1 - - [12/Aug/2021 16:03:46] \"\u001b[37mGET /?app=index HTTP/1.1\u001b[0m\" 200 -\n",
            "127.0.0.1 - - [12/Aug/2021 16:03:47] \"\u001b[37mGET /?app=index HTTP/1.1\u001b[0m\" 200 -\n",
            "127.0.0.1 - - [12/Aug/2021 16:03:48] \"\u001b[37mGET /?app=index HTTP/1.1\u001b[0m\" 200 -\n",
            "127.0.0.1 - - [12/Aug/2021 16:03:49] \"\u001b[37mGET /?app=index HTTP/1.1\u001b[0m\" 200 -\n",
            "127.0.0.1 - - [12/Aug/2021 16:03:50] \"\u001b[37mGET /?app=index HTTP/1.1\u001b[0m\" 200 -\n",
            "127.0.0.1 - - [12/Aug/2021 16:03:51] \"\u001b[37mGET /?app=index HTTP/1.1\u001b[0m\" 200 -\n",
            "127.0.0.1 - - [12/Aug/2021 16:03:52] \"\u001b[37mGET /?app=index HTTP/1.1\u001b[0m\" 200 -\n",
            "127.0.0.1 - - [12/Aug/2021 16:03:53] \"\u001b[37mGET /?app=index HTTP/1.1\u001b[0m\" 200 -\n",
            "127.0.0.1 - - [12/Aug/2021 16:03:54] \"\u001b[37mGET /?app=index HTTP/1.1\u001b[0m\" 200 -\n",
            "127.0.0.1 - - [12/Aug/2021 16:03:55] \"\u001b[37mGET /?app=index HTTP/1.1\u001b[0m\" 200 -\n",
            "127.0.0.1 - - [12/Aug/2021 16:03:56] \"\u001b[37mGET /?app=index HTTP/1.1\u001b[0m\" 200 -\n",
            "127.0.0.1 - - [12/Aug/2021 16:03:57] \"\u001b[37mGET /?app=index HTTP/1.1\u001b[0m\" 200 -\n",
            "127.0.0.1 - - [12/Aug/2021 16:03:58] \"\u001b[37mGET /?app=index HTTP/1.1\u001b[0m\" 200 -\n",
            "127.0.0.1 - - [12/Aug/2021 16:03:59] \"\u001b[37mGET /?app=index HTTP/1.1\u001b[0m\" 200 -\n",
            "127.0.0.1 - - [12/Aug/2021 16:04:00] \"\u001b[37mGET /?app=index HTTP/1.1\u001b[0m\" 200 -\n",
            "127.0.0.1 - - [12/Aug/2021 16:04:01] \"\u001b[37mGET /?app=index HTTP/1.1\u001b[0m\" 200 -\n",
            "127.0.0.1 - - [12/Aug/2021 16:04:02] \"\u001b[37mGET /?app=index HTTP/1.1\u001b[0m\" 200 -\n",
            "127.0.0.1 - - [12/Aug/2021 16:04:03] \"\u001b[37mGET /?app=index HTTP/1.1\u001b[0m\" 200 -\n",
            "127.0.0.1 - - [12/Aug/2021 16:04:04] \"\u001b[37mGET /?app=index HTTP/1.1\u001b[0m\" 200 -\n",
            "127.0.0.1 - - [12/Aug/2021 16:04:05] \"\u001b[37mGET /?app=index HTTP/1.1\u001b[0m\" 200 -\n",
            "127.0.0.1 - - [12/Aug/2021 16:04:06] \"\u001b[37mGET /?app=index HTTP/1.1\u001b[0m\" 200 -\n",
            "127.0.0.1 - - [12/Aug/2021 16:04:07] \"\u001b[37mGET /?app=index HTTP/1.1\u001b[0m\" 200 -\n",
            "127.0.0.1 - - [12/Aug/2021 16:04:08] \"\u001b[37mGET /?app=index HTTP/1.1\u001b[0m\" 200 -\n",
            "127.0.0.1 - - [12/Aug/2021 16:04:09] \"\u001b[37mGET /?app=index HTTP/1.1\u001b[0m\" 200 -\n",
            "127.0.0.1 - - [12/Aug/2021 16:04:10] \"\u001b[37mGET /?app=index HTTP/1.1\u001b[0m\" 200 -\n",
            "127.0.0.1 - - [12/Aug/2021 16:04:11] \"\u001b[37mGET /?app=index HTTP/1.1\u001b[0m\" 200 -\n",
            "127.0.0.1 - - [12/Aug/2021 16:04:12] \"\u001b[37mGET /?app=index HTTP/1.1\u001b[0m\" 200 -\n",
            "127.0.0.1 - - [12/Aug/2021 16:04:13] \"\u001b[37mGET /?app=index HTTP/1.1\u001b[0m\" 200 -\n",
            "127.0.0.1 - - [12/Aug/2021 16:04:14] \"\u001b[37mGET /?app=index HTTP/1.1\u001b[0m\" 200 -\n",
            "127.0.0.1 - - [12/Aug/2021 16:04:15] \"\u001b[37mGET /?app=index HTTP/1.1\u001b[0m\" 200 -\n",
            "127.0.0.1 - - [12/Aug/2021 16:04:16] \"\u001b[37mGET /?app=index HTTP/1.1\u001b[0m\" 200 -\n",
            "127.0.0.1 - - [12/Aug/2021 16:04:17] \"\u001b[37mGET /?app=index HTTP/1.1\u001b[0m\" 200 -\n",
            "127.0.0.1 - - [12/Aug/2021 16:04:18] \"\u001b[37mGET /?app=index HTTP/1.1\u001b[0m\" 200 -\n",
            "127.0.0.1 - - [12/Aug/2021 16:04:19] \"\u001b[37mGET /?app=index HTTP/1.1\u001b[0m\" 200 -\n",
            "127.0.0.1 - - [12/Aug/2021 16:04:20] \"\u001b[37mGET /?app=index HTTP/1.1\u001b[0m\" 200 -\n",
            "127.0.0.1 - - [12/Aug/2021 16:04:21] \"\u001b[37mGET /?app=index HTTP/1.1\u001b[0m\" 200 -\n",
            "127.0.0.1 - - [12/Aug/2021 16:04:22] \"\u001b[37mGET /?app=index HTTP/1.1\u001b[0m\" 200 -\n",
            "127.0.0.1 - - [12/Aug/2021 16:04:23] \"\u001b[37mGET /?app=index HTTP/1.1\u001b[0m\" 200 -\n",
            "127.0.0.1 - - [12/Aug/2021 16:04:24] \"\u001b[37mGET /?app=index HTTP/1.1\u001b[0m\" 200 -\n",
            "127.0.0.1 - - [12/Aug/2021 16:04:25] \"\u001b[37mGET /?app=index HTTP/1.1\u001b[0m\" 200 -\n",
            "127.0.0.1 - - [12/Aug/2021 16:04:26] \"\u001b[37mGET /?app=index HTTP/1.1\u001b[0m\" 200 -\n",
            "127.0.0.1 - - [12/Aug/2021 16:04:27] \"\u001b[37mGET /?app=index HTTP/1.1\u001b[0m\" 200 -\n",
            "127.0.0.1 - - [12/Aug/2021 16:04:28] \"\u001b[37mGET /?app=index HTTP/1.1\u001b[0m\" 200 -\n",
            "127.0.0.1 - - [12/Aug/2021 16:04:29] \"\u001b[37mGET /?app=index HTTP/1.1\u001b[0m\" 200 -\n",
            "127.0.0.1 - - [12/Aug/2021 16:04:30] \"\u001b[37mGET /?app=index HTTP/1.1\u001b[0m\" 200 -\n",
            "127.0.0.1 - - [12/Aug/2021 16:04:31] \"\u001b[37mGET /?app=index HTTP/1.1\u001b[0m\" 200 -\n",
            "127.0.0.1 - - [12/Aug/2021 16:04:31] \"\u001b[37mGET / HTTP/1.1\u001b[0m\" 200 -\n",
            "127.0.0.1 - - [12/Aug/2021 16:04:32] \"\u001b[37mGET /?app=index HTTP/1.1\u001b[0m\" 200 -\n",
            "127.0.0.1 - - [12/Aug/2021 16:04:32] \"\u001b[37mGET / HTTP/1.1\u001b[0m\" 200 -\n",
            "127.0.0.1 - - [12/Aug/2021 16:04:33] \"\u001b[37mGET /?app=index HTTP/1.1\u001b[0m\" 200 -\n",
            "127.0.0.1 - - [12/Aug/2021 16:04:33] \"\u001b[37mGET /?app=index HTTP/1.1\u001b[0m\" 200 -\n",
            "127.0.0.1 - - [12/Aug/2021 16:04:34] \"\u001b[37mGET /?app=index HTTP/1.1\u001b[0m\" 200 -\n",
            "127.0.0.1 - - [12/Aug/2021 16:04:34] \"\u001b[37mGET /?app=index HTTP/1.1\u001b[0m\" 200 -\n",
            "127.0.0.1 - - [12/Aug/2021 16:04:34] \"\u001b[37mGET /?app=index HTTP/1.1\u001b[0m\" 200 -\n",
            "127.0.0.1 - - [12/Aug/2021 16:04:35] \"\u001b[37mGET /?app=index HTTP/1.1\u001b[0m\" 200 -\n",
            "127.0.0.1 - - [12/Aug/2021 16:04:35] \"\u001b[37mGET /?app=index HTTP/1.1\u001b[0m\" 200 -\n",
            "127.0.0.1 - - [12/Aug/2021 16:04:35] \"\u001b[37mGET /?app=index HTTP/1.1\u001b[0m\" 200 -\n",
            "127.0.0.1 - - [12/Aug/2021 16:04:35] \"\u001b[37mGET /?app=index HTTP/1.1\u001b[0m\" 200 -\n",
            "127.0.0.1 - - [12/Aug/2021 16:04:36] \"\u001b[37mGET /?app=index HTTP/1.1\u001b[0m\" 200 -\n",
            "127.0.0.1 - - [12/Aug/2021 16:04:36] \"\u001b[37mGET /?app=index HTTP/1.1\u001b[0m\" 200 -\n",
            "127.0.0.1 - - [12/Aug/2021 16:04:36] \"\u001b[37mGET /?app=index HTTP/1.1\u001b[0m\" 200 -\n",
            "127.0.0.1 - - [12/Aug/2021 16:04:37] \"\u001b[37mGET /?app=index HTTP/1.1\u001b[0m\" 200 -\n",
            "127.0.0.1 - - [12/Aug/2021 16:04:37] \"\u001b[37mGET /?app=index HTTP/1.1\u001b[0m\" 200 -\n",
            "127.0.0.1 - - [12/Aug/2021 16:04:37] \"\u001b[37mGET /?app=index HTTP/1.1\u001b[0m\" 200 -\n",
            "127.0.0.1 - - [12/Aug/2021 16:04:38] \"\u001b[37mGET /?app=index HTTP/1.1\u001b[0m\" 200 -\n",
            "127.0.0.1 - - [12/Aug/2021 16:04:38] \"\u001b[37mGET /?app=index HTTP/1.1\u001b[0m\" 200 -\n",
            "127.0.0.1 - - [12/Aug/2021 16:04:38] \"\u001b[37mGET /?app=index HTTP/1.1\u001b[0m\" 200 -\n",
            "127.0.0.1 - - [12/Aug/2021 16:04:38] \"\u001b[37mGET /?app=index HTTP/1.1\u001b[0m\" 200 -\n",
            "127.0.0.1 - - [12/Aug/2021 16:04:38] \"\u001b[37mGET /?app=index HTTP/1.1\u001b[0m\" 200 -\n",
            "127.0.0.1 - - [12/Aug/2021 16:04:39] \"\u001b[37mGET /?app=index HTTP/1.1\u001b[0m\" 200 -\n",
            "127.0.0.1 - - [12/Aug/2021 16:04:39] \"\u001b[37mGET /?app=index HTTP/1.1\u001b[0m\" 200 -\n",
            "127.0.0.1 - - [12/Aug/2021 16:04:39] \"\u001b[37mGET /?app=index HTTP/1.1\u001b[0m\" 200 -\n",
            "127.0.0.1 - - [12/Aug/2021 16:04:39] \"\u001b[37mGET /?app=index HTTP/1.1\u001b[0m\" 200 -\n",
            "127.0.0.1 - - [12/Aug/2021 16:04:40] \"\u001b[37mGET /?app=index HTTP/1.1\u001b[0m\" 200 -\n",
            "127.0.0.1 - - [12/Aug/2021 16:04:40] \"\u001b[37mGET /?app=index HTTP/1.1\u001b[0m\" 200 -\n",
            "127.0.0.1 - - [12/Aug/2021 16:04:40] \"\u001b[37mGET /?app=index HTTP/1.1\u001b[0m\" 200 -\n",
            "127.0.0.1 - - [12/Aug/2021 16:04:41] \"\u001b[37mGET /?app=index HTTP/1.1\u001b[0m\" 200 -\n",
            "127.0.0.1 - - [12/Aug/2021 16:04:41] \"\u001b[37mGET /?app=index HTTP/1.1\u001b[0m\" 200 -\n",
            "127.0.0.1 - - [12/Aug/2021 16:04:41] \"\u001b[37mGET /?app=index HTTP/1.1\u001b[0m\" 200 -\n",
            "127.0.0.1 - - [12/Aug/2021 16:04:41] \"\u001b[37mGET /?app=index HTTP/1.1\u001b[0m\" 200 -\n",
            "127.0.0.1 - - [12/Aug/2021 16:04:41] \"\u001b[37mGET /?app=index HTTP/1.1\u001b[0m\" 200 -\n",
            "127.0.0.1 - - [12/Aug/2021 16:04:42] \"\u001b[37mGET /?app=index HTTP/1.1\u001b[0m\" 200 -\n",
            "127.0.0.1 - - [12/Aug/2021 16:04:42] \"\u001b[37mGET /?app=index HTTP/1.1\u001b[0m\" 200 -\n",
            "127.0.0.1 - - [12/Aug/2021 16:04:42] \"\u001b[37mGET /?app=index HTTP/1.1\u001b[0m\" 200 -\n",
            "127.0.0.1 - - [12/Aug/2021 16:04:43] \"\u001b[37mGET /?app=index HTTP/1.1\u001b[0m\" 200 -\n",
            "127.0.0.1 - - [12/Aug/2021 16:04:43] \"\u001b[37mGET /?app=index HTTP/1.1\u001b[0m\" 200 -\n",
            "127.0.0.1 - - [12/Aug/2021 16:04:43] \"\u001b[37mGET /?app=index HTTP/1.1\u001b[0m\" 200 -\n",
            "127.0.0.1 - - [12/Aug/2021 16:04:44] \"\u001b[37mGET /?app=index HTTP/1.1\u001b[0m\" 200 -\n",
            "127.0.0.1 - - [12/Aug/2021 16:04:44] \"\u001b[37mGET /?app=index HTTP/1.1\u001b[0m\" 200 -\n",
            "127.0.0.1 - - [12/Aug/2021 16:04:45] \"\u001b[37mGET /?app=index HTTP/1.1\u001b[0m\" 200 -\n",
            "127.0.0.1 - - [12/Aug/2021 16:04:46] \"\u001b[37mGET /?app=index HTTP/1.1\u001b[0m\" 200 -\n",
            "127.0.0.1 - - [12/Aug/2021 16:04:47] \"\u001b[37mGET /?app=index HTTP/1.1\u001b[0m\" 200 -\n",
            "127.0.0.1 - - [12/Aug/2021 16:04:48] \"\u001b[37mGET /?app=index HTTP/1.1\u001b[0m\" 200 -\n",
            "127.0.0.1 - - [12/Aug/2021 16:04:49] \"\u001b[37mGET /?app=index HTTP/1.1\u001b[0m\" 200 -\n",
            "127.0.0.1 - - [12/Aug/2021 16:04:50] \"\u001b[37mGET /?app=index HTTP/1.1\u001b[0m\" 200 -\n",
            "127.0.0.1 - - [12/Aug/2021 16:04:51] \"\u001b[37mGET /?app=index HTTP/1.1\u001b[0m\" 200 -\n",
            "127.0.0.1 - - [12/Aug/2021 16:04:52] \"\u001b[37mGET /?app=index HTTP/1.1\u001b[0m\" 200 -\n",
            "127.0.0.1 - - [12/Aug/2021 16:04:53] \"\u001b[37mGET /?app=index HTTP/1.1\u001b[0m\" 200 -\n",
            "127.0.0.1 - - [12/Aug/2021 16:04:54] \"\u001b[37mGET /?app=index HTTP/1.1\u001b[0m\" 200 -\n",
            "127.0.0.1 - - [12/Aug/2021 16:04:55] \"\u001b[37mGET /?app=index HTTP/1.1\u001b[0m\" 200 -\n",
            "127.0.0.1 - - [12/Aug/2021 16:04:56] \"\u001b[37mGET /?app=index HTTP/1.1\u001b[0m\" 200 -\n",
            "127.0.0.1 - - [12/Aug/2021 16:04:57] \"\u001b[37mGET /?app=index HTTP/1.1\u001b[0m\" 200 -\n",
            "127.0.0.1 - - [12/Aug/2021 16:04:58] \"\u001b[37mGET /?app=index HTTP/1.1\u001b[0m\" 200 -\n",
            "127.0.0.1 - - [12/Aug/2021 16:06:22] \"\u001b[37mGET /?app=index HTTP/1.1\u001b[0m\" 200 -\n",
            "127.0.0.1 - - [12/Aug/2021 16:06:23] \"\u001b[37mGET /?app=index HTTP/1.1\u001b[0m\" 200 -\n",
            "127.0.0.1 - - [12/Aug/2021 16:06:24] \"\u001b[37mGET /?app=index HTTP/1.1\u001b[0m\" 200 -\n",
            "127.0.0.1 - - [12/Aug/2021 16:06:25] \"\u001b[37mGET /?app=index HTTP/1.1\u001b[0m\" 200 -\n",
            "127.0.0.1 - - [12/Aug/2021 16:06:26] \"\u001b[37mGET /?app=index HTTP/1.1\u001b[0m\" 200 -\n",
            "127.0.0.1 - - [12/Aug/2021 16:06:27] \"\u001b[37mGET /?app=index HTTP/1.1\u001b[0m\" 200 -\n",
            "127.0.0.1 - - [12/Aug/2021 16:06:28] \"\u001b[37mGET /?app=index HTTP/1.1\u001b[0m\" 200 -\n",
            "127.0.0.1 - - [12/Aug/2021 16:06:29] \"\u001b[37mGET /?app=index HTTP/1.1\u001b[0m\" 200 -\n",
            "127.0.0.1 - - [12/Aug/2021 16:06:30] \"\u001b[37mGET /?app=index HTTP/1.1\u001b[0m\" 200 -\n",
            "127.0.0.1 - - [12/Aug/2021 16:06:31] \"\u001b[37mGET /?app=index HTTP/1.1\u001b[0m\" 200 -\n",
            "127.0.0.1 - - [12/Aug/2021 16:06:32] \"\u001b[37mGET /?app=index HTTP/1.1\u001b[0m\" 200 -\n",
            "127.0.0.1 - - [12/Aug/2021 16:06:33] \"\u001b[37mGET /?app=index HTTP/1.1\u001b[0m\" 200 -\n",
            "127.0.0.1 - - [12/Aug/2021 16:06:34] \"\u001b[37mGET /?app=index HTTP/1.1\u001b[0m\" 200 -\n",
            "127.0.0.1 - - [12/Aug/2021 16:06:35] \"\u001b[37mGET /?app=index HTTP/1.1\u001b[0m\" 200 -\n",
            "127.0.0.1 - - [12/Aug/2021 16:06:36] \"\u001b[37mGET /?app=index HTTP/1.1\u001b[0m\" 200 -\n",
            "127.0.0.1 - - [12/Aug/2021 16:06:37] \"\u001b[37mGET /?app=index HTTP/1.1\u001b[0m\" 200 -\n",
            "127.0.0.1 - - [12/Aug/2021 16:06:38] \"\u001b[37mGET /?app=index HTTP/1.1\u001b[0m\" 200 -\n",
            "127.0.0.1 - - [12/Aug/2021 16:06:39] \"\u001b[37mGET /?app=index HTTP/1.1\u001b[0m\" 200 -\n",
            "127.0.0.1 - - [12/Aug/2021 16:06:40] \"\u001b[37mGET /?app=index HTTP/1.1\u001b[0m\" 200 -\n",
            "127.0.0.1 - - [12/Aug/2021 16:06:41] \"\u001b[37mGET /?app=index HTTP/1.1\u001b[0m\" 200 -\n",
            "127.0.0.1 - - [12/Aug/2021 16:06:42] \"\u001b[37mGET /?app=index HTTP/1.1\u001b[0m\" 200 -\n",
            "127.0.0.1 - - [12/Aug/2021 16:06:43] \"\u001b[37mGET /?app=index HTTP/1.1\u001b[0m\" 200 -\n"
          ],
          "name": "stderr"
        }
      ]
    }
  ]
}